{
 "cells": [
  {
   "cell_type": "markdown",
   "metadata": {},
   "source": [
    "# Обработка данных при помощи dplyr\n"
   ]
  },
  {
   "cell_type": "markdown",
   "metadata": {},
   "source": [
    "##  \"Предобработка данных средствами tidyr и dplyr\""
   ]
  },
  {
   "cell_type": "code",
   "execution_count": 28,
   "metadata": {},
   "outputs": [],
   "source": [
    "options(width = 110)"
   ]
  },
  {
   "cell_type": "markdown",
   "metadata": {},
   "source": [
    "# Концепция \"tidy data\"\n",
    "\n",
    ". . .\n",
    "\n",
    "В статистике стандартная форма записи табличных данных: \n",
    "\n",
    ">- стоблец -- переменная\n",
    ">- строка -- наблюдение\n",
    ". . .\n",
    "\n",
    "Это очень удобно для дата фрейма в R\n",
    "\n",
    ". . .\n",
    "\n",
    "Не во всех областях анализа данных это так\n",
    "\n",
    ". . .\n",
    "\n",
    "Hadley Wickham: `tidyr`, `dplyr`, `ggplot2`, `ggvis`, ...\n"
   ]
  },
  {
   "cell_type": "markdown",
   "metadata": {},
   "source": [
    "# Пакет tidyr\n",
    "\n",
    ". . .\n",
    "\n",
    "Рассмотрим случайные данные:\n"
   ]
  },
  {
   "cell_type": "code",
   "execution_count": 29,
   "metadata": {},
   "outputs": [
    {
     "data": {
      "text/html": [
       "<table>\n",
       "<thead><tr><th scope=col>Name</th><th scope=col>DrugA_T1</th><th scope=col>DrugA_T2</th><th scope=col>DrugB_T1</th><th scope=col>DrugB_T2</th></tr></thead>\n",
       "<tbody>\n",
       "\t<tr><td>John    </td><td>35.07729</td><td>37.41580</td><td>36.17455</td><td>37.44987</td></tr>\n",
       "\t<tr><td>Peter   </td><td>35.01392</td><td>37.41355</td><td>36.00115</td><td>37.88969</td></tr>\n",
       "\t<tr><td>Mary    </td><td>35.67363</td><td>38.92508</td><td>36.49993</td><td>38.25544</td></tr>\n",
       "\t<tr><td>Caroline</td><td>35.14321</td><td>36.52195</td><td>36.05723</td><td>38.08802</td></tr>\n",
       "</tbody>\n",
       "</table>\n"
      ],
      "text/latex": [
       "\\begin{tabular}{r|lllll}\n",
       " Name & DrugA\\_T1 & DrugA\\_T2 & DrugB\\_T1 & DrugB\\_T2\\\\\n",
       "\\hline\n",
       "\t John     & 35.07729 & 37.41580 & 36.17455 & 37.44987\\\\\n",
       "\t Peter    & 35.01392 & 37.41355 & 36.00115 & 37.88969\\\\\n",
       "\t Mary     & 35.67363 & 38.92508 & 36.49993 & 38.25544\\\\\n",
       "\t Caroline & 35.14321 & 36.52195 & 36.05723 & 38.08802\\\\\n",
       "\\end{tabular}\n"
      ],
      "text/markdown": [
       "\n",
       "Name | DrugA_T1 | DrugA_T2 | DrugB_T1 | DrugB_T2 | \n",
       "|---|---|---|---|\n",
       "| John     | 35.07729 | 37.41580 | 36.17455 | 37.44987 | \n",
       "| Peter    | 35.01392 | 37.41355 | 36.00115 | 37.88969 | \n",
       "| Mary     | 35.67363 | 38.92508 | 36.49993 | 38.25544 | \n",
       "| Caroline | 35.14321 | 36.52195 | 36.05723 | 38.08802 | \n",
       "\n",
       "\n"
      ],
      "text/plain": [
       "  Name     DrugA_T1 DrugA_T2 DrugB_T1 DrugB_T2\n",
       "1 John     35.07729 37.41580 36.17455 37.44987\n",
       "2 Peter    35.01392 37.41355 36.00115 37.88969\n",
       "3 Mary     35.67363 38.92508 36.49993 38.25544\n",
       "4 Caroline 35.14321 36.52195 36.05723 38.08802"
      ]
     },
     "metadata": {},
     "output_type": "display_data"
    }
   ],
   "source": [
    "set.seed(1122)\n",
    "df <- data.frame(Name = c(\"John\", \"Peter\", \"Mary\", \"Caroline\"),\n",
    "                 DrugA_T1 = runif(4, 35, 36),\n",
    "                 DrugA_T2 = runif(4, 36, 39),\n",
    "                 DrugB_T1 = runif(4, 36, 36.6),\n",
    "                 DrugB_T2 = runif(4, 37, 38.5)\n",
    ")\n",
    "df"
   ]
  },
  {
   "cell_type": "markdown",
   "metadata": {},
   "source": [
    "# Связка `gather`-`spread`\n",
    "\n",
    ". . .\n",
    "\n",
    "Из \"широкого\" в \"длинный\" формат (wide to long):"
   ]
  },
  {
   "cell_type": "code",
   "execution_count": 30,
   "metadata": {},
   "outputs": [
    {
     "data": {
      "text/html": [
       "<table>\n",
       "<thead><tr><th scope=col>Name</th><th scope=col>Variable</th><th scope=col>Temperature</th></tr></thead>\n",
       "<tbody>\n",
       "\t<tr><td>John    </td><td>DrugA_T1</td><td>35.07729</td></tr>\n",
       "\t<tr><td>Peter   </td><td>DrugA_T1</td><td>35.01392</td></tr>\n",
       "\t<tr><td>Mary    </td><td>DrugA_T1</td><td>35.67363</td></tr>\n",
       "\t<tr><td>Caroline</td><td>DrugA_T1</td><td>35.14321</td></tr>\n",
       "\t<tr><td>John    </td><td>DrugA_T2</td><td>37.41580</td></tr>\n",
       "\t<tr><td>Peter   </td><td>DrugA_T2</td><td>37.41355</td></tr>\n",
       "\t<tr><td>Mary    </td><td>DrugA_T2</td><td>38.92508</td></tr>\n",
       "\t<tr><td>Caroline</td><td>DrugA_T2</td><td>36.52195</td></tr>\n",
       "\t<tr><td>John    </td><td>DrugB_T1</td><td>36.17455</td></tr>\n",
       "\t<tr><td>Peter   </td><td>DrugB_T1</td><td>36.00115</td></tr>\n",
       "\t<tr><td>Mary    </td><td>DrugB_T1</td><td>36.49993</td></tr>\n",
       "\t<tr><td>Caroline</td><td>DrugB_T1</td><td>36.05723</td></tr>\n",
       "\t<tr><td>John    </td><td>DrugB_T2</td><td>37.44987</td></tr>\n",
       "\t<tr><td>Peter   </td><td>DrugB_T2</td><td>37.88969</td></tr>\n",
       "\t<tr><td>Mary    </td><td>DrugB_T2</td><td>38.25544</td></tr>\n",
       "\t<tr><td>Caroline</td><td>DrugB_T2</td><td>38.08802</td></tr>\n",
       "</tbody>\n",
       "</table>\n"
      ],
      "text/latex": [
       "\\begin{tabular}{r|lll}\n",
       " Name & Variable & Temperature\\\\\n",
       "\\hline\n",
       "\t John       & DrugA\\_T1 & 35.07729  \\\\\n",
       "\t Peter      & DrugA\\_T1 & 35.01392  \\\\\n",
       "\t Mary       & DrugA\\_T1 & 35.67363  \\\\\n",
       "\t Caroline   & DrugA\\_T1 & 35.14321  \\\\\n",
       "\t John       & DrugA\\_T2 & 37.41580  \\\\\n",
       "\t Peter      & DrugA\\_T2 & 37.41355  \\\\\n",
       "\t Mary       & DrugA\\_T2 & 38.92508  \\\\\n",
       "\t Caroline   & DrugA\\_T2 & 36.52195  \\\\\n",
       "\t John       & DrugB\\_T1 & 36.17455  \\\\\n",
       "\t Peter      & DrugB\\_T1 & 36.00115  \\\\\n",
       "\t Mary       & DrugB\\_T1 & 36.49993  \\\\\n",
       "\t Caroline   & DrugB\\_T1 & 36.05723  \\\\\n",
       "\t John       & DrugB\\_T2 & 37.44987  \\\\\n",
       "\t Peter      & DrugB\\_T2 & 37.88969  \\\\\n",
       "\t Mary       & DrugB\\_T2 & 38.25544  \\\\\n",
       "\t Caroline   & DrugB\\_T2 & 38.08802  \\\\\n",
       "\\end{tabular}\n"
      ],
      "text/markdown": [
       "\n",
       "Name | Variable | Temperature | \n",
       "|---|---|---|---|---|---|---|---|---|---|---|---|---|---|---|---|\n",
       "| John     | DrugA_T1 | 35.07729 | \n",
       "| Peter    | DrugA_T1 | 35.01392 | \n",
       "| Mary     | DrugA_T1 | 35.67363 | \n",
       "| Caroline | DrugA_T1 | 35.14321 | \n",
       "| John     | DrugA_T2 | 37.41580 | \n",
       "| Peter    | DrugA_T2 | 37.41355 | \n",
       "| Mary     | DrugA_T2 | 38.92508 | \n",
       "| Caroline | DrugA_T2 | 36.52195 | \n",
       "| John     | DrugB_T1 | 36.17455 | \n",
       "| Peter    | DrugB_T1 | 36.00115 | \n",
       "| Mary     | DrugB_T1 | 36.49993 | \n",
       "| Caroline | DrugB_T1 | 36.05723 | \n",
       "| John     | DrugB_T2 | 37.44987 | \n",
       "| Peter    | DrugB_T2 | 37.88969 | \n",
       "| Mary     | DrugB_T2 | 38.25544 | \n",
       "| Caroline | DrugB_T2 | 38.08802 | \n",
       "\n",
       "\n"
      ],
      "text/plain": [
       "   Name     Variable Temperature\n",
       "1  John     DrugA_T1 35.07729   \n",
       "2  Peter    DrugA_T1 35.01392   \n",
       "3  Mary     DrugA_T1 35.67363   \n",
       "4  Caroline DrugA_T1 35.14321   \n",
       "5  John     DrugA_T2 37.41580   \n",
       "6  Peter    DrugA_T2 37.41355   \n",
       "7  Mary     DrugA_T2 38.92508   \n",
       "8  Caroline DrugA_T2 36.52195   \n",
       "9  John     DrugB_T1 36.17455   \n",
       "10 Peter    DrugB_T1 36.00115   \n",
       "11 Mary     DrugB_T1 36.49993   \n",
       "12 Caroline DrugB_T1 36.05723   \n",
       "13 John     DrugB_T2 37.44987   \n",
       "14 Peter    DrugB_T2 37.88969   \n",
       "15 Mary     DrugB_T2 38.25544   \n",
       "16 Caroline DrugB_T2 38.08802   "
      ]
     },
     "metadata": {},
     "output_type": "display_data"
    }
   ],
   "source": [
    "library(tidyr)\n",
    "gather(df, Variable, Temperature, -Name)"
   ]
  },
  {
   "cell_type": "markdown",
   "metadata": {},
   "source": [
    "# Связка `separate`-`unite`\n",
    "\n",
    ". . .\n",
    "\n",
    "Разделение переменных:\n"
   ]
  },
  {
   "cell_type": "code",
   "execution_count": 31,
   "metadata": {},
   "outputs": [
    {
     "data": {
      "text/html": [
       "<table>\n",
       "<thead><tr><th scope=col>Name</th><th scope=col>DrugType</th><th scope=col>Time</th><th scope=col>Temperature</th></tr></thead>\n",
       "<tbody>\n",
       "\t<tr><td>John    </td><td>DrugA   </td><td>T1      </td><td>35.07729</td></tr>\n",
       "\t<tr><td>Peter   </td><td>DrugA   </td><td>T1      </td><td>35.01392</td></tr>\n",
       "\t<tr><td>Mary    </td><td>DrugA   </td><td>T1      </td><td>35.67363</td></tr>\n",
       "\t<tr><td>Caroline</td><td>DrugA   </td><td>T1      </td><td>35.14321</td></tr>\n",
       "\t<tr><td>John    </td><td>DrugA   </td><td>T2      </td><td>37.41580</td></tr>\n",
       "\t<tr><td>Peter   </td><td>DrugA   </td><td>T2      </td><td>37.41355</td></tr>\n",
       "\t<tr><td>Mary    </td><td>DrugA   </td><td>T2      </td><td>38.92508</td></tr>\n",
       "\t<tr><td>Caroline</td><td>DrugA   </td><td>T2      </td><td>36.52195</td></tr>\n",
       "\t<tr><td>John    </td><td>DrugB   </td><td>T1      </td><td>36.17455</td></tr>\n",
       "\t<tr><td>Peter   </td><td>DrugB   </td><td>T1      </td><td>36.00115</td></tr>\n",
       "\t<tr><td>Mary    </td><td>DrugB   </td><td>T1      </td><td>36.49993</td></tr>\n",
       "\t<tr><td>Caroline</td><td>DrugB   </td><td>T1      </td><td>36.05723</td></tr>\n",
       "\t<tr><td>John    </td><td>DrugB   </td><td>T2      </td><td>37.44987</td></tr>\n",
       "\t<tr><td>Peter   </td><td>DrugB   </td><td>T2      </td><td>37.88969</td></tr>\n",
       "\t<tr><td>Mary    </td><td>DrugB   </td><td>T2      </td><td>38.25544</td></tr>\n",
       "\t<tr><td>Caroline</td><td>DrugB   </td><td>T2      </td><td>38.08802</td></tr>\n",
       "</tbody>\n",
       "</table>\n"
      ],
      "text/latex": [
       "\\begin{tabular}{r|llll}\n",
       " Name & DrugType & Time & Temperature\\\\\n",
       "\\hline\n",
       "\t John     & DrugA    & T1       & 35.07729\\\\\n",
       "\t Peter    & DrugA    & T1       & 35.01392\\\\\n",
       "\t Mary     & DrugA    & T1       & 35.67363\\\\\n",
       "\t Caroline & DrugA    & T1       & 35.14321\\\\\n",
       "\t John     & DrugA    & T2       & 37.41580\\\\\n",
       "\t Peter    & DrugA    & T2       & 37.41355\\\\\n",
       "\t Mary     & DrugA    & T2       & 38.92508\\\\\n",
       "\t Caroline & DrugA    & T2       & 36.52195\\\\\n",
       "\t John     & DrugB    & T1       & 36.17455\\\\\n",
       "\t Peter    & DrugB    & T1       & 36.00115\\\\\n",
       "\t Mary     & DrugB    & T1       & 36.49993\\\\\n",
       "\t Caroline & DrugB    & T1       & 36.05723\\\\\n",
       "\t John     & DrugB    & T2       & 37.44987\\\\\n",
       "\t Peter    & DrugB    & T2       & 37.88969\\\\\n",
       "\t Mary     & DrugB    & T2       & 38.25544\\\\\n",
       "\t Caroline & DrugB    & T2       & 38.08802\\\\\n",
       "\\end{tabular}\n"
      ],
      "text/markdown": [
       "\n",
       "Name | DrugType | Time | Temperature | \n",
       "|---|---|---|---|---|---|---|---|---|---|---|---|---|---|---|---|\n",
       "| John     | DrugA    | T1       | 35.07729 | \n",
       "| Peter    | DrugA    | T1       | 35.01392 | \n",
       "| Mary     | DrugA    | T1       | 35.67363 | \n",
       "| Caroline | DrugA    | T1       | 35.14321 | \n",
       "| John     | DrugA    | T2       | 37.41580 | \n",
       "| Peter    | DrugA    | T2       | 37.41355 | \n",
       "| Mary     | DrugA    | T2       | 38.92508 | \n",
       "| Caroline | DrugA    | T2       | 36.52195 | \n",
       "| John     | DrugB    | T1       | 36.17455 | \n",
       "| Peter    | DrugB    | T1       | 36.00115 | \n",
       "| Mary     | DrugB    | T1       | 36.49993 | \n",
       "| Caroline | DrugB    | T1       | 36.05723 | \n",
       "| John     | DrugB    | T2       | 37.44987 | \n",
       "| Peter    | DrugB    | T2       | 37.88969 | \n",
       "| Mary     | DrugB    | T2       | 38.25544 | \n",
       "| Caroline | DrugB    | T2       | 38.08802 | \n",
       "\n",
       "\n"
      ],
      "text/plain": [
       "   Name     DrugType Time Temperature\n",
       "1  John     DrugA    T1   35.07729   \n",
       "2  Peter    DrugA    T1   35.01392   \n",
       "3  Mary     DrugA    T1   35.67363   \n",
       "4  Caroline DrugA    T1   35.14321   \n",
       "5  John     DrugA    T2   37.41580   \n",
       "6  Peter    DrugA    T2   37.41355   \n",
       "7  Mary     DrugA    T2   38.92508   \n",
       "8  Caroline DrugA    T2   36.52195   \n",
       "9  John     DrugB    T1   36.17455   \n",
       "10 Peter    DrugB    T1   36.00115   \n",
       "11 Mary     DrugB    T1   36.49993   \n",
       "12 Caroline DrugB    T1   36.05723   \n",
       "13 John     DrugB    T2   37.44987   \n",
       "14 Peter    DrugB    T2   37.88969   \n",
       "15 Mary     DrugB    T2   38.25544   \n",
       "16 Caroline DrugB    T2   38.08802   "
      ]
     },
     "metadata": {},
     "output_type": "display_data"
    }
   ],
   "source": [
    "df <- gather(df, Variable, Temperature, -Name)\n",
    "df <- separate(df, Variable, c(\"DrugType\", \"Time\"), \"_\")\n",
    "df"
   ]
  },
  {
   "cell_type": "markdown",
   "metadata": {},
   "source": [
    "# `dplyr`: функция `select`\n",
    "\n",
    ". . ."
   ]
  },
  {
   "cell_type": "code",
   "execution_count": 32,
   "metadata": {},
   "outputs": [
    {
     "data": {
      "text/html": [
       "<table>\n",
       "<thead><tr><th scope=col>Time</th><th scope=col>Temperature</th></tr></thead>\n",
       "<tbody>\n",
       "\t<tr><td>T1      </td><td>35.07729</td></tr>\n",
       "\t<tr><td>T1      </td><td>35.01392</td></tr>\n",
       "\t<tr><td>T1      </td><td>35.67363</td></tr>\n",
       "\t<tr><td>T1      </td><td>35.14321</td></tr>\n",
       "\t<tr><td>T2      </td><td>37.41580</td></tr>\n",
       "\t<tr><td>T2      </td><td>37.41355</td></tr>\n",
       "\t<tr><td>T2      </td><td>38.92508</td></tr>\n",
       "\t<tr><td>T2      </td><td>36.52195</td></tr>\n",
       "\t<tr><td>T1      </td><td>36.17455</td></tr>\n",
       "\t<tr><td>T1      </td><td>36.00115</td></tr>\n",
       "\t<tr><td>T1      </td><td>36.49993</td></tr>\n",
       "\t<tr><td>T1      </td><td>36.05723</td></tr>\n",
       "\t<tr><td>T2      </td><td>37.44987</td></tr>\n",
       "\t<tr><td>T2      </td><td>37.88969</td></tr>\n",
       "\t<tr><td>T2      </td><td>38.25544</td></tr>\n",
       "\t<tr><td>T2      </td><td>38.08802</td></tr>\n",
       "</tbody>\n",
       "</table>\n"
      ],
      "text/latex": [
       "\\begin{tabular}{r|ll}\n",
       " Time & Temperature\\\\\n",
       "\\hline\n",
       "\t T1       & 35.07729\\\\\n",
       "\t T1       & 35.01392\\\\\n",
       "\t T1       & 35.67363\\\\\n",
       "\t T1       & 35.14321\\\\\n",
       "\t T2       & 37.41580\\\\\n",
       "\t T2       & 37.41355\\\\\n",
       "\t T2       & 38.92508\\\\\n",
       "\t T2       & 36.52195\\\\\n",
       "\t T1       & 36.17455\\\\\n",
       "\t T1       & 36.00115\\\\\n",
       "\t T1       & 36.49993\\\\\n",
       "\t T1       & 36.05723\\\\\n",
       "\t T2       & 37.44987\\\\\n",
       "\t T2       & 37.88969\\\\\n",
       "\t T2       & 38.25544\\\\\n",
       "\t T2       & 38.08802\\\\\n",
       "\\end{tabular}\n"
      ],
      "text/markdown": [
       "\n",
       "Time | Temperature | \n",
       "|---|---|---|---|---|---|---|---|---|---|---|---|---|---|---|---|\n",
       "| T1       | 35.07729 | \n",
       "| T1       | 35.01392 | \n",
       "| T1       | 35.67363 | \n",
       "| T1       | 35.14321 | \n",
       "| T2       | 37.41580 | \n",
       "| T2       | 37.41355 | \n",
       "| T2       | 38.92508 | \n",
       "| T2       | 36.52195 | \n",
       "| T1       | 36.17455 | \n",
       "| T1       | 36.00115 | \n",
       "| T1       | 36.49993 | \n",
       "| T1       | 36.05723 | \n",
       "| T2       | 37.44987 | \n",
       "| T2       | 37.88969 | \n",
       "| T2       | 38.25544 | \n",
       "| T2       | 38.08802 | \n",
       "\n",
       "\n"
      ],
      "text/plain": [
       "   Time Temperature\n",
       "1  T1   35.07729   \n",
       "2  T1   35.01392   \n",
       "3  T1   35.67363   \n",
       "4  T1   35.14321   \n",
       "5  T2   37.41580   \n",
       "6  T2   37.41355   \n",
       "7  T2   38.92508   \n",
       "8  T2   36.52195   \n",
       "9  T1   36.17455   \n",
       "10 T1   36.00115   \n",
       "11 T1   36.49993   \n",
       "12 T1   36.05723   \n",
       "13 T2   37.44987   \n",
       "14 T2   37.88969   \n",
       "15 T2   38.25544   \n",
       "16 T2   38.08802   "
      ]
     },
     "metadata": {},
     "output_type": "display_data"
    }
   ],
   "source": [
    "library(dplyr)\n",
    "select(df, Time, Temperature)"
   ]
  },
  {
   "cell_type": "code",
   "execution_count": 33,
   "metadata": {},
   "outputs": [
    {
     "data": {
      "text/html": [
       "<table>\n",
       "<thead><tr><th scope=col>Time</th><th scope=col>Temperature</th></tr></thead>\n",
       "<tbody>\n",
       "\t<tr><td>T1      </td><td>35.07729</td></tr>\n",
       "\t<tr><td>T1      </td><td>35.01392</td></tr>\n",
       "\t<tr><td>T1      </td><td>35.67363</td></tr>\n",
       "\t<tr><td>T1      </td><td>35.14321</td></tr>\n",
       "\t<tr><td>T2      </td><td>37.41580</td></tr>\n",
       "\t<tr><td>T2      </td><td>37.41355</td></tr>\n",
       "\t<tr><td>T2      </td><td>38.92508</td></tr>\n",
       "\t<tr><td>T2      </td><td>36.52195</td></tr>\n",
       "\t<tr><td>T1      </td><td>36.17455</td></tr>\n",
       "\t<tr><td>T1      </td><td>36.00115</td></tr>\n",
       "\t<tr><td>T1      </td><td>36.49993</td></tr>\n",
       "\t<tr><td>T1      </td><td>36.05723</td></tr>\n",
       "\t<tr><td>T2      </td><td>37.44987</td></tr>\n",
       "\t<tr><td>T2      </td><td>37.88969</td></tr>\n",
       "\t<tr><td>T2      </td><td>38.25544</td></tr>\n",
       "\t<tr><td>T2      </td><td>38.08802</td></tr>\n",
       "</tbody>\n",
       "</table>\n"
      ],
      "text/latex": [
       "\\begin{tabular}{r|ll}\n",
       " Time & Temperature\\\\\n",
       "\\hline\n",
       "\t T1       & 35.07729\\\\\n",
       "\t T1       & 35.01392\\\\\n",
       "\t T1       & 35.67363\\\\\n",
       "\t T1       & 35.14321\\\\\n",
       "\t T2       & 37.41580\\\\\n",
       "\t T2       & 37.41355\\\\\n",
       "\t T2       & 38.92508\\\\\n",
       "\t T2       & 36.52195\\\\\n",
       "\t T1       & 36.17455\\\\\n",
       "\t T1       & 36.00115\\\\\n",
       "\t T1       & 36.49993\\\\\n",
       "\t T1       & 36.05723\\\\\n",
       "\t T2       & 37.44987\\\\\n",
       "\t T2       & 37.88969\\\\\n",
       "\t T2       & 38.25544\\\\\n",
       "\t T2       & 38.08802\\\\\n",
       "\\end{tabular}\n"
      ],
      "text/markdown": [
       "\n",
       "Time | Temperature | \n",
       "|---|---|---|---|---|---|---|---|---|---|---|---|---|---|---|---|\n",
       "| T1       | 35.07729 | \n",
       "| T1       | 35.01392 | \n",
       "| T1       | 35.67363 | \n",
       "| T1       | 35.14321 | \n",
       "| T2       | 37.41580 | \n",
       "| T2       | 37.41355 | \n",
       "| T2       | 38.92508 | \n",
       "| T2       | 36.52195 | \n",
       "| T1       | 36.17455 | \n",
       "| T1       | 36.00115 | \n",
       "| T1       | 36.49993 | \n",
       "| T1       | 36.05723 | \n",
       "| T2       | 37.44987 | \n",
       "| T2       | 37.88969 | \n",
       "| T2       | 38.25544 | \n",
       "| T2       | 38.08802 | \n",
       "\n",
       "\n"
      ],
      "text/plain": [
       "   Time Temperature\n",
       "1  T1   35.07729   \n",
       "2  T1   35.01392   \n",
       "3  T1   35.67363   \n",
       "4  T1   35.14321   \n",
       "5  T2   37.41580   \n",
       "6  T2   37.41355   \n",
       "7  T2   38.92508   \n",
       "8  T2   36.52195   \n",
       "9  T1   36.17455   \n",
       "10 T1   36.00115   \n",
       "11 T1   36.49993   \n",
       "12 T1   36.05723   \n",
       "13 T2   37.44987   \n",
       "14 T2   37.88969   \n",
       "15 T2   38.25544   \n",
       "16 T2   38.08802   "
      ]
     },
     "metadata": {},
     "output_type": "display_data"
    },
    {
     "data": {
      "text/html": [
       "<table>\n",
       "<thead><tr><th scope=col>Time</th><th scope=col>Temperature</th></tr></thead>\n",
       "<tbody>\n",
       "\t<tr><td>T1      </td><td>35.07729</td></tr>\n",
       "\t<tr><td>T1      </td><td>35.01392</td></tr>\n",
       "\t<tr><td>T1      </td><td>35.67363</td></tr>\n",
       "\t<tr><td>T1      </td><td>35.14321</td></tr>\n",
       "\t<tr><td>T2      </td><td>37.41580</td></tr>\n",
       "\t<tr><td>T2      </td><td>37.41355</td></tr>\n",
       "\t<tr><td>T2      </td><td>38.92508</td></tr>\n",
       "\t<tr><td>T2      </td><td>36.52195</td></tr>\n",
       "\t<tr><td>T1      </td><td>36.17455</td></tr>\n",
       "\t<tr><td>T1      </td><td>36.00115</td></tr>\n",
       "\t<tr><td>T1      </td><td>36.49993</td></tr>\n",
       "\t<tr><td>T1      </td><td>36.05723</td></tr>\n",
       "\t<tr><td>T2      </td><td>37.44987</td></tr>\n",
       "\t<tr><td>T2      </td><td>37.88969</td></tr>\n",
       "\t<tr><td>T2      </td><td>38.25544</td></tr>\n",
       "\t<tr><td>T2      </td><td>38.08802</td></tr>\n",
       "</tbody>\n",
       "</table>\n"
      ],
      "text/latex": [
       "\\begin{tabular}{r|ll}\n",
       " Time & Temperature\\\\\n",
       "\\hline\n",
       "\t T1       & 35.07729\\\\\n",
       "\t T1       & 35.01392\\\\\n",
       "\t T1       & 35.67363\\\\\n",
       "\t T1       & 35.14321\\\\\n",
       "\t T2       & 37.41580\\\\\n",
       "\t T2       & 37.41355\\\\\n",
       "\t T2       & 38.92508\\\\\n",
       "\t T2       & 36.52195\\\\\n",
       "\t T1       & 36.17455\\\\\n",
       "\t T1       & 36.00115\\\\\n",
       "\t T1       & 36.49993\\\\\n",
       "\t T1       & 36.05723\\\\\n",
       "\t T2       & 37.44987\\\\\n",
       "\t T2       & 37.88969\\\\\n",
       "\t T2       & 38.25544\\\\\n",
       "\t T2       & 38.08802\\\\\n",
       "\\end{tabular}\n"
      ],
      "text/markdown": [
       "\n",
       "Time | Temperature | \n",
       "|---|---|---|---|---|---|---|---|---|---|---|---|---|---|---|---|\n",
       "| T1       | 35.07729 | \n",
       "| T1       | 35.01392 | \n",
       "| T1       | 35.67363 | \n",
       "| T1       | 35.14321 | \n",
       "| T2       | 37.41580 | \n",
       "| T2       | 37.41355 | \n",
       "| T2       | 38.92508 | \n",
       "| T2       | 36.52195 | \n",
       "| T1       | 36.17455 | \n",
       "| T1       | 36.00115 | \n",
       "| T1       | 36.49993 | \n",
       "| T1       | 36.05723 | \n",
       "| T2       | 37.44987 | \n",
       "| T2       | 37.88969 | \n",
       "| T2       | 38.25544 | \n",
       "| T2       | 38.08802 | \n",
       "\n",
       "\n"
      ],
      "text/plain": [
       "   Time Temperature\n",
       "1  T1   35.07729   \n",
       "2  T1   35.01392   \n",
       "3  T1   35.67363   \n",
       "4  T1   35.14321   \n",
       "5  T2   37.41580   \n",
       "6  T2   37.41355   \n",
       "7  T2   38.92508   \n",
       "8  T2   36.52195   \n",
       "9  T1   36.17455   \n",
       "10 T1   36.00115   \n",
       "11 T1   36.49993   \n",
       "12 T1   36.05723   \n",
       "13 T2   37.44987   \n",
       "14 T2   37.88969   \n",
       "15 T2   38.25544   \n",
       "16 T2   38.08802   "
      ]
     },
     "metadata": {},
     "output_type": "display_data"
    },
    {
     "data": {
      "text/html": [
       "<table>\n",
       "<thead><tr><th scope=col>Time</th><th scope=col>Temperature</th></tr></thead>\n",
       "<tbody>\n",
       "\t<tr><td>T1      </td><td>35.07729</td></tr>\n",
       "\t<tr><td>T1      </td><td>35.01392</td></tr>\n",
       "\t<tr><td>T1      </td><td>35.67363</td></tr>\n",
       "\t<tr><td>T1      </td><td>35.14321</td></tr>\n",
       "\t<tr><td>T2      </td><td>37.41580</td></tr>\n",
       "\t<tr><td>T2      </td><td>37.41355</td></tr>\n",
       "\t<tr><td>T2      </td><td>38.92508</td></tr>\n",
       "\t<tr><td>T2      </td><td>36.52195</td></tr>\n",
       "\t<tr><td>T1      </td><td>36.17455</td></tr>\n",
       "\t<tr><td>T1      </td><td>36.00115</td></tr>\n",
       "\t<tr><td>T1      </td><td>36.49993</td></tr>\n",
       "\t<tr><td>T1      </td><td>36.05723</td></tr>\n",
       "\t<tr><td>T2      </td><td>37.44987</td></tr>\n",
       "\t<tr><td>T2      </td><td>37.88969</td></tr>\n",
       "\t<tr><td>T2      </td><td>38.25544</td></tr>\n",
       "\t<tr><td>T2      </td><td>38.08802</td></tr>\n",
       "</tbody>\n",
       "</table>\n"
      ],
      "text/latex": [
       "\\begin{tabular}{r|ll}\n",
       " Time & Temperature\\\\\n",
       "\\hline\n",
       "\t T1       & 35.07729\\\\\n",
       "\t T1       & 35.01392\\\\\n",
       "\t T1       & 35.67363\\\\\n",
       "\t T1       & 35.14321\\\\\n",
       "\t T2       & 37.41580\\\\\n",
       "\t T2       & 37.41355\\\\\n",
       "\t T2       & 38.92508\\\\\n",
       "\t T2       & 36.52195\\\\\n",
       "\t T1       & 36.17455\\\\\n",
       "\t T1       & 36.00115\\\\\n",
       "\t T1       & 36.49993\\\\\n",
       "\t T1       & 36.05723\\\\\n",
       "\t T2       & 37.44987\\\\\n",
       "\t T2       & 37.88969\\\\\n",
       "\t T2       & 38.25544\\\\\n",
       "\t T2       & 38.08802\\\\\n",
       "\\end{tabular}\n"
      ],
      "text/markdown": [
       "\n",
       "Time | Temperature | \n",
       "|---|---|---|---|---|---|---|---|---|---|---|---|---|---|---|---|\n",
       "| T1       | 35.07729 | \n",
       "| T1       | 35.01392 | \n",
       "| T1       | 35.67363 | \n",
       "| T1       | 35.14321 | \n",
       "| T2       | 37.41580 | \n",
       "| T2       | 37.41355 | \n",
       "| T2       | 38.92508 | \n",
       "| T2       | 36.52195 | \n",
       "| T1       | 36.17455 | \n",
       "| T1       | 36.00115 | \n",
       "| T1       | 36.49993 | \n",
       "| T1       | 36.05723 | \n",
       "| T2       | 37.44987 | \n",
       "| T2       | 37.88969 | \n",
       "| T2       | 38.25544 | \n",
       "| T2       | 38.08802 | \n",
       "\n",
       "\n"
      ],
      "text/plain": [
       "   Time Temperature\n",
       "1  T1   35.07729   \n",
       "2  T1   35.01392   \n",
       "3  T1   35.67363   \n",
       "4  T1   35.14321   \n",
       "5  T2   37.41580   \n",
       "6  T2   37.41355   \n",
       "7  T2   38.92508   \n",
       "8  T2   36.52195   \n",
       "9  T1   36.17455   \n",
       "10 T1   36.00115   \n",
       "11 T1   36.49993   \n",
       "12 T1   36.05723   \n",
       "13 T2   37.44987   \n",
       "14 T2   37.88969   \n",
       "15 T2   38.25544   \n",
       "16 T2   38.08802   "
      ]
     },
     "metadata": {},
     "output_type": "display_data"
    }
   ],
   "source": [
    "select(df, 3:4)\n",
    "select(df, starts_with(\"T\"))\n",
    "select(df, -Name, -DrugType)"
   ]
  },
  {
   "cell_type": "markdown",
   "metadata": {},
   "source": [
    "# `dplyr`: функция `filter`\n",
    "\n",
    ". . ."
   ]
  },
  {
   "cell_type": "code",
   "execution_count": 35,
   "metadata": {},
   "outputs": [
    {
     "data": {
      "text/html": [
       "<table>\n",
       "<thead><tr><th scope=col>Name</th><th scope=col>DrugType</th><th scope=col>Time</th><th scope=col>Temperature</th></tr></thead>\n",
       "<tbody>\n",
       "\t<tr><td>John    </td><td>DrugA   </td><td>T2      </td><td>37.41580</td></tr>\n",
       "\t<tr><td>Mary    </td><td>DrugA   </td><td>T2      </td><td>38.92508</td></tr>\n",
       "\t<tr><td>John    </td><td>DrugB   </td><td>T2      </td><td>37.44987</td></tr>\n",
       "\t<tr><td>Mary    </td><td>DrugB   </td><td>T2      </td><td>38.25544</td></tr>\n",
       "</tbody>\n",
       "</table>\n"
      ],
      "text/latex": [
       "\\begin{tabular}{r|llll}\n",
       " Name & DrugType & Time & Temperature\\\\\n",
       "\\hline\n",
       "\t John     & DrugA    & T2       & 37.41580\\\\\n",
       "\t Mary     & DrugA    & T2       & 38.92508\\\\\n",
       "\t John     & DrugB    & T2       & 37.44987\\\\\n",
       "\t Mary     & DrugB    & T2       & 38.25544\\\\\n",
       "\\end{tabular}\n"
      ],
      "text/markdown": [
       "\n",
       "Name | DrugType | Time | Temperature | \n",
       "|---|---|---|---|\n",
       "| John     | DrugA    | T2       | 37.41580 | \n",
       "| Mary     | DrugA    | T2       | 38.92508 | \n",
       "| John     | DrugB    | T2       | 37.44987 | \n",
       "| Mary     | DrugB    | T2       | 38.25544 | \n",
       "\n",
       "\n"
      ],
      "text/plain": [
       "  Name DrugType Time Temperature\n",
       "1 John DrugA    T2   37.41580   \n",
       "2 Mary DrugA    T2   38.92508   \n",
       "3 John DrugB    T2   37.44987   \n",
       "4 Mary DrugB    T2   38.25544   "
      ]
     },
     "metadata": {},
     "output_type": "display_data"
    }
   ],
   "source": [
    "filter(df, Temperature > 37, Name %in% c(\"John\", \"Mary\"))\n",
    "# select действует по колонкам, а filter по сериям"
   ]
  },
  {
   "cell_type": "markdown",
   "metadata": {},
   "source": [
    "# `dplyr`: функция `arrange`\n",
    "\n",
    ". . . \n"
   ]
  },
  {
   "cell_type": "code",
   "execution_count": 40,
   "metadata": {},
   "outputs": [
    {
     "data": {
      "text/html": [
       "<table>\n",
       "<thead><tr><th scope=col>Name</th><th scope=col>DrugType</th><th scope=col>Time</th><th scope=col>Temperature</th></tr></thead>\n",
       "<tbody>\n",
       "\t<tr><td>Caroline</td><td>DrugB   </td><td>T2      </td><td>38.08802</td></tr>\n",
       "\t<tr><td>Caroline</td><td>DrugA   </td><td>T2      </td><td>36.52195</td></tr>\n",
       "\t<tr><td>Caroline</td><td>DrugB   </td><td>T1      </td><td>36.05723</td></tr>\n",
       "\t<tr><td>Caroline</td><td>DrugA   </td><td>T1      </td><td>35.14321</td></tr>\n",
       "\t<tr><td>John    </td><td>DrugB   </td><td>T2      </td><td>37.44987</td></tr>\n",
       "\t<tr><td>John    </td><td>DrugA   </td><td>T2      </td><td>37.41580</td></tr>\n",
       "\t<tr><td>John    </td><td>DrugB   </td><td>T1      </td><td>36.17455</td></tr>\n",
       "\t<tr><td>John    </td><td>DrugA   </td><td>T1      </td><td>35.07729</td></tr>\n",
       "\t<tr><td>Mary    </td><td>DrugA   </td><td>T2      </td><td>38.92508</td></tr>\n",
       "\t<tr><td>Mary    </td><td>DrugB   </td><td>T2      </td><td>38.25544</td></tr>\n",
       "\t<tr><td>Mary    </td><td>DrugB   </td><td>T1      </td><td>36.49993</td></tr>\n",
       "\t<tr><td>Mary    </td><td>DrugA   </td><td>T1      </td><td>35.67363</td></tr>\n",
       "\t<tr><td>Peter   </td><td>DrugB   </td><td>T2      </td><td>37.88969</td></tr>\n",
       "\t<tr><td>Peter   </td><td>DrugA   </td><td>T2      </td><td>37.41355</td></tr>\n",
       "\t<tr><td>Peter   </td><td>DrugB   </td><td>T1      </td><td>36.00115</td></tr>\n",
       "\t<tr><td>Peter   </td><td>DrugA   </td><td>T1      </td><td>35.01392</td></tr>\n",
       "</tbody>\n",
       "</table>\n"
      ],
      "text/latex": [
       "\\begin{tabular}{r|llll}\n",
       " Name & DrugType & Time & Temperature\\\\\n",
       "\\hline\n",
       "\t Caroline & DrugB    & T2       & 38.08802\\\\\n",
       "\t Caroline & DrugA    & T2       & 36.52195\\\\\n",
       "\t Caroline & DrugB    & T1       & 36.05723\\\\\n",
       "\t Caroline & DrugA    & T1       & 35.14321\\\\\n",
       "\t John     & DrugB    & T2       & 37.44987\\\\\n",
       "\t John     & DrugA    & T2       & 37.41580\\\\\n",
       "\t John     & DrugB    & T1       & 36.17455\\\\\n",
       "\t John     & DrugA    & T1       & 35.07729\\\\\n",
       "\t Mary     & DrugA    & T2       & 38.92508\\\\\n",
       "\t Mary     & DrugB    & T2       & 38.25544\\\\\n",
       "\t Mary     & DrugB    & T1       & 36.49993\\\\\n",
       "\t Mary     & DrugA    & T1       & 35.67363\\\\\n",
       "\t Peter    & DrugB    & T2       & 37.88969\\\\\n",
       "\t Peter    & DrugA    & T2       & 37.41355\\\\\n",
       "\t Peter    & DrugB    & T1       & 36.00115\\\\\n",
       "\t Peter    & DrugA    & T1       & 35.01392\\\\\n",
       "\\end{tabular}\n"
      ],
      "text/markdown": [
       "\n",
       "Name | DrugType | Time | Temperature | \n",
       "|---|---|---|---|---|---|---|---|---|---|---|---|---|---|---|---|\n",
       "| Caroline | DrugB    | T2       | 38.08802 | \n",
       "| Caroline | DrugA    | T2       | 36.52195 | \n",
       "| Caroline | DrugB    | T1       | 36.05723 | \n",
       "| Caroline | DrugA    | T1       | 35.14321 | \n",
       "| John     | DrugB    | T2       | 37.44987 | \n",
       "| John     | DrugA    | T2       | 37.41580 | \n",
       "| John     | DrugB    | T1       | 36.17455 | \n",
       "| John     | DrugA    | T1       | 35.07729 | \n",
       "| Mary     | DrugA    | T2       | 38.92508 | \n",
       "| Mary     | DrugB    | T2       | 38.25544 | \n",
       "| Mary     | DrugB    | T1       | 36.49993 | \n",
       "| Mary     | DrugA    | T1       | 35.67363 | \n",
       "| Peter    | DrugB    | T2       | 37.88969 | \n",
       "| Peter    | DrugA    | T2       | 37.41355 | \n",
       "| Peter    | DrugB    | T1       | 36.00115 | \n",
       "| Peter    | DrugA    | T1       | 35.01392 | \n",
       "\n",
       "\n"
      ],
      "text/plain": [
       "   Name     DrugType Time Temperature\n",
       "1  Caroline DrugB    T2   38.08802   \n",
       "2  Caroline DrugA    T2   36.52195   \n",
       "3  Caroline DrugB    T1   36.05723   \n",
       "4  Caroline DrugA    T1   35.14321   \n",
       "5  John     DrugB    T2   37.44987   \n",
       "6  John     DrugA    T2   37.41580   \n",
       "7  John     DrugB    T1   36.17455   \n",
       "8  John     DrugA    T1   35.07729   \n",
       "9  Mary     DrugA    T2   38.92508   \n",
       "10 Mary     DrugB    T2   38.25544   \n",
       "11 Mary     DrugB    T1   36.49993   \n",
       "12 Mary     DrugA    T1   35.67363   \n",
       "13 Peter    DrugB    T2   37.88969   \n",
       "14 Peter    DrugA    T2   37.41355   \n",
       "15 Peter    DrugB    T1   36.00115   \n",
       "16 Peter    DrugA    T1   35.01392   "
      ]
     },
     "metadata": {},
     "output_type": "display_data"
    }
   ],
   "source": [
    "arrange(df, Name, -Temperature)\n",
    "# сортировка из df пo Name и обратная по Temperature"
   ]
  },
  {
   "cell_type": "markdown",
   "metadata": {},
   "source": [
    "# `dplyr`: функция `mutate`"
   ]
  },
  {
   "cell_type": "code",
   "execution_count": 39,
   "metadata": {},
   "outputs": [
    {
     "data": {
      "text/html": [
       "<table>\n",
       "<thead><tr><th scope=col>Name</th><th scope=col>DrugType</th><th scope=col>Time</th><th scope=col>Temperature</th></tr></thead>\n",
       "<tbody>\n",
       "\t<tr><td>John    </td><td>A       </td><td>T1      </td><td>35.07729</td></tr>\n",
       "\t<tr><td>Peter   </td><td>A       </td><td>T1      </td><td>35.01392</td></tr>\n",
       "\t<tr><td>Mary    </td><td>A       </td><td>T1      </td><td>35.67363</td></tr>\n",
       "\t<tr><td>Caroline</td><td>A       </td><td>T1      </td><td>35.14321</td></tr>\n",
       "\t<tr><td>John    </td><td>A       </td><td>T2      </td><td>37.41580</td></tr>\n",
       "\t<tr><td>Peter   </td><td>A       </td><td>T2      </td><td>37.41355</td></tr>\n",
       "\t<tr><td>Mary    </td><td>A       </td><td>T2      </td><td>38.92508</td></tr>\n",
       "\t<tr><td>Caroline</td><td>A       </td><td>T2      </td><td>36.52195</td></tr>\n",
       "\t<tr><td>John    </td><td>B       </td><td>T1      </td><td>36.17455</td></tr>\n",
       "\t<tr><td>Peter   </td><td>B       </td><td>T1      </td><td>36.00115</td></tr>\n",
       "\t<tr><td>Mary    </td><td>B       </td><td>T1      </td><td>36.49993</td></tr>\n",
       "\t<tr><td>Caroline</td><td>B       </td><td>T1      </td><td>36.05723</td></tr>\n",
       "\t<tr><td>John    </td><td>B       </td><td>T2      </td><td>37.44987</td></tr>\n",
       "\t<tr><td>Peter   </td><td>B       </td><td>T2      </td><td>37.88969</td></tr>\n",
       "\t<tr><td>Mary    </td><td>B       </td><td>T2      </td><td>38.25544</td></tr>\n",
       "\t<tr><td>Caroline</td><td>B       </td><td>T2      </td><td>38.08802</td></tr>\n",
       "</tbody>\n",
       "</table>\n"
      ],
      "text/latex": [
       "\\begin{tabular}{r|llll}\n",
       " Name & DrugType & Time & Temperature\\\\\n",
       "\\hline\n",
       "\t John     & A        & T1       & 35.07729\\\\\n",
       "\t Peter    & A        & T1       & 35.01392\\\\\n",
       "\t Mary     & A        & T1       & 35.67363\\\\\n",
       "\t Caroline & A        & T1       & 35.14321\\\\\n",
       "\t John     & A        & T2       & 37.41580\\\\\n",
       "\t Peter    & A        & T2       & 37.41355\\\\\n",
       "\t Mary     & A        & T2       & 38.92508\\\\\n",
       "\t Caroline & A        & T2       & 36.52195\\\\\n",
       "\t John     & B        & T1       & 36.17455\\\\\n",
       "\t Peter    & B        & T1       & 36.00115\\\\\n",
       "\t Mary     & B        & T1       & 36.49993\\\\\n",
       "\t Caroline & B        & T1       & 36.05723\\\\\n",
       "\t John     & B        & T2       & 37.44987\\\\\n",
       "\t Peter    & B        & T2       & 37.88969\\\\\n",
       "\t Mary     & B        & T2       & 38.25544\\\\\n",
       "\t Caroline & B        & T2       & 38.08802\\\\\n",
       "\\end{tabular}\n"
      ],
      "text/markdown": [
       "\n",
       "Name | DrugType | Time | Temperature | \n",
       "|---|---|---|---|---|---|---|---|---|---|---|---|---|---|---|---|\n",
       "| John     | A        | T1       | 35.07729 | \n",
       "| Peter    | A        | T1       | 35.01392 | \n",
       "| Mary     | A        | T1       | 35.67363 | \n",
       "| Caroline | A        | T1       | 35.14321 | \n",
       "| John     | A        | T2       | 37.41580 | \n",
       "| Peter    | A        | T2       | 37.41355 | \n",
       "| Mary     | A        | T2       | 38.92508 | \n",
       "| Caroline | A        | T2       | 36.52195 | \n",
       "| John     | B        | T1       | 36.17455 | \n",
       "| Peter    | B        | T1       | 36.00115 | \n",
       "| Mary     | B        | T1       | 36.49993 | \n",
       "| Caroline | B        | T1       | 36.05723 | \n",
       "| John     | B        | T2       | 37.44987 | \n",
       "| Peter    | B        | T2       | 37.88969 | \n",
       "| Mary     | B        | T2       | 38.25544 | \n",
       "| Caroline | B        | T2       | 38.08802 | \n",
       "\n",
       "\n"
      ],
      "text/plain": [
       "   Name     DrugType Time Temperature\n",
       "1  John     A        T1   35.07729   \n",
       "2  Peter    A        T1   35.01392   \n",
       "3  Mary     A        T1   35.67363   \n",
       "4  Caroline A        T1   35.14321   \n",
       "5  John     A        T2   37.41580   \n",
       "6  Peter    A        T2   37.41355   \n",
       "7  Mary     A        T2   38.92508   \n",
       "8  Caroline A        T2   36.52195   \n",
       "9  John     B        T1   36.17455   \n",
       "10 Peter    B        T1   36.00115   \n",
       "11 Mary     B        T1   36.49993   \n",
       "12 Caroline B        T1   36.05723   \n",
       "13 John     B        T2   37.44987   \n",
       "14 Peter    B        T2   37.88969   \n",
       "15 Mary     B        T2   38.25544   \n",
       "16 Caroline B        T2   38.08802   "
      ]
     },
     "metadata": {},
     "output_type": "display_data"
    }
   ],
   "source": [
    "mutate(df, DrugType = gsub(\"Drug\", \"\", DrugType))\n",
    "#создавать или изменять переменные столбцов"
   ]
  },
  {
   "cell_type": "markdown",
   "metadata": {},
   "source": [
    "# `dplyr`: связка функций `group_by` и `summarise`"
   ]
  },
  {
   "cell_type": "code",
   "execution_count": 41,
   "metadata": {},
   "outputs": [
    {
     "data": {
      "text/html": [
       "<table>\n",
       "<thead><tr><th scope=col>Time</th><th scope=col>AvgTemp</th></tr></thead>\n",
       "<tbody>\n",
       "\t<tr><td>T1      </td><td>35.70511</td></tr>\n",
       "\t<tr><td>T2      </td><td>37.74493</td></tr>\n",
       "</tbody>\n",
       "</table>\n"
      ],
      "text/latex": [
       "\\begin{tabular}{r|ll}\n",
       " Time & AvgTemp\\\\\n",
       "\\hline\n",
       "\t T1       & 35.70511\\\\\n",
       "\t T2       & 37.74493\\\\\n",
       "\\end{tabular}\n"
      ],
      "text/markdown": [
       "\n",
       "Time | AvgTemp | \n",
       "|---|---|\n",
       "| T1       | 35.70511 | \n",
       "| T2       | 37.74493 | \n",
       "\n",
       "\n"
      ],
      "text/plain": [
       "  Time AvgTemp \n",
       "1 T1   35.70511\n",
       "2 T2   37.74493"
      ]
     },
     "metadata": {},
     "output_type": "display_data"
    }
   ],
   "source": [
    "summarize(group_by(df, Time), \n",
    "          AvgTemp = mean(Temperature))"
   ]
  },
  {
   "cell_type": "markdown",
   "metadata": {},
   "source": [
    "# Полезные ссылки\n",
    "\n",
    ">- `library(data.table)`\n",
    ">- Cheat sheet по tidyr и dplyr: [https://www.rstudio.com/wp-content/uploads/2015/02/data-wrangling-cheatsheet.pdf](https://www.rstudio.com/wp-content/uploads/2015/02/data-wrangling-cheatsheet.pdf)\n",
    ">- Современный взгляд на предобработку данных: dplyr, tidyr и magrittr. [https://github.com/tonytonov/spbr-1-dataproc](https://github.com/tonytonov/spbr-1-dataproc)\n"
   ]
  },
  {
   "cell_type": "markdown",
   "metadata": {},
   "source": [
    "# Конвейеры: оператор `%>%`"
   ]
  },
  {
   "cell_type": "code",
   "execution_count": 84,
   "metadata": {},
   "outputs": [],
   "source": [
    "df <- data.frame(type = c(1, 1, 2, 2, 3, 3), value = c(5, 10, 50, 100, 7, 7))"
   ]
  },
  {
   "cell_type": "markdown",
   "metadata": {},
   "source": [
    "Вложенные вызовы, создание (перезапись) дата фреймов:"
   ]
  },
  {
   "cell_type": "code",
   "execution_count": 86,
   "metadata": {},
   "outputs": [
    {
     "data": {
      "text/html": [
       "<table>\n",
       "<thead><tr><th scope=col>type</th><th scope=col>total</th></tr></thead>\n",
       "<tbody>\n",
       "\t<tr><td>2  </td><td>150</td></tr>\n",
       "\t<tr><td>1  </td><td> 15</td></tr>\n",
       "\t<tr><td>3  </td><td> 14</td></tr>\n",
       "</tbody>\n",
       "</table>\n"
      ],
      "text/latex": [
       "\\begin{tabular}{r|ll}\n",
       " type & total\\\\\n",
       "\\hline\n",
       "\t 2   & 150\\\\\n",
       "\t 1   &  15\\\\\n",
       "\t 3   &  14\\\\\n",
       "\\end{tabular}\n"
      ],
      "text/markdown": [
       "\n",
       "type | total | \n",
       "|---|---|---|\n",
       "| 2   | 150 | \n",
       "| 1   |  15 | \n",
       "| 3   |  14 | \n",
       "\n",
       "\n"
      ],
      "text/plain": [
       "  type total\n",
       "1 2    150  \n",
       "2 1     15  \n",
       "3 3     14  "
      ]
     },
     "metadata": {},
     "output_type": "display_data"
    }
   ],
   "source": [
    "arrange(\n",
    "  summarise(\n",
    "    group_by(df, type), \n",
    "    total = sum(value)\n",
    "  ),\n",
    "  -total\n",
    ")"
   ]
  },
  {
   "cell_type": "code",
   "execution_count": 87,
   "metadata": {},
   "outputs": [],
   "source": [
    "a <- group_by(df, type)\n",
    "b <- summarise(a, total = sum(value))\n",
    "c <- arrange(b, -total)"
   ]
  },
  {
   "cell_type": "markdown",
   "metadata": {},
   "source": [
    "Конвейер:"
   ]
  },
  {
   "cell_type": "code",
   "execution_count": 88,
   "metadata": {},
   "outputs": [
    {
     "data": {
      "text/html": [
       "<table>\n",
       "<thead><tr><th scope=col>type</th><th scope=col>total</th></tr></thead>\n",
       "<tbody>\n",
       "\t<tr><td>2  </td><td>150</td></tr>\n",
       "\t<tr><td>1  </td><td> 15</td></tr>\n",
       "\t<tr><td>3  </td><td> 14</td></tr>\n",
       "</tbody>\n",
       "</table>\n"
      ],
      "text/latex": [
       "\\begin{tabular}{r|ll}\n",
       " type & total\\\\\n",
       "\\hline\n",
       "\t 2   & 150\\\\\n",
       "\t 1   &  15\\\\\n",
       "\t 3   &  14\\\\\n",
       "\\end{tabular}\n"
      ],
      "text/markdown": [
       "\n",
       "type | total | \n",
       "|---|---|---|\n",
       "| 2   | 150 | \n",
       "| 1   |  15 | \n",
       "| 3   |  14 | \n",
       "\n",
       "\n"
      ],
      "text/plain": [
       "  type total\n",
       "1 2    150  \n",
       "2 1     15  \n",
       "3 3     14  "
      ]
     },
     "metadata": {},
     "output_type": "display_data"
    }
   ],
   "source": [
    "df %>%\n",
    "  group_by(type) %>%\n",
    "  summarise(total = sum(value)) %>%\n",
    "  arrange(-total)"
   ]
  },
  {
   "cell_type": "markdown",
   "metadata": {},
   "source": [
    "# Конвейеры: оператор `%>%`"
   ]
  },
  {
   "cell_type": "markdown",
   "metadata": {},
   "source": [
    "Эквивалентная запись:\n",
    ">- `x %>% f` <br>  `f(x)`\n",
    ">- `x %>% f(y)` <br> `f(x, y)`\n",
    ">- `x %>% f(y, param = .)` <br> `f(y, param = x)`\n"
   ]
  },
  {
   "cell_type": "code",
   "execution_count": null,
   "metadata": {},
   "outputs": [],
   "source": []
  },
  {
   "cell_type": "code",
   "execution_count": 99,
   "metadata": {},
   "outputs": [],
   "source": [
    "# Using dplyr \n",
    "library(stringr)\n",
    "library(dplyr)\n",
    "options(stringsAsFactors = FALSE)\n",
    "url = \"https://raw.githubusercontent.com/tonytonov/Rcourse/master/R%20programming/avianHabitat.csv\""
   ]
  },
  {
   "cell_type": "code",
   "execution_count": 100,
   "metadata": {},
   "outputs": [
    {
     "data": {
      "text/html": [
       "<table>\n",
       "<thead><tr><th></th><th scope=col>Site</th><th scope=col>Observer</th><th scope=col>x</th></tr></thead>\n",
       "<tbody>\n",
       "\t<tr><th scope=row>1</th><td>BunkerHill </td><td>JT         </td><td> 9.9       </td></tr>\n",
       "\t<tr><th scope=row>3</th><td>BunkerHill </td><td>RA         </td><td> 7.0       </td></tr>\n",
       "\t<tr><th scope=row>5</th><td>HortonCreek</td><td>RA         </td><td>10.0       </td></tr>\n",
       "\t<tr><th scope=row>7</th><td>McAdamCreek</td><td>RA         </td><td> 7.2       </td></tr>\n",
       "\t<tr><th scope=row>11</th><td>McAdamCreek</td><td>RR         </td><td> 5.0       </td></tr>\n",
       "</tbody>\n",
       "</table>\n"
      ],
      "text/latex": [
       "\\begin{tabular}{r|lll}\n",
       "  & Site & Observer & x\\\\\n",
       "\\hline\n",
       "\t1 & BunkerHill  & JT          &  9.9       \\\\\n",
       "\t3 & BunkerHill  & RA          &  7.0       \\\\\n",
       "\t5 & HortonCreek & RA          & 10.0       \\\\\n",
       "\t7 & McAdamCreek & RA          &  7.2       \\\\\n",
       "\t11 & McAdamCreek & RR          &  5.0       \\\\\n",
       "\\end{tabular}\n"
      ],
      "text/markdown": [
       "\n",
       "| <!--/--> | Site | Observer | x | \n",
       "|---|---|---|---|---|\n",
       "| 1 | BunkerHill  | JT          |  9.9        | \n",
       "| 3 | BunkerHill  | RA          |  7.0        | \n",
       "| 5 | HortonCreek | RA          | 10.0        | \n",
       "| 7 | McAdamCreek | RA          |  7.2        | \n",
       "| 11 | McAdamCreek | RR          |  5.0        | \n",
       "\n",
       "\n"
      ],
      "text/plain": [
       "   Site        Observer x   \n",
       "1  BunkerHill  JT        9.9\n",
       "3  BunkerHill  RA        7.0\n",
       "5  HortonCreek RA       10.0\n",
       "7  McAdamCreek RA        7.2\n",
       "11 McAdamCreek RR        5.0"
      ]
     },
     "metadata": {},
     "output_type": "display_data"
    }
   ],
   "source": [
    "# First approach\n",
    "avian <- read.csv(url)\n",
    "\n",
    "avian <- subset(avian, PDB > 0 & DBHt > 0, c(\"Site\", \"Observer\", \"PDB\", \"DBHt\"))\n",
    "avian$Site <- factor(str_replace(avian$Site, \"[:digit:]+\", \"\"))\n",
    "subset(\n",
    "  aggregate(avian$DBHt, list(Site = avian$Site, Observer = avian$Observer), max),\n",
    "  x >= 5\n",
    ")"
   ]
  },
  {
   "cell_type": "code",
   "execution_count": 97,
   "metadata": {},
   "outputs": [
    {
     "data": {
      "text/html": [
       "<table>\n",
       "<thead><tr><th></th><th scope=col>Site</th><th scope=col>Observer</th><th scope=col>x</th></tr></thead>\n",
       "<tbody>\n",
       "\t<tr><th scope=row>1</th><td>BunkerHill </td><td>JT         </td><td> 9.9       </td></tr>\n",
       "\t<tr><th scope=row>3</th><td>BunkerHill </td><td>RA         </td><td> 7.0       </td></tr>\n",
       "\t<tr><th scope=row>5</th><td>HortonCreek</td><td>RA         </td><td>10.0       </td></tr>\n",
       "\t<tr><th scope=row>7</th><td>McAdamCreek</td><td>RA         </td><td> 7.2       </td></tr>\n",
       "\t<tr><th scope=row>11</th><td>McAdamCreek</td><td>RR         </td><td> 5.0       </td></tr>\n",
       "</tbody>\n",
       "</table>\n"
      ],
      "text/latex": [
       "\\begin{tabular}{r|lll}\n",
       "  & Site & Observer & x\\\\\n",
       "\\hline\n",
       "\t1 & BunkerHill  & JT          &  9.9       \\\\\n",
       "\t3 & BunkerHill  & RA          &  7.0       \\\\\n",
       "\t5 & HortonCreek & RA          & 10.0       \\\\\n",
       "\t7 & McAdamCreek & RA          &  7.2       \\\\\n",
       "\t11 & McAdamCreek & RR          &  5.0       \\\\\n",
       "\\end{tabular}\n"
      ],
      "text/markdown": [
       "\n",
       "| <!--/--> | Site | Observer | x | \n",
       "|---|---|---|---|---|\n",
       "| 1 | BunkerHill  | JT          |  9.9        | \n",
       "| 3 | BunkerHill  | RA          |  7.0        | \n",
       "| 5 | HortonCreek | RA          | 10.0        | \n",
       "| 7 | McAdamCreek | RA          |  7.2        | \n",
       "| 11 | McAdamCreek | RR          |  5.0        | \n",
       "\n",
       "\n"
      ],
      "text/plain": [
       "   Site        Observer x   \n",
       "1  BunkerHill  JT        9.9\n",
       "3  BunkerHill  RA        7.0\n",
       "5  HortonCreek RA       10.0\n",
       "7  McAdamCreek RA        7.2\n",
       "11 McAdamCreek RR        5.0"
      ]
     },
     "metadata": {},
     "output_type": "display_data"
    }
   ],
   "source": [
    "# Second approach (using pipes)\n",
    "avian <- read.csv(url)\n",
    "\n",
    "avian <-\n",
    "  avian %>% \n",
    "  subset(PDB > 0 & DBHt > 0, c(\"Site\", \"Observer\", \"PDB\", \"DBHt\")) %>% \n",
    "  transform(Site = factor(str_replace(.$Site, \"[:digit:]+\", \"\")))\n",
    "\n",
    "aggregate(avian$DBHt, list(Site = avian$Site, Observer = avian$Observer), max) %>% \n",
    "  subset(x >= 5)"
   ]
  },
  {
   "cell_type": "code",
   "execution_count": 98,
   "metadata": {},
   "outputs": [
    {
     "data": {
      "text/html": [
       "<table>\n",
       "<thead><tr><th scope=col>Site</th><th scope=col>Observer</th><th scope=col>MaxHt</th></tr></thead>\n",
       "<tbody>\n",
       "\t<tr><td>BunkerHill </td><td>JT         </td><td> 9.9       </td></tr>\n",
       "\t<tr><td>BunkerHill </td><td>RA         </td><td> 7.0       </td></tr>\n",
       "\t<tr><td>HortonCreek</td><td>RA         </td><td>10.0       </td></tr>\n",
       "\t<tr><td>McAdamCreek</td><td>RA         </td><td> 7.2       </td></tr>\n",
       "\t<tr><td>McAdamCreek</td><td>RR         </td><td> 5.0       </td></tr>\n",
       "</tbody>\n",
       "</table>\n"
      ],
      "text/latex": [
       "\\begin{tabular}{r|lll}\n",
       " Site & Observer & MaxHt\\\\\n",
       "\\hline\n",
       "\t BunkerHill  & JT          &  9.9       \\\\\n",
       "\t BunkerHill  & RA          &  7.0       \\\\\n",
       "\t HortonCreek & RA          & 10.0       \\\\\n",
       "\t McAdamCreek & RA          &  7.2       \\\\\n",
       "\t McAdamCreek & RR          &  5.0       \\\\\n",
       "\\end{tabular}\n"
      ],
      "text/markdown": [
       "\n",
       "Site | Observer | MaxHt | \n",
       "|---|---|---|---|---|\n",
       "| BunkerHill  | JT          |  9.9        | \n",
       "| BunkerHill  | RA          |  7.0        | \n",
       "| HortonCreek | RA          | 10.0        | \n",
       "| McAdamCreek | RA          |  7.2        | \n",
       "| McAdamCreek | RR          |  5.0        | \n",
       "\n",
       "\n"
      ],
      "text/plain": [
       "  Site        Observer MaxHt\n",
       "1 BunkerHill  JT        9.9 \n",
       "2 BunkerHill  RA        7.0 \n",
       "3 HortonCreek RA       10.0 \n",
       "4 McAdamCreek RA        7.2 \n",
       "5 McAdamCreek RR        5.0 "
      ]
     },
     "metadata": {},
     "output_type": "display_data"
    }
   ],
   "source": [
    "# Third approach (using both pipes and dplyr)\n",
    "avian <- read.csv(url)\n",
    "\n",
    "avian %>% \n",
    "  filter(PDB > 0, DBHt > 0) %>% \n",
    "  select(Site, Observer, contains(\"DB\")) %>% \n",
    "  mutate(Site = factor(str_replace(Site, \"[:digit:]+\", \"\"))) %>% \n",
    "  group_by(Site, Observer) %>% \n",
    "  summarise(MaxHt = max(DBHt)) %>% \n",
    "  filter(MaxHt >= 5) "
   ]
  },
  {
   "cell_type": "code",
   "execution_count": 104,
   "metadata": {},
   "outputs": [
    {
     "data": {
      "text/html": [
       "<table>\n",
       "<thead><tr><th></th><th scope=col>Observer</th><th scope=col>PDB</th></tr></thead>\n",
       "<tbody>\n",
       "\t<tr><th scope=row>1</th><td>RA</td><td>3 </td></tr>\n",
       "\t<tr><th scope=row>2</th><td>RA</td><td>2 </td></tr>\n",
       "\t<tr><th scope=row>3</th><td>RA</td><td>4 </td></tr>\n",
       "\t<tr><th scope=row>4</th><td>RA</td><td>3 </td></tr>\n",
       "\t<tr><th scope=row>5</th><td>RA</td><td>4 </td></tr>\n",
       "\t<tr><th scope=row>6</th><td>JT</td><td>3 </td></tr>\n",
       "\t<tr><th scope=row>7</th><td>JT</td><td>3 </td></tr>\n",
       "\t<tr><th scope=row>8</th><td>JT</td><td>2 </td></tr>\n",
       "\t<tr><th scope=row>9</th><td>JT</td><td>2 </td></tr>\n",
       "\t<tr><th scope=row>10</th><td>JT</td><td>2 </td></tr>\n",
       "\t<tr><th scope=row>11</th><td>RA</td><td>2 </td></tr>\n",
       "\t<tr><th scope=row>12</th><td>RA</td><td>3 </td></tr>\n",
       "\t<tr><th scope=row>13</th><td>RA</td><td>3 </td></tr>\n",
       "\t<tr><th scope=row>14</th><td>RA</td><td>2 </td></tr>\n",
       "\t<tr><th scope=row>15</th><td>RA</td><td>3 </td></tr>\n",
       "\t<tr><th scope=row>16</th><td>JT</td><td>1 </td></tr>\n",
       "\t<tr><th scope=row>17</th><td>JT</td><td>2 </td></tr>\n",
       "\t<tr><th scope=row>18</th><td>JT</td><td>3 </td></tr>\n",
       "\t<tr><th scope=row>19</th><td>JT</td><td>1 </td></tr>\n",
       "\t<tr><th scope=row>21</th><td>RA</td><td>1 </td></tr>\n",
       "\t<tr><th scope=row>22</th><td>RA</td><td>1 </td></tr>\n",
       "\t<tr><th scope=row>24</th><td>RA</td><td>2 </td></tr>\n",
       "\t<tr><th scope=row>25</th><td>RA</td><td>2 </td></tr>\n",
       "\t<tr><th scope=row>26</th><td>JT</td><td>2 </td></tr>\n",
       "\t<tr><th scope=row>27</th><td>JT</td><td>3 </td></tr>\n",
       "\t<tr><th scope=row>28</th><td>JT</td><td>3 </td></tr>\n",
       "\t<tr><th scope=row>33</th><td>RA</td><td>2 </td></tr>\n",
       "\t<tr><th scope=row>34</th><td>RA</td><td>1 </td></tr>\n",
       "\t<tr><th scope=row>35</th><td>RA</td><td>1 </td></tr>\n",
       "\t<tr><th scope=row>36</th><td>JT</td><td>2 </td></tr>\n",
       "\t<tr><th scope=row>...</th><td>...</td><td>...</td></tr>\n",
       "\t<tr><th scope=row>992</th><td>RA</td><td>2 </td></tr>\n",
       "\t<tr><th scope=row>993</th><td>RA</td><td>3 </td></tr>\n",
       "\t<tr><th scope=row>994</th><td>RA</td><td>1 </td></tr>\n",
       "\t<tr><th scope=row>995</th><td>RA</td><td>1 </td></tr>\n",
       "\t<tr><th scope=row>996</th><td>RR</td><td>2 </td></tr>\n",
       "\t<tr><th scope=row>997</th><td>RR</td><td>2 </td></tr>\n",
       "\t<tr><th scope=row>998</th><td>RR</td><td>3 </td></tr>\n",
       "\t<tr><th scope=row>999</th><td>RR</td><td>4 </td></tr>\n",
       "\t<tr><th scope=row>1000</th><td>RR</td><td>2 </td></tr>\n",
       "\t<tr><th scope=row>1006</th><td>RR</td><td>4 </td></tr>\n",
       "\t<tr><th scope=row>1007</th><td>RR</td><td>3 </td></tr>\n",
       "\t<tr><th scope=row>1008</th><td>RR</td><td>1 </td></tr>\n",
       "\t<tr><th scope=row>1009</th><td>RR</td><td>2 </td></tr>\n",
       "\t<tr><th scope=row>1010</th><td>RR</td><td>2 </td></tr>\n",
       "\t<tr><th scope=row>1011</th><td>RA</td><td>2 </td></tr>\n",
       "\t<tr><th scope=row>1012</th><td>RA</td><td>2 </td></tr>\n",
       "\t<tr><th scope=row>1013</th><td>RA</td><td>3 </td></tr>\n",
       "\t<tr><th scope=row>1014</th><td>RA</td><td>2 </td></tr>\n",
       "\t<tr><th scope=row>1016</th><td>RR</td><td>3 </td></tr>\n",
       "\t<tr><th scope=row>1017</th><td>RR</td><td>3 </td></tr>\n",
       "\t<tr><th scope=row>1018</th><td>RR</td><td>2 </td></tr>\n",
       "\t<tr><th scope=row>1020</th><td>RR</td><td>1 </td></tr>\n",
       "\t<tr><th scope=row>1023</th><td>RA</td><td>1 </td></tr>\n",
       "\t<tr><th scope=row>1024</th><td>RA</td><td>2 </td></tr>\n",
       "\t<tr><th scope=row>1025</th><td>RA</td><td>2 </td></tr>\n",
       "\t<tr><th scope=row>1028</th><td>RR</td><td>4 </td></tr>\n",
       "\t<tr><th scope=row>1030</th><td>RR</td><td>2 </td></tr>\n",
       "\t<tr><th scope=row>1056</th><td>RR</td><td>3 </td></tr>\n",
       "\t<tr><th scope=row>1065</th><td>RA</td><td>2 </td></tr>\n",
       "\t<tr><th scope=row>1067</th><td>RR</td><td>4 </td></tr>\n",
       "</tbody>\n",
       "</table>\n"
      ],
      "text/latex": [
       "\\begin{tabular}{r|ll}\n",
       "  & Observer & PDB\\\\\n",
       "\\hline\n",
       "\t1 & RA & 3 \\\\\n",
       "\t2 & RA & 2 \\\\\n",
       "\t3 & RA & 4 \\\\\n",
       "\t4 & RA & 3 \\\\\n",
       "\t5 & RA & 4 \\\\\n",
       "\t6 & JT & 3 \\\\\n",
       "\t7 & JT & 3 \\\\\n",
       "\t8 & JT & 2 \\\\\n",
       "\t9 & JT & 2 \\\\\n",
       "\t10 & JT & 2 \\\\\n",
       "\t11 & RA & 2 \\\\\n",
       "\t12 & RA & 3 \\\\\n",
       "\t13 & RA & 3 \\\\\n",
       "\t14 & RA & 2 \\\\\n",
       "\t15 & RA & 3 \\\\\n",
       "\t16 & JT & 1 \\\\\n",
       "\t17 & JT & 2 \\\\\n",
       "\t18 & JT & 3 \\\\\n",
       "\t19 & JT & 1 \\\\\n",
       "\t21 & RA & 1 \\\\\n",
       "\t22 & RA & 1 \\\\\n",
       "\t24 & RA & 2 \\\\\n",
       "\t25 & RA & 2 \\\\\n",
       "\t26 & JT & 2 \\\\\n",
       "\t27 & JT & 3 \\\\\n",
       "\t28 & JT & 3 \\\\\n",
       "\t33 & RA & 2 \\\\\n",
       "\t34 & RA & 1 \\\\\n",
       "\t35 & RA & 1 \\\\\n",
       "\t36 & JT & 2 \\\\\n",
       "\t... & ... & ...\\\\\n",
       "\t992 & RA & 2 \\\\\n",
       "\t993 & RA & 3 \\\\\n",
       "\t994 & RA & 1 \\\\\n",
       "\t995 & RA & 1 \\\\\n",
       "\t996 & RR & 2 \\\\\n",
       "\t997 & RR & 2 \\\\\n",
       "\t998 & RR & 3 \\\\\n",
       "\t999 & RR & 4 \\\\\n",
       "\t1000 & RR & 2 \\\\\n",
       "\t1006 & RR & 4 \\\\\n",
       "\t1007 & RR & 3 \\\\\n",
       "\t1008 & RR & 1 \\\\\n",
       "\t1009 & RR & 2 \\\\\n",
       "\t1010 & RR & 2 \\\\\n",
       "\t1011 & RA & 2 \\\\\n",
       "\t1012 & RA & 2 \\\\\n",
       "\t1013 & RA & 3 \\\\\n",
       "\t1014 & RA & 2 \\\\\n",
       "\t1016 & RR & 3 \\\\\n",
       "\t1017 & RR & 3 \\\\\n",
       "\t1018 & RR & 2 \\\\\n",
       "\t1020 & RR & 1 \\\\\n",
       "\t1023 & RA & 1 \\\\\n",
       "\t1024 & RA & 2 \\\\\n",
       "\t1025 & RA & 2 \\\\\n",
       "\t1028 & RR & 4 \\\\\n",
       "\t1030 & RR & 2 \\\\\n",
       "\t1056 & RR & 3 \\\\\n",
       "\t1065 & RA & 2 \\\\\n",
       "\t1067 & RR & 4 \\\\\n",
       "\\end{tabular}\n"
      ],
      "text/markdown": [
       "\n",
       "| <!--/--> | Observer | PDB | \n",
       "|---|---|---|---|---|---|---|---|---|---|---|---|---|---|---|---|---|---|---|---|---|---|---|---|---|---|---|---|---|---|---|---|---|---|---|---|---|---|---|---|---|---|---|---|---|---|---|---|---|---|---|---|---|---|---|---|---|---|---|---|---|\n",
       "| 1 | RA | 3  | \n",
       "| 2 | RA | 2  | \n",
       "| 3 | RA | 4  | \n",
       "| 4 | RA | 3  | \n",
       "| 5 | RA | 4  | \n",
       "| 6 | JT | 3  | \n",
       "| 7 | JT | 3  | \n",
       "| 8 | JT | 2  | \n",
       "| 9 | JT | 2  | \n",
       "| 10 | JT | 2  | \n",
       "| 11 | RA | 2  | \n",
       "| 12 | RA | 3  | \n",
       "| 13 | RA | 3  | \n",
       "| 14 | RA | 2  | \n",
       "| 15 | RA | 3  | \n",
       "| 16 | JT | 1  | \n",
       "| 17 | JT | 2  | \n",
       "| 18 | JT | 3  | \n",
       "| 19 | JT | 1  | \n",
       "| 21 | RA | 1  | \n",
       "| 22 | RA | 1  | \n",
       "| 24 | RA | 2  | \n",
       "| 25 | RA | 2  | \n",
       "| 26 | JT | 2  | \n",
       "| 27 | JT | 3  | \n",
       "| 28 | JT | 3  | \n",
       "| 33 | RA | 2  | \n",
       "| 34 | RA | 1  | \n",
       "| 35 | RA | 1  | \n",
       "| 36 | JT | 2  | \n",
       "| ... | ... | ... | \n",
       "| 992 | RA | 2  | \n",
       "| 993 | RA | 3  | \n",
       "| 994 | RA | 1  | \n",
       "| 995 | RA | 1  | \n",
       "| 996 | RR | 2  | \n",
       "| 997 | RR | 2  | \n",
       "| 998 | RR | 3  | \n",
       "| 999 | RR | 4  | \n",
       "| 1000 | RR | 2  | \n",
       "| 1006 | RR | 4  | \n",
       "| 1007 | RR | 3  | \n",
       "| 1008 | RR | 1  | \n",
       "| 1009 | RR | 2  | \n",
       "| 1010 | RR | 2  | \n",
       "| 1011 | RA | 2  | \n",
       "| 1012 | RA | 2  | \n",
       "| 1013 | RA | 3  | \n",
       "| 1014 | RA | 2  | \n",
       "| 1016 | RR | 3  | \n",
       "| 1017 | RR | 3  | \n",
       "| 1018 | RR | 2  | \n",
       "| 1020 | RR | 1  | \n",
       "| 1023 | RA | 1  | \n",
       "| 1024 | RA | 2  | \n",
       "| 1025 | RA | 2  | \n",
       "| 1028 | RR | 4  | \n",
       "| 1030 | RR | 2  | \n",
       "| 1056 | RR | 3  | \n",
       "| 1065 | RA | 2  | \n",
       "| 1067 | RR | 4  | \n",
       "\n",
       "\n"
      ],
      "text/plain": [
       "     Observer PDB\n",
       "1    RA       3  \n",
       "2    RA       2  \n",
       "3    RA       4  \n",
       "4    RA       3  \n",
       "5    RA       4  \n",
       "6    JT       3  \n",
       "7    JT       3  \n",
       "8    JT       2  \n",
       "9    JT       2  \n",
       "10   JT       2  \n",
       "11   RA       2  \n",
       "12   RA       3  \n",
       "13   RA       3  \n",
       "14   RA       2  \n",
       "15   RA       3  \n",
       "16   JT       1  \n",
       "17   JT       2  \n",
       "18   JT       3  \n",
       "19   JT       1  \n",
       "21   RA       1  \n",
       "22   RA       1  \n",
       "24   RA       2  \n",
       "25   RA       2  \n",
       "26   JT       2  \n",
       "27   JT       3  \n",
       "28   JT       3  \n",
       "33   RA       2  \n",
       "34   RA       1  \n",
       "35   RA       1  \n",
       "36   JT       2  \n",
       "...  ...      ...\n",
       "992  RA       2  \n",
       "993  RA       3  \n",
       "994  RA       1  \n",
       "995  RA       1  \n",
       "996  RR       2  \n",
       "997  RR       2  \n",
       "998  RR       3  \n",
       "999  RR       4  \n",
       "1000 RR       2  \n",
       "1006 RR       4  \n",
       "1007 RR       3  \n",
       "1008 RR       1  \n",
       "1009 RR       2  \n",
       "1010 RR       2  \n",
       "1011 RA       2  \n",
       "1012 RA       2  \n",
       "1013 RA       3  \n",
       "1014 RA       2  \n",
       "1016 RR       3  \n",
       "1017 RR       3  \n",
       "1018 RR       2  \n",
       "1020 RR       1  \n",
       "1023 RA       1  \n",
       "1024 RA       2  \n",
       "1025 RA       2  \n",
       "1028 RR       4  \n",
       "1030 RR       2  \n",
       "1056 RR       3  \n",
       "1065 RA       2  \n",
       "1067 RR       4  "
      ]
     },
     "metadata": {},
     "output_type": "display_data"
    }
   ],
   "source": [
    "subset(avian, PDB > 0, c(\"Observer\", \"PDB\"))"
   ]
  },
  {
   "cell_type": "code",
   "execution_count": 105,
   "metadata": {},
   "outputs": [
    {
     "data": {
      "text/html": [
       "<table>\n",
       "<thead><tr><th scope=col>Observer</th><th scope=col>x</th></tr></thead>\n",
       "<tbody>\n",
       "\t<tr><td>JT </td><td> 92</td></tr>\n",
       "\t<tr><td>RA </td><td>261</td></tr>\n",
       "\t<tr><td>RR </td><td>139</td></tr>\n",
       "</tbody>\n",
       "</table>\n"
      ],
      "text/latex": [
       "\\begin{tabular}{r|ll}\n",
       " Observer & x\\\\\n",
       "\\hline\n",
       "\t JT  &  92\\\\\n",
       "\t RA  & 261\\\\\n",
       "\t RR  & 139\\\\\n",
       "\\end{tabular}\n"
      ],
      "text/markdown": [
       "\n",
       "Observer | x | \n",
       "|---|---|---|\n",
       "| JT  |  92 | \n",
       "| RA  | 261 | \n",
       "| RR  | 139 | \n",
       "\n",
       "\n"
      ],
      "text/plain": [
       "  Observer x  \n",
       "1 JT        92\n",
       "2 RA       261\n",
       "3 RR       139"
      ]
     },
     "metadata": {},
     "output_type": "display_data"
    }
   ],
   "source": [
    "summarise(group_by(avian, Observer), x = sum(PDB > 0))\n"
   ]
  },
  {
   "cell_type": "code",
   "execution_count": 106,
   "metadata": {},
   "outputs": [
    {
     "data": {
      "text/html": [
       "<table>\n",
       "<thead><tr><th scope=col>Observer</th><th scope=col>x</th></tr></thead>\n",
       "<tbody>\n",
       "\t<tr><td>JT </td><td> 92</td></tr>\n",
       "\t<tr><td>RA </td><td>261</td></tr>\n",
       "\t<tr><td>RR </td><td>139</td></tr>\n",
       "</tbody>\n",
       "</table>\n"
      ],
      "text/latex": [
       "\\begin{tabular}{r|ll}\n",
       " Observer & x\\\\\n",
       "\\hline\n",
       "\t JT  &  92\\\\\n",
       "\t RA  & 261\\\\\n",
       "\t RR  & 139\\\\\n",
       "\\end{tabular}\n"
      ],
      "text/markdown": [
       "\n",
       "Observer | x | \n",
       "|---|---|---|\n",
       "| JT  |  92 | \n",
       "| RA  | 261 | \n",
       "| RR  | 139 | \n",
       "\n",
       "\n"
      ],
      "text/plain": [
       "  Observer x  \n",
       "1 JT        92\n",
       "2 RA       261\n",
       "3 RR       139"
      ]
     },
     "metadata": {},
     "output_type": "display_data"
    }
   ],
   "source": [
    "aggregate(avian[, \"PDB\"], list(Observer = avian[, \"Observer\"]), function(x) sum(x > 0))"
   ]
  },
  {
   "cell_type": "code",
   "execution_count": 107,
   "metadata": {},
   "outputs": [],
   "source": [
    "avian[, \"PDB\"] <- avian[, \"PDB\"] > 0"
   ]
  },
  {
   "cell_type": "code",
   "execution_count": 108,
   "metadata": {},
   "outputs": [
    {
     "data": {
      "text/html": [
       "<table>\n",
       "<thead><tr><th scope=col>Site</th><th scope=col>Observer</th><th scope=col>PDB</th><th scope=col>DBHt</th></tr></thead>\n",
       "<tbody>\n",
       "\t<tr><td>BunkerHill</td><td>RA        </td><td>TRUE      </td><td>5.2       </td></tr>\n",
       "\t<tr><td>BunkerHill</td><td>RA        </td><td>TRUE      </td><td>3.1       </td></tr>\n",
       "\t<tr><td>BunkerHill</td><td>RA        </td><td>TRUE      </td><td>5.5       </td></tr>\n",
       "\t<tr><td>BunkerHill</td><td>RA        </td><td>TRUE      </td><td>6.2       </td></tr>\n",
       "\t<tr><td>BunkerHill</td><td>RA        </td><td>TRUE      </td><td>5.4       </td></tr>\n",
       "\t<tr><td>BunkerHill</td><td>JT        </td><td>TRUE      </td><td>4.0       </td></tr>\n",
       "\t<tr><td>BunkerHill</td><td>JT        </td><td>TRUE      </td><td>5.2       </td></tr>\n",
       "\t<tr><td>BunkerHill</td><td>JT        </td><td>TRUE      </td><td>4.4       </td></tr>\n",
       "\t<tr><td>BunkerHill</td><td>JT        </td><td>TRUE      </td><td>5.7       </td></tr>\n",
       "\t<tr><td>BunkerHill</td><td>JT        </td><td>TRUE      </td><td>4.8       </td></tr>\n",
       "\t<tr><td>BunkerHill</td><td>RA        </td><td>TRUE      </td><td>3.6       </td></tr>\n",
       "\t<tr><td>BunkerHill</td><td>RA        </td><td>TRUE      </td><td>6.0       </td></tr>\n",
       "\t<tr><td>BunkerHill</td><td>RA        </td><td>TRUE      </td><td>3.1       </td></tr>\n",
       "\t<tr><td>BunkerHill</td><td>RA        </td><td>TRUE      </td><td>5.0       </td></tr>\n",
       "\t<tr><td>BunkerHill</td><td>RA        </td><td>TRUE      </td><td>2.9       </td></tr>\n",
       "\t<tr><td>BunkerHill</td><td>JT        </td><td>TRUE      </td><td>1.2       </td></tr>\n",
       "\t<tr><td>BunkerHill</td><td>JT        </td><td>TRUE      </td><td>2.1       </td></tr>\n",
       "\t<tr><td>BunkerHill</td><td>JT        </td><td>TRUE      </td><td>3.8       </td></tr>\n",
       "\t<tr><td>BunkerHill</td><td>JT        </td><td>TRUE      </td><td>2.4       </td></tr>\n",
       "\t<tr><td>BunkerHill</td><td>RA        </td><td>TRUE      </td><td>1.1       </td></tr>\n",
       "\t<tr><td>BunkerHill</td><td>RA        </td><td>TRUE      </td><td>1.0       </td></tr>\n",
       "\t<tr><td>BunkerHill</td><td>RA        </td><td>TRUE      </td><td>2.3       </td></tr>\n",
       "\t<tr><td>BunkerHill</td><td>RA        </td><td>TRUE      </td><td>1.5       </td></tr>\n",
       "\t<tr><td>BunkerHill</td><td>JT        </td><td>TRUE      </td><td>1.2       </td></tr>\n",
       "\t<tr><td>BunkerHill</td><td>JT        </td><td>TRUE      </td><td>3.4       </td></tr>\n",
       "\t<tr><td>BunkerHill</td><td>JT        </td><td>TRUE      </td><td>3.4       </td></tr>\n",
       "\t<tr><td>BunkerHill</td><td>RA        </td><td>TRUE      </td><td>3.3       </td></tr>\n",
       "\t<tr><td>BunkerHill</td><td>RA        </td><td>TRUE      </td><td>7.0       </td></tr>\n",
       "\t<tr><td>BunkerHill</td><td>RA        </td><td>TRUE      </td><td>2.0       </td></tr>\n",
       "\t<tr><td>BunkerHill</td><td>JT        </td><td>TRUE      </td><td>4.6       </td></tr>\n",
       "\t<tr><td>...</td><td>...</td><td>...</td><td>...</td></tr>\n",
       "\t<tr><td>McAdamCreek</td><td>RA         </td><td>TRUE       </td><td>1.6        </td></tr>\n",
       "\t<tr><td>McAdamCreek</td><td>RA         </td><td>TRUE       </td><td>1.7        </td></tr>\n",
       "\t<tr><td>McAdamCreek</td><td>RA         </td><td>TRUE       </td><td>0.9        </td></tr>\n",
       "\t<tr><td>McAdamCreek</td><td>RA         </td><td>TRUE       </td><td>0.6        </td></tr>\n",
       "\t<tr><td>McAdamCreek</td><td>RR         </td><td>TRUE       </td><td>1.5        </td></tr>\n",
       "\t<tr><td>McAdamCreek</td><td>RR         </td><td>TRUE       </td><td>0.8        </td></tr>\n",
       "\t<tr><td>McAdamCreek</td><td>RR         </td><td>TRUE       </td><td>1.4        </td></tr>\n",
       "\t<tr><td>McAdamCreek</td><td>RR         </td><td>TRUE       </td><td>2.1        </td></tr>\n",
       "\t<tr><td>McAdamCreek</td><td>RR         </td><td>TRUE       </td><td>0.8        </td></tr>\n",
       "\t<tr><td>McAdamCreek</td><td>RR         </td><td>TRUE       </td><td>3.6        </td></tr>\n",
       "\t<tr><td>McAdamCreek</td><td>RR         </td><td>TRUE       </td><td>2.9        </td></tr>\n",
       "\t<tr><td>McAdamCreek</td><td>RR         </td><td>TRUE       </td><td>2.3        </td></tr>\n",
       "\t<tr><td>McAdamCreek</td><td>RR         </td><td>TRUE       </td><td>1.7        </td></tr>\n",
       "\t<tr><td>McAdamCreek</td><td>RR         </td><td>TRUE       </td><td>2.8        </td></tr>\n",
       "\t<tr><td>McAdamCreek</td><td>RA         </td><td>TRUE       </td><td>1.8        </td></tr>\n",
       "\t<tr><td>McAdamCreek</td><td>RA         </td><td>TRUE       </td><td>1.7        </td></tr>\n",
       "\t<tr><td>McAdamCreek</td><td>RA         </td><td>TRUE       </td><td>3.4        </td></tr>\n",
       "\t<tr><td>McAdamCreek</td><td>RA         </td><td>TRUE       </td><td>3.2        </td></tr>\n",
       "\t<tr><td>McAdamCreek</td><td>RR         </td><td>TRUE       </td><td>1.9        </td></tr>\n",
       "\t<tr><td>McAdamCreek</td><td>RR         </td><td>TRUE       </td><td>2.7        </td></tr>\n",
       "\t<tr><td>McAdamCreek</td><td>RR         </td><td>TRUE       </td><td>1.9        </td></tr>\n",
       "\t<tr><td>McAdamCreek</td><td>RR         </td><td>TRUE       </td><td>1.6        </td></tr>\n",
       "\t<tr><td>McAdamCreek</td><td>RA         </td><td>TRUE       </td><td>1.6        </td></tr>\n",
       "\t<tr><td>McAdamCreek</td><td>RA         </td><td>TRUE       </td><td>1.7        </td></tr>\n",
       "\t<tr><td>McAdamCreek</td><td>RA         </td><td>TRUE       </td><td>1.4        </td></tr>\n",
       "\t<tr><td>McAdamCreek</td><td>RR         </td><td>TRUE       </td><td>1.0        </td></tr>\n",
       "\t<tr><td>McAdamCreek</td><td>RR         </td><td>TRUE       </td><td>1.9        </td></tr>\n",
       "\t<tr><td>McAdamCreek</td><td>RR         </td><td>TRUE       </td><td>1.9        </td></tr>\n",
       "\t<tr><td>McAdamCreek</td><td>RA         </td><td>TRUE       </td><td>2.8        </td></tr>\n",
       "\t<tr><td>McAdamCreek</td><td>RR         </td><td>TRUE       </td><td>5.0        </td></tr>\n",
       "</tbody>\n",
       "</table>\n"
      ],
      "text/latex": [
       "\\begin{tabular}{r|llll}\n",
       " Site & Observer & PDB & DBHt\\\\\n",
       "\\hline\n",
       "\t BunkerHill & RA         & TRUE       & 5.2       \\\\\n",
       "\t BunkerHill & RA         & TRUE       & 3.1       \\\\\n",
       "\t BunkerHill & RA         & TRUE       & 5.5       \\\\\n",
       "\t BunkerHill & RA         & TRUE       & 6.2       \\\\\n",
       "\t BunkerHill & RA         & TRUE       & 5.4       \\\\\n",
       "\t BunkerHill & JT         & TRUE       & 4.0       \\\\\n",
       "\t BunkerHill & JT         & TRUE       & 5.2       \\\\\n",
       "\t BunkerHill & JT         & TRUE       & 4.4       \\\\\n",
       "\t BunkerHill & JT         & TRUE       & 5.7       \\\\\n",
       "\t BunkerHill & JT         & TRUE       & 4.8       \\\\\n",
       "\t BunkerHill & RA         & TRUE       & 3.6       \\\\\n",
       "\t BunkerHill & RA         & TRUE       & 6.0       \\\\\n",
       "\t BunkerHill & RA         & TRUE       & 3.1       \\\\\n",
       "\t BunkerHill & RA         & TRUE       & 5.0       \\\\\n",
       "\t BunkerHill & RA         & TRUE       & 2.9       \\\\\n",
       "\t BunkerHill & JT         & TRUE       & 1.2       \\\\\n",
       "\t BunkerHill & JT         & TRUE       & 2.1       \\\\\n",
       "\t BunkerHill & JT         & TRUE       & 3.8       \\\\\n",
       "\t BunkerHill & JT         & TRUE       & 2.4       \\\\\n",
       "\t BunkerHill & RA         & TRUE       & 1.1       \\\\\n",
       "\t BunkerHill & RA         & TRUE       & 1.0       \\\\\n",
       "\t BunkerHill & RA         & TRUE       & 2.3       \\\\\n",
       "\t BunkerHill & RA         & TRUE       & 1.5       \\\\\n",
       "\t BunkerHill & JT         & TRUE       & 1.2       \\\\\n",
       "\t BunkerHill & JT         & TRUE       & 3.4       \\\\\n",
       "\t BunkerHill & JT         & TRUE       & 3.4       \\\\\n",
       "\t BunkerHill & RA         & TRUE       & 3.3       \\\\\n",
       "\t BunkerHill & RA         & TRUE       & 7.0       \\\\\n",
       "\t BunkerHill & RA         & TRUE       & 2.0       \\\\\n",
       "\t BunkerHill & JT         & TRUE       & 4.6       \\\\\n",
       "\t ... & ... & ... & ...\\\\\n",
       "\t McAdamCreek & RA          & TRUE        & 1.6        \\\\\n",
       "\t McAdamCreek & RA          & TRUE        & 1.7        \\\\\n",
       "\t McAdamCreek & RA          & TRUE        & 0.9        \\\\\n",
       "\t McAdamCreek & RA          & TRUE        & 0.6        \\\\\n",
       "\t McAdamCreek & RR          & TRUE        & 1.5        \\\\\n",
       "\t McAdamCreek & RR          & TRUE        & 0.8        \\\\\n",
       "\t McAdamCreek & RR          & TRUE        & 1.4        \\\\\n",
       "\t McAdamCreek & RR          & TRUE        & 2.1        \\\\\n",
       "\t McAdamCreek & RR          & TRUE        & 0.8        \\\\\n",
       "\t McAdamCreek & RR          & TRUE        & 3.6        \\\\\n",
       "\t McAdamCreek & RR          & TRUE        & 2.9        \\\\\n",
       "\t McAdamCreek & RR          & TRUE        & 2.3        \\\\\n",
       "\t McAdamCreek & RR          & TRUE        & 1.7        \\\\\n",
       "\t McAdamCreek & RR          & TRUE        & 2.8        \\\\\n",
       "\t McAdamCreek & RA          & TRUE        & 1.8        \\\\\n",
       "\t McAdamCreek & RA          & TRUE        & 1.7        \\\\\n",
       "\t McAdamCreek & RA          & TRUE        & 3.4        \\\\\n",
       "\t McAdamCreek & RA          & TRUE        & 3.2        \\\\\n",
       "\t McAdamCreek & RR          & TRUE        & 1.9        \\\\\n",
       "\t McAdamCreek & RR          & TRUE        & 2.7        \\\\\n",
       "\t McAdamCreek & RR          & TRUE        & 1.9        \\\\\n",
       "\t McAdamCreek & RR          & TRUE        & 1.6        \\\\\n",
       "\t McAdamCreek & RA          & TRUE        & 1.6        \\\\\n",
       "\t McAdamCreek & RA          & TRUE        & 1.7        \\\\\n",
       "\t McAdamCreek & RA          & TRUE        & 1.4        \\\\\n",
       "\t McAdamCreek & RR          & TRUE        & 1.0        \\\\\n",
       "\t McAdamCreek & RR          & TRUE        & 1.9        \\\\\n",
       "\t McAdamCreek & RR          & TRUE        & 1.9        \\\\\n",
       "\t McAdamCreek & RA          & TRUE        & 2.8        \\\\\n",
       "\t McAdamCreek & RR          & TRUE        & 5.0        \\\\\n",
       "\\end{tabular}\n"
      ],
      "text/markdown": [
       "\n",
       "Site | Observer | PDB | DBHt | \n",
       "|---|---|---|---|---|---|---|---|---|---|---|---|---|---|---|---|---|---|---|---|---|---|---|---|---|---|---|---|---|---|---|---|---|---|---|---|---|---|---|---|---|---|---|---|---|---|---|---|---|---|---|---|---|---|---|---|---|---|---|---|---|\n",
       "| BunkerHill | RA         | TRUE       | 5.2        | \n",
       "| BunkerHill | RA         | TRUE       | 3.1        | \n",
       "| BunkerHill | RA         | TRUE       | 5.5        | \n",
       "| BunkerHill | RA         | TRUE       | 6.2        | \n",
       "| BunkerHill | RA         | TRUE       | 5.4        | \n",
       "| BunkerHill | JT         | TRUE       | 4.0        | \n",
       "| BunkerHill | JT         | TRUE       | 5.2        | \n",
       "| BunkerHill | JT         | TRUE       | 4.4        | \n",
       "| BunkerHill | JT         | TRUE       | 5.7        | \n",
       "| BunkerHill | JT         | TRUE       | 4.8        | \n",
       "| BunkerHill | RA         | TRUE       | 3.6        | \n",
       "| BunkerHill | RA         | TRUE       | 6.0        | \n",
       "| BunkerHill | RA         | TRUE       | 3.1        | \n",
       "| BunkerHill | RA         | TRUE       | 5.0        | \n",
       "| BunkerHill | RA         | TRUE       | 2.9        | \n",
       "| BunkerHill | JT         | TRUE       | 1.2        | \n",
       "| BunkerHill | JT         | TRUE       | 2.1        | \n",
       "| BunkerHill | JT         | TRUE       | 3.8        | \n",
       "| BunkerHill | JT         | TRUE       | 2.4        | \n",
       "| BunkerHill | RA         | TRUE       | 1.1        | \n",
       "| BunkerHill | RA         | TRUE       | 1.0        | \n",
       "| BunkerHill | RA         | TRUE       | 2.3        | \n",
       "| BunkerHill | RA         | TRUE       | 1.5        | \n",
       "| BunkerHill | JT         | TRUE       | 1.2        | \n",
       "| BunkerHill | JT         | TRUE       | 3.4        | \n",
       "| BunkerHill | JT         | TRUE       | 3.4        | \n",
       "| BunkerHill | RA         | TRUE       | 3.3        | \n",
       "| BunkerHill | RA         | TRUE       | 7.0        | \n",
       "| BunkerHill | RA         | TRUE       | 2.0        | \n",
       "| BunkerHill | JT         | TRUE       | 4.6        | \n",
       "| ... | ... | ... | ... | \n",
       "| McAdamCreek | RA          | TRUE        | 1.6         | \n",
       "| McAdamCreek | RA          | TRUE        | 1.7         | \n",
       "| McAdamCreek | RA          | TRUE        | 0.9         | \n",
       "| McAdamCreek | RA          | TRUE        | 0.6         | \n",
       "| McAdamCreek | RR          | TRUE        | 1.5         | \n",
       "| McAdamCreek | RR          | TRUE        | 0.8         | \n",
       "| McAdamCreek | RR          | TRUE        | 1.4         | \n",
       "| McAdamCreek | RR          | TRUE        | 2.1         | \n",
       "| McAdamCreek | RR          | TRUE        | 0.8         | \n",
       "| McAdamCreek | RR          | TRUE        | 3.6         | \n",
       "| McAdamCreek | RR          | TRUE        | 2.9         | \n",
       "| McAdamCreek | RR          | TRUE        | 2.3         | \n",
       "| McAdamCreek | RR          | TRUE        | 1.7         | \n",
       "| McAdamCreek | RR          | TRUE        | 2.8         | \n",
       "| McAdamCreek | RA          | TRUE        | 1.8         | \n",
       "| McAdamCreek | RA          | TRUE        | 1.7         | \n",
       "| McAdamCreek | RA          | TRUE        | 3.4         | \n",
       "| McAdamCreek | RA          | TRUE        | 3.2         | \n",
       "| McAdamCreek | RR          | TRUE        | 1.9         | \n",
       "| McAdamCreek | RR          | TRUE        | 2.7         | \n",
       "| McAdamCreek | RR          | TRUE        | 1.9         | \n",
       "| McAdamCreek | RR          | TRUE        | 1.6         | \n",
       "| McAdamCreek | RA          | TRUE        | 1.6         | \n",
       "| McAdamCreek | RA          | TRUE        | 1.7         | \n",
       "| McAdamCreek | RA          | TRUE        | 1.4         | \n",
       "| McAdamCreek | RR          | TRUE        | 1.0         | \n",
       "| McAdamCreek | RR          | TRUE        | 1.9         | \n",
       "| McAdamCreek | RR          | TRUE        | 1.9         | \n",
       "| McAdamCreek | RA          | TRUE        | 2.8         | \n",
       "| McAdamCreek | RR          | TRUE        | 5.0         | \n",
       "\n",
       "\n"
      ],
      "text/plain": [
       "    Site        Observer PDB  DBHt\n",
       "1   BunkerHill  RA       TRUE 5.2 \n",
       "2   BunkerHill  RA       TRUE 3.1 \n",
       "3   BunkerHill  RA       TRUE 5.5 \n",
       "4   BunkerHill  RA       TRUE 6.2 \n",
       "5   BunkerHill  RA       TRUE 5.4 \n",
       "6   BunkerHill  JT       TRUE 4.0 \n",
       "7   BunkerHill  JT       TRUE 5.2 \n",
       "8   BunkerHill  JT       TRUE 4.4 \n",
       "9   BunkerHill  JT       TRUE 5.7 \n",
       "10  BunkerHill  JT       TRUE 4.8 \n",
       "11  BunkerHill  RA       TRUE 3.6 \n",
       "12  BunkerHill  RA       TRUE 6.0 \n",
       "13  BunkerHill  RA       TRUE 3.1 \n",
       "14  BunkerHill  RA       TRUE 5.0 \n",
       "15  BunkerHill  RA       TRUE 2.9 \n",
       "16  BunkerHill  JT       TRUE 1.2 \n",
       "17  BunkerHill  JT       TRUE 2.1 \n",
       "18  BunkerHill  JT       TRUE 3.8 \n",
       "19  BunkerHill  JT       TRUE 2.4 \n",
       "20  BunkerHill  RA       TRUE 1.1 \n",
       "21  BunkerHill  RA       TRUE 1.0 \n",
       "22  BunkerHill  RA       TRUE 2.3 \n",
       "23  BunkerHill  RA       TRUE 1.5 \n",
       "24  BunkerHill  JT       TRUE 1.2 \n",
       "25  BunkerHill  JT       TRUE 3.4 \n",
       "26  BunkerHill  JT       TRUE 3.4 \n",
       "27  BunkerHill  RA       TRUE 3.3 \n",
       "28  BunkerHill  RA       TRUE 7.0 \n",
       "29  BunkerHill  RA       TRUE 2.0 \n",
       "30  BunkerHill  JT       TRUE 4.6 \n",
       "... ...         ...      ...  ... \n",
       "463 McAdamCreek RA       TRUE 1.6 \n",
       "464 McAdamCreek RA       TRUE 1.7 \n",
       "465 McAdamCreek RA       TRUE 0.9 \n",
       "466 McAdamCreek RA       TRUE 0.6 \n",
       "467 McAdamCreek RR       TRUE 1.5 \n",
       "468 McAdamCreek RR       TRUE 0.8 \n",
       "469 McAdamCreek RR       TRUE 1.4 \n",
       "470 McAdamCreek RR       TRUE 2.1 \n",
       "471 McAdamCreek RR       TRUE 0.8 \n",
       "472 McAdamCreek RR       TRUE 3.6 \n",
       "473 McAdamCreek RR       TRUE 2.9 \n",
       "474 McAdamCreek RR       TRUE 2.3 \n",
       "475 McAdamCreek RR       TRUE 1.7 \n",
       "476 McAdamCreek RR       TRUE 2.8 \n",
       "477 McAdamCreek RA       TRUE 1.8 \n",
       "478 McAdamCreek RA       TRUE 1.7 \n",
       "479 McAdamCreek RA       TRUE 3.4 \n",
       "480 McAdamCreek RA       TRUE 3.2 \n",
       "481 McAdamCreek RR       TRUE 1.9 \n",
       "482 McAdamCreek RR       TRUE 2.7 \n",
       "483 McAdamCreek RR       TRUE 1.9 \n",
       "484 McAdamCreek RR       TRUE 1.6 \n",
       "485 McAdamCreek RA       TRUE 1.6 \n",
       "486 McAdamCreek RA       TRUE 1.7 \n",
       "487 McAdamCreek RA       TRUE 1.4 \n",
       "488 McAdamCreek RR       TRUE 1.0 \n",
       "489 McAdamCreek RR       TRUE 1.9 \n",
       "490 McAdamCreek RR       TRUE 1.9 \n",
       "491 McAdamCreek RA       TRUE 2.8 \n",
       "492 McAdamCreek RR       TRUE 5.0 "
      ]
     },
     "metadata": {},
     "output_type": "display_data"
    }
   ],
   "source": [
    "mutate(avian, PDB = PDB > 0)"
   ]
  },
  {
   "cell_type": "markdown",
   "metadata": {},
   "source": [
    "Чувствуете, как от простейших функций на дата фреймах вроде str и summary мы добрались до практически безграничных возможностей? Раньше мы могли только в полуручном режиме оценить, что происходит в avianHabitat. Теперь же мы в несколько простых строчек кода можем упаковать манипуляции с переменными на лету, сложные условия фильтрации и подсчёты с агрегацией по группам. \n",
    "\n",
    "Это последняя демонстрация ваших джедайских возможностей с дата фреймами!\n",
    "\n",
    "Возьмите исходный avianHabitat. Примените к нему процедуру объединения по географической локации (Site). Мы будем работать со всеми имеющимися видами одновременно. Интересующая нас характеристика -- высота растений (*Ht). \n",
    "\n",
    "Теперь произведите следующий подсчёт по всем комбинациям места (Site) и наблюдателя (Observer). Интересующая нас статистика -- количество тех замеров, где обнаруживается хотя бы один экземпляр вида. Соберите эту статистику по всем видам. У вас получится таблица, в которой тройке вида (место M, наблюдатель N, вид P) соответствует число замеров в M, произведенных N, где обнаружен хотя бы один P.\n",
    "\n",
    "Не будем сверять всю таблицу: в ответе укажите только диапазон нашей ключевой статистики для пяти записей в этой таблице. Удачи!\n",
    "\n",
    "Подсказки: \n",
    "\n",
    "+ логично предположить, что \"хотя бы один экземпляр найден\" означает \"максимальная высота вида строго больше нуля\";\n",
    "+ если вы выбрали dplyr, то может пригодиться summarise_each;\n",
    "+ ещё раз о расшифровке записей в таблице: например, тройке (McAdamCreek, RR, L) соответствует число K. Это значит, что мы рассматриваем только замеры вида L, произведённые исследователем RR в месте McAdamCreek. Если в текущем замере высота L больше нуля, то там есть хотя бы один экземпляр, этот замер идёт в зачёт (+1). Всего таких замеров K. \n",
    "+ ссылка на данные(\"https://raw.githubusercontent.com/tonytonov/Rcourse/master/R%20programming/avianHabitat.csv\")."
   ]
  },
  {
   "cell_type": "markdown",
   "metadata": {},
   "source": [
    "McAdamCreek, RA, L\t\n",
    "\n",
    "\n",
    "BunkerHill, JT, DB\t\n",
    "\n",
    "\n",
    "HortonCreek, RA, E\t\n",
    "\n",
    "\n",
    "LivingstonCreek, RR, W\t\n",
    "\n",
    "\n",
    "CreteCreek, RR, H"
   ]
  },
  {
   "cell_type": "code",
   "execution_count": 36,
   "metadata": {},
   "outputs": [
    {
     "data": {
      "text/html": [
       "85"
      ],
      "text/latex": [
       "85"
      ],
      "text/markdown": [
       "85"
      ],
      "text/plain": [
       "[1] 85"
      ]
     },
     "metadata": {},
     "output_type": "display_data"
    },
    {
     "data": {
      "text/html": [
       "53"
      ],
      "text/latex": [
       "53"
      ],
      "text/markdown": [
       "53"
      ],
      "text/plain": [
       "[1] 53"
      ]
     },
     "metadata": {},
     "output_type": "display_data"
    },
    {
     "data": {
      "text/html": [
       "116"
      ],
      "text/latex": [
       "116"
      ],
      "text/markdown": [
       "116"
      ],
      "text/plain": [
       "[1] 116"
      ]
     },
     "metadata": {},
     "output_type": "display_data"
    },
    {
     "data": {
      "text/html": [
       "115"
      ],
      "text/latex": [
       "115"
      ],
      "text/markdown": [
       "115"
      ],
      "text/plain": [
       "[1] 115"
      ]
     },
     "metadata": {},
     "output_type": "display_data"
    },
    {
     "data": {
      "text/html": [
       "80"
      ],
      "text/latex": [
       "80"
      ],
      "text/markdown": [
       "80"
      ],
      "text/plain": [
       "[1] 80"
      ]
     },
     "metadata": {},
     "output_type": "display_data"
    }
   ],
   "source": [
    "library(dplyr)\n",
    "url = \"https://raw.githubusercontent.com/tonytonov/Rcourse/master/R%20programming/avianHabitat.csv\"\n",
    "df = read.csv(url)\n",
    "df <- select(df,c(1,2,6,8,10,12,14,16))\n",
    "df <- mutate(d, Site = gsub(\"[[:digit:]]\", \"\", Site))\n",
    "\n",
    "nrow(filter(df, Site == 'McAdamCreek', Observer == 'RA', LHt > 0))\n",
    "nrow(filter(df, Site == 'BunkerHill', Observer == 'JT', DBHt > 0))\n",
    "nrow(filter(df, Site == 'HortonCreek', Observer == 'RA', EHt > 0))\n",
    "nrow(filter(df, Site == 'LivingstonCreek', Observer == 'RR', WHt > 0))\n",
    "nrow(filter(df, Site == 'CreteCreek', Observer == 'RR', HHt > 0))"
   ]
  },
  {
   "cell_type": "code",
   "execution_count": 2,
   "metadata": {},
   "outputs": [],
   "source": [
    "?mtcars"
   ]
  },
  {
   "cell_type": "code",
   "execution_count": 3,
   "metadata": {},
   "outputs": [
    {
     "data": {
      "image/png": "[encoded data removed]",
      "text/plain": [
       "plot without title"
      ]
     },
     "metadata": {},
     "output_type": "display_data"
    }
   ],
   "source": [
    "coplot(mpg ~ disp | as.factor(cyl), data = mtcars,\n",
    "       panel = panel.smooth, rows = 1)"
   ]
  },
  {
   "cell_type": "markdown",
   "metadata": {},
   "source": [
    "Общий глоссарий для этого урока:\n",
    "\n",
    "Tidy data\n",
    "\n",
    "library(tidyr): ?gather, ?separate\n",
    "\n",
    "library(dplyr):\n",
    "\n",
    "?select\n",
    "\n",
    "?filter\n",
    "\n",
    "?arrange\n",
    "\n",
    "?mutate\n",
    "\n",
    "?group_by, ?summarise\n",
    "\n",
    "?\"%>%\", piping operator"
   ]
  }
 ],
 "metadata": {
  "kernelspec": {
   "display_name": "R",
   "language": "R",
   "name": "ir"
  },
  "language_info": {
   "codemirror_mode": "r",
   "file_extension": ".r",
   "mimetype": "text/x-r-source",
   "name": "R",
   "pygments_lexer": "r",
   "version": "3.5.1"
  }
 },
 "nbformat": 4,
 "nbformat_minor": 2
}
