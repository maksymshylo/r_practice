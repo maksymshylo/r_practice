{
 "cells": [
  {
   "cell_type": "markdown",
   "metadata": {},
   "source": [
    "# Матрица\n",
    "\n",
    "Матрица - двумерній массив данніх одного типа\n",
    "\n",
    "По сути, это вектор, уложенный по столбцам(!)\n",
    "\n",
    "Для создании матрицы нужно можно использовать функцию `matrix`"
   ]
  },
  {
   "cell_type": "code",
   "execution_count": 1,
   "metadata": {},
   "outputs": [
    {
     "data": {
      "text/html": [
       "<table>\n",
       "<tbody>\n",
       "\t<tr><td>1</td><td>3</td><td>5</td></tr>\n",
       "\t<tr><td>2</td><td>4</td><td>6</td></tr>\n",
       "</tbody>\n",
       "</table>\n"
      ],
      "text/latex": [
       "\\begin{tabular}{lll}\n",
       "\t 1 & 3 & 5\\\\\n",
       "\t 2 & 4 & 6\\\\\n",
       "\\end{tabular}\n"
      ],
      "text/markdown": [
       "\n",
       "| 1 | 3 | 5 | \n",
       "| 2 | 4 | 6 | \n",
       "\n",
       "\n"
      ],
      "text/plain": [
       "     [,1] [,2] [,3]\n",
       "[1,] 1    3    5   \n",
       "[2,] 2    4    6   "
      ]
     },
     "metadata": {},
     "output_type": "display_data"
    }
   ],
   "source": [
    "matrix(1:6, nrow = 2, ncol = 3)"
   ]
  },
  {
   "cell_type": "markdown",
   "metadata": {},
   "source": [
    "## Создание матриц\n",
    "\n",
    "Избавимся от ненужной избыточности:\n"
   ]
  },
  {
   "cell_type": "code",
   "execution_count": 3,
   "metadata": {},
   "outputs": [
    {
     "data": {
      "text/html": [
       "<table>\n",
       "<tbody>\n",
       "\t<tr><td>1</td><td>3</td><td>5</td></tr>\n",
       "\t<tr><td>2</td><td>4</td><td>6</td></tr>\n",
       "</tbody>\n",
       "</table>\n"
      ],
      "text/latex": [
       "\\begin{tabular}{lll}\n",
       "\t 1 & 3 & 5\\\\\n",
       "\t 2 & 4 & 6\\\\\n",
       "\\end{tabular}\n"
      ],
      "text/markdown": [
       "\n",
       "| 1 | 3 | 5 | \n",
       "| 2 | 4 | 6 | \n",
       "\n",
       "\n"
      ],
      "text/plain": [
       "     [,1] [,2] [,3]\n",
       "[1,] 1    3    5   \n",
       "[2,] 2    4    6   "
      ]
     },
     "metadata": {},
     "output_type": "display_data"
    }
   ],
   "source": [
    "matrix(1:6,nrow = 2)"
   ]
  },
  {
   "cell_type": "code",
   "execution_count": 12,
   "metadata": {},
   "outputs": [
    {
     "data": {
      "text/html": [
       "<table>\n",
       "<tbody>\n",
       "\t<tr><td>1</td><td>2</td></tr>\n",
       "\t<tr><td>3</td><td>4</td></tr>\n",
       "\t<tr><td>5</td><td>6</td></tr>\n",
       "</tbody>\n",
       "</table>\n"
      ],
      "text/latex": [
       "\\begin{tabular}{ll}\n",
       "\t 1 & 2\\\\\n",
       "\t 3 & 4\\\\\n",
       "\t 5 & 6\\\\\n",
       "\\end{tabular}\n"
      ],
      "text/markdown": [
       "\n",
       "| 1 | 2 | \n",
       "| 3 | 4 | \n",
       "| 5 | 6 | \n",
       "\n",
       "\n"
      ],
      "text/plain": [
       "     [,1] [,2]\n",
       "[1,] 1    2   \n",
       "[2,] 3    4   \n",
       "[3,] 5    6   "
      ]
     },
     "metadata": {},
     "output_type": "display_data"
    }
   ],
   "source": [
    "matrix(1:6, nrow = 3, byrow = TRUE)"
   ]
  },
  {
   "cell_type": "code",
   "execution_count": 13,
   "metadata": {},
   "outputs": [
    {
     "data": {
      "text/html": [
       "<table>\n",
       "<tbody>\n",
       "\t<tr><td>1</td><td>4</td></tr>\n",
       "\t<tr><td>2</td><td>5</td></tr>\n",
       "\t<tr><td>3</td><td>6</td></tr>\n",
       "</tbody>\n",
       "</table>\n"
      ],
      "text/latex": [
       "\\begin{tabular}{ll}\n",
       "\t 1 & 4\\\\\n",
       "\t 2 & 5\\\\\n",
       "\t 3 & 6\\\\\n",
       "\\end{tabular}\n"
      ],
      "text/markdown": [
       "\n",
       "| 1 | 4 | \n",
       "| 2 | 5 | \n",
       "| 3 | 6 | \n",
       "\n",
       "\n"
      ],
      "text/plain": [
       "     [,1] [,2]\n",
       "[1,] 1    4   \n",
       "[2,] 2    5   \n",
       "[3,] 3    6   "
      ]
     },
     "metadata": {},
     "output_type": "display_data"
    }
   ],
   "source": [
    "matrix(1:6, nrow = 3, byrow = FALSE)"
   ]
  },
  {
   "cell_type": "code",
   "execution_count": 16,
   "metadata": {},
   "outputs": [
    {
     "data": {
      "text/html": [
       "<table>\n",
       "<tbody>\n",
       "\t<tr><td>7</td><td>7</td><td>7</td><td>7</td><td>7</td></tr>\n",
       "\t<tr><td>8</td><td>8</td><td>8</td><td>8</td><td>8</td></tr>\n",
       "</tbody>\n",
       "</table>\n"
      ],
      "text/latex": [
       "\\begin{tabular}{lllll}\n",
       "\t 7 & 7 & 7 & 7 & 7\\\\\n",
       "\t 8 & 8 & 8 & 8 & 8\\\\\n",
       "\\end{tabular}\n"
      ],
      "text/markdown": [
       "\n",
       "| 7 | 7 | 7 | 7 | 7 | \n",
       "| 8 | 8 | 8 | 8 | 8 | \n",
       "\n",
       "\n"
      ],
      "text/plain": [
       "     [,1] [,2] [,3] [,4] [,5]\n",
       "[1,] 7    7    7    7    7   \n",
       "[2,] 8    8    8    8    8   "
      ]
     },
     "metadata": {},
     "output_type": "display_data"
    }
   ],
   "source": [
    "matrix(7:8, nrow = 2, ncol = 5 )"
   ]
  },
  {
   "cell_type": "markdown",
   "metadata": {},
   "source": [
    "## Атрибут dim"
   ]
  },
  {
   "cell_type": "code",
   "execution_count": 17,
   "metadata": {},
   "outputs": [
    {
     "data": {
      "text/html": [
       "<ol class=list-inline>\n",
       "\t<li>2</li>\n",
       "\t<li>3</li>\n",
       "</ol>\n"
      ],
      "text/latex": [
       "\\begin{enumerate*}\n",
       "\\item 2\n",
       "\\item 3\n",
       "\\end{enumerate*}\n"
      ],
      "text/markdown": [
       "1. 2\n",
       "2. 3\n",
       "\n",
       "\n"
      ],
      "text/plain": [
       "[1] 2 3"
      ]
     },
     "metadata": {},
     "output_type": "display_data"
    }
   ],
   "source": [
    "m <- matrix(1:6, ncol = 3)\n",
    "dim(m)          # размерность"
   ]
  },
  {
   "cell_type": "code",
   "execution_count": 18,
   "metadata": {},
   "outputs": [
    {
     "data": {
      "text/html": [
       "<ol class=list-inline>\n",
       "\t<li>2</li>\n",
       "\t<li>3</li>\n",
       "</ol>\n"
      ],
      "text/latex": [
       "\\begin{enumerate*}\n",
       "\\item 2\n",
       "\\item 3\n",
       "\\end{enumerate*}\n"
      ],
      "text/markdown": [
       "1. 2\n",
       "2. 3\n",
       "\n",
       "\n"
      ],
      "text/plain": [
       "[1] 2 3"
      ]
     },
     "metadata": {},
     "output_type": "display_data"
    }
   ],
   "source": [
    "c(nrow(m), ncol(m))"
   ]
  },
  {
   "cell_type": "code",
   "execution_count": 20,
   "metadata": {},
   "outputs": [
    {
     "data": {
      "text/html": [
       "<ol class=list-inline>\n",
       "\t<li>1</li>\n",
       "\t<li>2</li>\n",
       "\t<li>3</li>\n",
       "\t<li>4</li>\n",
       "\t<li>5</li>\n",
       "\t<li>6</li>\n",
       "</ol>\n"
      ],
      "text/latex": [
       "\\begin{enumerate*}\n",
       "\\item 1\n",
       "\\item 2\n",
       "\\item 3\n",
       "\\item 4\n",
       "\\item 5\n",
       "\\item 6\n",
       "\\end{enumerate*}\n"
      ],
      "text/markdown": [
       "1. 1\n",
       "2. 2\n",
       "3. 3\n",
       "4. 4\n",
       "5. 5\n",
       "6. 6\n",
       "\n",
       "\n"
      ],
      "text/plain": [
       "[1] 1 2 3 4 5 6"
      ]
     },
     "metadata": {},
     "output_type": "display_data"
    }
   ],
   "source": [
    "dim(m) <- NULL; m"
   ]
  },
  {
   "cell_type": "code",
   "execution_count": 21,
   "metadata": {},
   "outputs": [
    {
     "data": {
      "text/html": [
       "<table>\n",
       "<tbody>\n",
       "\t<tr><td>1</td><td>3</td><td>5</td></tr>\n",
       "\t<tr><td>2</td><td>4</td><td>6</td></tr>\n",
       "</tbody>\n",
       "</table>\n"
      ],
      "text/latex": [
       "\\begin{tabular}{lll}\n",
       "\t 1 & 3 & 5\\\\\n",
       "\t 2 & 4 & 6\\\\\n",
       "\\end{tabular}\n"
      ],
      "text/markdown": [
       "\n",
       "| 1 | 3 | 5 | \n",
       "| 2 | 4 | 6 | \n",
       "\n",
       "\n"
      ],
      "text/plain": [
       "     [,1] [,2] [,3]\n",
       "[1,] 1    3    5   \n",
       "[2,] 2    4    6   "
      ]
     },
     "metadata": {},
     "output_type": "display_data"
    }
   ],
   "source": [
    "dim(m) <- c(2,3); m"
   ]
  },
  {
   "cell_type": "markdown",
   "metadata": {},
   "source": [
    "## Арифметические операторы \n",
    "\n",
    "Действуют поэлементно, с учетом правил переписывания:"
   ]
  },
  {
   "cell_type": "code",
   "execution_count": 28,
   "metadata": {},
   "outputs": [],
   "source": [
    "m1 <- matrix(1:4, nrow = 2)\n",
    "m2 <- matrix(c(1,2,3,4), nrow = 2)"
   ]
  },
  {
   "cell_type": "code",
   "execution_count": 29,
   "metadata": {},
   "outputs": [
    {
     "data": {
      "text/html": [
       "<table>\n",
       "<tbody>\n",
       "\t<tr><td>1</td><td>3</td></tr>\n",
       "\t<tr><td>2</td><td>4</td></tr>\n",
       "</tbody>\n",
       "</table>\n"
      ],
      "text/latex": [
       "\\begin{tabular}{ll}\n",
       "\t 1 & 3\\\\\n",
       "\t 2 & 4\\\\\n",
       "\\end{tabular}\n"
      ],
      "text/markdown": [
       "\n",
       "| 1 | 3 | \n",
       "| 2 | 4 | \n",
       "\n",
       "\n"
      ],
      "text/plain": [
       "     [,1] [,2]\n",
       "[1,] 1    3   \n",
       "[2,] 2    4   "
      ]
     },
     "metadata": {},
     "output_type": "display_data"
    }
   ],
   "source": [
    "m1"
   ]
  },
  {
   "cell_type": "code",
   "execution_count": 30,
   "metadata": {},
   "outputs": [
    {
     "data": {
      "text/html": [
       "<table>\n",
       "<tbody>\n",
       "\t<tr><td>1</td><td>3</td></tr>\n",
       "\t<tr><td>2</td><td>4</td></tr>\n",
       "</tbody>\n",
       "</table>\n"
      ],
      "text/latex": [
       "\\begin{tabular}{ll}\n",
       "\t 1 & 3\\\\\n",
       "\t 2 & 4\\\\\n",
       "\\end{tabular}\n"
      ],
      "text/markdown": [
       "\n",
       "| 1 | 3 | \n",
       "| 2 | 4 | \n",
       "\n",
       "\n"
      ],
      "text/plain": [
       "     [,1] [,2]\n",
       "[1,] 1    3   \n",
       "[2,] 2    4   "
      ]
     },
     "metadata": {},
     "output_type": "display_data"
    }
   ],
   "source": [
    "m2"
   ]
  },
  {
   "cell_type": "code",
   "execution_count": 31,
   "metadata": {},
   "outputs": [
    {
     "data": {
      "text/html": [
       "<table>\n",
       "<tbody>\n",
       "\t<tr><td>2</td><td>6</td></tr>\n",
       "\t<tr><td>4</td><td>8</td></tr>\n",
       "</tbody>\n",
       "</table>\n"
      ],
      "text/latex": [
       "\\begin{tabular}{ll}\n",
       "\t 2 & 6\\\\\n",
       "\t 4 & 8\\\\\n",
       "\\end{tabular}\n"
      ],
      "text/markdown": [
       "\n",
       "| 2 | 6 | \n",
       "| 4 | 8 | \n",
       "\n",
       "\n"
      ],
      "text/plain": [
       "     [,1] [,2]\n",
       "[1,] 2    6   \n",
       "[2,] 4    8   "
      ]
     },
     "metadata": {},
     "output_type": "display_data"
    }
   ],
   "source": [
    "m1 + m2"
   ]
  },
  {
   "cell_type": "code",
   "execution_count": 34,
   "metadata": {},
   "outputs": [
    {
     "data": {
      "text/html": [
       "<table>\n",
       "<tbody>\n",
       "\t<tr><td>6</td><td>8</td></tr>\n",
       "\t<tr><td>7</td><td>9</td></tr>\n",
       "</tbody>\n",
       "</table>\n"
      ],
      "text/latex": [
       "\\begin{tabular}{ll}\n",
       "\t 6 & 8\\\\\n",
       "\t 7 & 9\\\\\n",
       "\\end{tabular}\n"
      ],
      "text/markdown": [
       "\n",
       "| 6 | 8 | \n",
       "| 7 | 9 | \n",
       "\n",
       "\n"
      ],
      "text/plain": [
       "     [,1] [,2]\n",
       "[1,] 6    8   \n",
       "[2,] 7    9   "
      ]
     },
     "metadata": {},
     "output_type": "display_data"
    }
   ],
   "source": [
    "m1 + 5"
   ]
  },
  {
   "cell_type": "code",
   "execution_count": 35,
   "metadata": {},
   "outputs": [
    {
     "data": {
      "text/html": [
       "<table>\n",
       "<tbody>\n",
       "\t<tr><td>1 </td><td> 9</td></tr>\n",
       "\t<tr><td>4 </td><td>16</td></tr>\n",
       "</tbody>\n",
       "</table>\n"
      ],
      "text/latex": [
       "\\begin{tabular}{ll}\n",
       "\t 1  &  9\\\\\n",
       "\t 4  & 16\\\\\n",
       "\\end{tabular}\n"
      ],
      "text/markdown": [
       "\n",
       "| 1  |  9 | \n",
       "| 4  | 16 | \n",
       "\n",
       "\n"
      ],
      "text/plain": [
       "     [,1] [,2]\n",
       "[1,] 1     9  \n",
       "[2,] 4    16  "
      ]
     },
     "metadata": {},
     "output_type": "display_data"
    }
   ],
   "source": [
    "m1*m2 #поэлементное умножение"
   ]
  },
  {
   "cell_type": "code",
   "execution_count": 37,
   "metadata": {},
   "outputs": [
    {
     "data": {
      "text/html": [
       "<table>\n",
       "<tbody>\n",
       "\t<tr><td> 7</td><td>15</td></tr>\n",
       "\t<tr><td>10</td><td>22</td></tr>\n",
       "</tbody>\n",
       "</table>\n"
      ],
      "text/latex": [
       "\\begin{tabular}{ll}\n",
       "\t  7 & 15\\\\\n",
       "\t 10 & 22\\\\\n",
       "\\end{tabular}\n"
      ],
      "text/markdown": [
       "\n",
       "|  7 | 15 | \n",
       "| 10 | 22 | \n",
       "\n",
       "\n"
      ],
      "text/plain": [
       "     [,1] [,2]\n",
       "[1,]  7   15  \n",
       "[2,] 10   22  "
      ]
     },
     "metadata": {},
     "output_type": "display_data"
    }
   ],
   "source": [
    "m1 %*% m2  #умножение в смысле линейной алгебры"
   ]
  },
  {
   "cell_type": "markdown",
   "metadata": {},
   "source": [
    "## Индексирование матриц\n",
    "\n",
    "Те же правила что и для векторов, но с учетом двух размерностей:"
   ]
  },
  {
   "cell_type": "code",
   "execution_count": 44,
   "metadata": {},
   "outputs": [
    {
     "data": {
      "text/html": [
       "<table>\n",
       "<tbody>\n",
       "\t<tr><td>1 </td><td>3 </td><td>5 </td><td>7 </td><td> 9</td></tr>\n",
       "\t<tr><td>2 </td><td>4 </td><td>6 </td><td>8 </td><td>10</td></tr>\n",
       "</tbody>\n",
       "</table>\n"
      ],
      "text/latex": [
       "\\begin{tabular}{lllll}\n",
       "\t 1  & 3  & 5  & 7  &  9\\\\\n",
       "\t 2  & 4  & 6  & 8  & 10\\\\\n",
       "\\end{tabular}\n"
      ],
      "text/markdown": [
       "\n",
       "| 1  | 3  | 5  | 7  |  9 | \n",
       "| 2  | 4  | 6  | 8  | 10 | \n",
       "\n",
       "\n"
      ],
      "text/plain": [
       "     [,1] [,2] [,3] [,4] [,5]\n",
       "[1,] 1    3    5    7     9  \n",
       "[2,] 2    4    6    8    10  "
      ]
     },
     "metadata": {},
     "output_type": "display_data"
    }
   ],
   "source": [
    "m <- matrix(1:10, ncol = 5)\n",
    "m"
   ]
  },
  {
   "cell_type": "code",
   "execution_count": 45,
   "metadata": {},
   "outputs": [
    {
     "data": {
      "text/html": [
       "5"
      ],
      "text/latex": [
       "5"
      ],
      "text/markdown": [
       "5"
      ],
      "text/plain": [
       "[1] 5"
      ]
     },
     "metadata": {},
     "output_type": "display_data"
    }
   ],
   "source": [
    "m[1,3]"
   ]
  },
  {
   "cell_type": "code",
   "execution_count": 46,
   "metadata": {},
   "outputs": [
    {
     "data": {
      "text/html": [
       "<ol class=list-inline>\n",
       "\t<li>2</li>\n",
       "\t<li>4</li>\n",
       "\t<li>6</li>\n",
       "\t<li>8</li>\n",
       "\t<li>10</li>\n",
       "</ol>\n"
      ],
      "text/latex": [
       "\\begin{enumerate*}\n",
       "\\item 2\n",
       "\\item 4\n",
       "\\item 6\n",
       "\\item 8\n",
       "\\item 10\n",
       "\\end{enumerate*}\n"
      ],
      "text/markdown": [
       "1. 2\n",
       "2. 4\n",
       "3. 6\n",
       "4. 8\n",
       "5. 10\n",
       "\n",
       "\n"
      ],
      "text/plain": [
       "[1]  2  4  6  8 10"
      ]
     },
     "metadata": {},
     "output_type": "display_data"
    }
   ],
   "source": [
    "m[2,]"
   ]
  },
  {
   "cell_type": "code",
   "execution_count": 47,
   "metadata": {},
   "outputs": [
    {
     "data": {
      "text/html": [
       "<ol class=list-inline>\n",
       "\t<li>3</li>\n",
       "\t<li>4</li>\n",
       "</ol>\n"
      ],
      "text/latex": [
       "\\begin{enumerate*}\n",
       "\\item 3\n",
       "\\item 4\n",
       "\\end{enumerate*}\n"
      ],
      "text/markdown": [
       "1. 3\n",
       "2. 4\n",
       "\n",
       "\n"
      ],
      "text/plain": [
       "[1] 3 4"
      ]
     },
     "metadata": {},
     "output_type": "display_data"
    }
   ],
   "source": [
    "m[,2]"
   ]
  },
  {
   "cell_type": "code",
   "execution_count": 49,
   "metadata": {},
   "outputs": [
    {
     "data": {
      "text/html": [
       "<table>\n",
       "<tbody>\n",
       "\t<tr><td>0 </td><td>0 </td><td>0 </td><td>0 </td><td> 0</td></tr>\n",
       "\t<tr><td>2 </td><td>4 </td><td>6 </td><td>8 </td><td>10</td></tr>\n",
       "</tbody>\n",
       "</table>\n"
      ],
      "text/latex": [
       "\\begin{tabular}{lllll}\n",
       "\t 0  & 0  & 0  & 0  &  0\\\\\n",
       "\t 2  & 4  & 6  & 8  & 10\\\\\n",
       "\\end{tabular}\n"
      ],
      "text/markdown": [
       "\n",
       "| 0  | 0  | 0  | 0  |  0 | \n",
       "| 2  | 4  | 6  | 8  | 10 | \n",
       "\n",
       "\n"
      ],
      "text/plain": [
       "     [,1] [,2] [,3] [,4] [,5]\n",
       "[1,] 0    0    0    0     0  \n",
       "[2,] 2    4    6    8    10  "
      ]
     },
     "metadata": {},
     "output_type": "display_data"
    }
   ],
   "source": [
    "m[1,] <- 0\n",
    "m"
   ]
  },
  {
   "cell_type": "code",
   "execution_count": 54,
   "metadata": {},
   "outputs": [
    {
     "data": {
      "text/html": [
       "<table>\n",
       "<tbody>\n",
       "\t<tr><td>11</td><td>13</td><td>15</td><td>17</td><td> 0</td></tr>\n",
       "\t<tr><td>12</td><td>14</td><td>16</td><td>18</td><td>10</td></tr>\n",
       "</tbody>\n",
       "</table>\n"
      ],
      "text/latex": [
       "\\begin{tabular}{lllll}\n",
       "\t 11 & 13 & 15 & 17 &  0\\\\\n",
       "\t 12 & 14 & 16 & 18 & 10\\\\\n",
       "\\end{tabular}\n"
      ],
      "text/markdown": [
       "\n",
       "| 11 | 13 | 15 | 17 |  0 | \n",
       "| 12 | 14 | 16 | 18 | 10 | \n",
       "\n",
       "\n"
      ],
      "text/plain": [
       "     [,1] [,2] [,3] [,4] [,5]\n",
       "[1,] 11   13   15   17    0  \n",
       "[2,] 12   14   16   18   10  "
      ]
     },
     "metadata": {},
     "output_type": "display_data"
    }
   ],
   "source": [
    "m[, -5] <-11:18\n",
    "m"
   ]
  },
  {
   "cell_type": "markdown",
   "metadata": {},
   "source": [
    "## Схлопывание размерности"
   ]
  },
  {
   "cell_type": "code",
   "execution_count": 57,
   "metadata": {},
   "outputs": [
    {
     "data": {
      "text/html": [
       "<table>\n",
       "<tbody>\n",
       "\t<tr><td>1 </td><td>3 </td><td>5 </td><td>7 </td><td> 9</td></tr>\n",
       "\t<tr><td>2 </td><td>4 </td><td>6 </td><td>8 </td><td>10</td></tr>\n",
       "</tbody>\n",
       "</table>\n"
      ],
      "text/latex": [
       "\\begin{tabular}{lllll}\n",
       "\t 1  & 3  & 5  & 7  &  9\\\\\n",
       "\t 2  & 4  & 6  & 8  & 10\\\\\n",
       "\\end{tabular}\n"
      ],
      "text/markdown": [
       "\n",
       "| 1  | 3  | 5  | 7  |  9 | \n",
       "| 2  | 4  | 6  | 8  | 10 | \n",
       "\n",
       "\n"
      ],
      "text/plain": [
       "     [,1] [,2] [,3] [,4] [,5]\n",
       "[1,] 1    3    5    7     9  \n",
       "[2,] 2    4    6    8    10  "
      ]
     },
     "metadata": {},
     "output_type": "display_data"
    }
   ],
   "source": [
    "m <- matrix(1:10, ncol =5)\n",
    "m"
   ]
  },
  {
   "cell_type": "code",
   "execution_count": 58,
   "metadata": {},
   "outputs": [],
   "source": [
    "ind <- c(1,3,5)"
   ]
  },
  {
   "cell_type": "code",
   "execution_count": 59,
   "metadata": {},
   "outputs": [
    {
     "data": {
      "text/html": [
       "<table>\n",
       "<tbody>\n",
       "\t<tr><td>1 </td><td>5 </td><td> 9</td></tr>\n",
       "\t<tr><td>2 </td><td>6 </td><td>10</td></tr>\n",
       "</tbody>\n",
       "</table>\n"
      ],
      "text/latex": [
       "\\begin{tabular}{lll}\n",
       "\t 1  & 5  &  9\\\\\n",
       "\t 2  & 6  & 10\\\\\n",
       "\\end{tabular}\n"
      ],
      "text/markdown": [
       "\n",
       "| 1  | 5  |  9 | \n",
       "| 2  | 6  | 10 | \n",
       "\n",
       "\n"
      ],
      "text/plain": [
       "     [,1] [,2] [,3]\n",
       "[1,] 1    5     9  \n",
       "[2,] 2    6    10  "
      ]
     },
     "metadata": {},
     "output_type": "display_data"
    }
   ],
   "source": [
    "m[, ind]"
   ]
  },
  {
   "cell_type": "code",
   "execution_count": 61,
   "metadata": {},
   "outputs": [
    {
     "data": {
      "text/html": [
       "<ol class=list-inline>\n",
       "\t<li>5</li>\n",
       "\t<li>6</li>\n",
       "</ol>\n"
      ],
      "text/latex": [
       "\\begin{enumerate*}\n",
       "\\item 5\n",
       "\\item 6\n",
       "\\end{enumerate*}\n"
      ],
      "text/markdown": [
       "1. 5\n",
       "2. 6\n",
       "\n",
       "\n"
      ],
      "text/plain": [
       "[1] 5 6"
      ]
     },
     "metadata": {},
     "output_type": "display_data"
    }
   ],
   "source": [
    "ind <- 3\n",
    "m[,ind]    #вектор"
   ]
  },
  {
   "cell_type": "code",
   "execution_count": 63,
   "metadata": {},
   "outputs": [
    {
     "data": {
      "text/html": [
       "<table>\n",
       "<tbody>\n",
       "\t<tr><td>5</td></tr>\n",
       "\t<tr><td>6</td></tr>\n",
       "</tbody>\n",
       "</table>\n"
      ],
      "text/latex": [
       "\\begin{tabular}{l}\n",
       "\t 5\\\\\n",
       "\t 6\\\\\n",
       "\\end{tabular}\n"
      ],
      "text/markdown": [
       "\n",
       "| 5 | \n",
       "| 6 | \n",
       "\n",
       "\n"
      ],
      "text/plain": [
       "     [,1]\n",
       "[1,] 5   \n",
       "[2,] 6   "
      ]
     },
     "metadata": {},
     "output_type": "display_data"
    }
   ],
   "source": [
    "m[,ind, drop = FALSE]  # именно подматрица, то есть столбец"
   ]
  },
  {
   "cell_type": "markdown",
   "metadata": {},
   "source": [
    "У `TRUE` и `FALSE` есть обуквенные сокращения (`T`и `F`): `drop = F`"
   ]
  },
  {
   "cell_type": "markdown",
   "metadata": {},
   "source": [
    "## Именованые матрицы : `rownames` / `colnames`"
   ]
  },
  {
   "cell_type": "code",
   "execution_count": 69,
   "metadata": {},
   "outputs": [
    {
     "data": {
      "text/html": [
       "<table>\n",
       "<tbody>\n",
       "\t<tr><td>1 </td><td>3 </td><td>5 </td><td>7 </td><td> 9</td></tr>\n",
       "\t<tr><td>2 </td><td>4 </td><td>6 </td><td>8 </td><td>10</td></tr>\n",
       "</tbody>\n",
       "</table>\n"
      ],
      "text/latex": [
       "\\begin{tabular}{lllll}\n",
       "\t 1  & 3  & 5  & 7  &  9\\\\\n",
       "\t 2  & 4  & 6  & 8  & 10\\\\\n",
       "\\end{tabular}\n"
      ],
      "text/markdown": [
       "\n",
       "| 1  | 3  | 5  | 7  |  9 | \n",
       "| 2  | 4  | 6  | 8  | 10 | \n",
       "\n",
       "\n"
      ],
      "text/plain": [
       "     [,1] [,2] [,3] [,4] [,5]\n",
       "[1,] 1    3    5    7     9  \n",
       "[2,] 2    4    6    8    10  "
      ]
     },
     "metadata": {},
     "output_type": "display_data"
    }
   ],
   "source": [
    "m <- matrix(1:10, ncol = 5)\n",
    "m"
   ]
  },
  {
   "cell_type": "code",
   "execution_count": 70,
   "metadata": {},
   "outputs": [],
   "source": [
    "rownames(m) <- c(\"row1\",\"row2\")\n",
    "colnames(m) <- paste0(\"column\", 1:5)"
   ]
  },
  {
   "cell_type": "code",
   "execution_count": 71,
   "metadata": {},
   "outputs": [
    {
     "data": {
      "text/html": [
       "<table>\n",
       "<thead><tr><th></th><th scope=col>column1</th><th scope=col>column2</th><th scope=col>column3</th><th scope=col>column4</th><th scope=col>column5</th></tr></thead>\n",
       "<tbody>\n",
       "\t<tr><th scope=row>row1</th><td>1 </td><td>3 </td><td>5 </td><td>7 </td><td> 9</td></tr>\n",
       "\t<tr><th scope=row>row2</th><td>2 </td><td>4 </td><td>6 </td><td>8 </td><td>10</td></tr>\n",
       "</tbody>\n",
       "</table>\n"
      ],
      "text/latex": [
       "\\begin{tabular}{r|lllll}\n",
       "  & column1 & column2 & column3 & column4 & column5\\\\\n",
       "\\hline\n",
       "\trow1 & 1  & 3  & 5  & 7  &  9\\\\\n",
       "\trow2 & 2  & 4  & 6  & 8  & 10\\\\\n",
       "\\end{tabular}\n"
      ],
      "text/markdown": [
       "\n",
       "| <!--/--> | column1 | column2 | column3 | column4 | column5 | \n",
       "|---|---|\n",
       "| row1 | 1  | 3  | 5  | 7  |  9 | \n",
       "| row2 | 2  | 4  | 6  | 8  | 10 | \n",
       "\n",
       "\n"
      ],
      "text/plain": [
       "     column1 column2 column3 column4 column5\n",
       "row1 1       3       5       7        9     \n",
       "row2 2       4       6       8       10     "
      ]
     },
     "metadata": {},
     "output_type": "display_data"
    }
   ],
   "source": [
    "m"
   ]
  },
  {
   "cell_type": "code",
   "execution_count": 72,
   "metadata": {},
   "outputs": [
    {
     "data": {
      "text/html": [
       "<table>\n",
       "<thead><tr><th></th><th scope=col>column2</th><th scope=col>column4</th></tr></thead>\n",
       "<tbody>\n",
       "\t<tr><th scope=row>row1</th><td>3</td><td>7</td></tr>\n",
       "</tbody>\n",
       "</table>\n"
      ],
      "text/latex": [
       "\\begin{tabular}{r|ll}\n",
       "  & column2 & column4\\\\\n",
       "\\hline\n",
       "\trow1 & 3 & 7\\\\\n",
       "\\end{tabular}\n"
      ],
      "text/markdown": [
       "\n",
       "| <!--/--> | column2 | column4 | \n",
       "|---|\n",
       "| row1 | 3 | 7 | \n",
       "\n",
       "\n"
      ],
      "text/plain": [
       "     column2 column4\n",
       "row1 3       7      "
      ]
     },
     "metadata": {},
     "output_type": "display_data"
    }
   ],
   "source": [
    "m['row1', c(\"column2\",\"column4\"), drop = F]"
   ]
  },
  {
   "cell_type": "markdown",
   "metadata": {},
   "source": [
    "## Присоединение матриц : `rbind` / `cbind`"
   ]
  },
  {
   "cell_type": "code",
   "execution_count": 83,
   "metadata": {},
   "outputs": [
    {
     "data": {
      "text/html": [
       "<table>\n",
       "<tbody>\n",
       "\t<tr><td>1</td><td>3</td></tr>\n",
       "\t<tr><td>2</td><td>4</td></tr>\n",
       "</tbody>\n",
       "</table>\n"
      ],
      "text/latex": [
       "\\begin{tabular}{ll}\n",
       "\t 1 & 3\\\\\n",
       "\t 2 & 4\\\\\n",
       "\\end{tabular}\n"
      ],
      "text/markdown": [
       "\n",
       "| 1 | 3 | \n",
       "| 2 | 4 | \n",
       "\n",
       "\n"
      ],
      "text/plain": [
       "     [,1] [,2]\n",
       "[1,] 1    3   \n",
       "[2,] 2    4   "
      ]
     },
     "metadata": {},
     "output_type": "display_data"
    }
   ],
   "source": [
    "m1"
   ]
  },
  {
   "cell_type": "code",
   "execution_count": 84,
   "metadata": {},
   "outputs": [
    {
     "data": {
      "text/html": [
       "<table>\n",
       "<tbody>\n",
       "\t<tr><td>1</td><td>3</td></tr>\n",
       "\t<tr><td>2</td><td>4</td></tr>\n",
       "</tbody>\n",
       "</table>\n"
      ],
      "text/latex": [
       "\\begin{tabular}{ll}\n",
       "\t 1 & 3\\\\\n",
       "\t 2 & 4\\\\\n",
       "\\end{tabular}\n"
      ],
      "text/markdown": [
       "\n",
       "| 1 | 3 | \n",
       "| 2 | 4 | \n",
       "\n",
       "\n"
      ],
      "text/plain": [
       "     [,1] [,2]\n",
       "[1,] 1    3   \n",
       "[2,] 2    4   "
      ]
     },
     "metadata": {},
     "output_type": "display_data"
    }
   ],
   "source": [
    "m2"
   ]
  },
  {
   "cell_type": "code",
   "execution_count": 74,
   "metadata": {},
   "outputs": [
    {
     "data": {
      "text/html": [
       "<table>\n",
       "<tbody>\n",
       "\t<tr><td>1</td><td>3</td></tr>\n",
       "\t<tr><td>2</td><td>4</td></tr>\n",
       "\t<tr><td>1</td><td>3</td></tr>\n",
       "\t<tr><td>2</td><td>4</td></tr>\n",
       "</tbody>\n",
       "</table>\n"
      ],
      "text/latex": [
       "\\begin{tabular}{ll}\n",
       "\t 1 & 3\\\\\n",
       "\t 2 & 4\\\\\n",
       "\t 1 & 3\\\\\n",
       "\t 2 & 4\\\\\n",
       "\\end{tabular}\n"
      ],
      "text/markdown": [
       "\n",
       "| 1 | 3 | \n",
       "| 2 | 4 | \n",
       "| 1 | 3 | \n",
       "| 2 | 4 | \n",
       "\n",
       "\n"
      ],
      "text/plain": [
       "     [,1] [,2]\n",
       "[1,] 1    3   \n",
       "[2,] 2    4   \n",
       "[3,] 1    3   \n",
       "[4,] 2    4   "
      ]
     },
     "metadata": {},
     "output_type": "display_data"
    }
   ],
   "source": [
    "rbind(m1,m2)"
   ]
  },
  {
   "cell_type": "code",
   "execution_count": 79,
   "metadata": {},
   "outputs": [
    {
     "data": {
      "text/html": [
       "<table>\n",
       "<tbody>\n",
       "\t<tr><td>1</td><td>3</td><td>1</td><td>3</td></tr>\n",
       "\t<tr><td>2</td><td>4</td><td>2</td><td>4</td></tr>\n",
       "</tbody>\n",
       "</table>\n"
      ],
      "text/latex": [
       "\\begin{tabular}{llll}\n",
       "\t 1 & 3 & 1 & 3\\\\\n",
       "\t 2 & 4 & 2 & 4\\\\\n",
       "\\end{tabular}\n"
      ],
      "text/markdown": [
       "\n",
       "| 1 | 3 | 1 | 3 | \n",
       "| 2 | 4 | 2 | 4 | \n",
       "\n",
       "\n"
      ],
      "text/plain": [
       "     [,1] [,2] [,3] [,4]\n",
       "[1,] 1    3    1    3   \n",
       "[2,] 2    4    2    4   "
      ]
     },
     "metadata": {},
     "output_type": "display_data"
    }
   ],
   "source": [
    "cbind(m1,m2)"
   ]
  },
  {
   "cell_type": "markdown",
   "metadata": {},
   "source": [
    "## Аргумент `...` (ellipsis)\n",
    "\n",
    "Новый аспект R: аргумент `...` позволяет предавать любое количество обьектов\n"
   ]
  },
  {
   "cell_type": "code",
   "execution_count": 86,
   "metadata": {},
   "outputs": [
    {
     "data": {
      "text/html": [
       "<table>\n",
       "<tbody>\n",
       "\t<tr><td>1 </td><td>3 </td><td>1 </td><td>3 </td><td>1 </td><td>5 </td><td>1 </td><td>3 </td><td> 9</td><td>1 </td><td>3 </td><td>1 </td><td>3 </td></tr>\n",
       "\t<tr><td>2 </td><td>4 </td><td>2 </td><td>4 </td><td>2 </td><td>3 </td><td>2 </td><td>6 </td><td>12</td><td>2 </td><td>4 </td><td>2 </td><td>4 </td></tr>\n",
       "</tbody>\n",
       "</table>\n"
      ],
      "text/latex": [
       "\\begin{tabular}{lllllllllllll}\n",
       "\t 1  & 3  & 1  & 3  & 1  & 5  & 1  & 3  &  9 & 1  & 3  & 1  & 3 \\\\\n",
       "\t 2  & 4  & 2  & 4  & 2  & 3  & 2  & 6  & 12 & 2  & 4  & 2  & 4 \\\\\n",
       "\\end{tabular}\n"
      ],
      "text/markdown": [
       "\n",
       "| 1  | 3  | 1  | 3  | 1  | 5  | 1  | 3  |  9 | 1  | 3  | 1  | 3  | \n",
       "| 2  | 4  | 2  | 4  | 2  | 3  | 2  | 6  | 12 | 2  | 4  | 2  | 4  | \n",
       "\n",
       "\n"
      ],
      "text/plain": [
       "     [,1] [,2] [,3] [,4] [,5] [,6] [,7] [,8] [,9] [,10] [,11] [,12] [,13]\n",
       "[1,] 1    3    1    3    1    5    1    3     9   1     3     1     3    \n",
       "[2,] 2    4    2    4    2    3    2    6    12   2     4     2     4    "
      ]
     },
     "metadata": {},
     "output_type": "display_data"
    }
   ],
   "source": [
    "cbind(m1, m2, 1:2, c(5,3), m2[,1], m1*3, cbind(m2,m1))"
   ]
  },
  {
   "cell_type": "markdown",
   "metadata": {},
   "source": [
    "Другие примеры: `c, paste, paste0, sum`"
   ]
  },
  {
   "cell_type": "markdown",
   "metadata": {},
   "source": [
    "## Применение функций к матрице: `apply` "
   ]
  },
  {
   "cell_type": "code",
   "execution_count": 88,
   "metadata": {},
   "outputs": [],
   "source": [
    "m <- matrix(1:25, 5)\n",
    "f <- function(x) sum(x^2)"
   ]
  },
  {
   "cell_type": "code",
   "execution_count": 90,
   "metadata": {},
   "outputs": [
    {
     "data": {
      "text/html": [
       "<table>\n",
       "<tbody>\n",
       "\t<tr><td>1 </td><td> 6</td><td>11</td><td>16</td><td>21</td></tr>\n",
       "\t<tr><td>2 </td><td> 7</td><td>12</td><td>17</td><td>22</td></tr>\n",
       "\t<tr><td>3 </td><td> 8</td><td>13</td><td>18</td><td>23</td></tr>\n",
       "\t<tr><td>4 </td><td> 9</td><td>14</td><td>19</td><td>24</td></tr>\n",
       "\t<tr><td>5 </td><td>10</td><td>15</td><td>20</td><td>25</td></tr>\n",
       "</tbody>\n",
       "</table>\n"
      ],
      "text/latex": [
       "\\begin{tabular}{lllll}\n",
       "\t 1  &  6 & 11 & 16 & 21\\\\\n",
       "\t 2  &  7 & 12 & 17 & 22\\\\\n",
       "\t 3  &  8 & 13 & 18 & 23\\\\\n",
       "\t 4  &  9 & 14 & 19 & 24\\\\\n",
       "\t 5  & 10 & 15 & 20 & 25\\\\\n",
       "\\end{tabular}\n"
      ],
      "text/markdown": [
       "\n",
       "| 1  |  6 | 11 | 16 | 21 | \n",
       "| 2  |  7 | 12 | 17 | 22 | \n",
       "| 3  |  8 | 13 | 18 | 23 | \n",
       "| 4  |  9 | 14 | 19 | 24 | \n",
       "| 5  | 10 | 15 | 20 | 25 | \n",
       "\n",
       "\n"
      ],
      "text/plain": [
       "     [,1] [,2] [,3] [,4] [,5]\n",
       "[1,] 1     6   11   16   21  \n",
       "[2,] 2     7   12   17   22  \n",
       "[3,] 3     8   13   18   23  \n",
       "[4,] 4     9   14   19   24  \n",
       "[5,] 5    10   15   20   25  "
      ]
     },
     "metadata": {},
     "output_type": "display_data"
    }
   ],
   "source": [
    "m"
   ]
  },
  {
   "cell_type": "markdown",
   "metadata": {},
   "source": [
    "Тип аргумента функции `apply`:\n",
    "\n",
    "- Массив (матрица)\n",
    "- Индекс (1 - по строкам, 2 - по столбцам)\n",
    "- Функция \n"
   ]
  },
  {
   "cell_type": "code",
   "execution_count": 89,
   "metadata": {},
   "outputs": [
    {
     "data": {
      "text/html": [
       "<ol class=list-inline>\n",
       "\t<li>855</li>\n",
       "\t<li>970</li>\n",
       "\t<li>1095</li>\n",
       "\t<li>1230</li>\n",
       "\t<li>1375</li>\n",
       "</ol>\n"
      ],
      "text/latex": [
       "\\begin{enumerate*}\n",
       "\\item 855\n",
       "\\item 970\n",
       "\\item 1095\n",
       "\\item 1230\n",
       "\\item 1375\n",
       "\\end{enumerate*}\n"
      ],
      "text/markdown": [
       "1. 855\n",
       "2. 970\n",
       "3. 1095\n",
       "4. 1230\n",
       "5. 1375\n",
       "\n",
       "\n"
      ],
      "text/plain": [
       "[1]  855  970 1095 1230 1375"
      ]
     },
     "metadata": {},
     "output_type": "display_data"
    }
   ],
   "source": [
    "apply(m, 1,f)"
   ]
  },
  {
   "cell_type": "code",
   "execution_count": 91,
   "metadata": {},
   "outputs": [
    {
     "data": {
      "text/html": [
       "<ol class=list-inline>\n",
       "\t<li>55</li>\n",
       "\t<li>330</li>\n",
       "\t<li>855</li>\n",
       "\t<li>1630</li>\n",
       "\t<li>2655</li>\n",
       "</ol>\n"
      ],
      "text/latex": [
       "\\begin{enumerate*}\n",
       "\\item 55\n",
       "\\item 330\n",
       "\\item 855\n",
       "\\item 1630\n",
       "\\item 2655\n",
       "\\end{enumerate*}\n"
      ],
      "text/markdown": [
       "1. 55\n",
       "2. 330\n",
       "3. 855\n",
       "4. 1630\n",
       "5. 2655\n",
       "\n",
       "\n"
      ],
      "text/plain": [
       "[1]   55  330  855 1630 2655"
      ]
     },
     "metadata": {},
     "output_type": "display_data"
    }
   ],
   "source": [
    "apply(m,2,f)"
   ]
  },
  {
   "cell_type": "code",
   "execution_count": 93,
   "metadata": {},
   "outputs": [
    {
     "data": {
      "text/html": [
       "<table>\n",
       "<tbody>\n",
       "\t<tr><td>13</td><td>13</td><td>13</td><td>16</td><td>21</td></tr>\n",
       "\t<tr><td>13</td><td>13</td><td>13</td><td>17</td><td>22</td></tr>\n",
       "\t<tr><td>13</td><td>13</td><td>13</td><td>18</td><td>23</td></tr>\n",
       "\t<tr><td>13</td><td>13</td><td>14</td><td>19</td><td>24</td></tr>\n",
       "\t<tr><td>13</td><td>13</td><td>15</td><td>20</td><td>25</td></tr>\n",
       "</tbody>\n",
       "</table>\n"
      ],
      "text/latex": [
       "\\begin{tabular}{lllll}\n",
       "\t 13 & 13 & 13 & 16 & 21\\\\\n",
       "\t 13 & 13 & 13 & 17 & 22\\\\\n",
       "\t 13 & 13 & 13 & 18 & 23\\\\\n",
       "\t 13 & 13 & 14 & 19 & 24\\\\\n",
       "\t 13 & 13 & 15 & 20 & 25\\\\\n",
       "\\end{tabular}\n"
      ],
      "text/markdown": [
       "\n",
       "| 13 | 13 | 13 | 16 | 21 | \n",
       "| 13 | 13 | 13 | 17 | 22 | \n",
       "| 13 | 13 | 13 | 18 | 23 | \n",
       "| 13 | 13 | 14 | 19 | 24 | \n",
       "| 13 | 13 | 15 | 20 | 25 | \n",
       "\n",
       "\n"
      ],
      "text/plain": [
       "     [,1] [,2] [,3] [,4] [,5]\n",
       "[1,] 13   13   13   16   21  \n",
       "[2,] 13   13   13   17   22  \n",
       "[3,] 13   13   13   18   23  \n",
       "[4,] 13   13   14   19   24  \n",
       "[5,] 13   13   15   20   25  "
      ]
     },
     "metadata": {},
     "output_type": "display_data"
    }
   ],
   "source": [
    "apply(m,1:2, function(i) if (i >13) i else 13) # такая функция без имени наз анонимно"
   ]
  },
  {
   "cell_type": "code",
   "execution_count": 94,
   "metadata": {},
   "outputs": [
    {
     "data": {
      "text/html": [
       "<table>\n",
       "<tbody>\n",
       "\t<tr><td>13</td><td>13</td><td>13</td><td>16</td><td>21</td></tr>\n",
       "\t<tr><td>13</td><td>13</td><td>13</td><td>17</td><td>22</td></tr>\n",
       "\t<tr><td>13</td><td>13</td><td>13</td><td>18</td><td>23</td></tr>\n",
       "\t<tr><td>13</td><td>13</td><td>14</td><td>19</td><td>24</td></tr>\n",
       "\t<tr><td>13</td><td>13</td><td>15</td><td>20</td><td>25</td></tr>\n",
       "</tbody>\n",
       "</table>\n"
      ],
      "text/latex": [
       "\\begin{tabular}{lllll}\n",
       "\t 13 & 13 & 13 & 16 & 21\\\\\n",
       "\t 13 & 13 & 13 & 17 & 22\\\\\n",
       "\t 13 & 13 & 13 & 18 & 23\\\\\n",
       "\t 13 & 13 & 14 & 19 & 24\\\\\n",
       "\t 13 & 13 & 15 & 20 & 25\\\\\n",
       "\\end{tabular}\n"
      ],
      "text/markdown": [
       "\n",
       "| 13 | 13 | 13 | 16 | 21 | \n",
       "| 13 | 13 | 13 | 17 | 22 | \n",
       "| 13 | 13 | 13 | 18 | 23 | \n",
       "| 13 | 13 | 14 | 19 | 24 | \n",
       "| 13 | 13 | 15 | 20 | 25 | \n",
       "\n",
       "\n"
      ],
      "text/plain": [
       "     [,1] [,2] [,3] [,4] [,5]\n",
       "[1,] 13   13   13   16   21  \n",
       "[2,] 13   13   13   17   22  \n",
       "[3,] 13   13   13   18   23  \n",
       "[4,] 13   13   14   19   24  \n",
       "[5,] 13   13   15   20   25  "
      ]
     },
     "metadata": {},
     "output_type": "display_data"
    }
   ],
   "source": [
    "m[m <= 13] <- 13\n",
    "m"
   ]
  },
  {
   "cell_type": "markdown",
   "metadata": {},
   "source": [
    "##  `rowSums`, `rowMeans`, `colSums`, `colMeans` "
   ]
  },
  {
   "cell_type": "code",
   "execution_count": 97,
   "metadata": {},
   "outputs": [
    {
     "data": {
      "text/html": [
       "<table>\n",
       "<tbody>\n",
       "\t<tr><td>1 </td><td> 6</td><td>11</td><td>16</td><td>21</td></tr>\n",
       "\t<tr><td>2 </td><td> 7</td><td>12</td><td>17</td><td>22</td></tr>\n",
       "\t<tr><td>3 </td><td> 8</td><td>13</td><td>18</td><td>23</td></tr>\n",
       "\t<tr><td>4 </td><td> 9</td><td>14</td><td>19</td><td>24</td></tr>\n",
       "\t<tr><td>5 </td><td>10</td><td>15</td><td>20</td><td>25</td></tr>\n",
       "</tbody>\n",
       "</table>\n"
      ],
      "text/latex": [
       "\\begin{tabular}{lllll}\n",
       "\t 1  &  6 & 11 & 16 & 21\\\\\n",
       "\t 2  &  7 & 12 & 17 & 22\\\\\n",
       "\t 3  &  8 & 13 & 18 & 23\\\\\n",
       "\t 4  &  9 & 14 & 19 & 24\\\\\n",
       "\t 5  & 10 & 15 & 20 & 25\\\\\n",
       "\\end{tabular}\n"
      ],
      "text/markdown": [
       "\n",
       "| 1  |  6 | 11 | 16 | 21 | \n",
       "| 2  |  7 | 12 | 17 | 22 | \n",
       "| 3  |  8 | 13 | 18 | 23 | \n",
       "| 4  |  9 | 14 | 19 | 24 | \n",
       "| 5  | 10 | 15 | 20 | 25 | \n",
       "\n",
       "\n"
      ],
      "text/plain": [
       "     [,1] [,2] [,3] [,4] [,5]\n",
       "[1,] 1     6   11   16   21  \n",
       "[2,] 2     7   12   17   22  \n",
       "[3,] 3     8   13   18   23  \n",
       "[4,] 4     9   14   19   24  \n",
       "[5,] 5    10   15   20   25  "
      ]
     },
     "metadata": {},
     "output_type": "display_data"
    },
    {
     "data": {
      "text/html": [
       "<ol class=list-inline>\n",
       "\t<li>55</li>\n",
       "\t<li>60</li>\n",
       "\t<li>65</li>\n",
       "\t<li>70</li>\n",
       "\t<li>75</li>\n",
       "</ol>\n"
      ],
      "text/latex": [
       "\\begin{enumerate*}\n",
       "\\item 55\n",
       "\\item 60\n",
       "\\item 65\n",
       "\\item 70\n",
       "\\item 75\n",
       "\\end{enumerate*}\n"
      ],
      "text/markdown": [
       "1. 55\n",
       "2. 60\n",
       "3. 65\n",
       "4. 70\n",
       "5. 75\n",
       "\n",
       "\n"
      ],
      "text/plain": [
       "[1] 55 60 65 70 75"
      ]
     },
     "metadata": {},
     "output_type": "display_data"
    }
   ],
   "source": [
    "m <- matrix(1:25, 5)\n",
    "m\n",
    "rowSums(m)"
   ]
  },
  {
   "cell_type": "code",
   "execution_count": 98,
   "metadata": {},
   "outputs": [
    {
     "data": {
      "text/html": [
       "TRUE"
      ],
      "text/latex": [
       "TRUE"
      ],
      "text/markdown": [
       "TRUE"
      ],
      "text/plain": [
       "[1] TRUE"
      ]
     },
     "metadata": {},
     "output_type": "display_data"
    }
   ],
   "source": [
    "all.equal(rowSums(m), apply(m, 1,sum))"
   ]
  },
  {
   "cell_type": "code",
   "execution_count": 99,
   "metadata": {},
   "outputs": [
    {
     "data": {
      "text/html": [
       "<ol class=list-inline>\n",
       "\t<li>3</li>\n",
       "\t<li>8</li>\n",
       "\t<li>13</li>\n",
       "\t<li>18</li>\n",
       "\t<li>23</li>\n",
       "</ol>\n"
      ],
      "text/latex": [
       "\\begin{enumerate*}\n",
       "\\item 3\n",
       "\\item 8\n",
       "\\item 13\n",
       "\\item 18\n",
       "\\item 23\n",
       "\\end{enumerate*}\n"
      ],
      "text/markdown": [
       "1. 3\n",
       "2. 8\n",
       "3. 13\n",
       "4. 18\n",
       "5. 23\n",
       "\n",
       "\n"
      ],
      "text/plain": [
       "[1]  3  8 13 18 23"
      ]
     },
     "metadata": {},
     "output_type": "display_data"
    }
   ],
   "source": [
    "colMeans(m)"
   ]
  },
  {
   "cell_type": "code",
   "execution_count": 101,
   "metadata": {},
   "outputs": [
    {
     "data": {
      "text/html": [
       "TRUE"
      ],
      "text/latex": [
       "TRUE"
      ],
      "text/markdown": [
       "TRUE"
      ],
      "text/plain": [
       "[1] TRUE"
      ]
     },
     "metadata": {},
     "output_type": "display_data"
    }
   ],
   "source": [
    "all.equal(colMeans(m), apply(m,2,mean))"
   ]
  },
  {
   "cell_type": "markdown",
   "metadata": {},
   "source": [
    "# 2.1 Матрицы и списки\n"
   ]
  },
  {
   "cell_type": "markdown",
   "metadata": {},
   "source": [
    "Если матрица mat имеет размерность m на n (например, mat <- matrix(0, m, n)), то какой объект будет возвращён после выполнения следующих операций?"
   ]
  },
  {
   "cell_type": "code",
   "execution_count": 2,
   "metadata": {},
   "outputs": [],
   "source": [
    "m <- 3\n",
    "n <- 2"
   ]
  },
  {
   "cell_type": "code",
   "execution_count": 6,
   "metadata": {},
   "outputs": [],
   "source": [
    " mat <- matrix(c(1,2,3,4,5,6), m, n)"
   ]
  },
  {
   "cell_type": "code",
   "execution_count": 9,
   "metadata": {},
   "outputs": [
    {
     "data": {
      "text/html": [
       "6"
      ],
      "text/latex": [
       "6"
      ],
      "text/markdown": [
       "6"
      ],
      "text/plain": [
       "[1] 6"
      ]
     },
     "metadata": {},
     "output_type": "display_data"
    }
   ],
   "source": [
    "mat[m,n]  #Вектор длины 1, содержащий элемент в правом нижнем углу"
   ]
  },
  {
   "cell_type": "code",
   "execution_count": 16,
   "metadata": {},
   "outputs": [
    {
     "ename": "ERROR",
     "evalue": "Error in mat[n, m]: подгруппа выходит за пределы\n",
     "execution_count": 16,
     "output_type": "error",
     "traceback": [
      "Error in mat[n, m]: подгруппа выходит за пределы\nTraceback:\n"
     ]
    }
   ],
   "source": [
    "mat[n,m]   #Скорее всего, ошибочная запись: ошибки не будет только при m=n"
   ]
  },
  {
   "cell_type": "code",
   "execution_count": 19,
   "metadata": {},
   "outputs": [
    {
     "data": {
      "text/html": [
       "'numeric'"
      ],
      "text/latex": [
       "'numeric'"
      ],
      "text/markdown": [
       "'numeric'"
      ],
      "text/plain": [
       "[1] \"numeric\""
      ]
     },
     "metadata": {},
     "output_type": "display_data"
    }
   ],
   "source": [
    "mat[m, ]   #Вектор, содержащий строку (ряд) номер m"
   ]
  },
  {
   "cell_type": "code",
   "execution_count": 22,
   "metadata": {},
   "outputs": [
    {
     "data": {
      "text/html": [
       "<table>\n",
       "<tbody>\n",
       "\t<tr><td>3</td><td>6</td></tr>\n",
       "</tbody>\n",
       "</table>\n"
      ],
      "text/latex": [
       "\\begin{tabular}{ll}\n",
       "\t 3 & 6\\\\\n",
       "\\end{tabular}\n"
      ],
      "text/markdown": [
       "\n",
       "| 3 | 6 | \n",
       "\n",
       "\n"
      ],
      "text/plain": [
       "     [,1] [,2]\n",
       "[1,] 3    6   "
      ]
     },
     "metadata": {},
     "output_type": "display_data"
    }
   ],
   "source": [
    "mat[m, , drop = FALSE]   #Матрица, состоящая из одной строки (ряда) номер m"
   ]
  },
  {
   "cell_type": "code",
   "execution_count": 23,
   "metadata": {},
   "outputs": [
    {
     "data": {
      "text/html": [
       "<table>\n",
       "<tbody>\n",
       "\t<tr><td>4</td></tr>\n",
       "\t<tr><td>5</td></tr>\n",
       "\t<tr><td>6</td></tr>\n",
       "</tbody>\n",
       "</table>\n"
      ],
      "text/latex": [
       "\\begin{tabular}{l}\n",
       "\t 4\\\\\n",
       "\t 5\\\\\n",
       "\t 6\\\\\n",
       "\\end{tabular}\n"
      ],
      "text/markdown": [
       "\n",
       "| 4 | \n",
       "| 5 | \n",
       "| 6 | \n",
       "\n",
       "\n"
      ],
      "text/plain": [
       "     [,1]\n",
       "[1,] 4   \n",
       "[2,] 5   \n",
       "[3,] 6   "
      ]
     },
     "metadata": {},
     "output_type": "display_data"
    }
   ],
   "source": [
    "mat[, n, drop = F]    #Матрица, состоящая из одного столбца (колонки) номер n"
   ]
  },
  {
   "cell_type": "code",
   "execution_count": 24,
   "metadata": {},
   "outputs": [
    {
     "data": {
      "text/html": [
       "<ol class=list-inline>\n",
       "\t<li>4</li>\n",
       "\t<li>5</li>\n",
       "\t<li>6</li>\n",
       "</ol>\n"
      ],
      "text/latex": [
       "\\begin{enumerate*}\n",
       "\\item 4\n",
       "\\item 5\n",
       "\\item 6\n",
       "\\end{enumerate*}\n"
      ],
      "text/markdown": [
       "1. 4\n",
       "2. 5\n",
       "3. 6\n",
       "\n",
       "\n"
      ],
      "text/plain": [
       "[1] 4 5 6"
      ]
     },
     "metadata": {},
     "output_type": "display_data"
    }
   ],
   "source": [
    "mat[, n, drop = TRUE]  # Вектор, содержащий столбец (колонку) номер n"
   ]
  },
  {
   "cell_type": "code",
   "execution_count": 25,
   "metadata": {},
   "outputs": [
    {
     "data": {
      "text/html": [
       "<table>\n",
       "<tbody>\n",
       "\t<tr><td>FALSE</td><td>FALSE</td></tr>\n",
       "\t<tr><td>FALSE</td><td>FALSE</td></tr>\n",
       "\t<tr><td>FALSE</td><td> TRUE</td></tr>\n",
       "</tbody>\n",
       "</table>\n"
      ],
      "text/latex": [
       "\\begin{tabular}{ll}\n",
       "\t FALSE & FALSE\\\\\n",
       "\t FALSE & FALSE\\\\\n",
       "\t FALSE &  TRUE\\\\\n",
       "\\end{tabular}\n"
      ],
      "text/markdown": [
       "\n",
       "| FALSE | FALSE | \n",
       "| FALSE | FALSE | \n",
       "| FALSE |  TRUE | \n",
       "\n",
       "\n"
      ],
      "text/plain": [
       "     [,1]  [,2] \n",
       "[1,] FALSE FALSE\n",
       "[2,] FALSE FALSE\n",
       "[3,] FALSE  TRUE"
      ]
     },
     "metadata": {},
     "output_type": "display_data"
    }
   ],
   "source": [
    "mat >5                         #Матрица m на n логического типа по условию"
   ]
  },
  {
   "cell_type": "code",
   "execution_count": 29,
   "metadata": {},
   "outputs": [
    {
     "data": {
      "text/html": [
       "<ol class=list-inline>\n",
       "\t<li>3</li>\n",
       "\t<li>4</li>\n",
       "\t<li>5</li>\n",
       "\t<li>6</li>\n",
       "</ol>\n"
      ],
      "text/latex": [
       "\\begin{enumerate*}\n",
       "\\item 3\n",
       "\\item 4\n",
       "\\item 5\n",
       "\\item 6\n",
       "\\end{enumerate*}\n"
      ],
      "text/markdown": [
       "1. 3\n",
       "2. 4\n",
       "3. 5\n",
       "4. 6\n",
       "\n",
       "\n"
      ],
      "text/plain": [
       "[1] 3 4 5 6"
      ]
     },
     "metadata": {},
     "output_type": "display_data"
    }
   ],
   "source": [
    "mat[mat > 2]                #Вектор, содержащий все значения по условию (возможно, пустой)"
   ]
  },
  {
   "cell_type": "code",
   "execution_count": null,
   "metadata": {},
   "outputs": [],
   "source": []
  },
  {
   "cell_type": "code",
   "execution_count": 60,
   "metadata": {},
   "outputs": [],
   "source": [
    "find_closest <- function(v, n) {\n",
    "    a <- v[which.min(abs(abs(v) - abs(n)))]\n",
    "    which(v == n + abs(n-a) | v == n - abs(n-a))\n",
    "}"
   ]
  },
  {
   "cell_type": "code",
   "execution_count": 61,
   "metadata": {},
   "outputs": [],
   "source": [
    "v <- c(1, 1, 1, 1, 1, 1, 15)\n",
    "n <- 2"
   ]
  },
  {
   "cell_type": "code",
   "execution_count": 63,
   "metadata": {},
   "outputs": [
    {
     "data": {
      "text/html": [
       "<ol class=list-inline>\n",
       "\t<li>1</li>\n",
       "\t<li>2</li>\n",
       "\t<li>3</li>\n",
       "\t<li>4</li>\n",
       "\t<li>5</li>\n",
       "\t<li>6</li>\n",
       "</ol>\n"
      ],
      "text/latex": [
       "\\begin{enumerate*}\n",
       "\\item 1\n",
       "\\item 2\n",
       "\\item 3\n",
       "\\item 4\n",
       "\\item 5\n",
       "\\item 6\n",
       "\\end{enumerate*}\n"
      ],
      "text/markdown": [
       "1. 1\n",
       "2. 2\n",
       "3. 3\n",
       "4. 4\n",
       "5. 5\n",
       "6. 6\n",
       "\n",
       "\n"
      ],
      "text/plain": [
       "[1] 1 2 3 4 5 6"
      ]
     },
     "metadata": {},
     "output_type": "display_data"
    }
   ],
   "source": [
    "find_closest(v,n)"
   ]
  },
  {
   "cell_type": "code",
   "execution_count": 65,
   "metadata": {},
   "outputs": [],
   "source": [
    "bind_diag <- function(m1,m2,fill) {\n",
    "    m3 <- matrix(fill, nrow = nrow(m1)+nrow(m2),\n",
    "                       ncol = ncol(m1)+ncol(m2))\n",
    "    m3[1:nrow(m1),1:ncol(m1)] <- m1\n",
    "    m3[nrow(m1) + 1:nrow(m2),ncol(m1)+ 1:ncol(m2)] <- m2\n",
    "    m3 \n",
    "}"
   ]
  },
  {
   "cell_type": "code",
   "execution_count": 67,
   "metadata": {},
   "outputs": [
    {
     "data": {
      "text/html": [
       "<table>\n",
       "<tbody>\n",
       "\t<tr><td> 1</td><td> 5</td><td> 9</td><td>NA</td><td>NA</td><td>NA</td></tr>\n",
       "\t<tr><td> 2</td><td> 6</td><td>10</td><td>NA</td><td>NA</td><td>NA</td></tr>\n",
       "\t<tr><td> 3</td><td> 7</td><td>11</td><td>NA</td><td>NA</td><td>NA</td></tr>\n",
       "\t<tr><td> 4</td><td> 8</td><td>12</td><td>NA</td><td>NA</td><td>NA</td></tr>\n",
       "\t<tr><td>NA</td><td>NA</td><td>NA</td><td>10</td><td>12</td><td>14</td></tr>\n",
       "\t<tr><td>NA</td><td>NA</td><td>NA</td><td>11</td><td>13</td><td>15</td></tr>\n",
       "</tbody>\n",
       "</table>\n"
      ],
      "text/latex": [
       "\\begin{tabular}{llllll}\n",
       "\t  1 &  5 &  9 & NA & NA & NA\\\\\n",
       "\t  2 &  6 & 10 & NA & NA & NA\\\\\n",
       "\t  3 &  7 & 11 & NA & NA & NA\\\\\n",
       "\t  4 &  8 & 12 & NA & NA & NA\\\\\n",
       "\t NA & NA & NA & 10 & 12 & 14\\\\\n",
       "\t NA & NA & NA & 11 & 13 & 15\\\\\n",
       "\\end{tabular}\n"
      ],
      "text/markdown": [
       "\n",
       "|  1 |  5 |  9 | NA | NA | NA | \n",
       "|  2 |  6 | 10 | NA | NA | NA | \n",
       "|  3 |  7 | 11 | NA | NA | NA | \n",
       "|  4 |  8 | 12 | NA | NA | NA | \n",
       "| NA | NA | NA | 10 | 12 | 14 | \n",
       "| NA | NA | NA | 11 | 13 | 15 | \n",
       "\n",
       "\n"
      ],
      "text/plain": [
       "     [,1] [,2] [,3] [,4] [,5] [,6]\n",
       "[1,]  1    5    9   NA   NA   NA  \n",
       "[2,]  2    6   10   NA   NA   NA  \n",
       "[3,]  3    7   11   NA   NA   NA  \n",
       "[4,]  4    8   12   NA   NA   NA  \n",
       "[5,] NA   NA   NA   10   12   14  \n",
       "[6,] NA   NA   NA   11   13   15  "
      ]
     },
     "metadata": {},
     "output_type": "display_data"
    },
    {
     "data": {
      "text/html": [
       "<table>\n",
       "<tbody>\n",
       "\t<tr><td>1 </td><td>5 </td><td> 9</td><td> 0</td><td> 0</td><td> 0</td></tr>\n",
       "\t<tr><td>2 </td><td>6 </td><td>10</td><td> 0</td><td> 0</td><td> 0</td></tr>\n",
       "\t<tr><td>3 </td><td>7 </td><td>11</td><td> 0</td><td> 0</td><td> 0</td></tr>\n",
       "\t<tr><td>4 </td><td>8 </td><td>12</td><td> 0</td><td> 0</td><td> 0</td></tr>\n",
       "\t<tr><td>0 </td><td>0 </td><td> 0</td><td>10</td><td>12</td><td>14</td></tr>\n",
       "\t<tr><td>0 </td><td>0 </td><td> 0</td><td>11</td><td>13</td><td>15</td></tr>\n",
       "</tbody>\n",
       "</table>\n"
      ],
      "text/latex": [
       "\\begin{tabular}{llllll}\n",
       "\t 1  & 5  &  9 &  0 &  0 &  0\\\\\n",
       "\t 2  & 6  & 10 &  0 &  0 &  0\\\\\n",
       "\t 3  & 7  & 11 &  0 &  0 &  0\\\\\n",
       "\t 4  & 8  & 12 &  0 &  0 &  0\\\\\n",
       "\t 0  & 0  &  0 & 10 & 12 & 14\\\\\n",
       "\t 0  & 0  &  0 & 11 & 13 & 15\\\\\n",
       "\\end{tabular}\n"
      ],
      "text/markdown": [
       "\n",
       "| 1  | 5  |  9 |  0 |  0 |  0 | \n",
       "| 2  | 6  | 10 |  0 |  0 |  0 | \n",
       "| 3  | 7  | 11 |  0 |  0 |  0 | \n",
       "| 4  | 8  | 12 |  0 |  0 |  0 | \n",
       "| 0  | 0  |  0 | 10 | 12 | 14 | \n",
       "| 0  | 0  |  0 | 11 | 13 | 15 | \n",
       "\n",
       "\n"
      ],
      "text/plain": [
       "     [,1] [,2] [,3] [,4] [,5] [,6]\n",
       "[1,] 1    5     9    0    0    0  \n",
       "[2,] 2    6    10    0    0    0  \n",
       "[3,] 3    7    11    0    0    0  \n",
       "[4,] 4    8    12    0    0    0  \n",
       "[5,] 0    0     0   10   12   14  \n",
       "[6,] 0    0     0   11   13   15  "
      ]
     },
     "metadata": {},
     "output_type": "display_data"
    }
   ],
   "source": [
    "m1 <- matrix (1:12,nrow = 4)\n",
    "m2 <- matrix(10:15, ncol = 3)\n",
    "bind_diag(m1,m2,fill = NA)\n",
    "bind_diag(m1,m2,fill = 0)"
   ]
  },
  {
   "cell_type": "code",
   "execution_count": 452,
   "metadata": {},
   "outputs": [],
   "source": [
    "build_ziggurat <- function(n) {\n",
    "    m <- matrix(1, nrow = n*2 - 1\n",
    "                 , ncol = n*2 - 1)\n",
    "    for (i in 1:n){\n",
    "        if (i == n){\n",
    "            m[i,i] <- matrix(i)\n",
    "            return(m)\n",
    "        }\n",
    "        r <- nrow(m)-i\n",
    "        d <- 1 +i\n",
    "        m[d : r,  d : r] <- matrix(d)\n",
    "    }\n",
    "}"
   ]
  },
  {
   "cell_type": "code",
   "execution_count": 453,
   "metadata": {},
   "outputs": [
    {
     "data": {
      "text/html": [
       "<table>\n",
       "<tbody>\n",
       "\t<tr><td>1</td><td>1</td><td>1</td><td>1</td><td>1</td></tr>\n",
       "\t<tr><td>1</td><td>2</td><td>2</td><td>2</td><td>1</td></tr>\n",
       "\t<tr><td>1</td><td>2</td><td>3</td><td>2</td><td>1</td></tr>\n",
       "\t<tr><td>1</td><td>2</td><td>2</td><td>2</td><td>1</td></tr>\n",
       "\t<tr><td>1</td><td>1</td><td>1</td><td>1</td><td>1</td></tr>\n",
       "</tbody>\n",
       "</table>\n"
      ],
      "text/latex": [
       "\\begin{tabular}{lllll}\n",
       "\t 1 & 1 & 1 & 1 & 1\\\\\n",
       "\t 1 & 2 & 2 & 2 & 1\\\\\n",
       "\t 1 & 2 & 3 & 2 & 1\\\\\n",
       "\t 1 & 2 & 2 & 2 & 1\\\\\n",
       "\t 1 & 1 & 1 & 1 & 1\\\\\n",
       "\\end{tabular}\n"
      ],
      "text/markdown": [
       "\n",
       "| 1 | 1 | 1 | 1 | 1 | \n",
       "| 1 | 2 | 2 | 2 | 1 | \n",
       "| 1 | 2 | 3 | 2 | 1 | \n",
       "| 1 | 2 | 2 | 2 | 1 | \n",
       "| 1 | 1 | 1 | 1 | 1 | \n",
       "\n",
       "\n"
      ],
      "text/plain": [
       "     [,1] [,2] [,3] [,4] [,5]\n",
       "[1,] 1    1    1    1    1   \n",
       "[2,] 1    2    2    2    1   \n",
       "[3,] 1    2    3    2    1   \n",
       "[4,] 1    2    2    2    1   \n",
       "[5,] 1    1    1    1    1   "
      ]
     },
     "metadata": {},
     "output_type": "display_data"
    }
   ],
   "source": [
    "build_ziggurat(3)"
   ]
  },
  {
   "cell_type": "code",
   "execution_count": 3,
   "metadata": {},
   "outputs": [
    {
     "data": {
      "text/html": [
       "<table>\n",
       "<tbody>\n",
       "\t<tr><td>4</td><td>4</td><td>4</td><td>4</td><td>4</td></tr>\n",
       "\t<tr><td>4</td><td>4</td><td>4</td><td>4</td><td>4</td></tr>\n",
       "\t<tr><td>4</td><td>4</td><td>4</td><td>4</td><td>4</td></tr>\n",
       "\t<tr><td>4</td><td>4</td><td>4</td><td>4</td><td>4</td></tr>\n",
       "</tbody>\n",
       "</table>\n"
      ],
      "text/latex": [
       "\\begin{tabular}{lllll}\n",
       "\t 4 & 4 & 4 & 4 & 4\\\\\n",
       "\t 4 & 4 & 4 & 4 & 4\\\\\n",
       "\t 4 & 4 & 4 & 4 & 4\\\\\n",
       "\t 4 & 4 & 4 & 4 & 4\\\\\n",
       "\\end{tabular}\n"
      ],
      "text/markdown": [
       "\n",
       "| 4 | 4 | 4 | 4 | 4 | \n",
       "| 4 | 4 | 4 | 4 | 4 | \n",
       "| 4 | 4 | 4 | 4 | 4 | \n",
       "| 4 | 4 | 4 | 4 | 4 | \n",
       "\n",
       "\n"
      ],
      "text/plain": [
       "     [,1] [,2] [,3] [,4] [,5]\n",
       "[1,] 4    4    4    4    4   \n",
       "[2,] 4    4    4    4    4   \n",
       "[3,] 4    4    4    4    4   \n",
       "[4,] 4    4    4    4    4   "
      ]
     },
     "metadata": {},
     "output_type": "display_data"
    }
   ],
   "source": [
    "m = matrix(4,4,5)\n",
    "m"
   ]
  },
  {
   "cell_type": "code",
   "execution_count": 5,
   "metadata": {},
   "outputs": [
    {
     "data": {
      "text/html": [
       "<ol class=list-inline>\n",
       "\t<li>4</li>\n",
       "\t<li>4</li>\n",
       "\t<li>4</li>\n",
       "\t<li>4</li>\n",
       "</ol>\n"
      ],
      "text/latex": [
       "\\begin{enumerate*}\n",
       "\\item 4\n",
       "\\item 4\n",
       "\\item 4\n",
       "\\item 4\n",
       "\\end{enumerate*}\n"
      ],
      "text/markdown": [
       "1. 4\n",
       "2. 4\n",
       "3. 4\n",
       "4. 4\n",
       "\n",
       "\n"
      ],
      "text/plain": [
       "[1] 4 4 4 4"
      ]
     },
     "metadata": {},
     "output_type": "display_data"
    }
   ],
   "source": [
    "diag(m)"
   ]
  },
  {
   "cell_type": "code",
   "execution_count": 6,
   "metadata": {},
   "outputs": [
    {
     "data": {
      "text/html": [
       "<table>\n",
       "<tbody>\n",
       "\t<tr><td>1</td><td>0</td><td>0</td></tr>\n",
       "\t<tr><td>0</td><td>1</td><td>0</td></tr>\n",
       "\t<tr><td>0</td><td>0</td><td>1</td></tr>\n",
       "</tbody>\n",
       "</table>\n"
      ],
      "text/latex": [
       "\\begin{tabular}{lll}\n",
       "\t 1 & 0 & 0\\\\\n",
       "\t 0 & 1 & 0\\\\\n",
       "\t 0 & 0 & 1\\\\\n",
       "\\end{tabular}\n"
      ],
      "text/markdown": [
       "\n",
       "| 1 | 0 | 0 | \n",
       "| 0 | 1 | 0 | \n",
       "| 0 | 0 | 1 | \n",
       "\n",
       "\n"
      ],
      "text/plain": [
       "     [,1] [,2] [,3]\n",
       "[1,] 1    0    0   \n",
       "[2,] 0    1    0   \n",
       "[3,] 0    0    1   "
      ]
     },
     "metadata": {},
     "output_type": "display_data"
    }
   ],
   "source": [
    "diag(3)"
   ]
  },
  {
   "cell_type": "code",
   "execution_count": 7,
   "metadata": {},
   "outputs": [
    {
     "data": {
      "text/html": [
       "<table>\n",
       "<tbody>\n",
       "\t<tr><td>1</td><td>0</td></tr>\n",
       "\t<tr><td>0</td><td>2</td></tr>\n",
       "</tbody>\n",
       "</table>\n"
      ],
      "text/latex": [
       "\\begin{tabular}{ll}\n",
       "\t 1 & 0\\\\\n",
       "\t 0 & 2\\\\\n",
       "\\end{tabular}\n"
      ],
      "text/markdown": [
       "\n",
       "| 1 | 0 | \n",
       "| 0 | 2 | \n",
       "\n",
       "\n"
      ],
      "text/plain": [
       "     [,1] [,2]\n",
       "[1,] 1    0   \n",
       "[2,] 0    2   "
      ]
     },
     "metadata": {},
     "output_type": "display_data"
    }
   ],
   "source": [
    "diag(c(1,2))"
   ]
  },
  {
   "cell_type": "code",
   "execution_count": 30,
   "metadata": {},
   "outputs": [],
   "source": [
    "#get the longest element\n",
    "get_longest <- function(l){\n",
    "    len <- sapply(l,length)\n",
    "    ind <- which.max(len == max(len))\n",
    "    list(number = ind, element = l[[ind]])\n",
    "}\n",
    "\n",
    "#generate list with random length and contents\n",
    "gen_list <- function(n_elements, max_len, seed = 111){\n",
    "    set.seed(seed)\n",
    "    len <- sample(1:max_len, n_elements)\n",
    "    lapply(1:n_elements, function(i) rnorm(len[i]))\n",
    "}\n",
    "            \n",
    "l1 <- gen_list(4,10)"
   ]
  },
  {
   "cell_type": "code",
   "execution_count": 31,
   "metadata": {},
   "outputs": [
    {
     "data": {
      "text/html": [
       "<ol>\n",
       "\t<li><ol class=list-inline>\n",
       "\t<li>-0.311623823978761</li>\n",
       "\t<li>-2.30234565842938</li>\n",
       "\t<li>-0.170876044613865</li>\n",
       "\t<li>0.140278225103231</li>\n",
       "\t<li>-1.49742665556512</li>\n",
       "\t<li>-1.01018841905138</li>\n",
       "</ol>\n",
       "</li>\n",
       "\t<li><ol class=list-inline>\n",
       "\t<li>-0.948475604952447</li>\n",
       "\t<li>-0.493962217235108</li>\n",
       "\t<li>-0.17367412797058</li>\n",
       "\t<li>-0.406598780040652</li>\n",
       "\t<li>1.84563626380708</li>\n",
       "\t<li>0.394054109974501</li>\n",
       "\t<li>0.797528501261517</li>\n",
       "</ol>\n",
       "</li>\n",
       "\t<li><ol class=list-inline>\n",
       "\t<li>-1.56666536018558</li>\n",
       "\t<li>-0.0858510088226062</li>\n",
       "\t<li>-0.359139481237783</li>\n",
       "</ol>\n",
       "</li>\n",
       "\t<li><ol class=list-inline>\n",
       "\t<li>-1.19360896656373</li>\n",
       "\t<li>0.364186737022221</li>\n",
       "\t<li>0.361662451588275</li>\n",
       "\t<li>0.346964370113566</li>\n",
       "</ol>\n",
       "</li>\n",
       "</ol>\n"
      ],
      "text/latex": [
       "\\begin{enumerate}\n",
       "\\item \\begin{enumerate*}\n",
       "\\item -0.311623823978761\n",
       "\\item -2.30234565842938\n",
       "\\item -0.170876044613865\n",
       "\\item 0.140278225103231\n",
       "\\item -1.49742665556512\n",
       "\\item -1.01018841905138\n",
       "\\end{enumerate*}\n",
       "\n",
       "\\item \\begin{enumerate*}\n",
       "\\item -0.948475604952447\n",
       "\\item -0.493962217235108\n",
       "\\item -0.17367412797058\n",
       "\\item -0.406598780040652\n",
       "\\item 1.84563626380708\n",
       "\\item 0.394054109974501\n",
       "\\item 0.797528501261517\n",
       "\\end{enumerate*}\n",
       "\n",
       "\\item \\begin{enumerate*}\n",
       "\\item -1.56666536018558\n",
       "\\item -0.0858510088226062\n",
       "\\item -0.359139481237783\n",
       "\\end{enumerate*}\n",
       "\n",
       "\\item \\begin{enumerate*}\n",
       "\\item -1.19360896656373\n",
       "\\item 0.364186737022221\n",
       "\\item 0.361662451588275\n",
       "\\item 0.346964370113566\n",
       "\\end{enumerate*}\n",
       "\n",
       "\\end{enumerate}\n"
      ],
      "text/markdown": [
       "1. 1. -0.311623823978761\n",
       "2. -2.30234565842938\n",
       "3. -0.170876044613865\n",
       "4. 0.140278225103231\n",
       "5. -1.49742665556512\n",
       "6. -1.01018841905138\n",
       "\n",
       "\n",
       "\n",
       "2. 1. -0.948475604952447\n",
       "2. -0.493962217235108\n",
       "3. -0.17367412797058\n",
       "4. -0.406598780040652\n",
       "5. 1.84563626380708\n",
       "6. 0.394054109974501\n",
       "7. 0.797528501261517\n",
       "\n",
       "\n",
       "\n",
       "3. 1. -1.56666536018558\n",
       "2. -0.0858510088226062\n",
       "3. -0.359139481237783\n",
       "\n",
       "\n",
       "\n",
       "4. 1. -1.19360896656373\n",
       "2. 0.364186737022221\n",
       "3. 0.361662451588275\n",
       "4. 0.346964370113566\n",
       "\n",
       "\n",
       "\n",
       "\n",
       "\n"
      ],
      "text/plain": [
       "[[1]]\n",
       "[1] -0.3116238 -2.3023457 -0.1708760  0.1402782 -1.4974267 -1.0101884\n",
       "\n",
       "[[2]]\n",
       "[1] -0.9484756 -0.4939622 -0.1736741 -0.4065988  1.8456363  0.3940541  0.7975285\n",
       "\n",
       "[[3]]\n",
       "[1] -1.56666536 -0.08585101 -0.35913948\n",
       "\n",
       "[[4]]\n",
       "[1] -1.1936090  0.3641867  0.3616625  0.3469644\n"
      ]
     },
     "metadata": {},
     "output_type": "display_data"
    }
   ],
   "source": [
    "l1"
   ]
  },
  {
   "cell_type": "code",
   "execution_count": 32,
   "metadata": {},
   "outputs": [
    {
     "data": {
      "text/html": [
       "2"
      ],
      "text/latex": [
       "2"
      ],
      "text/markdown": [
       "2"
      ],
      "text/plain": [
       "[1] 2"
      ]
     },
     "metadata": {},
     "output_type": "display_data"
    }
   ],
   "source": [
    "gl1 <- get_longest(l1)\n",
    "gl1$number"
   ]
  },
  {
   "cell_type": "code",
   "execution_count": 33,
   "metadata": {},
   "outputs": [],
   "source": [
    "l2 <- gen_list(4,10,777)"
   ]
  },
  {
   "cell_type": "code",
   "execution_count": 34,
   "metadata": {},
   "outputs": [
    {
     "data": {
      "text/html": [
       "<dl>\n",
       "\t<dt>$number</dt>\n",
       "\t\t<dd>4</dd>\n",
       "\t<dt>$element</dt>\n",
       "\t\t<dd><ol class=list-inline>\n",
       "\t<li>-0.544132500991947</li>\n",
       "\t<li>0.67122324845809</li>\n",
       "\t<li>0.500818671426514</li>\n",
       "\t<li>-2.03063589705556</li>\n",
       "\t<li>0.227751851764679</li>\n",
       "\t<li>-0.783025144602728</li>\n",
       "\t<li>1.27359211253877</li>\n",
       "\t<li>1.43771066769114</li>\n",
       "\t<li>0.427008646280104</li>\n",
       "\t<li>-1.74445652913454</li>\n",
       "</ol>\n",
       "</dd>\n",
       "</dl>\n"
      ],
      "text/latex": [
       "\\begin{description}\n",
       "\\item[\\$number] 4\n",
       "\\item[\\$element] \\begin{enumerate*}\n",
       "\\item -0.544132500991947\n",
       "\\item 0.67122324845809\n",
       "\\item 0.500818671426514\n",
       "\\item -2.03063589705556\n",
       "\\item 0.227751851764679\n",
       "\\item -0.783025144602728\n",
       "\\item 1.27359211253877\n",
       "\\item 1.43771066769114\n",
       "\\item 0.427008646280104\n",
       "\\item -1.74445652913454\n",
       "\\end{enumerate*}\n",
       "\n",
       "\\end{description}\n"
      ],
      "text/markdown": [
       "$number\n",
       ":   4\n",
       "$element\n",
       ":   1. -0.544132500991947\n",
       "2. 0.67122324845809\n",
       "3. 0.500818671426514\n",
       "4. -2.03063589705556\n",
       "5. 0.227751851764679\n",
       "6. -0.783025144602728\n",
       "7. 1.27359211253877\n",
       "8. 1.43771066769114\n",
       "9. 0.427008646280104\n",
       "10. -1.74445652913454\n",
       "\n",
       "\n",
       "\n",
       "\n",
       "\n"
      ],
      "text/plain": [
       "$number\n",
       "[1] 4\n",
       "\n",
       "$element\n",
       " [1] -0.5441325  0.6712232  0.5008187 -2.0306359  0.2277519 -0.7830251\n",
       " [7]  1.2735921  1.4377107  0.4270086 -1.7444565\n"
      ]
     },
     "metadata": {},
     "output_type": "display_data"
    }
   ],
   "source": [
    "get_longest(l2)"
   ]
  },
  {
   "cell_type": "markdown",
   "metadata": {},
   "source": [
    "Если вектор достаточно длинный, то визуально сложно оценить, какие в нём содержатся элементы и сколько раз они повторяются. В этом случае полезно будет посмотреть на таблицу частот элементов.\n",
    "\n",
    "Пусть x -- целочисленный вектор. Напишите функцию, которая вернёт матрицу из двух строк. В первой строке перечислите все различные элементы вектора, упорядоченные по возрастанию. Во второй строке укажите частоты (количество повторов) этих элементов.\n",
    "\n",
    "Пример. Пусть x <- c(5, 2, 7, 7, 7, 2, 0, 0). Тогда функция должна вернуть матрицу 2х4 с элементами\n",
    "\n",
    "0 2 5 7\n",
    "\n",
    "\n",
    "2 2 1 3"
   ]
  },
  {
   "cell_type": "code",
   "execution_count": 234,
   "metadata": {},
   "outputs": [],
   "source": [
    "count_elements <- function(x) {\n",
    "    x <-  t(as.matrix(table(x)))\n",
    "    q <- as.numeric(colnames(x))\n",
    "    colnames(x) <- c()\n",
    "    q <- matrix(q, ncol = ncol(x))\n",
    "    return (rbind(q,x))\n",
    "}"
   ]
  },
  {
   "cell_type": "code",
   "execution_count": 235,
   "metadata": {},
   "outputs": [
    {
     "data": {
      "text/html": [
       "<table>\n",
       "<tbody>\n",
       "\t<tr><td>0</td><td>2</td><td>5</td><td>7</td></tr>\n",
       "\t<tr><td>2</td><td>2</td><td>1</td><td>3</td></tr>\n",
       "</tbody>\n",
       "</table>\n"
      ],
      "text/latex": [
       "\\begin{tabular}{llll}\n",
       "\t 0 & 2 & 5 & 7\\\\\n",
       "\t 2 & 2 & 1 & 3\\\\\n",
       "\\end{tabular}\n"
      ],
      "text/markdown": [
       "\n",
       "| 0 | 2 | 5 | 7 | \n",
       "| 2 | 2 | 1 | 3 | \n",
       "\n",
       "\n"
      ],
      "text/plain": [
       "     [,1] [,2] [,3] [,4]\n",
       "[1,] 0    2    5    7   \n",
       "[2,] 2    2    1    3   "
      ]
     },
     "metadata": {},
     "output_type": "display_data"
    }
   ],
   "source": [
    "x <- c(5, 2, 7, 7, 7, 2, 0, 0)\n",
    "count_elements(x)"
   ]
  },
  {
   "cell_type": "markdown",
   "metadata": {},
   "source": [
    "Парижане бунтуют! По слухам, Бастилия плохо охраняется, а её арсеналы полны пороха и мушкетов.\n",
    "Пришло время решительных действий. Наши агенты смогли подсчитать количество солдат в патрулях в каждой из восьми башен крепости. Вот эти данные:"
   ]
  },
  {
   "cell_type": "code",
   "execution_count": 34,
   "metadata": {},
   "outputs": [],
   "source": [
    "set.seed(1789)\n",
    "bastille <- list(\n",
    "  \"La Chapelle Tower\" = rbinom(5, 10, 1/2), \n",
    "  \"Tresor Tower\" = rbinom(8, 12, 1/4), \n",
    "  \"Comte Tower\" = rbinom(14, 3, 1/5) + 1,\n",
    "  \"Baziniere Tower\" = rbinom(8, 4, 4/5), \n",
    "  \"Bertaudiere Tower\" = rbinom(4, 8, 2/3),\n",
    "  \"Liberte Tower\" = rbinom(1, 100, 0.1), \n",
    "  \"Puits Tower\" = rbinom(5, 5, 0.7),\n",
    "  \"Coin Tower\" = rbinom(3, 16, 0.4)\n",
    ")"
   ]
  },
  {
   "cell_type": "markdown",
   "metadata": {},
   "source": [
    "Составьте короткий отчёт: какая из башен менее всего защищена, сколько в ней солдат, и сколько всего солдат в Бастилии? Свобода, равенство, братство!\n",
    "\n",
    "\n",
    "P.S. Формат ответа: tower_name, XX, YY﻿: полное название башни как в списке (без кавычек) и два числа. В качестве разделителя -- запятая и пробел."
   ]
  },
  {
   "cell_type": "code",
   "execution_count": 36,
   "metadata": {},
   "outputs": [
    {
     "data": {
      "text/html": [
       "<dl>\n",
       "\t<dt>$`La Chapelle Tower`</dt>\n",
       "\t\t<dd><ol class=list-inline>\n",
       "\t<li>6</li>\n",
       "\t<li>5</li>\n",
       "\t<li>7</li>\n",
       "\t<li>3</li>\n",
       "\t<li>7</li>\n",
       "</ol>\n",
       "</dd>\n",
       "\t<dt>$`Tresor Tower`</dt>\n",
       "\t\t<dd><ol class=list-inline>\n",
       "\t<li>4</li>\n",
       "\t<li>4</li>\n",
       "\t<li>2</li>\n",
       "\t<li>6</li>\n",
       "\t<li>3</li>\n",
       "\t<li>3</li>\n",
       "\t<li>4</li>\n",
       "\t<li>4</li>\n",
       "</ol>\n",
       "</dd>\n",
       "\t<dt>$`Comte Tower`</dt>\n",
       "\t\t<dd><ol class=list-inline>\n",
       "\t<li>1</li>\n",
       "\t<li>2</li>\n",
       "\t<li>1</li>\n",
       "\t<li>2</li>\n",
       "\t<li>1</li>\n",
       "\t<li>2</li>\n",
       "\t<li>2</li>\n",
       "\t<li>2</li>\n",
       "\t<li>1</li>\n",
       "\t<li>1</li>\n",
       "\t<li>3</li>\n",
       "\t<li>2</li>\n",
       "\t<li>1</li>\n",
       "\t<li>2</li>\n",
       "</ol>\n",
       "</dd>\n",
       "\t<dt>$`Baziniere Tower`</dt>\n",
       "\t\t<dd><ol class=list-inline>\n",
       "\t<li>4</li>\n",
       "\t<li>3</li>\n",
       "\t<li>2</li>\n",
       "\t<li>4</li>\n",
       "\t<li>4</li>\n",
       "\t<li>3</li>\n",
       "\t<li>2</li>\n",
       "\t<li>2</li>\n",
       "</ol>\n",
       "</dd>\n",
       "\t<dt>$`Bertaudiere Tower`</dt>\n",
       "\t\t<dd><ol class=list-inline>\n",
       "\t<li>1</li>\n",
       "\t<li>5</li>\n",
       "\t<li>5</li>\n",
       "\t<li>7</li>\n",
       "</ol>\n",
       "</dd>\n",
       "\t<dt>$`Liberte Tower`</dt>\n",
       "\t\t<dd>10</dd>\n",
       "\t<dt>$`Puits Tower`</dt>\n",
       "\t\t<dd><ol class=list-inline>\n",
       "\t<li>4</li>\n",
       "\t<li>4</li>\n",
       "\t<li>3</li>\n",
       "\t<li>5</li>\n",
       "\t<li>4</li>\n",
       "</ol>\n",
       "</dd>\n",
       "\t<dt>$`Coin Tower`</dt>\n",
       "\t\t<dd><ol class=list-inline>\n",
       "\t<li>4</li>\n",
       "\t<li>5</li>\n",
       "\t<li>8</li>\n",
       "</ol>\n",
       "</dd>\n",
       "</dl>\n"
      ],
      "text/latex": [
       "\\begin{description}\n",
       "\\item[\\$`La Chapelle Tower`] \\begin{enumerate*}\n",
       "\\item 6\n",
       "\\item 5\n",
       "\\item 7\n",
       "\\item 3\n",
       "\\item 7\n",
       "\\end{enumerate*}\n",
       "\n",
       "\\item[\\$`Tresor Tower`] \\begin{enumerate*}\n",
       "\\item 4\n",
       "\\item 4\n",
       "\\item 2\n",
       "\\item 6\n",
       "\\item 3\n",
       "\\item 3\n",
       "\\item 4\n",
       "\\item 4\n",
       "\\end{enumerate*}\n",
       "\n",
       "\\item[\\$`Comte Tower`] \\begin{enumerate*}\n",
       "\\item 1\n",
       "\\item 2\n",
       "\\item 1\n",
       "\\item 2\n",
       "\\item 1\n",
       "\\item 2\n",
       "\\item 2\n",
       "\\item 2\n",
       "\\item 1\n",
       "\\item 1\n",
       "\\item 3\n",
       "\\item 2\n",
       "\\item 1\n",
       "\\item 2\n",
       "\\end{enumerate*}\n",
       "\n",
       "\\item[\\$`Baziniere Tower`] \\begin{enumerate*}\n",
       "\\item 4\n",
       "\\item 3\n",
       "\\item 2\n",
       "\\item 4\n",
       "\\item 4\n",
       "\\item 3\n",
       "\\item 2\n",
       "\\item 2\n",
       "\\end{enumerate*}\n",
       "\n",
       "\\item[\\$`Bertaudiere Tower`] \\begin{enumerate*}\n",
       "\\item 1\n",
       "\\item 5\n",
       "\\item 5\n",
       "\\item 7\n",
       "\\end{enumerate*}\n",
       "\n",
       "\\item[\\$`Liberte Tower`] 10\n",
       "\\item[\\$`Puits Tower`] \\begin{enumerate*}\n",
       "\\item 4\n",
       "\\item 4\n",
       "\\item 3\n",
       "\\item 5\n",
       "\\item 4\n",
       "\\end{enumerate*}\n",
       "\n",
       "\\item[\\$`Coin Tower`] \\begin{enumerate*}\n",
       "\\item 4\n",
       "\\item 5\n",
       "\\item 8\n",
       "\\end{enumerate*}\n",
       "\n",
       "\\end{description}\n"
      ],
      "text/markdown": [
       "$`La Chapelle Tower`\n",
       ":   1. 6\n",
       "2. 5\n",
       "3. 7\n",
       "4. 3\n",
       "5. 7\n",
       "\n",
       "\n",
       "\n",
       "$`Tresor Tower`\n",
       ":   1. 4\n",
       "2. 4\n",
       "3. 2\n",
       "4. 6\n",
       "5. 3\n",
       "6. 3\n",
       "7. 4\n",
       "8. 4\n",
       "\n",
       "\n",
       "\n",
       "$`Comte Tower`\n",
       ":   1. 1\n",
       "2. 2\n",
       "3. 1\n",
       "4. 2\n",
       "5. 1\n",
       "6. 2\n",
       "7. 2\n",
       "8. 2\n",
       "9. 1\n",
       "10. 1\n",
       "11. 3\n",
       "12. 2\n",
       "13. 1\n",
       "14. 2\n",
       "\n",
       "\n",
       "\n",
       "$`Baziniere Tower`\n",
       ":   1. 4\n",
       "2. 3\n",
       "3. 2\n",
       "4. 4\n",
       "5. 4\n",
       "6. 3\n",
       "7. 2\n",
       "8. 2\n",
       "\n",
       "\n",
       "\n",
       "$`Bertaudiere Tower`\n",
       ":   1. 1\n",
       "2. 5\n",
       "3. 5\n",
       "4. 7\n",
       "\n",
       "\n",
       "\n",
       "$`Liberte Tower`\n",
       ":   10\n",
       "$`Puits Tower`\n",
       ":   1. 4\n",
       "2. 4\n",
       "3. 3\n",
       "4. 5\n",
       "5. 4\n",
       "\n",
       "\n",
       "\n",
       "$`Coin Tower`\n",
       ":   1. 4\n",
       "2. 5\n",
       "3. 8\n",
       "\n",
       "\n",
       "\n",
       "\n",
       "\n"
      ],
      "text/plain": [
       "$`La Chapelle Tower`\n",
       "[1] 6 5 7 3 7\n",
       "\n",
       "$`Tresor Tower`\n",
       "[1] 4 4 2 6 3 3 4 4\n",
       "\n",
       "$`Comte Tower`\n",
       " [1] 1 2 1 2 1 2 2 2 1 1 3 2 1 2\n",
       "\n",
       "$`Baziniere Tower`\n",
       "[1] 4 3 2 4 4 3 2 2\n",
       "\n",
       "$`Bertaudiere Tower`\n",
       "[1] 1 5 5 7\n",
       "\n",
       "$`Liberte Tower`\n",
       "[1] 10\n",
       "\n",
       "$`Puits Tower`\n",
       "[1] 4 4 3 5 4\n",
       "\n",
       "$`Coin Tower`\n",
       "[1] 4 5 8\n"
      ]
     },
     "metadata": {},
     "output_type": "display_data"
    }
   ],
   "source": [
    "bastille"
   ]
  },
  {
   "cell_type": "code",
   "execution_count": 37,
   "metadata": {},
   "outputs": [
    {
     "data": {
      "text/html": [
       "<strong>$`Liberte Tower`</strong> = 10"
      ],
      "text/latex": [
       "\\textbf{\\$`Liberte Tower`} = 10"
      ],
      "text/markdown": [
       "**$`Liberte Tower`** = 10"
      ],
      "text/plain": [
       "$`Liberte Tower`\n",
       "[1] 10\n"
      ]
     },
     "metadata": {},
     "output_type": "display_data"
    }
   ],
   "source": [
    "bastille[names(which.min(sapply(bastille, sum)))]"
   ]
  },
  {
   "cell_type": "code",
   "execution_count": 49,
   "metadata": {},
   "outputs": [
    {
     "data": {
      "text/html": [
       "170"
      ],
      "text/latex": [
       "170"
      ],
      "text/markdown": [
       "170"
      ],
      "text/plain": [
       "[1] 170"
      ]
     },
     "metadata": {},
     "output_type": "display_data"
    }
   ],
   "source": [
    "sum(sapply(bastille, sum))"
   ]
  },
  {
   "cell_type": "code",
   "execution_count": null,
   "metadata": {},
   "outputs": [],
   "source": []
  },
  {
   "cell_type": "markdown",
   "metadata": {},
   "source": [
    "Общий глоссарий для этого урока:\n",
    "\n",
    "?matrix\n",
    "\n",
    "?dim, ?rownames, ?colnames\n",
    "\n",
    "?rbind, ?cbind, ?apply\n",
    "\n",
    "?rowSums, ?rowMeans, ?colSums, ?colMeans\n",
    "\n",
    "?list, ?unlist\n",
    "\n",
    "?\"[\" (?\"[[\", ?\"$\")\n",
    "\n",
    "?lapply, ?sapply\n",
    "\n",
    "Partial matching, ?\"...\" (ellipsis)\n",
    "\n",
    "?diag"
   ]
  },
  {
   "cell_type": "markdown",
   "metadata": {},
   "source": [
    "# 2.2 Дата фреймы"
   ]
  },
  {
   "cell_type": "markdown",
   "metadata": {},
   "source": [
    "В этом уроке мы:\n",
    "\n",
    "+ узнаем, как лучше всего хранить табличные данные;\n",
    "+ познакомимся с тонкостями импорта данных в сессию R;\n",
    "+ рассмотрим типичные этапы предобработки данных;\n",
    "+ исследуем места обитания редких птиц.\n",
    "\n",
    "Дата фрейм и эффективная работа с ним -- это хребет не только этого курса, но, пожалуй, и всего языка в целом. Это достаточно сложная структура, сочетающая в себе сильные стороны вектора, матрицы и списка. Крайне важно почувствовать себя в условиях, \"приближенных к боевым\", именно поэтому я уделяю особое внимание практической работе с дата фреймом."
   ]
  },
  {
   "cell_type": "markdown",
   "metadata": {},
   "source": [
    "## Создание дата фреймов"
   ]
  },
  {
   "cell_type": "code",
   "execution_count": 6,
   "metadata": {},
   "outputs": [
    {
     "data": {
      "text/html": [
       "<table>\n",
       "<thead><tr><th scope=col>x</th><th scope=col>y</th><th scope=col>z</th></tr></thead>\n",
       "<tbody>\n",
       "\t<tr><td>1    </td><td>A    </td><td> TRUE</td></tr>\n",
       "\t<tr><td>2    </td><td>B    </td><td>FALSE</td></tr>\n",
       "\t<tr><td>3    </td><td>C    </td><td> TRUE</td></tr>\n",
       "\t<tr><td>4    </td><td>D    </td><td>FALSE</td></tr>\n",
       "</tbody>\n",
       "</table>\n"
      ],
      "text/latex": [
       "\\begin{tabular}{r|lll}\n",
       " x & y & z\\\\\n",
       "\\hline\n",
       "\t 1     & A     &  TRUE\\\\\n",
       "\t 2     & B     & FALSE\\\\\n",
       "\t 3     & C     &  TRUE\\\\\n",
       "\t 4     & D     & FALSE\\\\\n",
       "\\end{tabular}\n"
      ],
      "text/markdown": [
       "\n",
       "x | y | z | \n",
       "|---|---|---|---|\n",
       "| 1     | A     |  TRUE | \n",
       "| 2     | B     | FALSE | \n",
       "| 3     | C     |  TRUE | \n",
       "| 4     | D     | FALSE | \n",
       "\n",
       "\n"
      ],
      "text/plain": [
       "  x y z    \n",
       "1 1 A  TRUE\n",
       "2 2 B FALSE\n",
       "3 3 C  TRUE\n",
       "4 4 D FALSE"
      ]
     },
     "metadata": {},
     "output_type": "display_data"
    }
   ],
   "source": [
    "df <- data.frame(x = 1:4, y = LETTERS[1:4], z = c(T,F))\n",
    "df"
   ]
  },
  {
   "cell_type": "markdown",
   "metadata": {},
   "source": [
    "Функция `str` - сводка об обьекте"
   ]
  },
  {
   "cell_type": "code",
   "execution_count": 8,
   "metadata": {},
   "outputs": [
    {
     "name": "stdout",
     "output_type": "stream",
     "text": [
      "'data.frame':\t4 obs. of  3 variables:\n",
      " $ x: int  1 2 3 4\n",
      " $ y: Factor w/ 4 levels \"A\",\"B\",\"C\",\"D\": 1 2 3 4\n",
      " $ z: logi  TRUE FALSE TRUE FALSE\n"
     ]
    }
   ],
   "source": [
    "str(df)"
   ]
  },
  {
   "cell_type": "markdown",
   "metadata": {},
   "source": [
    "## Имена"
   ]
  },
  {
   "cell_type": "code",
   "execution_count": 6,
   "metadata": {},
   "outputs": [
    {
     "data": {
      "text/html": [
       "<table>\n",
       "<thead><tr><th></th><th scope=col>x</th><th scope=col>y</th><th scope=col>z</th></tr></thead>\n",
       "<tbody>\n",
       "\t<tr><th scope=row>Alpha</th><td>1    </td><td>A    </td><td> TRUE</td></tr>\n",
       "\t<tr><th scope=row>Bravo</th><td>2    </td><td>B    </td><td>FALSE</td></tr>\n",
       "\t<tr><th scope=row>Charlie</th><td>3    </td><td>C    </td><td> TRUE</td></tr>\n",
       "\t<tr><th scope=row>Delta</th><td>4    </td><td>D    </td><td>FALSE</td></tr>\n",
       "</tbody>\n",
       "</table>\n"
      ],
      "text/latex": [
       "\\begin{tabular}{r|lll}\n",
       "  & x & y & z\\\\\n",
       "\\hline\n",
       "\tAlpha & 1     & A     &  TRUE\\\\\n",
       "\tBravo & 2     & B     & FALSE\\\\\n",
       "\tCharlie & 3     & C     &  TRUE\\\\\n",
       "\tDelta & 4     & D     & FALSE\\\\\n",
       "\\end{tabular}\n"
      ],
      "text/markdown": [
       "\n",
       "| <!--/--> | x | y | z | \n",
       "|---|---|---|---|\n",
       "| Alpha | 1     | A     |  TRUE | \n",
       "| Bravo | 2     | B     | FALSE | \n",
       "| Charlie | 3     | C     |  TRUE | \n",
       "| Delta | 4     | D     | FALSE | \n",
       "\n",
       "\n"
      ],
      "text/plain": [
       "        x y z    \n",
       "Alpha   1 A  TRUE\n",
       "Bravo   2 B FALSE\n",
       "Charlie 3 C  TRUE\n",
       "Delta   4 D FALSE"
      ]
     },
     "metadata": {},
     "output_type": "display_data"
    }
   ],
   "source": [
    "df <- data.frame(x = 1:4, y = LETTERS[1:4], z = c(T,F),\n",
    "                row.names = c(\"Alpha\", \"Bravo\", \"Charlie\", \"Delta\"))\n",
    "df"
   ]
  },
  {
   "cell_type": "code",
   "execution_count": 7,
   "metadata": {},
   "outputs": [
    {
     "data": {
      "text/html": [
       "<ol class=list-inline>\n",
       "\t<li>'Alpha'</li>\n",
       "\t<li>'Bravo'</li>\n",
       "\t<li>'Charlie'</li>\n",
       "\t<li>'Delta'</li>\n",
       "</ol>\n"
      ],
      "text/latex": [
       "\\begin{enumerate*}\n",
       "\\item 'Alpha'\n",
       "\\item 'Bravo'\n",
       "\\item 'Charlie'\n",
       "\\item 'Delta'\n",
       "\\end{enumerate*}\n"
      ],
      "text/markdown": [
       "1. 'Alpha'\n",
       "2. 'Bravo'\n",
       "3. 'Charlie'\n",
       "4. 'Delta'\n",
       "\n",
       "\n"
      ],
      "text/plain": [
       "[1] \"Alpha\"   \"Bravo\"   \"Charlie\" \"Delta\"  "
      ]
     },
     "metadata": {},
     "output_type": "display_data"
    },
    {
     "data": {
      "text/html": [
       "<ol class=list-inline>\n",
       "\t<li>'x'</li>\n",
       "\t<li>'y'</li>\n",
       "\t<li>'z'</li>\n",
       "</ol>\n"
      ],
      "text/latex": [
       "\\begin{enumerate*}\n",
       "\\item 'x'\n",
       "\\item 'y'\n",
       "\\item 'z'\n",
       "\\end{enumerate*}\n"
      ],
      "text/markdown": [
       "1. 'x'\n",
       "2. 'y'\n",
       "3. 'z'\n",
       "\n",
       "\n"
      ],
      "text/plain": [
       "[1] \"x\" \"y\" \"z\""
      ]
     },
     "metadata": {},
     "output_type": "display_data"
    },
    {
     "data": {
      "text/html": [
       "<ol>\n",
       "\t<li><ol class=list-inline>\n",
       "\t<li>'Alpha'</li>\n",
       "\t<li>'Bravo'</li>\n",
       "\t<li>'Charlie'</li>\n",
       "\t<li>'Delta'</li>\n",
       "</ol>\n",
       "</li>\n",
       "\t<li><ol class=list-inline>\n",
       "\t<li>'x'</li>\n",
       "\t<li>'y'</li>\n",
       "\t<li>'z'</li>\n",
       "</ol>\n",
       "</li>\n",
       "</ol>\n"
      ],
      "text/latex": [
       "\\begin{enumerate}\n",
       "\\item \\begin{enumerate*}\n",
       "\\item 'Alpha'\n",
       "\\item 'Bravo'\n",
       "\\item 'Charlie'\n",
       "\\item 'Delta'\n",
       "\\end{enumerate*}\n",
       "\n",
       "\\item \\begin{enumerate*}\n",
       "\\item 'x'\n",
       "\\item 'y'\n",
       "\\item 'z'\n",
       "\\end{enumerate*}\n",
       "\n",
       "\\end{enumerate}\n"
      ],
      "text/markdown": [
       "1. 1. 'Alpha'\n",
       "2. 'Bravo'\n",
       "3. 'Charlie'\n",
       "4. 'Delta'\n",
       "\n",
       "\n",
       "\n",
       "2. 1. 'x'\n",
       "2. 'y'\n",
       "3. 'z'\n",
       "\n",
       "\n",
       "\n",
       "\n",
       "\n"
      ],
      "text/plain": [
       "[[1]]\n",
       "[1] \"Alpha\"   \"Bravo\"   \"Charlie\" \"Delta\"  \n",
       "\n",
       "[[2]]\n",
       "[1] \"x\" \"y\" \"z\"\n"
      ]
     },
     "metadata": {},
     "output_type": "display_data"
    }
   ],
   "source": [
    "rownames(df)\n",
    "colnames(df)\n",
    "dimnames(df)                   # універсальний варіант"
   ]
  },
  {
   "cell_type": "markdown",
   "metadata": {},
   "source": [
    "## Размерности"
   ]
  },
  {
   "cell_type": "code",
   "execution_count": 8,
   "metadata": {},
   "outputs": [
    {
     "data": {
      "text/html": [
       "4"
      ],
      "text/latex": [
       "4"
      ],
      "text/markdown": [
       "4"
      ],
      "text/plain": [
       "[1] 4"
      ]
     },
     "metadata": {},
     "output_type": "display_data"
    }
   ],
   "source": [
    "nrow(df)"
   ]
  },
  {
   "cell_type": "code",
   "execution_count": 9,
   "metadata": {},
   "outputs": [
    {
     "data": {
      "text/html": [
       "3"
      ],
      "text/latex": [
       "3"
      ],
      "text/markdown": [
       "3"
      ],
      "text/plain": [
       "[1] 3"
      ]
     },
     "metadata": {},
     "output_type": "display_data"
    }
   ],
   "source": [
    "ncol(df)"
   ]
  },
  {
   "cell_type": "code",
   "execution_count": 10,
   "metadata": {},
   "outputs": [
    {
     "data": {
      "text/html": [
       "<ol class=list-inline>\n",
       "\t<li>4</li>\n",
       "\t<li>3</li>\n",
       "</ol>\n"
      ],
      "text/latex": [
       "\\begin{enumerate*}\n",
       "\\item 4\n",
       "\\item 3\n",
       "\\end{enumerate*}\n"
      ],
      "text/markdown": [
       "1. 4\n",
       "2. 3\n",
       "\n",
       "\n"
      ],
      "text/plain": [
       "[1] 4 3"
      ]
     },
     "metadata": {},
     "output_type": "display_data"
    }
   ],
   "source": [
    "dim(df)"
   ]
  },
  {
   "cell_type": "markdown",
   "metadata": {},
   "source": [
    "Две важные особенности:\n",
    "\n",
    "+ `length(df)` возвращает количество столбцов(переменных), а не общеее количество элементов.\n",
    "\n",
    "+ `names(df)` также возвращает имена столбцов"
   ]
  },
  {
   "cell_type": "code",
   "execution_count": 11,
   "metadata": {},
   "outputs": [
    {
     "data": {
      "text/html": [
       "3"
      ],
      "text/latex": [
       "3"
      ],
      "text/markdown": [
       "3"
      ],
      "text/plain": [
       "[1] 3"
      ]
     },
     "metadata": {},
     "output_type": "display_data"
    }
   ],
   "source": [
    "length(df)"
   ]
  },
  {
   "cell_type": "code",
   "execution_count": 12,
   "metadata": {},
   "outputs": [
    {
     "data": {
      "text/html": [
       "<ol class=list-inline>\n",
       "\t<li>'x'</li>\n",
       "\t<li>'y'</li>\n",
       "\t<li>'z'</li>\n",
       "</ol>\n"
      ],
      "text/latex": [
       "\\begin{enumerate*}\n",
       "\\item 'x'\n",
       "\\item 'y'\n",
       "\\item 'z'\n",
       "\\end{enumerate*}\n"
      ],
      "text/markdown": [
       "1. 'x'\n",
       "2. 'y'\n",
       "3. 'z'\n",
       "\n",
       "\n"
      ],
      "text/plain": [
       "[1] \"x\" \"y\" \"z\""
      ]
     },
     "metadata": {},
     "output_type": "display_data"
    }
   ],
   "source": [
    "names(df)  # тоже самое что и colnames(df)"
   ]
  },
  {
   "cell_type": "code",
   "execution_count": 13,
   "metadata": {},
   "outputs": [
    {
     "data": {
      "text/html": [
       "<ol class=list-inline>\n",
       "\t<li>TRUE</li>\n",
       "\t<li>TRUE</li>\n",
       "\t<li>TRUE</li>\n",
       "</ol>\n"
      ],
      "text/latex": [
       "\\begin{enumerate*}\n",
       "\\item TRUE\n",
       "\\item TRUE\n",
       "\\item TRUE\n",
       "\\end{enumerate*}\n"
      ],
      "text/markdown": [
       "1. TRUE\n",
       "2. TRUE\n",
       "3. TRUE\n",
       "\n",
       "\n"
      ],
      "text/plain": [
       "[1] TRUE TRUE TRUE"
      ]
     },
     "metadata": {},
     "output_type": "display_data"
    }
   ],
   "source": [
    "names(df)  == colnames(df)"
   ]
  },
  {
   "cell_type": "markdown",
   "metadata": {},
   "source": [
    "## Индексация `data frame`"
   ]
  },
  {
   "cell_type": "markdown",
   "metadata": {},
   "source": [
    "Как для матрицы: "
   ]
  },
  {
   "cell_type": "code",
   "execution_count": 14,
   "metadata": {},
   "outputs": [
    {
     "data": {
      "text/html": [
       "<table>\n",
       "<thead><tr><th></th><th scope=col>y</th><th scope=col>z</th></tr></thead>\n",
       "<tbody>\n",
       "\t<tr><th scope=row>Charlie</th><td>C    </td><td> TRUE</td></tr>\n",
       "\t<tr><th scope=row>Delta</th><td>D    </td><td>FALSE</td></tr>\n",
       "</tbody>\n",
       "</table>\n"
      ],
      "text/latex": [
       "\\begin{tabular}{r|ll}\n",
       "  & y & z\\\\\n",
       "\\hline\n",
       "\tCharlie & C     &  TRUE\\\\\n",
       "\tDelta & D     & FALSE\\\\\n",
       "\\end{tabular}\n"
      ],
      "text/markdown": [
       "\n",
       "| <!--/--> | y | z | \n",
       "|---|---|\n",
       "| Charlie | C     |  TRUE | \n",
       "| Delta | D     | FALSE | \n",
       "\n",
       "\n"
      ],
      "text/plain": [
       "        y z    \n",
       "Charlie C  TRUE\n",
       "Delta   D FALSE"
      ]
     },
     "metadata": {},
     "output_type": "display_data"
    }
   ],
   "source": [
    "df[3:4,-1]"
   ]
  },
  {
   "cell_type": "code",
   "execution_count": 15,
   "metadata": {},
   "outputs": [
    {
     "data": {
      "text/html": [
       "<table>\n",
       "<thead><tr><th></th><th scope=col>z</th><th scope=col>x</th></tr></thead>\n",
       "<tbody>\n",
       "\t<tr><th scope=row>Bravo</th><td>FALSE</td><td>2    </td></tr>\n",
       "\t<tr><th scope=row>Delta</th><td>FALSE</td><td>4    </td></tr>\n",
       "</tbody>\n",
       "</table>\n"
      ],
      "text/latex": [
       "\\begin{tabular}{r|ll}\n",
       "  & z & x\\\\\n",
       "\\hline\n",
       "\tBravo & FALSE & 2    \\\\\n",
       "\tDelta & FALSE & 4    \\\\\n",
       "\\end{tabular}\n"
      ],
      "text/markdown": [
       "\n",
       "| <!--/--> | z | x | \n",
       "|---|---|\n",
       "| Bravo | FALSE | 2     | \n",
       "| Delta | FALSE | 4     | \n",
       "\n",
       "\n"
      ],
      "text/plain": [
       "      z     x\n",
       "Bravo FALSE 2\n",
       "Delta FALSE 4"
      ]
     },
     "metadata": {},
     "output_type": "display_data"
    }
   ],
   "source": [
    "df[c(F,T),c(\"z\",\"x\")]"
   ]
  },
  {
   "cell_type": "code",
   "execution_count": 16,
   "metadata": {},
   "outputs": [
    {
     "data": {
      "text/html": [
       "<ol class=list-inline>\n",
       "\t<li>1</li>\n",
       "\t<li>2</li>\n",
       "\t<li>3</li>\n",
       "\t<li>4</li>\n",
       "</ol>\n"
      ],
      "text/latex": [
       "\\begin{enumerate*}\n",
       "\\item 1\n",
       "\\item 2\n",
       "\\item 3\n",
       "\\item 4\n",
       "\\end{enumerate*}\n"
      ],
      "text/markdown": [
       "1. 1\n",
       "2. 2\n",
       "3. 3\n",
       "4. 4\n",
       "\n",
       "\n"
      ],
      "text/plain": [
       "[1] 1 2 3 4"
      ]
     },
     "metadata": {},
     "output_type": "display_data"
    }
   ],
   "source": [
    "df[,1]"
   ]
  },
  {
   "cell_type": "code",
   "execution_count": 17,
   "metadata": {},
   "outputs": [
    {
     "data": {
      "text/html": [
       "<table>\n",
       "<thead><tr><th></th><th scope=col>x</th></tr></thead>\n",
       "<tbody>\n",
       "\t<tr><th scope=row>Alpha</th><td>1</td></tr>\n",
       "\t<tr><th scope=row>Bravo</th><td>2</td></tr>\n",
       "\t<tr><th scope=row>Charlie</th><td>3</td></tr>\n",
       "\t<tr><th scope=row>Delta</th><td>4</td></tr>\n",
       "</tbody>\n",
       "</table>\n"
      ],
      "text/latex": [
       "\\begin{tabular}{r|l}\n",
       "  & x\\\\\n",
       "\\hline\n",
       "\tAlpha & 1\\\\\n",
       "\tBravo & 2\\\\\n",
       "\tCharlie & 3\\\\\n",
       "\tDelta & 4\\\\\n",
       "\\end{tabular}\n"
      ],
      "text/markdown": [
       "\n",
       "| <!--/--> | x | \n",
       "|---|---|---|---|\n",
       "| Alpha | 1 | \n",
       "| Bravo | 2 | \n",
       "| Charlie | 3 | \n",
       "| Delta | 4 | \n",
       "\n",
       "\n"
      ],
      "text/plain": [
       "        x\n",
       "Alpha   1\n",
       "Bravo   2\n",
       "Charlie 3\n",
       "Delta   4"
      ]
     },
     "metadata": {},
     "output_type": "display_data"
    }
   ],
   "source": [
    "df[,1, drop = FALSE]"
   ]
  },
  {
   "cell_type": "markdown",
   "metadata": {},
   "source": [
    "Как для списка:"
   ]
  },
  {
   "cell_type": "code",
   "execution_count": 18,
   "metadata": {},
   "outputs": [
    {
     "data": {
      "text/html": [
       "<ol class=list-inline>\n",
       "\t<li>TRUE</li>\n",
       "\t<li>FALSE</li>\n",
       "\t<li>TRUE</li>\n",
       "\t<li>FALSE</li>\n",
       "</ol>\n"
      ],
      "text/latex": [
       "\\begin{enumerate*}\n",
       "\\item TRUE\n",
       "\\item FALSE\n",
       "\\item TRUE\n",
       "\\item FALSE\n",
       "\\end{enumerate*}\n"
      ],
      "text/markdown": [
       "1. TRUE\n",
       "2. FALSE\n",
       "3. TRUE\n",
       "4. FALSE\n",
       "\n",
       "\n"
      ],
      "text/plain": [
       "[1]  TRUE FALSE  TRUE FALSE"
      ]
     },
     "metadata": {},
     "output_type": "display_data"
    }
   ],
   "source": [
    "df$z "
   ]
  },
  {
   "cell_type": "code",
   "execution_count": 19,
   "metadata": {},
   "outputs": [
    {
     "data": {
      "text/html": [
       "<ol class=list-inline>\n",
       "\t<li>1</li>\n",
       "\t<li>2</li>\n",
       "\t<li>3</li>\n",
       "\t<li>4</li>\n",
       "</ol>\n"
      ],
      "text/latex": [
       "\\begin{enumerate*}\n",
       "\\item 1\n",
       "\\item 2\n",
       "\\item 3\n",
       "\\item 4\n",
       "\\end{enumerate*}\n"
      ],
      "text/markdown": [
       "1. 1\n",
       "2. 2\n",
       "3. 3\n",
       "4. 4\n",
       "\n",
       "\n"
      ],
      "text/plain": [
       "[1] 1 2 3 4"
      ]
     },
     "metadata": {},
     "output_type": "display_data"
    }
   ],
   "source": [
    "df$x"
   ]
  },
  {
   "cell_type": "markdown",
   "metadata": {},
   "source": [
    "## Фильтрация по условию"
   ]
  },
  {
   "cell_type": "code",
   "execution_count": 20,
   "metadata": {},
   "outputs": [
    {
     "data": {
      "text/html": [
       "<table>\n",
       "<thead><tr><th></th><th scope=col>x</th><th scope=col>y</th><th scope=col>z</th></tr></thead>\n",
       "<tbody>\n",
       "\t<tr><th scope=row>Charlie</th><td>3    </td><td>C    </td><td> TRUE</td></tr>\n",
       "\t<tr><th scope=row>Delta</th><td>4    </td><td>D    </td><td>FALSE</td></tr>\n",
       "</tbody>\n",
       "</table>\n"
      ],
      "text/latex": [
       "\\begin{tabular}{r|lll}\n",
       "  & x & y & z\\\\\n",
       "\\hline\n",
       "\tCharlie & 3     & C     &  TRUE\\\\\n",
       "\tDelta & 4     & D     & FALSE\\\\\n",
       "\\end{tabular}\n"
      ],
      "text/markdown": [
       "\n",
       "| <!--/--> | x | y | z | \n",
       "|---|---|\n",
       "| Charlie | 3     | C     |  TRUE | \n",
       "| Delta | 4     | D     | FALSE | \n",
       "\n",
       "\n"
      ],
      "text/plain": [
       "        x y z    \n",
       "Charlie 3 C  TRUE\n",
       "Delta   4 D FALSE"
      ]
     },
     "metadata": {},
     "output_type": "display_data"
    }
   ],
   "source": [
    "df[df$x >2,]"
   ]
  },
  {
   "cell_type": "code",
   "execution_count": 21,
   "metadata": {},
   "outputs": [
    {
     "data": {
      "text/html": [
       "<table>\n",
       "<thead><tr><th></th><th scope=col>x</th><th scope=col>y</th><th scope=col>z</th></tr></thead>\n",
       "<tbody>\n",
       "\t<tr><th scope=row>Charlie</th><td>3    </td><td>C    </td><td> TRUE</td></tr>\n",
       "\t<tr><th scope=row>Delta</th><td>4    </td><td>D    </td><td>FALSE</td></tr>\n",
       "</tbody>\n",
       "</table>\n"
      ],
      "text/latex": [
       "\\begin{tabular}{r|lll}\n",
       "  & x & y & z\\\\\n",
       "\\hline\n",
       "\tCharlie & 3     & C     &  TRUE\\\\\n",
       "\tDelta & 4     & D     & FALSE\\\\\n",
       "\\end{tabular}\n"
      ],
      "text/markdown": [
       "\n",
       "| <!--/--> | x | y | z | \n",
       "|---|---|\n",
       "| Charlie | 3     | C     |  TRUE | \n",
       "| Delta | 4     | D     | FALSE | \n",
       "\n",
       "\n"
      ],
      "text/plain": [
       "        x y z    \n",
       "Charlie 3 C  TRUE\n",
       "Delta   4 D FALSE"
      ]
     },
     "metadata": {},
     "output_type": "display_data"
    }
   ],
   "source": [
    "subset(df,x >2)"
   ]
  },
  {
   "cell_type": "code",
   "execution_count": 22,
   "metadata": {},
   "outputs": [
    {
     "data": {
      "text/html": [
       "<table>\n",
       "<thead><tr><th></th><th scope=col>x</th><th scope=col>z</th></tr></thead>\n",
       "<tbody>\n",
       "\t<tr><th scope=row>Charlie</th><td>3    </td><td> TRUE</td></tr>\n",
       "\t<tr><th scope=row>Delta</th><td>4    </td><td>FALSE</td></tr>\n",
       "</tbody>\n",
       "</table>\n"
      ],
      "text/latex": [
       "\\begin{tabular}{r|ll}\n",
       "  & x & z\\\\\n",
       "\\hline\n",
       "\tCharlie & 3     &  TRUE\\\\\n",
       "\tDelta & 4     & FALSE\\\\\n",
       "\\end{tabular}\n"
      ],
      "text/markdown": [
       "\n",
       "| <!--/--> | x | z | \n",
       "|---|---|\n",
       "| Charlie | 3     |  TRUE | \n",
       "| Delta | 4     | FALSE | \n",
       "\n",
       "\n"
      ],
      "text/plain": [
       "        x z    \n",
       "Charlie 3  TRUE\n",
       "Delta   4 FALSE"
      ]
     },
     "metadata": {},
     "output_type": "display_data"
    }
   ],
   "source": [
    "subset(df,x >2, select = c(x,z))"
   ]
  },
  {
   "cell_type": "markdown",
   "metadata": {},
   "source": [
    "## Комбинирование data frame"
   ]
  },
  {
   "cell_type": "code",
   "execution_count": 23,
   "metadata": {},
   "outputs": [
    {
     "data": {
      "text/html": [
       "<table>\n",
       "<thead><tr><th></th><th scope=col>x</th><th scope=col>y</th><th scope=col>z</th></tr></thead>\n",
       "<tbody>\n",
       "\t<tr><th scope=row>Alpha</th><td>1    </td><td>A    </td><td> TRUE</td></tr>\n",
       "\t<tr><th scope=row>Bravo</th><td>2    </td><td>B    </td><td>FALSE</td></tr>\n",
       "\t<tr><th scope=row>Charlie</th><td>3    </td><td>C    </td><td> TRUE</td></tr>\n",
       "\t<tr><th scope=row>Delta</th><td>4    </td><td>D    </td><td>FALSE</td></tr>\n",
       "\t<tr><th scope=row>Kappa</th><td>5    </td><td>K    </td><td> TRUE</td></tr>\n",
       "\t<tr><th scope=row>Zulu</th><td>6    </td><td>Z    </td><td> TRUE</td></tr>\n",
       "</tbody>\n",
       "</table>\n"
      ],
      "text/latex": [
       "\\begin{tabular}{r|lll}\n",
       "  & x & y & z\\\\\n",
       "\\hline\n",
       "\tAlpha & 1     & A     &  TRUE\\\\\n",
       "\tBravo & 2     & B     & FALSE\\\\\n",
       "\tCharlie & 3     & C     &  TRUE\\\\\n",
       "\tDelta & 4     & D     & FALSE\\\\\n",
       "\tKappa & 5     & K     &  TRUE\\\\\n",
       "\tZulu & 6     & Z     &  TRUE\\\\\n",
       "\\end{tabular}\n"
      ],
      "text/markdown": [
       "\n",
       "| <!--/--> | x | y | z | \n",
       "|---|---|---|---|---|---|\n",
       "| Alpha | 1     | A     |  TRUE | \n",
       "| Bravo | 2     | B     | FALSE | \n",
       "| Charlie | 3     | C     |  TRUE | \n",
       "| Delta | 4     | D     | FALSE | \n",
       "| Kappa | 5     | K     |  TRUE | \n",
       "| Zulu | 6     | Z     |  TRUE | \n",
       "\n",
       "\n"
      ],
      "text/plain": [
       "        x y z    \n",
       "Alpha   1 A  TRUE\n",
       "Bravo   2 B FALSE\n",
       "Charlie 3 C  TRUE\n",
       "Delta   4 D FALSE\n",
       "Kappa   5 K  TRUE\n",
       "Zulu    6 Z  TRUE"
      ]
     },
     "metadata": {},
     "output_type": "display_data"
    }
   ],
   "source": [
    "rbind(df, data.frame(x = 5:6, y = c(\"K\",\"Z\"), z =TRUE, \n",
    "                    row.names = c(\"Kappa\", \"Zulu\")))"
   ]
  },
  {
   "cell_type": "code",
   "execution_count": 24,
   "metadata": {},
   "outputs": [
    {
     "data": {
      "text/html": [
       "<table>\n",
       "<thead><tr><th></th><th scope=col>x</th><th scope=col>y</th><th scope=col>z</th><th scope=col>season</th><th scope=col>temp</th></tr></thead>\n",
       "<tbody>\n",
       "\t<tr><th scope=row>Alpha</th><td>1     </td><td>A     </td><td> TRUE </td><td>Summer</td><td> 20   </td></tr>\n",
       "\t<tr><th scope=row>Bravo</th><td>2     </td><td>B     </td><td>FALSE </td><td>Autumn</td><td>  5   </td></tr>\n",
       "\t<tr><th scope=row>Charlie</th><td>3     </td><td>C     </td><td> TRUE </td><td>Winter</td><td>-10   </td></tr>\n",
       "\t<tr><th scope=row>Delta</th><td>4     </td><td>D     </td><td>FALSE </td><td>Spring</td><td>  5   </td></tr>\n",
       "</tbody>\n",
       "</table>\n"
      ],
      "text/latex": [
       "\\begin{tabular}{r|lllll}\n",
       "  & x & y & z & season & temp\\\\\n",
       "\\hline\n",
       "\tAlpha & 1      & A      &  TRUE  & Summer &  20   \\\\\n",
       "\tBravo & 2      & B      & FALSE  & Autumn &   5   \\\\\n",
       "\tCharlie & 3      & C      &  TRUE  & Winter & -10   \\\\\n",
       "\tDelta & 4      & D      & FALSE  & Spring &   5   \\\\\n",
       "\\end{tabular}\n"
      ],
      "text/markdown": [
       "\n",
       "| <!--/--> | x | y | z | season | temp | \n",
       "|---|---|---|---|\n",
       "| Alpha | 1      | A      |  TRUE  | Summer |  20    | \n",
       "| Bravo | 2      | B      | FALSE  | Autumn |   5    | \n",
       "| Charlie | 3      | C      |  TRUE  | Winter | -10    | \n",
       "| Delta | 4      | D      | FALSE  | Spring |   5    | \n",
       "\n",
       "\n"
      ],
      "text/plain": [
       "        x y z     season temp\n",
       "Alpha   1 A  TRUE Summer  20 \n",
       "Bravo   2 B FALSE Autumn   5 \n",
       "Charlie 3 C  TRUE Winter -10 \n",
       "Delta   4 D FALSE Spring   5 "
      ]
     },
     "metadata": {},
     "output_type": "display_data"
    }
   ],
   "source": [
    "cbind(df, data.frame(season = c(\"Summer\",\"Autumn\", \"Winter\", \"Spring\"), \n",
    "                     temp = c(20,5,-10,5) ))"
   ]
  },
  {
   "cell_type": "markdown",
   "metadata": {},
   "source": [
    "## Комбинирование data frame: `merge`"
   ]
  },
  {
   "cell_type": "code",
   "execution_count": 25,
   "metadata": {},
   "outputs": [
    {
     "data": {
      "text/html": [
       "<table>\n",
       "<thead><tr><th></th><th scope=col>x</th><th scope=col>y</th><th scope=col>z</th></tr></thead>\n",
       "<tbody>\n",
       "\t<tr><th scope=row>Alpha</th><td>1    </td><td>A    </td><td> TRUE</td></tr>\n",
       "\t<tr><th scope=row>Bravo</th><td>2    </td><td>B    </td><td>FALSE</td></tr>\n",
       "\t<tr><th scope=row>Charlie</th><td>3    </td><td>C    </td><td> TRUE</td></tr>\n",
       "\t<tr><th scope=row>Delta</th><td>4    </td><td>D    </td><td>FALSE</td></tr>\n",
       "</tbody>\n",
       "</table>\n"
      ],
      "text/latex": [
       "\\begin{tabular}{r|lll}\n",
       "  & x & y & z\\\\\n",
       "\\hline\n",
       "\tAlpha & 1     & A     &  TRUE\\\\\n",
       "\tBravo & 2     & B     & FALSE\\\\\n",
       "\tCharlie & 3     & C     &  TRUE\\\\\n",
       "\tDelta & 4     & D     & FALSE\\\\\n",
       "\\end{tabular}\n"
      ],
      "text/markdown": [
       "\n",
       "| <!--/--> | x | y | z | \n",
       "|---|---|---|---|\n",
       "| Alpha | 1     | A     |  TRUE | \n",
       "| Bravo | 2     | B     | FALSE | \n",
       "| Charlie | 3     | C     |  TRUE | \n",
       "| Delta | 4     | D     | FALSE | \n",
       "\n",
       "\n"
      ],
      "text/plain": [
       "        x y z    \n",
       "Alpha   1 A  TRUE\n",
       "Bravo   2 B FALSE\n",
       "Charlie 3 C  TRUE\n",
       "Delta   4 D FALSE"
      ]
     },
     "metadata": {},
     "output_type": "display_data"
    }
   ],
   "source": [
    "df"
   ]
  },
  {
   "cell_type": "code",
   "execution_count": 26,
   "metadata": {},
   "outputs": [
    {
     "data": {
      "text/html": [
       "<table>\n",
       "<thead><tr><th scope=col>x</th><th scope=col>y</th><th scope=col>z</th><th scope=col>salay</th></tr></thead>\n",
       "<tbody>\n",
       "\t<tr><td>1    </td><td>A    </td><td> TRUE</td><td> 500 </td></tr>\n",
       "\t<tr><td>2    </td><td>B    </td><td>FALSE</td><td>1000 </td></tr>\n",
       "\t<tr><td>3    </td><td>C    </td><td> TRUE</td><td> 100 </td></tr>\n",
       "</tbody>\n",
       "</table>\n"
      ],
      "text/latex": [
       "\\begin{tabular}{r|llll}\n",
       " x & y & z & salay\\\\\n",
       "\\hline\n",
       "\t 1     & A     &  TRUE &  500 \\\\\n",
       "\t 2     & B     & FALSE & 1000 \\\\\n",
       "\t 3     & C     &  TRUE &  100 \\\\\n",
       "\\end{tabular}\n"
      ],
      "text/markdown": [
       "\n",
       "x | y | z | salay | \n",
       "|---|---|---|\n",
       "| 1     | A     |  TRUE |  500  | \n",
       "| 2     | B     | FALSE | 1000  | \n",
       "| 3     | C     |  TRUE |  100  | \n",
       "\n",
       "\n"
      ],
      "text/plain": [
       "  x y z     salay\n",
       "1 1 A  TRUE  500 \n",
       "2 2 B FALSE 1000 \n",
       "3 3 C  TRUE  100 "
      ]
     },
     "metadata": {},
     "output_type": "display_data"
    }
   ],
   "source": [
    "df_salary <- data.frame(x = c(3,2,6,1), salay = c(100,1000,300,500))\n",
    "merge(df,df_salary, by = \"x\")"
   ]
  },
  {
   "cell_type": "code",
   "execution_count": 27,
   "metadata": {},
   "outputs": [
    {
     "data": {
      "text/html": [
       "<table>\n",
       "<tbody>\n",
       "\t<tr><td>1</td><td>4</td><td>1</td><td>4</td></tr>\n",
       "\t<tr><td>2</td><td>5</td><td>2</td><td>5</td></tr>\n",
       "\t<tr><td>3</td><td>6</td><td>3</td><td>6</td></tr>\n",
       "</tbody>\n",
       "</table>\n"
      ],
      "text/latex": [
       "\\begin{tabular}{llll}\n",
       "\t 1 & 4 & 1 & 4\\\\\n",
       "\t 2 & 5 & 2 & 5\\\\\n",
       "\t 3 & 6 & 3 & 6\\\\\n",
       "\\end{tabular}\n"
      ],
      "text/markdown": [
       "\n",
       "| 1 | 4 | 1 | 4 | \n",
       "| 2 | 5 | 2 | 5 | \n",
       "| 3 | 6 | 3 | 6 | \n",
       "\n",
       "\n"
      ],
      "text/plain": [
       "     [,1] [,2] [,3] [,4]\n",
       "[1,] 1    4    1    4   \n",
       "[2,] 2    5    2    5   \n",
       "[3,] 3    6    3    6   "
      ]
     },
     "metadata": {},
     "output_type": "display_data"
    }
   ],
   "source": [
    "m =3\n",
    "n =4\n",
    "mat <- matrix(c(1,2,3,4,5,6), m, n)\n",
    "mat"
   ]
  },
  {
   "cell_type": "code",
   "execution_count": 33,
   "metadata": {},
   "outputs": [
    {
     "data": {
      "text/html": [
       "<table>\n",
       "<thead><tr><th></th><th scope=col>x</th><th scope=col>y</th><th scope=col>z</th></tr></thead>\n",
       "<tbody>\n",
       "\t<tr><th scope=row>Alpha</th><td>1    </td><td>A    </td><td> TRUE</td></tr>\n",
       "\t<tr><th scope=row>Bravo</th><td>2    </td><td>B    </td><td>FALSE</td></tr>\n",
       "\t<tr><th scope=row>Charlie</th><td>3    </td><td>C    </td><td> TRUE</td></tr>\n",
       "\t<tr><th scope=row>Delta</th><td>4    </td><td>D    </td><td>FALSE</td></tr>\n",
       "</tbody>\n",
       "</table>\n"
      ],
      "text/latex": [
       "\\begin{tabular}{r|lll}\n",
       "  & x & y & z\\\\\n",
       "\\hline\n",
       "\tAlpha & 1     & A     &  TRUE\\\\\n",
       "\tBravo & 2     & B     & FALSE\\\\\n",
       "\tCharlie & 3     & C     &  TRUE\\\\\n",
       "\tDelta & 4     & D     & FALSE\\\\\n",
       "\\end{tabular}\n"
      ],
      "text/markdown": [
       "\n",
       "| <!--/--> | x | y | z | \n",
       "|---|---|---|---|\n",
       "| Alpha | 1     | A     |  TRUE | \n",
       "| Bravo | 2     | B     | FALSE | \n",
       "| Charlie | 3     | C     |  TRUE | \n",
       "| Delta | 4     | D     | FALSE | \n",
       "\n",
       "\n"
      ],
      "text/plain": [
       "        x y z    \n",
       "Alpha   1 A  TRUE\n",
       "Bravo   2 B FALSE\n",
       "Charlie 3 C  TRUE\n",
       "Delta   4 D FALSE"
      ]
     },
     "metadata": {},
     "output_type": "display_data"
    }
   ],
   "source": [
    "d = as.matrix(df)\n",
    "d"
   ]
  },
  {
   "cell_type": "code",
   "execution_count": 32,
   "metadata": {},
   "outputs": [
    {
     "data": {
      "text/html": [
       "'matrix'"
      ],
      "text/latex": [
       "'matrix'"
      ],
      "text/markdown": [
       "'matrix'"
      ],
      "text/plain": [
       "[1] \"matrix\""
      ]
     },
     "metadata": {},
     "output_type": "display_data"
    }
   ],
   "source": [
    "class(d)"
   ]
  },
  {
   "cell_type": "code",
   "execution_count": 35,
   "metadata": {
    "scrolled": false
   },
   "outputs": [
    {
     "data": {
      "text/html": [
       "<table>\n",
       "<thead><tr><th scope=col>rating</th><th scope=col>complaints</th><th scope=col>privileges</th><th scope=col>learning</th><th scope=col>raises</th><th scope=col>critical</th><th scope=col>advance</th></tr></thead>\n",
       "<tbody>\n",
       "\t<tr><td>43</td><td>51</td><td>30</td><td>39</td><td>61</td><td>92</td><td>45</td></tr>\n",
       "\t<tr><td>63</td><td>64</td><td>51</td><td>54</td><td>63</td><td>73</td><td>47</td></tr>\n",
       "\t<tr><td>71</td><td>70</td><td>68</td><td>69</td><td>76</td><td>86</td><td>48</td></tr>\n",
       "\t<tr><td>61</td><td>63</td><td>45</td><td>47</td><td>54</td><td>84</td><td>35</td></tr>\n",
       "\t<tr><td>81</td><td>78</td><td>56</td><td>66</td><td>71</td><td>83</td><td>47</td></tr>\n",
       "\t<tr><td>43</td><td>55</td><td>49</td><td>44</td><td>54</td><td>49</td><td>34</td></tr>\n",
       "\t<tr><td>58</td><td>67</td><td>42</td><td>56</td><td>66</td><td>68</td><td>35</td></tr>\n",
       "\t<tr><td>71</td><td>75</td><td>50</td><td>55</td><td>70</td><td>66</td><td>41</td></tr>\n",
       "\t<tr><td>72</td><td>82</td><td>72</td><td>67</td><td>71</td><td>83</td><td>31</td></tr>\n",
       "\t<tr><td>67</td><td>61</td><td>45</td><td>47</td><td>62</td><td>80</td><td>41</td></tr>\n",
       "\t<tr><td>64</td><td>53</td><td>53</td><td>58</td><td>58</td><td>67</td><td>34</td></tr>\n",
       "\t<tr><td>67</td><td>60</td><td>47</td><td>39</td><td>59</td><td>74</td><td>41</td></tr>\n",
       "\t<tr><td>69</td><td>62</td><td>57</td><td>42</td><td>55</td><td>63</td><td>25</td></tr>\n",
       "\t<tr><td>68</td><td>83</td><td>83</td><td>45</td><td>59</td><td>77</td><td>35</td></tr>\n",
       "\t<tr><td>77</td><td>77</td><td>54</td><td>72</td><td>79</td><td>77</td><td>46</td></tr>\n",
       "\t<tr><td>81</td><td>90</td><td>50</td><td>72</td><td>60</td><td>54</td><td>36</td></tr>\n",
       "\t<tr><td>74</td><td>85</td><td>64</td><td>69</td><td>79</td><td>79</td><td>63</td></tr>\n",
       "\t<tr><td>65</td><td>60</td><td>65</td><td>75</td><td>55</td><td>80</td><td>60</td></tr>\n",
       "\t<tr><td>65</td><td>70</td><td>46</td><td>57</td><td>75</td><td>85</td><td>46</td></tr>\n",
       "\t<tr><td>50</td><td>58</td><td>68</td><td>54</td><td>64</td><td>78</td><td>52</td></tr>\n",
       "\t<tr><td>50</td><td>40</td><td>33</td><td>34</td><td>43</td><td>64</td><td>33</td></tr>\n",
       "\t<tr><td>64</td><td>61</td><td>52</td><td>62</td><td>66</td><td>80</td><td>41</td></tr>\n",
       "\t<tr><td>53</td><td>66</td><td>52</td><td>50</td><td>63</td><td>80</td><td>37</td></tr>\n",
       "\t<tr><td>40</td><td>37</td><td>42</td><td>58</td><td>50</td><td>57</td><td>49</td></tr>\n",
       "\t<tr><td>63</td><td>54</td><td>42</td><td>48</td><td>66</td><td>75</td><td>33</td></tr>\n",
       "\t<tr><td>66</td><td>77</td><td>66</td><td>63</td><td>88</td><td>76</td><td>72</td></tr>\n",
       "\t<tr><td>78</td><td>75</td><td>58</td><td>74</td><td>80</td><td>78</td><td>49</td></tr>\n",
       "\t<tr><td>48</td><td>57</td><td>44</td><td>45</td><td>51</td><td>83</td><td>38</td></tr>\n",
       "\t<tr><td>85</td><td>85</td><td>71</td><td>71</td><td>77</td><td>74</td><td>55</td></tr>\n",
       "\t<tr><td>82</td><td>82</td><td>39</td><td>59</td><td>64</td><td>78</td><td>39</td></tr>\n",
       "</tbody>\n",
       "</table>\n"
      ],
      "text/latex": [
       "\\begin{tabular}{r|lllllll}\n",
       " rating & complaints & privileges & learning & raises & critical & advance\\\\\n",
       "\\hline\n",
       "\t 43 & 51 & 30 & 39 & 61 & 92 & 45\\\\\n",
       "\t 63 & 64 & 51 & 54 & 63 & 73 & 47\\\\\n",
       "\t 71 & 70 & 68 & 69 & 76 & 86 & 48\\\\\n",
       "\t 61 & 63 & 45 & 47 & 54 & 84 & 35\\\\\n",
       "\t 81 & 78 & 56 & 66 & 71 & 83 & 47\\\\\n",
       "\t 43 & 55 & 49 & 44 & 54 & 49 & 34\\\\\n",
       "\t 58 & 67 & 42 & 56 & 66 & 68 & 35\\\\\n",
       "\t 71 & 75 & 50 & 55 & 70 & 66 & 41\\\\\n",
       "\t 72 & 82 & 72 & 67 & 71 & 83 & 31\\\\\n",
       "\t 67 & 61 & 45 & 47 & 62 & 80 & 41\\\\\n",
       "\t 64 & 53 & 53 & 58 & 58 & 67 & 34\\\\\n",
       "\t 67 & 60 & 47 & 39 & 59 & 74 & 41\\\\\n",
       "\t 69 & 62 & 57 & 42 & 55 & 63 & 25\\\\\n",
       "\t 68 & 83 & 83 & 45 & 59 & 77 & 35\\\\\n",
       "\t 77 & 77 & 54 & 72 & 79 & 77 & 46\\\\\n",
       "\t 81 & 90 & 50 & 72 & 60 & 54 & 36\\\\\n",
       "\t 74 & 85 & 64 & 69 & 79 & 79 & 63\\\\\n",
       "\t 65 & 60 & 65 & 75 & 55 & 80 & 60\\\\\n",
       "\t 65 & 70 & 46 & 57 & 75 & 85 & 46\\\\\n",
       "\t 50 & 58 & 68 & 54 & 64 & 78 & 52\\\\\n",
       "\t 50 & 40 & 33 & 34 & 43 & 64 & 33\\\\\n",
       "\t 64 & 61 & 52 & 62 & 66 & 80 & 41\\\\\n",
       "\t 53 & 66 & 52 & 50 & 63 & 80 & 37\\\\\n",
       "\t 40 & 37 & 42 & 58 & 50 & 57 & 49\\\\\n",
       "\t 63 & 54 & 42 & 48 & 66 & 75 & 33\\\\\n",
       "\t 66 & 77 & 66 & 63 & 88 & 76 & 72\\\\\n",
       "\t 78 & 75 & 58 & 74 & 80 & 78 & 49\\\\\n",
       "\t 48 & 57 & 44 & 45 & 51 & 83 & 38\\\\\n",
       "\t 85 & 85 & 71 & 71 & 77 & 74 & 55\\\\\n",
       "\t 82 & 82 & 39 & 59 & 64 & 78 & 39\\\\\n",
       "\\end{tabular}\n"
      ],
      "text/markdown": [
       "\n",
       "rating | complaints | privileges | learning | raises | critical | advance | \n",
       "|---|---|---|---|---|---|---|---|---|---|---|---|---|---|---|---|---|---|---|---|---|---|---|---|---|---|---|---|---|---|\n",
       "| 43 | 51 | 30 | 39 | 61 | 92 | 45 | \n",
       "| 63 | 64 | 51 | 54 | 63 | 73 | 47 | \n",
       "| 71 | 70 | 68 | 69 | 76 | 86 | 48 | \n",
       "| 61 | 63 | 45 | 47 | 54 | 84 | 35 | \n",
       "| 81 | 78 | 56 | 66 | 71 | 83 | 47 | \n",
       "| 43 | 55 | 49 | 44 | 54 | 49 | 34 | \n",
       "| 58 | 67 | 42 | 56 | 66 | 68 | 35 | \n",
       "| 71 | 75 | 50 | 55 | 70 | 66 | 41 | \n",
       "| 72 | 82 | 72 | 67 | 71 | 83 | 31 | \n",
       "| 67 | 61 | 45 | 47 | 62 | 80 | 41 | \n",
       "| 64 | 53 | 53 | 58 | 58 | 67 | 34 | \n",
       "| 67 | 60 | 47 | 39 | 59 | 74 | 41 | \n",
       "| 69 | 62 | 57 | 42 | 55 | 63 | 25 | \n",
       "| 68 | 83 | 83 | 45 | 59 | 77 | 35 | \n",
       "| 77 | 77 | 54 | 72 | 79 | 77 | 46 | \n",
       "| 81 | 90 | 50 | 72 | 60 | 54 | 36 | \n",
       "| 74 | 85 | 64 | 69 | 79 | 79 | 63 | \n",
       "| 65 | 60 | 65 | 75 | 55 | 80 | 60 | \n",
       "| 65 | 70 | 46 | 57 | 75 | 85 | 46 | \n",
       "| 50 | 58 | 68 | 54 | 64 | 78 | 52 | \n",
       "| 50 | 40 | 33 | 34 | 43 | 64 | 33 | \n",
       "| 64 | 61 | 52 | 62 | 66 | 80 | 41 | \n",
       "| 53 | 66 | 52 | 50 | 63 | 80 | 37 | \n",
       "| 40 | 37 | 42 | 58 | 50 | 57 | 49 | \n",
       "| 63 | 54 | 42 | 48 | 66 | 75 | 33 | \n",
       "| 66 | 77 | 66 | 63 | 88 | 76 | 72 | \n",
       "| 78 | 75 | 58 | 74 | 80 | 78 | 49 | \n",
       "| 48 | 57 | 44 | 45 | 51 | 83 | 38 | \n",
       "| 85 | 85 | 71 | 71 | 77 | 74 | 55 | \n",
       "| 82 | 82 | 39 | 59 | 64 | 78 | 39 | \n",
       "\n",
       "\n"
      ],
      "text/plain": [
       "   rating complaints privileges learning raises critical advance\n",
       "1  43     51         30         39       61     92       45     \n",
       "2  63     64         51         54       63     73       47     \n",
       "3  71     70         68         69       76     86       48     \n",
       "4  61     63         45         47       54     84       35     \n",
       "5  81     78         56         66       71     83       47     \n",
       "6  43     55         49         44       54     49       34     \n",
       "7  58     67         42         56       66     68       35     \n",
       "8  71     75         50         55       70     66       41     \n",
       "9  72     82         72         67       71     83       31     \n",
       "10 67     61         45         47       62     80       41     \n",
       "11 64     53         53         58       58     67       34     \n",
       "12 67     60         47         39       59     74       41     \n",
       "13 69     62         57         42       55     63       25     \n",
       "14 68     83         83         45       59     77       35     \n",
       "15 77     77         54         72       79     77       46     \n",
       "16 81     90         50         72       60     54       36     \n",
       "17 74     85         64         69       79     79       63     \n",
       "18 65     60         65         75       55     80       60     \n",
       "19 65     70         46         57       75     85       46     \n",
       "20 50     58         68         54       64     78       52     \n",
       "21 50     40         33         34       43     64       33     \n",
       "22 64     61         52         62       66     80       41     \n",
       "23 53     66         52         50       63     80       37     \n",
       "24 40     37         42         58       50     57       49     \n",
       "25 63     54         42         48       66     75       33     \n",
       "26 66     77         66         63       88     76       72     \n",
       "27 78     75         58         74       80     78       49     \n",
       "28 48     57         44         45       51     83       38     \n",
       "29 85     85         71         71       77     74       55     \n",
       "30 82     82         39         59       64     78       39     "
      ]
     },
     "metadata": {},
     "output_type": "display_data"
    }
   ],
   "source": [
    "attitude #встроенный массив данных"
   ]
  },
  {
   "cell_type": "code",
   "execution_count": 36,
   "metadata": {},
   "outputs": [],
   "source": [
    "help(attitude )"
   ]
  },
  {
   "cell_type": "markdown",
   "metadata": {},
   "source": [
    "Анализ данных -- это далеко не всегда заумные академические модели в вакууме. Иногда на основе простых манипуляций можно сделать разумные выводы и облегчить принятие повседневных решений.\n",
    "\n",
    "Дата фрейм `attitude` -- встроенный массив данных, содержащий рейтинг департаментов одной финансовой компании, составленный сотрудниками. Представьте, что вы хотите устраиваться как раз в эту компанию, и дата фрейм (совершенно случайно!) оказался в вашем распоряжении. \n",
    "\n",
    "Вы решили, что самое главное для вас -- это возможность учиться новому (learning). Возьмите 5 топовых департаментов по этому показателю. Из этого набора вам более всего подойдёт тот департамент, который имеет наибольшую сумму баллов по трём показателям: реакция на жалобы работников (complaints), надбавки в зависимости от результатов работы (raises) и возможность продвижения (advance).\n",
    "\n",
    "Какой же департамент вам выбрать? Напишите его номер XX (номер строки в дата фрейме)."
   ]
  },
  {
   "cell_type": "code",
   "execution_count": 38,
   "metadata": {},
   "outputs": [],
   "source": [
    "df = attitude"
   ]
  },
  {
   "cell_type": "code",
   "execution_count": 56,
   "metadata": {},
   "outputs": [
    {
     "data": {
      "text/html": [
       "<ol class=list-inline>\n",
       "\t<li>75</li>\n",
       "\t<li>74</li>\n",
       "\t<li>72</li>\n",
       "\t<li>72</li>\n",
       "\t<li>71</li>\n",
       "\t<li>69</li>\n",
       "\t<li>69</li>\n",
       "\t<li>67</li>\n",
       "\t<li>66</li>\n",
       "\t<li>63</li>\n",
       "\t<li>62</li>\n",
       "\t<li>59</li>\n",
       "\t<li>58</li>\n",
       "\t<li>58</li>\n",
       "\t<li>57</li>\n",
       "\t<li>56</li>\n",
       "\t<li>55</li>\n",
       "\t<li>54</li>\n",
       "\t<li>54</li>\n",
       "\t<li>50</li>\n",
       "\t<li>48</li>\n",
       "\t<li>47</li>\n",
       "\t<li>47</li>\n",
       "\t<li>45</li>\n",
       "\t<li>45</li>\n",
       "\t<li>44</li>\n",
       "\t<li>42</li>\n",
       "\t<li>39</li>\n",
       "\t<li>39</li>\n",
       "\t<li>34</li>\n",
       "</ol>\n"
      ],
      "text/latex": [
       "\\begin{enumerate*}\n",
       "\\item 75\n",
       "\\item 74\n",
       "\\item 72\n",
       "\\item 72\n",
       "\\item 71\n",
       "\\item 69\n",
       "\\item 69\n",
       "\\item 67\n",
       "\\item 66\n",
       "\\item 63\n",
       "\\item 62\n",
       "\\item 59\n",
       "\\item 58\n",
       "\\item 58\n",
       "\\item 57\n",
       "\\item 56\n",
       "\\item 55\n",
       "\\item 54\n",
       "\\item 54\n",
       "\\item 50\n",
       "\\item 48\n",
       "\\item 47\n",
       "\\item 47\n",
       "\\item 45\n",
       "\\item 45\n",
       "\\item 44\n",
       "\\item 42\n",
       "\\item 39\n",
       "\\item 39\n",
       "\\item 34\n",
       "\\end{enumerate*}\n"
      ],
      "text/markdown": [
       "1. 75\n",
       "2. 74\n",
       "3. 72\n",
       "4. 72\n",
       "5. 71\n",
       "6. 69\n",
       "7. 69\n",
       "8. 67\n",
       "9. 66\n",
       "10. 63\n",
       "11. 62\n",
       "12. 59\n",
       "13. 58\n",
       "14. 58\n",
       "15. 57\n",
       "16. 56\n",
       "17. 55\n",
       "18. 54\n",
       "19. 54\n",
       "20. 50\n",
       "21. 48\n",
       "22. 47\n",
       "23. 47\n",
       "24. 45\n",
       "25. 45\n",
       "26. 44\n",
       "27. 42\n",
       "28. 39\n",
       "29. 39\n",
       "30. 34\n",
       "\n",
       "\n"
      ],
      "text/plain": [
       " [1] 75 74 72 72 71 69 69 67 66 63 62 59 58 58 57 56 55 54 54 50 48 47 47 45 45\n",
       "[26] 44 42 39 39 34"
      ]
     },
     "metadata": {},
     "output_type": "display_data"
    }
   ],
   "source": [
    "rev(sort(df[,4]))"
   ]
  },
  {
   "cell_type": "code",
   "execution_count": 65,
   "metadata": {},
   "outputs": [
    {
     "data": {
      "text/html": [
       "<table>\n",
       "<thead><tr><th></th><th scope=col>rating</th><th scope=col>complaints</th><th scope=col>privileges</th><th scope=col>learning</th><th scope=col>raises</th><th scope=col>critical</th><th scope=col>advance</th></tr></thead>\n",
       "<tbody>\n",
       "\t<tr><th scope=row>15</th><td>77</td><td>77</td><td>54</td><td>72</td><td>79</td><td>77</td><td>46</td></tr>\n",
       "\t<tr><th scope=row>16</th><td>81</td><td>90</td><td>50</td><td>72</td><td>60</td><td>54</td><td>36</td></tr>\n",
       "\t<tr><th scope=row>18</th><td>65</td><td>60</td><td>65</td><td>75</td><td>55</td><td>80</td><td>60</td></tr>\n",
       "\t<tr><th scope=row>27</th><td>78</td><td>75</td><td>58</td><td>74</td><td>80</td><td>78</td><td>49</td></tr>\n",
       "\t<tr><th scope=row>29</th><td>85</td><td>85</td><td>71</td><td>71</td><td>77</td><td>74</td><td>55</td></tr>\n",
       "</tbody>\n",
       "</table>\n"
      ],
      "text/latex": [
       "\\begin{tabular}{r|lllllll}\n",
       "  & rating & complaints & privileges & learning & raises & critical & advance\\\\\n",
       "\\hline\n",
       "\t15 & 77 & 77 & 54 & 72 & 79 & 77 & 46\\\\\n",
       "\t16 & 81 & 90 & 50 & 72 & 60 & 54 & 36\\\\\n",
       "\t18 & 65 & 60 & 65 & 75 & 55 & 80 & 60\\\\\n",
       "\t27 & 78 & 75 & 58 & 74 & 80 & 78 & 49\\\\\n",
       "\t29 & 85 & 85 & 71 & 71 & 77 & 74 & 55\\\\\n",
       "\\end{tabular}\n"
      ],
      "text/markdown": [
       "\n",
       "| <!--/--> | rating | complaints | privileges | learning | raises | critical | advance | \n",
       "|---|---|---|---|---|\n",
       "| 15 | 77 | 77 | 54 | 72 | 79 | 77 | 46 | \n",
       "| 16 | 81 | 90 | 50 | 72 | 60 | 54 | 36 | \n",
       "| 18 | 65 | 60 | 65 | 75 | 55 | 80 | 60 | \n",
       "| 27 | 78 | 75 | 58 | 74 | 80 | 78 | 49 | \n",
       "| 29 | 85 | 85 | 71 | 71 | 77 | 74 | 55 | \n",
       "\n",
       "\n"
      ],
      "text/plain": [
       "   rating complaints privileges learning raises critical advance\n",
       "15 77     77         54         72       79     77       46     \n",
       "16 81     90         50         72       60     54       36     \n",
       "18 65     60         65         75       55     80       60     \n",
       "27 78     75         58         74       80     78       49     \n",
       "29 85     85         71         71       77     74       55     "
      ]
     },
     "metadata": {},
     "output_type": "display_data"
    }
   ],
   "source": [
    "e = subset(df, learning >= rev(sort(df[,4]))[5] )\n",
    "e"
   ]
  },
  {
   "cell_type": "code",
   "execution_count": 100,
   "metadata": {},
   "outputs": [
    {
     "data": {
      "text/html": [
       "<ol class=list-inline>\n",
       "\t<li>202</li>\n",
       "\t<li>186</li>\n",
       "\t<li>175</li>\n",
       "\t<li>204</li>\n",
       "\t<li>217</li>\n",
       "</ol>\n"
      ],
      "text/latex": [
       "\\begin{enumerate*}\n",
       "\\item 202\n",
       "\\item 186\n",
       "\\item 175\n",
       "\\item 204\n",
       "\\item 217\n",
       "\\end{enumerate*}\n"
      ],
      "text/markdown": [
       "1. 202\n",
       "2. 186\n",
       "3. 175\n",
       "4. 204\n",
       "5. 217\n",
       "\n",
       "\n"
      ],
      "text/plain": [
       "[1] 202 186 175 204 217"
      ]
     },
     "metadata": {},
     "output_type": "display_data"
    },
    {
     "data": {
      "text/html": [
       "5"
      ],
      "text/latex": [
       "5"
      ],
      "text/markdown": [
       "5"
      ],
      "text/plain": [
       "[1] 5"
      ]
     },
     "metadata": {},
     "output_type": "display_data"
    }
   ],
   "source": [
    "rest <- c()\n",
    "for (i in 1:nrow(e) ) {\n",
    "    rest[i] <- e[i,]$complaints + e[i,]$raises + e[i,]$advance\n",
    "}\n",
    "rest\n",
    "which.max(rest)"
   ]
  },
  {
   "cell_type": "code",
   "execution_count": 101,
   "metadata": {},
   "outputs": [
    {
     "data": {
      "text/html": [
       "<table>\n",
       "<tbody>\n",
       "\t<tr><th scope=row>29</th></tr>\n",
       "</tbody>\n",
       "</table>\n"
      ],
      "text/latex": [
       "\\begin{tabular}{r|}\n",
       "\t29\\\\\n",
       "\\end{tabular}\n"
      ],
      "text/markdown": [
       "\n",
       "| 29 | \n",
       "\n",
       "\n"
      ],
      "text/plain": [
       "  \n",
       "29"
      ]
     },
     "metadata": {},
     "output_type": "display_data"
    }
   ],
   "source": [
    "e[which.max(rest),][0]"
   ]
  },
  {
   "cell_type": "markdown",
   "metadata": {},
   "source": [
    "## Импорт данных"
   ]
  },
  {
   "cell_type": "markdown",
   "metadata": {},
   "source": [
    "+ Из файла\n",
    "    + Comma separated values(`.csv`), tab separated values\n",
    "    + Неструктурированый текст - `readlines, scan` \n",
    "    + XML, HTML - `library(XML)`, `library(httr)`, ...\n",
    "    + JSON, YAML - `library(rjson)`, `library(RJSONIO)`,...\n",
    "    + Excel - `library(XLConnect)`, `library(readxl)`\n",
    "    + SAS, Stats,SPSS, MATLAB - `library(foreign)`, `library(sas7bdat)`\n",
    "+ Web - `library(rvest)`\n",
    "+ Базы даннных:\n",
    "    + Реляционные - `library(DBI)`, `library(RSQLite)`,...\n",
    "    + Нереляционные - `library(rmongodb)`,...\n",
    "+ ..."
   ]
  },
  {
   "cell_type": "markdown",
   "metadata": {},
   "source": [
    "## Чтение табличных данных "
   ]
  },
  {
   "cell_type": "markdown",
   "metadata": {},
   "source": [
    "Основной инструмент: `read.table`\n",
    "\n",
    "\n",
    "+ `file` - имя файла\n",
    "+ `header` - наличие или отсутствие заголовка в первой строке\n",
    "+ `sep` - разделитель значений\n",
    "+ `quote` - символы, обозначающие кавычки(для строкового типа)\n",
    "+ `na.strings` - строки, кодирующие пропущенное значение\n",
    "+ `colClasses` - типы столбцов (для быстродействия и указания типа: строка - фактор- дата/время)\n",
    "+ `comment.char` - символ, обозначающий комментарий \n",
    "+ `skip` - количество строк пропускаемых с начала файла\n",
    "\n",
    "Функции `read.csv`, `read.csv2`, `read.delim`, `read.delim2` суть оболочки `read.table` с расставленными умолчаниями"
   ]
  },
  {
   "cell_type": "markdown",
   "metadata": {},
   "source": [
    "## Типичные этапы(пред) обработки данных"
   ]
  },
  {
   "cell_type": "markdown",
   "metadata": {},
   "source": [
    "+ Импорт в дата фрейм\n",
    "+ Очистка значений, проверка типов\n",
    "+ Работа со строками: имена, переменные строкового типа, факторы \n",
    "+ Пропущенные значения: идентификация, способ обработки\n",
    "+ Манипулирование переменными: преобразование, создание, удаление\n",
    "+ Подсчет описательных статистик: split - apply -combine\n",
    "+ Визуализаця данных \n",
    "+ Экспорт"
   ]
  },
  {
   "cell_type": "code",
   "execution_count": 1,
   "metadata": {},
   "outputs": [],
   "source": [
    "help(factor)"
   ]
  },
  {
   "cell_type": "markdown",
   "metadata": {},
   "source": [
    "Вернёмся ненадолго к дата фрейму attitude. Какими из нижеуказанных способов можно выбрать только те строки, которые соответствуют департаментам с рейтингом (rating) ниже пятидесяти, при этом сохранив все столбцы, кроме rating?\n",
    "\n",
    "Убедитесь, что вы понимаете, почему работает (не работает) каждый из способов!\n",
    "\n",
    "P.S. Попробуйте сначала отметить верные ответы, а потом их проверять: так интереснее."
   ]
  },
  {
   "cell_type": "code",
   "execution_count": 3,
   "metadata": {},
   "outputs": [
    {
     "data": {
      "text/html": [
       "<table>\n",
       "<thead><tr><th></th><th scope=col>complaints</th><th scope=col>privileges</th><th scope=col>learning</th><th scope=col>raises</th><th scope=col>critical</th><th scope=col>advance</th></tr></thead>\n",
       "<tbody>\n",
       "\t<tr><th scope=row>1</th><td>51</td><td>30</td><td>39</td><td>61</td><td>92</td><td>45</td></tr>\n",
       "\t<tr><th scope=row>6</th><td>55</td><td>49</td><td>44</td><td>54</td><td>49</td><td>34</td></tr>\n",
       "\t<tr><th scope=row>24</th><td>37</td><td>42</td><td>58</td><td>50</td><td>57</td><td>49</td></tr>\n",
       "\t<tr><th scope=row>28</th><td>57</td><td>44</td><td>45</td><td>51</td><td>83</td><td>38</td></tr>\n",
       "</tbody>\n",
       "</table>\n"
      ],
      "text/latex": [
       "\\begin{tabular}{r|llllll}\n",
       "  & complaints & privileges & learning & raises & critical & advance\\\\\n",
       "\\hline\n",
       "\t1 & 51 & 30 & 39 & 61 & 92 & 45\\\\\n",
       "\t6 & 55 & 49 & 44 & 54 & 49 & 34\\\\\n",
       "\t24 & 37 & 42 & 58 & 50 & 57 & 49\\\\\n",
       "\t28 & 57 & 44 & 45 & 51 & 83 & 38\\\\\n",
       "\\end{tabular}\n"
      ],
      "text/markdown": [
       "\n",
       "| <!--/--> | complaints | privileges | learning | raises | critical | advance | \n",
       "|---|---|---|---|\n",
       "| 1 | 51 | 30 | 39 | 61 | 92 | 45 | \n",
       "| 6 | 55 | 49 | 44 | 54 | 49 | 34 | \n",
       "| 24 | 37 | 42 | 58 | 50 | 57 | 49 | \n",
       "| 28 | 57 | 44 | 45 | 51 | 83 | 38 | \n",
       "\n",
       "\n"
      ],
      "text/plain": [
       "   complaints privileges learning raises critical advance\n",
       "1  51         30         39       61     92       45     \n",
       "6  55         49         44       54     49       34     \n",
       "24 37         42         58       50     57       49     \n",
       "28 57         44         45       51     83       38     "
      ]
     },
     "metadata": {},
     "output_type": "display_data"
    }
   ],
   "source": [
    "attitude[attitude$rating < 50, names(attitude) != \"rating\"]"
   ]
  },
  {
   "cell_type": "code",
   "execution_count": 4,
   "metadata": {},
   "outputs": [
    {
     "data": {
      "text/html": [
       "<table>\n",
       "<thead><tr><th></th><th scope=col>complaints</th><th scope=col>privileges</th><th scope=col>learning</th><th scope=col>raises</th><th scope=col>critical</th><th scope=col>advance</th></tr></thead>\n",
       "<tbody>\n",
       "\t<tr><th scope=row>1</th><td>51</td><td>30</td><td>39</td><td>61</td><td>92</td><td>45</td></tr>\n",
       "\t<tr><th scope=row>6</th><td>55</td><td>49</td><td>44</td><td>54</td><td>49</td><td>34</td></tr>\n",
       "\t<tr><th scope=row>24</th><td>37</td><td>42</td><td>58</td><td>50</td><td>57</td><td>49</td></tr>\n",
       "\t<tr><th scope=row>28</th><td>57</td><td>44</td><td>45</td><td>51</td><td>83</td><td>38</td></tr>\n",
       "</tbody>\n",
       "</table>\n"
      ],
      "text/latex": [
       "\\begin{tabular}{r|llllll}\n",
       "  & complaints & privileges & learning & raises & critical & advance\\\\\n",
       "\\hline\n",
       "\t1 & 51 & 30 & 39 & 61 & 92 & 45\\\\\n",
       "\t6 & 55 & 49 & 44 & 54 & 49 & 34\\\\\n",
       "\t24 & 37 & 42 & 58 & 50 & 57 & 49\\\\\n",
       "\t28 & 57 & 44 & 45 & 51 & 83 & 38\\\\\n",
       "\\end{tabular}\n"
      ],
      "text/markdown": [
       "\n",
       "| <!--/--> | complaints | privileges | learning | raises | critical | advance | \n",
       "|---|---|---|---|\n",
       "| 1 | 51 | 30 | 39 | 61 | 92 | 45 | \n",
       "| 6 | 55 | 49 | 44 | 54 | 49 | 34 | \n",
       "| 24 | 37 | 42 | 58 | 50 | 57 | 49 | \n",
       "| 28 | 57 | 44 | 45 | 51 | 83 | 38 | \n",
       "\n",
       "\n"
      ],
      "text/plain": [
       "   complaints privileges learning raises critical advance\n",
       "1  51         30         39       61     92       45     \n",
       "6  55         49         44       54     49       34     \n",
       "24 37         42         58       50     57       49     \n",
       "28 57         44         45       51     83       38     "
      ]
     },
     "metadata": {},
     "output_type": "display_data"
    }
   ],
   "source": [
    "subset(attitude, rating < 50, -rating)"
   ]
  },
  {
   "cell_type": "code",
   "execution_count": 5,
   "metadata": {},
   "outputs": [
    {
     "ename": "ERROR",
     "evalue": "Error in -\"rating\": неправильный аргумент для унарного оператора\n",
     "output_type": "error",
     "traceback": [
      "Error in -\"rating\": неправильный аргумент для унарного оператора\nTraceback:\n",
      "1. attitude[attitude$rating < 50, -\"rating\"]",
      "2. `[.data.frame`(attitude, attitude$rating < 50, -\"rating\")"
     ]
    }
   ],
   "source": [
    "attitude[attitude$rating < 50, -\"rating\"]"
   ]
  },
  {
   "cell_type": "code",
   "execution_count": 6,
   "metadata": {},
   "outputs": [
    {
     "ename": "ERROR",
     "evalue": "Error in `[.data.frame`(attitude, rating < 50, names(attitude) != \"rating\"): объект 'rating' не найден\n",
     "output_type": "error",
     "traceback": [
      "Error in `[.data.frame`(attitude, rating < 50, names(attitude) != \"rating\"): объект 'rating' не найден\nTraceback:\n",
      "1. attitude[rating < 50, names(attitude) != \"rating\"]",
      "2. `[.data.frame`(attitude, rating < 50, names(attitude) != \"rating\")"
     ]
    }
   ],
   "source": [
    "attitude[rating < 50, names(attitude) != \"rating\"]"
   ]
  },
  {
   "cell_type": "code",
   "execution_count": 7,
   "metadata": {},
   "outputs": [
    {
     "data": {
      "text/html": [
       "<table>\n",
       "<thead><tr><th></th><th scope=col>complaints</th><th scope=col>privileges</th><th scope=col>learning</th><th scope=col>raises</th><th scope=col>critical</th><th scope=col>advance</th></tr></thead>\n",
       "<tbody>\n",
       "\t<tr><th scope=row>1</th><td>51</td><td>30</td><td>39</td><td>61</td><td>92</td><td>45</td></tr>\n",
       "\t<tr><th scope=row>6</th><td>55</td><td>49</td><td>44</td><td>54</td><td>49</td><td>34</td></tr>\n",
       "\t<tr><th scope=row>24</th><td>37</td><td>42</td><td>58</td><td>50</td><td>57</td><td>49</td></tr>\n",
       "\t<tr><th scope=row>28</th><td>57</td><td>44</td><td>45</td><td>51</td><td>83</td><td>38</td></tr>\n",
       "</tbody>\n",
       "</table>\n"
      ],
      "text/latex": [
       "\\begin{tabular}{r|llllll}\n",
       "  & complaints & privileges & learning & raises & critical & advance\\\\\n",
       "\\hline\n",
       "\t1 & 51 & 30 & 39 & 61 & 92 & 45\\\\\n",
       "\t6 & 55 & 49 & 44 & 54 & 49 & 34\\\\\n",
       "\t24 & 37 & 42 & 58 & 50 & 57 & 49\\\\\n",
       "\t28 & 57 & 44 & 45 & 51 & 83 & 38\\\\\n",
       "\\end{tabular}\n"
      ],
      "text/markdown": [
       "\n",
       "| <!--/--> | complaints | privileges | learning | raises | critical | advance | \n",
       "|---|---|---|---|\n",
       "| 1 | 51 | 30 | 39 | 61 | 92 | 45 | \n",
       "| 6 | 55 | 49 | 44 | 54 | 49 | 34 | \n",
       "| 24 | 37 | 42 | 58 | 50 | 57 | 49 | \n",
       "| 28 | 57 | 44 | 45 | 51 | 83 | 38 | \n",
       "\n",
       "\n"
      ],
      "text/plain": [
       "   complaints privileges learning raises critical advance\n",
       "1  51         30         39       61     92       45     \n",
       "6  55         49         44       54     49       34     \n",
       "24 37         42         58       50     57       49     \n",
       "28 57         44         45       51     83       38     "
      ]
     },
     "metadata": {},
     "output_type": "display_data"
    }
   ],
   "source": [
    "subset(sel = -rating, sub = rating < 50, attitude)"
   ]
  },
  {
   "cell_type": "code",
   "execution_count": 8,
   "metadata": {},
   "outputs": [
    {
     "data": {
      "text/html": [
       "<table>\n",
       "<thead><tr><th scope=col>lat</th><th scope=col>long</th><th scope=col>depth</th><th scope=col>mag</th><th scope=col>stations</th></tr></thead>\n",
       "<tbody>\n",
       "\t<tr><td>-20.42</td><td>181.62</td><td>562   </td><td>4.8   </td><td>41    </td></tr>\n",
       "\t<tr><td>-20.62</td><td>181.03</td><td>650   </td><td>4.2   </td><td>15    </td></tr>\n",
       "\t<tr><td>-26.00</td><td>184.10</td><td> 42   </td><td>5.4   </td><td>43    </td></tr>\n",
       "\t<tr><td>-17.97</td><td>181.66</td><td>626   </td><td>4.1   </td><td>19    </td></tr>\n",
       "\t<tr><td>-20.42</td><td>181.96</td><td>649   </td><td>4.0   </td><td>11    </td></tr>\n",
       "\t<tr><td>-19.68</td><td>184.31</td><td>195   </td><td>4.0   </td><td>12    </td></tr>\n",
       "\t<tr><td>-11.70</td><td>166.10</td><td> 82   </td><td>4.8   </td><td>43    </td></tr>\n",
       "\t<tr><td>-28.11</td><td>181.93</td><td>194   </td><td>4.4   </td><td>15    </td></tr>\n",
       "\t<tr><td>-28.74</td><td>181.74</td><td>211   </td><td>4.7   </td><td>35    </td></tr>\n",
       "\t<tr><td>-17.47</td><td>179.59</td><td>622   </td><td>4.3   </td><td>19    </td></tr>\n",
       "\t<tr><td>-21.44</td><td>180.69</td><td>583   </td><td>4.4   </td><td>13    </td></tr>\n",
       "\t<tr><td>-12.26</td><td>167.00</td><td>249   </td><td>4.6   </td><td>16    </td></tr>\n",
       "\t<tr><td>-18.54</td><td>182.11</td><td>554   </td><td>4.4   </td><td>19    </td></tr>\n",
       "\t<tr><td>-21.00</td><td>181.66</td><td>600   </td><td>4.4   </td><td>10    </td></tr>\n",
       "\t<tr><td>-20.70</td><td>169.92</td><td>139   </td><td>6.1   </td><td>94    </td></tr>\n",
       "\t<tr><td>-15.94</td><td>184.95</td><td>306   </td><td>4.3   </td><td>11    </td></tr>\n",
       "\t<tr><td>-13.64</td><td>165.96</td><td> 50   </td><td>6.0   </td><td>83    </td></tr>\n",
       "\t<tr><td>-17.83</td><td>181.50</td><td>590   </td><td>4.5   </td><td>21    </td></tr>\n",
       "\t<tr><td>-23.50</td><td>179.78</td><td>570   </td><td>4.4   </td><td>13    </td></tr>\n",
       "\t<tr><td>-22.63</td><td>180.31</td><td>598   </td><td>4.4   </td><td>18    </td></tr>\n",
       "\t<tr><td>-20.84</td><td>181.16</td><td>576   </td><td>4.5   </td><td>17    </td></tr>\n",
       "\t<tr><td>-10.98</td><td>166.32</td><td>211   </td><td>4.2   </td><td>12    </td></tr>\n",
       "\t<tr><td>-23.30</td><td>180.16</td><td>512   </td><td>4.4   </td><td>18    </td></tr>\n",
       "\t<tr><td>-30.20</td><td>182.00</td><td>125   </td><td>4.7   </td><td>22    </td></tr>\n",
       "\t<tr><td>-19.66</td><td>180.28</td><td>431   </td><td>5.4   </td><td>57    </td></tr>\n",
       "\t<tr><td>-17.94</td><td>181.49</td><td>537   </td><td>4.0   </td><td>15    </td></tr>\n",
       "\t<tr><td>-14.72</td><td>167.51</td><td>155   </td><td>4.6   </td><td>18    </td></tr>\n",
       "\t<tr><td>-16.46</td><td>180.79</td><td>498   </td><td>5.2   </td><td>79    </td></tr>\n",
       "\t<tr><td>-20.97</td><td>181.47</td><td>582   </td><td>4.5   </td><td>25    </td></tr>\n",
       "\t<tr><td>-19.84</td><td>182.37</td><td>328   </td><td>4.4   </td><td>17    </td></tr>\n",
       "\t<tr><td>...</td><td>...</td><td>...</td><td>...</td><td>...</td></tr>\n",
       "\t<tr><td>-25.79</td><td>182.38</td><td>172   </td><td>4.4   </td><td> 14   </td></tr>\n",
       "\t<tr><td>-23.75</td><td>184.50</td><td> 54   </td><td>5.2   </td><td> 74   </td></tr>\n",
       "\t<tr><td>-24.10</td><td>184.50</td><td> 68   </td><td>4.7   </td><td> 23   </td></tr>\n",
       "\t<tr><td>-18.56</td><td>169.05</td><td>217   </td><td>4.9   </td><td> 35   </td></tr>\n",
       "\t<tr><td>-23.30</td><td>184.68</td><td>102   </td><td>4.9   </td><td> 27   </td></tr>\n",
       "\t<tr><td>-17.03</td><td>185.74</td><td>178   </td><td>4.2   </td><td> 32   </td></tr>\n",
       "\t<tr><td>-20.77</td><td>183.71</td><td>251   </td><td>4.4   </td><td> 47   </td></tr>\n",
       "\t<tr><td>-28.10</td><td>183.50</td><td> 42   </td><td>4.4   </td><td> 17   </td></tr>\n",
       "\t<tr><td>-18.83</td><td>182.26</td><td>575   </td><td>4.3   </td><td> 11   </td></tr>\n",
       "\t<tr><td>-23.00</td><td>170.70</td><td> 43   </td><td>4.9   </td><td> 20   </td></tr>\n",
       "\t<tr><td>-20.82</td><td>181.67</td><td>577   </td><td>5.0   </td><td> 67   </td></tr>\n",
       "\t<tr><td>-22.95</td><td>170.56</td><td> 42   </td><td>4.7   </td><td> 21   </td></tr>\n",
       "\t<tr><td>-28.22</td><td>183.60</td><td> 75   </td><td>4.9   </td><td> 49   </td></tr>\n",
       "\t<tr><td>-27.99</td><td>183.50</td><td> 71   </td><td>4.3   </td><td> 22   </td></tr>\n",
       "\t<tr><td>-15.54</td><td>187.15</td><td> 60   </td><td>4.5   </td><td> 17   </td></tr>\n",
       "\t<tr><td>-12.37</td><td>166.93</td><td>291   </td><td>4.2   </td><td> 16   </td></tr>\n",
       "\t<tr><td>-22.33</td><td>171.66</td><td>125   </td><td>5.2   </td><td> 51   </td></tr>\n",
       "\t<tr><td>-22.70</td><td>170.30</td><td> 69   </td><td>4.8   </td><td> 27   </td></tr>\n",
       "\t<tr><td>-17.86</td><td>181.30</td><td>614   </td><td>4.0   </td><td> 12   </td></tr>\n",
       "\t<tr><td>-16.00</td><td>184.53</td><td>108   </td><td>4.7   </td><td> 33   </td></tr>\n",
       "\t<tr><td>-20.73</td><td>181.42</td><td>575   </td><td>4.3   </td><td> 18   </td></tr>\n",
       "\t<tr><td>-15.45</td><td>181.42</td><td>409   </td><td>4.3   </td><td> 27   </td></tr>\n",
       "\t<tr><td>-20.05</td><td>183.86</td><td>243   </td><td>4.9   </td><td> 65   </td></tr>\n",
       "\t<tr><td>-17.95</td><td>181.37</td><td>642   </td><td>4.0   </td><td> 17   </td></tr>\n",
       "\t<tr><td>-17.70</td><td>188.10</td><td> 45   </td><td>4.2   </td><td> 10   </td></tr>\n",
       "\t<tr><td>-25.93</td><td>179.54</td><td>470   </td><td>4.4   </td><td> 22   </td></tr>\n",
       "\t<tr><td>-12.28</td><td>167.06</td><td>248   </td><td>4.7   </td><td> 35   </td></tr>\n",
       "\t<tr><td>-20.13</td><td>184.20</td><td>244   </td><td>4.5   </td><td> 34   </td></tr>\n",
       "\t<tr><td>-17.40</td><td>187.80</td><td> 40   </td><td>4.5   </td><td> 14   </td></tr>\n",
       "\t<tr><td>-21.59</td><td>170.56</td><td>165   </td><td>6.0   </td><td>119   </td></tr>\n",
       "</tbody>\n",
       "</table>\n"
      ],
      "text/latex": [
       "\\begin{tabular}{r|lllll}\n",
       " lat & long & depth & mag & stations\\\\\n",
       "\\hline\n",
       "\t -20.42 & 181.62 & 562    & 4.8    & 41    \\\\\n",
       "\t -20.62 & 181.03 & 650    & 4.2    & 15    \\\\\n",
       "\t -26.00 & 184.10 &  42    & 5.4    & 43    \\\\\n",
       "\t -17.97 & 181.66 & 626    & 4.1    & 19    \\\\\n",
       "\t -20.42 & 181.96 & 649    & 4.0    & 11    \\\\\n",
       "\t -19.68 & 184.31 & 195    & 4.0    & 12    \\\\\n",
       "\t -11.70 & 166.10 &  82    & 4.8    & 43    \\\\\n",
       "\t -28.11 & 181.93 & 194    & 4.4    & 15    \\\\\n",
       "\t -28.74 & 181.74 & 211    & 4.7    & 35    \\\\\n",
       "\t -17.47 & 179.59 & 622    & 4.3    & 19    \\\\\n",
       "\t -21.44 & 180.69 & 583    & 4.4    & 13    \\\\\n",
       "\t -12.26 & 167.00 & 249    & 4.6    & 16    \\\\\n",
       "\t -18.54 & 182.11 & 554    & 4.4    & 19    \\\\\n",
       "\t -21.00 & 181.66 & 600    & 4.4    & 10    \\\\\n",
       "\t -20.70 & 169.92 & 139    & 6.1    & 94    \\\\\n",
       "\t -15.94 & 184.95 & 306    & 4.3    & 11    \\\\\n",
       "\t -13.64 & 165.96 &  50    & 6.0    & 83    \\\\\n",
       "\t -17.83 & 181.50 & 590    & 4.5    & 21    \\\\\n",
       "\t -23.50 & 179.78 & 570    & 4.4    & 13    \\\\\n",
       "\t -22.63 & 180.31 & 598    & 4.4    & 18    \\\\\n",
       "\t -20.84 & 181.16 & 576    & 4.5    & 17    \\\\\n",
       "\t -10.98 & 166.32 & 211    & 4.2    & 12    \\\\\n",
       "\t -23.30 & 180.16 & 512    & 4.4    & 18    \\\\\n",
       "\t -30.20 & 182.00 & 125    & 4.7    & 22    \\\\\n",
       "\t -19.66 & 180.28 & 431    & 5.4    & 57    \\\\\n",
       "\t -17.94 & 181.49 & 537    & 4.0    & 15    \\\\\n",
       "\t -14.72 & 167.51 & 155    & 4.6    & 18    \\\\\n",
       "\t -16.46 & 180.79 & 498    & 5.2    & 79    \\\\\n",
       "\t -20.97 & 181.47 & 582    & 4.5    & 25    \\\\\n",
       "\t -19.84 & 182.37 & 328    & 4.4    & 17    \\\\\n",
       "\t ... & ... & ... & ... & ...\\\\\n",
       "\t -25.79 & 182.38 & 172    & 4.4    &  14   \\\\\n",
       "\t -23.75 & 184.50 &  54    & 5.2    &  74   \\\\\n",
       "\t -24.10 & 184.50 &  68    & 4.7    &  23   \\\\\n",
       "\t -18.56 & 169.05 & 217    & 4.9    &  35   \\\\\n",
       "\t -23.30 & 184.68 & 102    & 4.9    &  27   \\\\\n",
       "\t -17.03 & 185.74 & 178    & 4.2    &  32   \\\\\n",
       "\t -20.77 & 183.71 & 251    & 4.4    &  47   \\\\\n",
       "\t -28.10 & 183.50 &  42    & 4.4    &  17   \\\\\n",
       "\t -18.83 & 182.26 & 575    & 4.3    &  11   \\\\\n",
       "\t -23.00 & 170.70 &  43    & 4.9    &  20   \\\\\n",
       "\t -20.82 & 181.67 & 577    & 5.0    &  67   \\\\\n",
       "\t -22.95 & 170.56 &  42    & 4.7    &  21   \\\\\n",
       "\t -28.22 & 183.60 &  75    & 4.9    &  49   \\\\\n",
       "\t -27.99 & 183.50 &  71    & 4.3    &  22   \\\\\n",
       "\t -15.54 & 187.15 &  60    & 4.5    &  17   \\\\\n",
       "\t -12.37 & 166.93 & 291    & 4.2    &  16   \\\\\n",
       "\t -22.33 & 171.66 & 125    & 5.2    &  51   \\\\\n",
       "\t -22.70 & 170.30 &  69    & 4.8    &  27   \\\\\n",
       "\t -17.86 & 181.30 & 614    & 4.0    &  12   \\\\\n",
       "\t -16.00 & 184.53 & 108    & 4.7    &  33   \\\\\n",
       "\t -20.73 & 181.42 & 575    & 4.3    &  18   \\\\\n",
       "\t -15.45 & 181.42 & 409    & 4.3    &  27   \\\\\n",
       "\t -20.05 & 183.86 & 243    & 4.9    &  65   \\\\\n",
       "\t -17.95 & 181.37 & 642    & 4.0    &  17   \\\\\n",
       "\t -17.70 & 188.10 &  45    & 4.2    &  10   \\\\\n",
       "\t -25.93 & 179.54 & 470    & 4.4    &  22   \\\\\n",
       "\t -12.28 & 167.06 & 248    & 4.7    &  35   \\\\\n",
       "\t -20.13 & 184.20 & 244    & 4.5    &  34   \\\\\n",
       "\t -17.40 & 187.80 &  40    & 4.5    &  14   \\\\\n",
       "\t -21.59 & 170.56 & 165    & 6.0    & 119   \\\\\n",
       "\\end{tabular}\n"
      ],
      "text/markdown": [
       "\n",
       "lat | long | depth | mag | stations | \n",
       "|---|---|---|---|---|---|---|---|---|---|---|---|---|---|---|---|---|---|---|---|---|---|---|---|---|---|---|---|---|---|---|---|---|---|---|---|---|---|---|---|---|---|---|---|---|---|---|---|---|---|---|---|---|---|---|---|---|---|---|---|---|\n",
       "| -20.42 | 181.62 | 562    | 4.8    | 41     | \n",
       "| -20.62 | 181.03 | 650    | 4.2    | 15     | \n",
       "| -26.00 | 184.10 |  42    | 5.4    | 43     | \n",
       "| -17.97 | 181.66 | 626    | 4.1    | 19     | \n",
       "| -20.42 | 181.96 | 649    | 4.0    | 11     | \n",
       "| -19.68 | 184.31 | 195    | 4.0    | 12     | \n",
       "| -11.70 | 166.10 |  82    | 4.8    | 43     | \n",
       "| -28.11 | 181.93 | 194    | 4.4    | 15     | \n",
       "| -28.74 | 181.74 | 211    | 4.7    | 35     | \n",
       "| -17.47 | 179.59 | 622    | 4.3    | 19     | \n",
       "| -21.44 | 180.69 | 583    | 4.4    | 13     | \n",
       "| -12.26 | 167.00 | 249    | 4.6    | 16     | \n",
       "| -18.54 | 182.11 | 554    | 4.4    | 19     | \n",
       "| -21.00 | 181.66 | 600    | 4.4    | 10     | \n",
       "| -20.70 | 169.92 | 139    | 6.1    | 94     | \n",
       "| -15.94 | 184.95 | 306    | 4.3    | 11     | \n",
       "| -13.64 | 165.96 |  50    | 6.0    | 83     | \n",
       "| -17.83 | 181.50 | 590    | 4.5    | 21     | \n",
       "| -23.50 | 179.78 | 570    | 4.4    | 13     | \n",
       "| -22.63 | 180.31 | 598    | 4.4    | 18     | \n",
       "| -20.84 | 181.16 | 576    | 4.5    | 17     | \n",
       "| -10.98 | 166.32 | 211    | 4.2    | 12     | \n",
       "| -23.30 | 180.16 | 512    | 4.4    | 18     | \n",
       "| -30.20 | 182.00 | 125    | 4.7    | 22     | \n",
       "| -19.66 | 180.28 | 431    | 5.4    | 57     | \n",
       "| -17.94 | 181.49 | 537    | 4.0    | 15     | \n",
       "| -14.72 | 167.51 | 155    | 4.6    | 18     | \n",
       "| -16.46 | 180.79 | 498    | 5.2    | 79     | \n",
       "| -20.97 | 181.47 | 582    | 4.5    | 25     | \n",
       "| -19.84 | 182.37 | 328    | 4.4    | 17     | \n",
       "| ... | ... | ... | ... | ... | \n",
       "| -25.79 | 182.38 | 172    | 4.4    |  14    | \n",
       "| -23.75 | 184.50 |  54    | 5.2    |  74    | \n",
       "| -24.10 | 184.50 |  68    | 4.7    |  23    | \n",
       "| -18.56 | 169.05 | 217    | 4.9    |  35    | \n",
       "| -23.30 | 184.68 | 102    | 4.9    |  27    | \n",
       "| -17.03 | 185.74 | 178    | 4.2    |  32    | \n",
       "| -20.77 | 183.71 | 251    | 4.4    |  47    | \n",
       "| -28.10 | 183.50 |  42    | 4.4    |  17    | \n",
       "| -18.83 | 182.26 | 575    | 4.3    |  11    | \n",
       "| -23.00 | 170.70 |  43    | 4.9    |  20    | \n",
       "| -20.82 | 181.67 | 577    | 5.0    |  67    | \n",
       "| -22.95 | 170.56 |  42    | 4.7    |  21    | \n",
       "| -28.22 | 183.60 |  75    | 4.9    |  49    | \n",
       "| -27.99 | 183.50 |  71    | 4.3    |  22    | \n",
       "| -15.54 | 187.15 |  60    | 4.5    |  17    | \n",
       "| -12.37 | 166.93 | 291    | 4.2    |  16    | \n",
       "| -22.33 | 171.66 | 125    | 5.2    |  51    | \n",
       "| -22.70 | 170.30 |  69    | 4.8    |  27    | \n",
       "| -17.86 | 181.30 | 614    | 4.0    |  12    | \n",
       "| -16.00 | 184.53 | 108    | 4.7    |  33    | \n",
       "| -20.73 | 181.42 | 575    | 4.3    |  18    | \n",
       "| -15.45 | 181.42 | 409    | 4.3    |  27    | \n",
       "| -20.05 | 183.86 | 243    | 4.9    |  65    | \n",
       "| -17.95 | 181.37 | 642    | 4.0    |  17    | \n",
       "| -17.70 | 188.10 |  45    | 4.2    |  10    | \n",
       "| -25.93 | 179.54 | 470    | 4.4    |  22    | \n",
       "| -12.28 | 167.06 | 248    | 4.7    |  35    | \n",
       "| -20.13 | 184.20 | 244    | 4.5    |  34    | \n",
       "| -17.40 | 187.80 |  40    | 4.5    |  14    | \n",
       "| -21.59 | 170.56 | 165    | 6.0    | 119    | \n",
       "\n",
       "\n"
      ],
      "text/plain": [
       "     lat    long   depth mag stations\n",
       "1    -20.42 181.62 562   4.8 41      \n",
       "2    -20.62 181.03 650   4.2 15      \n",
       "3    -26.00 184.10  42   5.4 43      \n",
       "4    -17.97 181.66 626   4.1 19      \n",
       "5    -20.42 181.96 649   4.0 11      \n",
       "6    -19.68 184.31 195   4.0 12      \n",
       "7    -11.70 166.10  82   4.8 43      \n",
       "8    -28.11 181.93 194   4.4 15      \n",
       "9    -28.74 181.74 211   4.7 35      \n",
       "10   -17.47 179.59 622   4.3 19      \n",
       "11   -21.44 180.69 583   4.4 13      \n",
       "12   -12.26 167.00 249   4.6 16      \n",
       "13   -18.54 182.11 554   4.4 19      \n",
       "14   -21.00 181.66 600   4.4 10      \n",
       "15   -20.70 169.92 139   6.1 94      \n",
       "16   -15.94 184.95 306   4.3 11      \n",
       "17   -13.64 165.96  50   6.0 83      \n",
       "18   -17.83 181.50 590   4.5 21      \n",
       "19   -23.50 179.78 570   4.4 13      \n",
       "20   -22.63 180.31 598   4.4 18      \n",
       "21   -20.84 181.16 576   4.5 17      \n",
       "22   -10.98 166.32 211   4.2 12      \n",
       "23   -23.30 180.16 512   4.4 18      \n",
       "24   -30.20 182.00 125   4.7 22      \n",
       "25   -19.66 180.28 431   5.4 57      \n",
       "26   -17.94 181.49 537   4.0 15      \n",
       "27   -14.72 167.51 155   4.6 18      \n",
       "28   -16.46 180.79 498   5.2 79      \n",
       "29   -20.97 181.47 582   4.5 25      \n",
       "30   -19.84 182.37 328   4.4 17      \n",
       "...  ...    ...    ...   ... ...     \n",
       "971  -25.79 182.38 172   4.4  14     \n",
       "972  -23.75 184.50  54   5.2  74     \n",
       "973  -24.10 184.50  68   4.7  23     \n",
       "974  -18.56 169.05 217   4.9  35     \n",
       "975  -23.30 184.68 102   4.9  27     \n",
       "976  -17.03 185.74 178   4.2  32     \n",
       "977  -20.77 183.71 251   4.4  47     \n",
       "978  -28.10 183.50  42   4.4  17     \n",
       "979  -18.83 182.26 575   4.3  11     \n",
       "980  -23.00 170.70  43   4.9  20     \n",
       "981  -20.82 181.67 577   5.0  67     \n",
       "982  -22.95 170.56  42   4.7  21     \n",
       "983  -28.22 183.60  75   4.9  49     \n",
       "984  -27.99 183.50  71   4.3  22     \n",
       "985  -15.54 187.15  60   4.5  17     \n",
       "986  -12.37 166.93 291   4.2  16     \n",
       "987  -22.33 171.66 125   5.2  51     \n",
       "988  -22.70 170.30  69   4.8  27     \n",
       "989  -17.86 181.30 614   4.0  12     \n",
       "990  -16.00 184.53 108   4.7  33     \n",
       "991  -20.73 181.42 575   4.3  18     \n",
       "992  -15.45 181.42 409   4.3  27     \n",
       "993  -20.05 183.86 243   4.9  65     \n",
       "994  -17.95 181.37 642   4.0  17     \n",
       "995  -17.70 188.10  45   4.2  10     \n",
       "996  -25.93 179.54 470   4.4  22     \n",
       "997  -12.28 167.06 248   4.7  35     \n",
       "998  -20.13 184.20 244   4.5  34     \n",
       "999  -17.40 187.80  40   4.5  14     \n",
       "1000 -21.59 170.56 165   6.0 119     "
      ]
     },
     "metadata": {},
     "output_type": "display_data"
    }
   ],
   "source": [
    "quakes"
   ]
  },
  {
   "cell_type": "code",
   "execution_count": 10,
   "metadata": {},
   "outputs": [],
   "source": [
    "?quakes"
   ]
  },
  {
   "cell_type": "markdown",
   "metadata": {},
   "source": [
    "__Format__\n",
    "\n",
    "A data frame with 1000 observations on 5 variables.\n",
    "\n",
    "[,1]\tlat\tnumeric\tLatitude of event\n",
    "\n",
    "[,2]\tlong\tnumeric\tLongitude\n",
    "\n",
    "[,3]\tdepth\tnumeric\tDepth (km)\n",
    "\n",
    "[,4]\tmag\tnumeric\tRichter Magnitude\n",
    "\n",
    "[,5]\tstations\tnumeric\tNumber of stations reporting\n",
    "\n",
    "__Details__\n",
    "\n",
    "There are two clear planes of seismic activity. One is a major plate junction; the other is the Tonga trench off New Zealand. These data constitute a subsample from a larger dataset of containing 5000 observations.\n",
    "\n",
    "__Source__\n",
    "\n",
    "This is one of the Harvard PRIM-H project data sets. They in turn obtained it from Dr. John Woodhouse, Dept. of Geophysics, Harvard University."
   ]
  },
  {
   "cell_type": "markdown",
   "metadata": {},
   "source": [
    "Максимальная сила землетрясений по шкале Рихтера"
   ]
  },
  {
   "cell_type": "code",
   "execution_count": 25,
   "metadata": {},
   "outputs": [
    {
     "data": {
      "text/html": [
       "<table>\n",
       "<thead><tr><th></th><th scope=col>lat</th><th scope=col>long</th><th scope=col>depth</th><th scope=col>mag</th><th scope=col>stations</th></tr></thead>\n",
       "<tbody>\n",
       "\t<tr><th scope=row>152</th><td>-15.56</td><td>167.62</td><td>127   </td><td>6.4   </td><td>122   </td></tr>\n",
       "</tbody>\n",
       "</table>\n"
      ],
      "text/latex": [
       "\\begin{tabular}{r|lllll}\n",
       "  & lat & long & depth & mag & stations\\\\\n",
       "\\hline\n",
       "\t152 & -15.56 & 167.62 & 127    & 6.4    & 122   \\\\\n",
       "\\end{tabular}\n"
      ],
      "text/markdown": [
       "\n",
       "| <!--/--> | lat | long | depth | mag | stations | \n",
       "|---|\n",
       "| 152 | -15.56 | 167.62 | 127    | 6.4    | 122    | \n",
       "\n",
       "\n"
      ],
      "text/plain": [
       "    lat    long   depth mag stations\n",
       "152 -15.56 167.62 127   6.4 122     "
      ]
     },
     "metadata": {},
     "output_type": "display_data"
    }
   ],
   "source": [
    "quakes[which.max(quakes[,4]),]"
   ]
  },
  {
   "cell_type": "markdown",
   "metadata": {},
   "source": [
    "Минимальная сила землетрясений по шкале Рихтера"
   ]
  },
  {
   "cell_type": "code",
   "execution_count": 26,
   "metadata": {},
   "outputs": [
    {
     "data": {
      "text/html": [
       "<table>\n",
       "<thead><tr><th></th><th scope=col>lat</th><th scope=col>long</th><th scope=col>depth</th><th scope=col>mag</th><th scope=col>stations</th></tr></thead>\n",
       "<tbody>\n",
       "\t<tr><th scope=row>5</th><td>-20.42</td><td>181.96</td><td>649   </td><td>4     </td><td>11    </td></tr>\n",
       "</tbody>\n",
       "</table>\n"
      ],
      "text/latex": [
       "\\begin{tabular}{r|lllll}\n",
       "  & lat & long & depth & mag & stations\\\\\n",
       "\\hline\n",
       "\t5 & -20.42 & 181.96 & 649    & 4      & 11    \\\\\n",
       "\\end{tabular}\n"
      ],
      "text/markdown": [
       "\n",
       "| <!--/--> | lat | long | depth | mag | stations | \n",
       "|---|\n",
       "| 5 | -20.42 | 181.96 | 649    | 4      | 11     | \n",
       "\n",
       "\n"
      ],
      "text/plain": [
       "  lat    long   depth mag stations\n",
       "5 -20.42 181.96 649   4   11      "
      ]
     },
     "metadata": {},
     "output_type": "display_data"
    }
   ],
   "source": [
    "quakes[which.min(quakes[,4]),]"
   ]
  },
  {
   "cell_type": "markdown",
   "metadata": {},
   "source": [
    "Медианная глубина землетрясений (км)"
   ]
  },
  {
   "cell_type": "code",
   "execution_count": 28,
   "metadata": {},
   "outputs": [
    {
     "data": {
      "text/html": [
       "247"
      ],
      "text/latex": [
       "247"
      ],
      "text/markdown": [
       "247"
      ],
      "text/plain": [
       "[1] 247"
      ]
     },
     "metadata": {},
     "output_type": "display_data"
    }
   ],
   "source": [
    "median(quakes[,3])"
   ]
  },
  {
   "cell_type": "markdown",
   "metadata": {},
   "source": [
    "Средняя глубина землетрясений (км)"
   ]
  },
  {
   "cell_type": "code",
   "execution_count": 30,
   "metadata": {},
   "outputs": [
    {
     "data": {
      "text/html": [
       "311.371"
      ],
      "text/latex": [
       "311.371"
      ],
      "text/markdown": [
       "311.371"
      ],
      "text/plain": [
       "[1] 311.371"
      ]
     },
     "metadata": {},
     "output_type": "display_data"
    }
   ],
   "source": [
    "mean(quakes[,3])"
   ]
  },
  {
   "cell_type": "markdown",
   "metadata": {},
   "source": [
    "Количество станций, зарегистрировавших землетрясение, записанное третьим"
   ]
  },
  {
   "cell_type": "code",
   "execution_count": 1,
   "metadata": {},
   "outputs": [
    {
     "data": {
      "text/html": [
       "43"
      ],
      "text/latex": [
       "43"
      ],
      "text/markdown": [
       "43"
      ],
      "text/plain": [
       "[1] 43"
      ]
     },
     "metadata": {},
     "output_type": "display_data"
    }
   ],
   "source": [
    "quakes$stations[3]"
   ]
  },
  {
   "cell_type": "markdown",
   "metadata": {},
   "source": [
    "Количество станций, зарегистрировавших землетрясение, записанное предпоследним"
   ]
  },
  {
   "cell_type": "code",
   "execution_count": 9,
   "metadata": {},
   "outputs": [
    {
     "data": {
      "text/html": [
       "14"
      ],
      "text/latex": [
       "14"
      ],
      "text/markdown": [
       "14"
      ],
      "text/plain": [
       "[1] 14"
      ]
     },
     "metadata": {},
     "output_type": "display_data"
    }
   ],
   "source": [
    "quakes$stations[length(quakes$stations)-1]"
   ]
  },
  {
   "cell_type": "markdown",
   "metadata": {},
   "source": [
    "Доцент кафедры прикладного анализа данных Арчибальд Нелёгких проделал ту же работу над массивом avianHabitat, что и мы, и отправил результаты учёным из Аляски. Сегодня утром он обнаружил в почтовом ящике письмо следующего содержания.\n",
    "\n",
    "`Дорогой Арчи!\n",
    "Получил твои расчёты. Твой вопрос относительно покрытия растительностью действительно обоснован: общее покрытие в самом деле достаточно низкое. Ты ведь не забыл, что мы работаем в Аляске? Смотри сам (фото справа):`\n",
    "http://minerals.usgs.gov/alaska/economic/sewpen.html \n",
    "\n",
    "`Ладно, слушай, у меня к тебе ещё одна просьба. У нас тут стажёр из аспирантуры работает, зовут его Карлош Линнейес или как-то так. В общем, он забыл прикрепить свои измерения к общему файлу. Ты не мог бы принять его кусок данных, прикрепить его к общему массиву и пересчитать показатели?\n",
    "Только имей в виду: этот аспирант рассеянный тип, наверняка он что-нибудь напортачил. Впрочем, для тебя это наверняка пустяки! Файл avianHabitat2.csv прикрепляю.\n",
    "Заранее спасибо!\n",
    "Дж.`\n",
    "\n",
    "\n",
    "Помогите Арчибальду! Cкачайте файл по ссылке, добавьте новые данные в общий дата фрейм и повторите подсчёт общего покрытия, добавив переменную total_coverage. В качестве ответа пришлите величину среднего покрытия с точностью до второго знака: X.XX \n",
    "\n",
    "Подсказки:\n",
    "\n",
    "общий массив будет содержать 1088 наблюдений;\n",
    "\n",
    "добавление данных Карлоша увеличит среднее по переменной общего покрытия, но незначительно.\n"
   ]
  },
  {
   "cell_type": "code",
   "execution_count": 2,
   "metadata": {},
   "outputs": [
    {
     "data": {
      "text/html": [
       "1088"
      ],
      "text/latex": [
       "1088"
      ],
      "text/markdown": [
       "1088"
      ],
      "text/plain": [
       "[1] 1088"
      ]
     },
     "metadata": {},
     "output_type": "display_data"
    },
    {
     "data": {
      "text/html": [
       "9.57169117647059"
      ],
      "text/latex": [
       "9.57169117647059"
      ],
      "text/markdown": [
       "9.57169117647059"
      ],
      "text/plain": [
       "[1] 9.571691"
      ]
     },
     "metadata": {},
     "output_type": "display_data"
    }
   ],
   "source": [
    "s <- read.csv('https://raw.githubusercontent.com/tonytonov/Rcourse/master/R%20programming/avianHabitat.csv')\n",
    "s1 <- read.csv('https://raw.githubusercontent.com/tonytonov/Rcourse/master/R%20programming/avianHabitat2.csv',\n",
    "               skip = 5, sep = ';',comment.char = \"%\",na.strings = \"Don't remember\")\n",
    "s = s[names(s) != \"Observer\"]\n",
    "s1$Subpoint[8] = 8\n",
    "s1$Subpoint[9] = 9\n",
    "new <- rbind(s,s1)\n",
    "total_coverage <- c(seq(1,nrow(new)))\n",
    "new <- cbind(new, total_coverage)\n",
    "for (i in seq(1,nrow(new)) ){\n",
    "    new$total_coverage[i] <- new[i,4] + new[i,6] +new[i,8]+new[i,10]+new[i,12]+new[i,14] + new[i,16]\n",
    "}\n",
    "nrow(new)\n",
    "mean(new$total_coverage)"
   ]
  },
  {
   "cell_type": "markdown",
   "metadata": {},
   "source": [
    "На массиве avianHabitat найдите максимальные высоты по каждому виду растений и отсортируйте эти виды по убыванию, от самого высокого к самому низкому.\n",
    "\n",
    "Подсказки:\n",
    "\n",
    "вас будут интересовать только данные переменных, отвечающих за высоты растений. Такие переменные заканчиваются на Ht;"
   ]
  },
  {
   "cell_type": "code",
   "execution_count": 16,
   "metadata": {},
   "outputs": [
    {
     "data": {
      "text/html": [
       "<dl class=dl-horizontal>\n",
       "\t<dt>A</dt>\n",
       "\t\t<dd>31.5</dd>\n",
       "\t<dt>W</dt>\n",
       "\t\t<dd>24.5</dd>\n",
       "\t<dt>DB</dt>\n",
       "\t\t<dd>10</dd>\n",
       "\t<dt>H</dt>\n",
       "\t\t<dd>8.2</dd>\n",
       "\t<dt>E</dt>\n",
       "\t\t<dd>5.3</dd>\n",
       "\t<dt>L</dt>\n",
       "\t\t<dd>1.3</dd>\n",
       "</dl>\n"
      ],
      "text/latex": [
       "\\begin{description*}\n",
       "\\item[A] 31.5\n",
       "\\item[W] 24.5\n",
       "\\item[DB] 10\n",
       "\\item[H] 8.2\n",
       "\\item[E] 5.3\n",
       "\\item[L] 1.3\n",
       "\\end{description*}\n"
      ],
      "text/markdown": [
       "A\n",
       ":   31.5W\n",
       ":   24.5DB\n",
       ":   10H\n",
       ":   8.2E\n",
       ":   5.3L\n",
       ":   1.3\n",
       "\n"
      ],
      "text/plain": [
       "   A    W   DB    H    E    L \n",
       "31.5 24.5 10.0  8.2  5.3  1.3 "
      ]
     },
     "metadata": {},
     "output_type": "display_data"
    }
   ],
   "source": [
    "avian <- read.csv('https://raw.githubusercontent.com/tonytonov/Rcourse/master/R%20programming/avianHabitat.csv')\n",
    "r <-c( \"DB\"= max(avian[,6]),\n",
    "        \"W\" =  max(avian[,8]),    \n",
    "        \"E\" = max(avian[,10]),   \n",
    "        \"A\" = max(avian[,12]),   \n",
    "        \"H\" = max(avian[,14]),   \n",
    "        \"L\" = max(avian[,16]) )\n",
    "sort(r,decreasing = TRUE)"
   ]
  },
  {
   "cell_type": "code",
   "execution_count": null,
   "metadata": {},
   "outputs": [],
   "source": []
  }
 ],
 "metadata": {
  "kernelspec": {
   "display_name": "R",
   "language": "R",
   "name": "ir"
  },
  "language_info": {
   "codemirror_mode": "r",
   "file_extension": ".r",
   "mimetype": "text/x-r-source",
   "name": "R",
   "pygments_lexer": "r",
   "version": "3.5.1"
  }
 },
 "nbformat": 4,
 "nbformat_minor": 2
}
