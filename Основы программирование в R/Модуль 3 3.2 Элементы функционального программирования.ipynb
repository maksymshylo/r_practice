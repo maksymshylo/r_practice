{
 "cells": [
  {
   "cell_type": "markdown",
   "metadata": {},
   "source": [
    "---\n",
    "### \"Элементы функционального программирования\"\n",
    "    \n",
    "---"
   ]
  },
  {
   "cell_type": "markdown",
   "metadata": {},
   "source": [
    "# Объектно-ориентированные системы\n",
    "\n",
    ". . .\n",
    "\n",
    "В R их сразу три:\n",
    "\n",
    ">- S3 \n",
    "    + Нет формальной декларации класса\n",
    "    + Функция может иметь разное поведение (method dispatch) в зависимости от класса\n",
    "    + Такие функции называются generic\n",
    ">- S4\n",
    "    + Строгое определение класса и его полей\n",
    "    + Больше возможностей для поведения методов\n",
    ">- Reference classes\n",
    ". . .\n"
   ]
  },
  {
   "cell_type": "markdown",
   "metadata": {},
   "source": [
    "Больше об объектно-ориентированном программировании можно узнать в \"Advanced R\"\n",
    "\n",
    "# Generic функции\n",
    "\n",
    ". . .\n",
    "\n",
    "Например, функция `print` -- generic:"
   ]
  },
  {
   "cell_type": "code",
   "execution_count": 47,
   "metadata": {},
   "outputs": [
    {
     "data": {
      "text/html": [
       "205"
      ],
      "text/latex": [
       "205"
      ],
      "text/markdown": [
       "205"
      ],
      "text/plain": [
       "[1] 205"
      ]
     },
     "metadata": {},
     "output_type": "display_data"
    }
   ],
   "source": [
    "length(methods(print))"
   ]
  },
  {
   "cell_type": "markdown",
   "metadata": {},
   "source": [
    "То есть, если `x` -- дата фрейм, то вызовется `print.data.frame(x)`; если `x` -- функция, то `print.function(x)` и так далее\n",
    "\n",
    "Если ни один из методов не подходит, то `print.default(x)`\n",
    "\n",
    ". . .\n"
   ]
  },
  {
   "cell_type": "code",
   "execution_count": 48,
   "metadata": {},
   "outputs": [
    {
     "name": "stdout",
     "output_type": "stream",
     "text": [
      "[1] 54  3\n"
     ]
    }
   ],
   "source": [
    "print.data.frame <- function(df) print(dim(df))\n",
    "print(warpbreaks)"
   ]
  },
  {
   "cell_type": "markdown",
   "metadata": {},
   "source": [
    "# Функции без сторонних эффектов\n",
    "\n",
    ". . .\n",
    "\n",
    "В R нет указателей на объекты, все объекты передаются \"по значению\" (есть нюансы!) \n",
    "\n",
    "При попытке изменить переданный объект заводится его копия в локальном окружении (copy-on-modify semantics)\n"
   ]
  },
  {
   "cell_type": "code",
   "execution_count": 61,
   "metadata": {},
   "outputs": [
    {
     "data": {
      "text/html": [
       "46"
      ],
      "text/latex": [
       "46"
      ],
      "text/markdown": [
       "46"
      ],
      "text/plain": [
       "[1] 46"
      ]
     },
     "metadata": {},
     "output_type": "display_data"
    }
   ],
   "source": [
    "f <- function(k) {\n",
    "  k <- k + 1\n",
    "  a <- a + k^2\n",
    "  a\n",
    "}\n",
    "k <- 5\n",
    "f(k) # oops!"
   ]
  },
  {
   "cell_type": "code",
   "execution_count": 62,
   "metadata": {},
   "outputs": [],
   "source": [
    "f <- function(k) {\n",
    "  k <- k + 1\n",
    "  a <- a + k^2\n",
    "  a\n",
    "}\n",
    "k <- 5"
   ]
  },
  {
   "cell_type": "code",
   "execution_count": 63,
   "metadata": {},
   "outputs": [
    {
     "data": {
      "text/html": [
       "<ol class=list-inline>\n",
       "\t<li>46</li>\n",
       "\t<li>5</li>\n",
       "\t<li>10</li>\n",
       "</ol>\n"
      ],
      "text/latex": [
       "\\begin{enumerate*}\n",
       "\\item 46\n",
       "\\item 5\n",
       "\\item 10\n",
       "\\end{enumerate*}\n"
      ],
      "text/markdown": [
       "1. 46\n",
       "2. 5\n",
       "3. 10\n",
       "\n",
       "\n"
      ],
      "text/plain": [
       "[1] 46  5 10"
      ]
     },
     "metadata": {},
     "output_type": "display_data"
    }
   ],
   "source": [
    "a <- 10\n",
    "c(f(k), k, a)"
   ]
  },
  {
   "cell_type": "markdown",
   "metadata": {},
   "source": [
    "# `replicate`\n",
    "\n",
    ". . .\n",
    "\n",
    "Задачи моделирования часто используют вызовы одной и той же функции, зависящей от датчика случайных чисел:\n",
    "  \n",
    ". . ."
   ]
  },
  {
   "cell_type": "code",
   "execution_count": 52,
   "metadata": {},
   "outputs": [
    {
     "data": {
      "text/html": [
       "<ol class=list-inline>\n",
       "\t<li>10</li>\n",
       "\t<li>10</li>\n",
       "\t<li>4</li>\n",
       "\t<li>8</li>\n",
       "\t<li>8</li>\n",
       "</ol>\n"
      ],
      "text/latex": [
       "\\begin{enumerate*}\n",
       "\\item 10\n",
       "\\item 10\n",
       "\\item 4\n",
       "\\item 8\n",
       "\\item 8\n",
       "\\end{enumerate*}\n"
      ],
      "text/markdown": [
       "1. 10\n",
       "2. 10\n",
       "3. 4\n",
       "4. 8\n",
       "5. 8\n",
       "\n",
       "\n"
      ],
      "text/plain": [
       "[1] 10 10  4  8  8"
      ]
     },
     "metadata": {},
     "output_type": "display_data"
    }
   ],
   "source": [
    "get_status <- function(n, p = 0.1) {\n",
    "  x <- rbinom(n, 1, p)\n",
    "  sum(x)\n",
    "}\n",
    "replicate(5, get_status(100))"
   ]
  },
  {
   "cell_type": "markdown",
   "metadata": {},
   "source": [
    "# `mapply`\n",
    "\n",
    ". . .\n",
    "\n",
    "Многомерная версия `sapply`:"
   ]
  },
  {
   "cell_type": "code",
   "execution_count": 53,
   "metadata": {},
   "outputs": [
    {
     "data": {
      "text/html": [
       "<ol>\n",
       "\t<li><ol class=list-inline>\n",
       "\t<li>1</li>\n",
       "\t<li>1.5</li>\n",
       "\t<li>2</li>\n",
       "</ol>\n",
       "</li>\n",
       "\t<li><ol class=list-inline>\n",
       "\t<li>2</li>\n",
       "\t<li>2.33333333333333</li>\n",
       "\t<li>2.66666666666667</li>\n",
       "\t<li>3</li>\n",
       "</ol>\n",
       "</li>\n",
       "\t<li><ol class=list-inline>\n",
       "\t<li>3</li>\n",
       "\t<li>3.25</li>\n",
       "\t<li>3.5</li>\n",
       "\t<li>3.75</li>\n",
       "\t<li>4</li>\n",
       "</ol>\n",
       "</li>\n",
       "\t<li><ol class=list-inline>\n",
       "\t<li>4</li>\n",
       "\t<li>4.2</li>\n",
       "\t<li>4.4</li>\n",
       "\t<li>4.6</li>\n",
       "\t<li>4.8</li>\n",
       "\t<li>5</li>\n",
       "</ol>\n",
       "</li>\n",
       "</ol>\n"
      ],
      "text/latex": [
       "\\begin{enumerate}\n",
       "\\item \\begin{enumerate*}\n",
       "\\item 1\n",
       "\\item 1.5\n",
       "\\item 2\n",
       "\\end{enumerate*}\n",
       "\n",
       "\\item \\begin{enumerate*}\n",
       "\\item 2\n",
       "\\item 2.33333333333333\n",
       "\\item 2.66666666666667\n",
       "\\item 3\n",
       "\\end{enumerate*}\n",
       "\n",
       "\\item \\begin{enumerate*}\n",
       "\\item 3\n",
       "\\item 3.25\n",
       "\\item 3.5\n",
       "\\item 3.75\n",
       "\\item 4\n",
       "\\end{enumerate*}\n",
       "\n",
       "\\item \\begin{enumerate*}\n",
       "\\item 4\n",
       "\\item 4.2\n",
       "\\item 4.4\n",
       "\\item 4.6\n",
       "\\item 4.8\n",
       "\\item 5\n",
       "\\end{enumerate*}\n",
       "\n",
       "\\end{enumerate}\n"
      ],
      "text/markdown": [
       "1. 1. 1\n",
       "2. 1.5\n",
       "3. 2\n",
       "\n",
       "\n",
       "\n",
       "2. 1. 2\n",
       "2. 2.33333333333333\n",
       "3. 2.66666666666667\n",
       "4. 3\n",
       "\n",
       "\n",
       "\n",
       "3. 1. 3\n",
       "2. 3.25\n",
       "3. 3.5\n",
       "4. 3.75\n",
       "5. 4\n",
       "\n",
       "\n",
       "\n",
       "4. 1. 4\n",
       "2. 4.2\n",
       "3. 4.4\n",
       "4. 4.6\n",
       "5. 4.8\n",
       "6. 5\n",
       "\n",
       "\n",
       "\n",
       "\n",
       "\n"
      ],
      "text/plain": [
       "[[1]]\n",
       "[1] 1.0 1.5 2.0\n",
       "\n",
       "[[2]]\n",
       "[1] 2.000000 2.333333 2.666667 3.000000\n",
       "\n",
       "[[3]]\n",
       "[1] 3.00 3.25 3.50 3.75 4.00\n",
       "\n",
       "[[4]]\n",
       "[1] 4.0 4.2 4.4 4.6 4.8 5.0\n"
      ]
     },
     "metadata": {},
     "output_type": "display_data"
    }
   ],
   "source": [
    "mapply(seq, from = 1:4, to = 2:5, by = 1 / (1 + 1:4))"
   ]
  },
  {
   "cell_type": "markdown",
   "metadata": {},
   "source": [
    ". . .\n",
    "\n",
    "суть результат вызовов\n"
   ]
  },
  {
   "cell_type": "code",
   "execution_count": 54,
   "metadata": {},
   "outputs": [
    {
     "data": {
      "text/html": [
       "<ol>\n",
       "\t<li><ol class=list-inline>\n",
       "\t<li>1</li>\n",
       "\t<li>1.5</li>\n",
       "\t<li>2</li>\n",
       "</ol>\n",
       "</li>\n",
       "\t<li><ol class=list-inline>\n",
       "\t<li>2</li>\n",
       "\t<li>2.33333333333333</li>\n",
       "\t<li>2.66666666666667</li>\n",
       "\t<li>3</li>\n",
       "</ol>\n",
       "</li>\n",
       "\t<li><ol class=list-inline>\n",
       "\t<li>3</li>\n",
       "\t<li>3.25</li>\n",
       "\t<li>3.5</li>\n",
       "\t<li>3.75</li>\n",
       "\t<li>4</li>\n",
       "</ol>\n",
       "</li>\n",
       "\t<li><ol class=list-inline>\n",
       "\t<li>4</li>\n",
       "\t<li>4.2</li>\n",
       "\t<li>4.4</li>\n",
       "\t<li>4.6</li>\n",
       "\t<li>4.8</li>\n",
       "\t<li>5</li>\n",
       "</ol>\n",
       "</li>\n",
       "</ol>\n"
      ],
      "text/latex": [
       "\\begin{enumerate}\n",
       "\\item \\begin{enumerate*}\n",
       "\\item 1\n",
       "\\item 1.5\n",
       "\\item 2\n",
       "\\end{enumerate*}\n",
       "\n",
       "\\item \\begin{enumerate*}\n",
       "\\item 2\n",
       "\\item 2.33333333333333\n",
       "\\item 2.66666666666667\n",
       "\\item 3\n",
       "\\end{enumerate*}\n",
       "\n",
       "\\item \\begin{enumerate*}\n",
       "\\item 3\n",
       "\\item 3.25\n",
       "\\item 3.5\n",
       "\\item 3.75\n",
       "\\item 4\n",
       "\\end{enumerate*}\n",
       "\n",
       "\\item \\begin{enumerate*}\n",
       "\\item 4\n",
       "\\item 4.2\n",
       "\\item 4.4\n",
       "\\item 4.6\n",
       "\\item 4.8\n",
       "\\item 5\n",
       "\\end{enumerate*}\n",
       "\n",
       "\\end{enumerate}\n"
      ],
      "text/markdown": [
       "1. 1. 1\n",
       "2. 1.5\n",
       "3. 2\n",
       "\n",
       "\n",
       "\n",
       "2. 1. 2\n",
       "2. 2.33333333333333\n",
       "3. 2.66666666666667\n",
       "4. 3\n",
       "\n",
       "\n",
       "\n",
       "3. 1. 3\n",
       "2. 3.25\n",
       "3. 3.5\n",
       "4. 3.75\n",
       "5. 4\n",
       "\n",
       "\n",
       "\n",
       "4. 1. 4\n",
       "2. 4.2\n",
       "3. 4.4\n",
       "4. 4.6\n",
       "5. 4.8\n",
       "6. 5\n",
       "\n",
       "\n",
       "\n",
       "\n",
       "\n"
      ],
      "text/plain": [
       "[[1]]\n",
       "[1] 1.0 1.5 2.0\n",
       "\n",
       "[[2]]\n",
       "[1] 2.000000 2.333333 2.666667 3.000000\n",
       "\n",
       "[[3]]\n",
       "[1] 3.00 3.25 3.50 3.75 4.00\n",
       "\n",
       "[[4]]\n",
       "[1] 4.0 4.2 4.4 4.6 4.8 5.0\n"
      ]
     },
     "metadata": {},
     "output_type": "display_data"
    }
   ],
   "source": [
    "list(\n",
    "    seq(1, 2, 1/2), seq(2, 3, 1/3),\n",
    "    seq(3, 4, 1/4), seq(4, 5, 1/5)\n",
    ")"
   ]
  },
  {
   "cell_type": "markdown",
   "metadata": {},
   "source": [
    "# `outer`\n",
    "\n",
    ". . . \n",
    "\n",
    "Перебор всевозможных комбинаций аргументов: \n"
   ]
  },
  {
   "cell_type": "code",
   "execution_count": 64,
   "metadata": {},
   "outputs": [],
   "source": [
    "m <- outer(letters, LETTERS, paste0)"
   ]
  },
  {
   "cell_type": "code",
   "execution_count": 65,
   "metadata": {},
   "outputs": [
    {
     "data": {
      "text/html": [
       "<ol class=list-inline>\n",
       "\t<li>26</li>\n",
       "\t<li>26</li>\n",
       "</ol>\n"
      ],
      "text/latex": [
       "\\begin{enumerate*}\n",
       "\\item 26\n",
       "\\item 26\n",
       "\\end{enumerate*}\n"
      ],
      "text/markdown": [
       "1. 26\n",
       "2. 26\n",
       "\n",
       "\n"
      ],
      "text/plain": [
       "[1] 26 26"
      ]
     },
     "metadata": {},
     "output_type": "display_data"
    },
    {
     "data": {
      "text/html": [
       "<ol class=list-inline>\n",
       "\t<li>'aA'</li>\n",
       "\t<li>'bB'</li>\n",
       "\t<li>'cC'</li>\n",
       "\t<li>'dD'</li>\n",
       "\t<li>'eE'</li>\n",
       "\t<li>'fF'</li>\n",
       "\t<li>'gG'</li>\n",
       "\t<li>'hH'</li>\n",
       "\t<li>'iI'</li>\n",
       "\t<li>'jJ'</li>\n",
       "\t<li>'kK'</li>\n",
       "\t<li>'lL'</li>\n",
       "\t<li>'mM'</li>\n",
       "\t<li>'nN'</li>\n",
       "\t<li>'oO'</li>\n",
       "\t<li>'pP'</li>\n",
       "\t<li>'qQ'</li>\n",
       "\t<li>'rR'</li>\n",
       "\t<li>'sS'</li>\n",
       "\t<li>'tT'</li>\n",
       "\t<li>'uU'</li>\n",
       "\t<li>'vV'</li>\n",
       "\t<li>'wW'</li>\n",
       "\t<li>'xX'</li>\n",
       "\t<li>'yY'</li>\n",
       "\t<li>'zZ'</li>\n",
       "</ol>\n"
      ],
      "text/latex": [
       "\\begin{enumerate*}\n",
       "\\item 'aA'\n",
       "\\item 'bB'\n",
       "\\item 'cC'\n",
       "\\item 'dD'\n",
       "\\item 'eE'\n",
       "\\item 'fF'\n",
       "\\item 'gG'\n",
       "\\item 'hH'\n",
       "\\item 'iI'\n",
       "\\item 'jJ'\n",
       "\\item 'kK'\n",
       "\\item 'lL'\n",
       "\\item 'mM'\n",
       "\\item 'nN'\n",
       "\\item 'oO'\n",
       "\\item 'pP'\n",
       "\\item 'qQ'\n",
       "\\item 'rR'\n",
       "\\item 'sS'\n",
       "\\item 'tT'\n",
       "\\item 'uU'\n",
       "\\item 'vV'\n",
       "\\item 'wW'\n",
       "\\item 'xX'\n",
       "\\item 'yY'\n",
       "\\item 'zZ'\n",
       "\\end{enumerate*}\n"
      ],
      "text/markdown": [
       "1. 'aA'\n",
       "2. 'bB'\n",
       "3. 'cC'\n",
       "4. 'dD'\n",
       "5. 'eE'\n",
       "6. 'fF'\n",
       "7. 'gG'\n",
       "8. 'hH'\n",
       "9. 'iI'\n",
       "10. 'jJ'\n",
       "11. 'kK'\n",
       "12. 'lL'\n",
       "13. 'mM'\n",
       "14. 'nN'\n",
       "15. 'oO'\n",
       "16. 'pP'\n",
       "17. 'qQ'\n",
       "18. 'rR'\n",
       "19. 'sS'\n",
       "20. 'tT'\n",
       "21. 'uU'\n",
       "22. 'vV'\n",
       "23. 'wW'\n",
       "24. 'xX'\n",
       "25. 'yY'\n",
       "26. 'zZ'\n",
       "\n",
       "\n"
      ],
      "text/plain": [
       " [1] \"aA\" \"bB\" \"cC\" \"dD\" \"eE\" \"fF\" \"gG\" \"hH\" \"iI\" \"jJ\" \"kK\" \"lL\" \"mM\" \"nN\" \"oO\"\n",
       "[16] \"pP\" \"qQ\" \"rR\" \"sS\" \"tT\" \"uU\" \"vV\" \"wW\" \"xX\" \"yY\" \"zZ\""
      ]
     },
     "metadata": {},
     "output_type": "display_data"
    },
    {
     "data": {
      "text/html": [
       "<table>\n",
       "<tbody>\n",
       "\t<tr><td>aA</td><td>aB</td><td>aC</td><td>aD</td><td>aE</td></tr>\n",
       "\t<tr><td>bA</td><td>bB</td><td>bC</td><td>bD</td><td>bE</td></tr>\n",
       "\t<tr><td>cA</td><td>cB</td><td>cC</td><td>cD</td><td>cE</td></tr>\n",
       "\t<tr><td>dA</td><td>dB</td><td>dC</td><td>dD</td><td>dE</td></tr>\n",
       "\t<tr><td>eA</td><td>eB</td><td>eC</td><td>eD</td><td>eE</td></tr>\n",
       "</tbody>\n",
       "</table>\n"
      ],
      "text/latex": [
       "\\begin{tabular}{lllll}\n",
       "\t aA & aB & aC & aD & aE\\\\\n",
       "\t bA & bB & bC & bD & bE\\\\\n",
       "\t cA & cB & cC & cD & cE\\\\\n",
       "\t dA & dB & dC & dD & dE\\\\\n",
       "\t eA & eB & eC & eD & eE\\\\\n",
       "\\end{tabular}\n"
      ],
      "text/markdown": [
       "\n",
       "| aA | aB | aC | aD | aE | \n",
       "| bA | bB | bC | bD | bE | \n",
       "| cA | cB | cC | cD | cE | \n",
       "| dA | dB | dC | dD | dE | \n",
       "| eA | eB | eC | eD | eE | \n",
       "\n",
       "\n"
      ],
      "text/plain": [
       "     [,1] [,2] [,3] [,4] [,5]\n",
       "[1,] aA   aB   aC   aD   aE  \n",
       "[2,] bA   bB   bC   bD   bE  \n",
       "[3,] cA   cB   cC   cD   cE  \n",
       "[4,] dA   dB   dC   dD   dE  \n",
       "[5,] eA   eB   eC   eD   eE  "
      ]
     },
     "metadata": {},
     "output_type": "display_data"
    }
   ],
   "source": [
    "dim(m)\n",
    "diag(m)\n",
    "m[1:5, 1:5]"
   ]
  },
  {
   "cell_type": "markdown",
   "metadata": {},
   "source": [
    "# `Vectorize`\n",
    "\n",
    ". . .\n",
    "\n",
    "Есть способ векторизовать функцию, которая таковой не является\n"
   ]
  },
  {
   "cell_type": "code",
   "execution_count": 57,
   "metadata": {},
   "outputs": [
    {
     "name": "stderr",
     "output_type": "stream",
     "text": [
      "Warning message in if (p >= 1) sum(abs(x)^p)^(1/p) else NaN:\n",
      "\"длина условия > 1, будет использован только первый элемент\""
     ]
    },
    {
     "data": {
      "text/html": [
       "NaN"
      ],
      "text/latex": [
       "NaN"
      ],
      "text/markdown": [
       "NaN"
      ],
      "text/plain": [
       "[1] NaN"
      ]
     },
     "metadata": {},
     "output_type": "display_data"
    }
   ],
   "source": [
    "lp_norm <- function(x, p = 2) {\n",
    "  if (p >= 1) sum(abs(x)^p)^(1/p) else NaN\n",
    "}\n",
    "lp_norm(1:10, -1:4)"
   ]
  },
  {
   "cell_type": "code",
   "execution_count": 58,
   "metadata": {},
   "outputs": [
    {
     "data": {
      "text/html": [
       "<ol class=list-inline>\n",
       "\t<li>NaN</li>\n",
       "\t<li>NaN</li>\n",
       "\t<li>55</li>\n",
       "\t<li>19.6214168703486</li>\n",
       "\t<li>14.4624474188111</li>\n",
       "\t<li>12.6159992871207</li>\n",
       "</ol>\n"
      ],
      "text/latex": [
       "\\begin{enumerate*}\n",
       "\\item NaN\n",
       "\\item NaN\n",
       "\\item 55\n",
       "\\item 19.6214168703486\n",
       "\\item 14.4624474188111\n",
       "\\item 12.6159992871207\n",
       "\\end{enumerate*}\n"
      ],
      "text/markdown": [
       "1. NaN\n",
       "2. NaN\n",
       "3. 55\n",
       "4. 19.6214168703486\n",
       "5. 14.4624474188111\n",
       "6. 12.6159992871207\n",
       "\n",
       "\n"
      ],
      "text/plain": [
       "[1]      NaN      NaN 55.00000 19.62142 14.46245 12.61600"
      ]
     },
     "metadata": {},
     "output_type": "display_data"
    }
   ],
   "source": [
    "lp_norm <- Vectorize(lp_norm, \"p\")\n",
    "lp_norm(1:10, -1:4)"
   ]
  },
  {
   "cell_type": "markdown",
   "metadata": {},
   "source": [
    "# `do.call`\n",
    "\n",
    ". . .\n",
    "\n",
    "Вызов функции на списке аргументов:"
   ]
  },
  {
   "cell_type": "code",
   "execution_count": 59,
   "metadata": {},
   "outputs": [
    {
     "data": {
      "text/html": [
       "<table>\n",
       "<thead><tr><th scope=col>id</th><th scope=col>value</th></tr></thead>\n",
       "<tbody>\n",
       "\t<tr><td>  1       </td><td> 2.9631101</td></tr>\n",
       "\t<tr><td>  2       </td><td>-0.0464780</td></tr>\n",
       "\t<tr><td>  3       </td><td> 0.8164452</td></tr>\n",
       "\t<tr><td>  4       </td><td> 0.4646869</td></tr>\n",
       "\t<tr><td>222       </td><td> 7.0000000</td></tr>\n",
       "</tbody>\n",
       "</table>\n"
      ],
      "text/latex": [
       "\\begin{tabular}{r|ll}\n",
       " id & value\\\\\n",
       "\\hline\n",
       "\t   1        &  2.9631101\\\\\n",
       "\t   2        & -0.0464780\\\\\n",
       "\t   3        &  0.8164452\\\\\n",
       "\t   4        &  0.4646869\\\\\n",
       "\t 222        &  7.0000000\\\\\n",
       "\\end{tabular}\n"
      ],
      "text/markdown": [
       "\n",
       "id | value | \n",
       "|---|---|---|---|---|\n",
       "|   1        |  2.9631101 | \n",
       "|   2        | -0.0464780 | \n",
       "|   3        |  0.8164452 | \n",
       "|   4        |  0.4646869 | \n",
       "| 222        |  7.0000000 | \n",
       "\n",
       "\n"
      ],
      "text/plain": [
       "  id  value     \n",
       "1   1  2.9631101\n",
       "2   2 -0.0464780\n",
       "3   3  0.8164452\n",
       "4   4  0.4646869\n",
       "5 222  7.0000000"
      ]
     },
     "metadata": {},
     "output_type": "display_data"
    }
   ],
   "source": [
    "df1 <- data.frame(id = 1:2, value = rnorm(2))\n",
    "df2 <- data.frame(id = 3:4, value = runif(2))\n",
    "df3 <- data.frame(id = 222, value = 7)\n",
    "do.call(rbind, list(df1, df2, df3)) #rbind(df1, df2, df3)"
   ]
  },
  {
   "cell_type": "markdown",
   "metadata": {},
   "source": [
    "Но зачем? А для тех случаев, когда объектов неизвестно сколько:"
   ]
  },
  {
   "cell_type": "code",
   "execution_count": null,
   "metadata": {},
   "outputs": [],
   "source": [
    "do.call(rbind, lapply(list.files(), function(f ile) read.csv(file)))"
   ]
  },
  {
   "cell_type": "markdown",
   "metadata": {},
   "source": [
    "# Глоссарий\n",
    "\n",
    ". . .\n",
    "\n",
    "S3, S4, reference classes\n",
    "\n",
    "Generic function\n",
    "\n",
    "Copy-on-modify semantics\n",
    "\n",
    "`?replicate`\n",
    "\n",
    "`?mapply`\n",
    "\n",
    "`?outer`\n",
    "\n",
    "`?Vectorize`\n",
    "\n",
    "`?do.call`"
   ]
  },
  {
   "cell_type": "markdown",
   "metadata": {},
   "source": [
    "Один крупный учёный по фамилии Дарвин и имени Чарльз прославился не только своей книгой, название которой вы и без меня знаете, но и обширными трудами по классификациям видов. Благодаря ему мы знаем, что разнообразие признаков в популяции -- один из механизмов, обеспечивающих устойчивость вида.\n",
    "\n",
    "В рамках исследовательского гранта сотрудники научно-исследовательского института Котологии занялись классификацией признаков сотен котов, котиков и котофеев. После упорного трёхлетнего труда они записали все найденные ими вариации признаков в следующие наборы:\n",
    "```r\n",
    "cat_temper <- c(\"задиристый\", \"игривый\", \"спокойный\", \"ленивый\")\n",
    "cat_color <- c(\"белый\", \"серый\", \"чёрный\", \"рыжий\")\n",
    "cat_age <- c(\"кот\", \"котёнок\")\n",
    "cat_trait <- c(\"с умными глазами\", \"с острыми когтями\", \"с длинными усами\")\n",
    "```\n",
    "После этого они обратились к вам для составления всеобщего универсального каталога для включения его широко известный рецензируемый журнал \"Вестник НИИК\". Помогите учёным!\n",
    "\n",
    "Составьте вектор cat_catalogue, содержащий всевозможные комбинации имеющихся характеристик, и отсортируйте его. Помимо научной ценности, каталог (котолог?) можно использовать как средство для выбора домашнего питомца. Допустим, я хочу завести кота. Тогда я беру случайное число, скажем, 42, и выбираю запись под этим номером. Что за кот мне достался?\n",
    "\n",
    "Подсказки: \n",
    "\n",
    "+ в ответе укажите всю строку без кавычек;\n",
    "+ порядок комбинирования в точности как список наверху: temper - color - age - trait;\n",
    "+ cat_catalogue[1] содержит экземпляр задиристый белый кот с длинными усами.\n",
    "\n",
    "\n",
    "P.S. А если мы бы захотели создать дата фрейм со всевозможными комбинациями, можно было бы использовать функцию expand.grid."
   ]
  },
  {
   "cell_type": "code",
   "execution_count": 127,
   "metadata": {},
   "outputs": [],
   "source": [
    "cat_temper <- c(\"задиристый\", \"игривый\", \"спокойный\", \"ленивый\")\n",
    "cat_color <- c(\"белый\", \"серый\", \"чёрный\", \"рыжий\")\n",
    "cat_age <- c(\"кот\", \"котёнок\")\n",
    "cat_trait <- c(\"с умными глазами\", \"с острыми когтями\", \"с длинными усами\")"
   ]
  },
  {
   "cell_type": "code",
   "execution_count": 128,
   "metadata": {},
   "outputs": [],
   "source": [
    "cat_temper <- sort (cat_temper)\n",
    "cat_color <- sort (cat_color)\n",
    "cat_age <- sort(cat_age)\n",
    "cat_trait <- sort(cat_trait)"
   ]
  },
  {
   "cell_type": "code",
   "execution_count": 129,
   "metadata": {
    "scrolled": true
   },
   "outputs": [],
   "source": [
    "cat_catalogue <- expand.grid(cat_temper,cat_color,cat_age,cat_trait)"
   ]
  },
  {
   "cell_type": "code",
   "execution_count": 134,
   "metadata": {},
   "outputs": [
    {
     "data": {
      "text/html": [
       "<table>\n",
       "<thead><tr><th></th><th scope=col>Var1</th><th scope=col>Var2</th><th scope=col>Var3</th><th scope=col>Var4</th></tr></thead>\n",
       "<tbody>\n",
       "\t<tr><th scope=row>42</th><td>игривый          </td><td>серый            </td><td>кот              </td><td>с острыми когтями</td></tr>\n",
       "</tbody>\n",
       "</table>\n"
      ],
      "text/latex": [
       "\\begin{tabular}{r|llll}\n",
       "  & Var1 & Var2 & Var3 & Var4\\\\\n",
       "\\hline\n",
       "\t42 & игривый           & серый             & кот               & с острыми когтями\\\\\n",
       "\\end{tabular}\n"
      ],
      "text/markdown": [
       "\n",
       "| <!--/--> | Var1 | Var2 | Var3 | Var4 | \n",
       "|---|\n",
       "| 42 | игривый           | серый             | кот               | с острыми когтями | \n",
       "\n",
       "\n"
      ],
      "text/plain": [
       "   Var1    Var2  Var3 Var4             \n",
       "42 игривый серый кот  с острыми когтями"
      ]
     },
     "metadata": {},
     "output_type": "display_data"
    }
   ],
   "source": [
    "mapply()"
   ]
  },
  {
   "cell_type": "code",
   "execution_count": 144,
   "metadata": {},
   "outputs": [],
   "source": [
    "cat_catalogue <- paste(cat_catalogue$Var1, cat_catalogue$Var2,cat_catalogue$Var3, cat_catalogue$Var4)"
   ]
  },
  {
   "cell_type": "code",
   "execution_count": 148,
   "metadata": {},
   "outputs": [
    {
     "data": {
      "text/html": [
       "'игривый серый котёнок с умными глазами'"
      ],
      "text/latex": [
       "'игривый серый котёнок с умными глазами'"
      ],
      "text/markdown": [
       "'игривый серый котёнок с умными глазами'"
      ],
      "text/plain": [
       "[1] \"игривый серый котёнок с умными глазами\""
      ]
     },
     "metadata": {},
     "output_type": "display_data"
    }
   ],
   "source": [
    "sort(cat_catalogue)[42]"
   ]
  },
  {
   "cell_type": "markdown",
   "metadata": {},
   "source": [
    "-------------------------------------------------------\n",
    "\n",
    "При помощи функции `simulate_walk` из предыдущего видео можно моделировать случайное блуждание на отрезке [lower, upper]. Это достаточно простой случай. Больший интерес представляют задачи с блужданием по плоскости, то есть в размерности 2.\n",
    "\n",
    "Возьмите написанную мной функцию и измените её так, чтобы блуждание начиналось в центре координат (0, 0), а все переходы по координатам x и y были бы независимы и имели стандартное нормальное распределение. Если вас пугают эти слова, то это то же самое, что делал я, только отдельно по x и по y.\n",
    "\n",
    "Процесс обрывается в момент выхода за границу круга с центром в (0, 0) и радиусом 6. Вероятность поглощения на каждом шаге равна 0.01. Максимальное количество шагов — 100. Расстояние, разумеется, евклидово: расстояние от точки (x, y) до (0, 0) есть sqrt(x2+y2). Один шаг процесса подразумевает изменение обеих координат одновременно!\n",
    "\n",
    "Теперь, когда все параметры зафиксированы, вероятность выхода частицы за пределы круга строго определена. Наша задача — найти эту вероятность. Это некоторое число, не зависящее от реализации алгоритма. Его можно даже вычислить теоретически, но это не так-то просто. Поэтому в подобных случаях пользуются моделированием: запускают алгоритм достаточно большое количество раз (скажем, миллион траекторий) и оценивают долю частиц, вылетевших за границу. Эта доля и есть приближение вероятности, которую мы ищем (реверанс в сторону закона больших чисел).\n",
    "\n",
    "Для того, чтобы в нашей задаче определить нужную вероятность с точностью до целых процентов, достаточно будет ста тысяч запусков, у меня это несколько секунд. Если у вас считается слишком долго, то грубую оценку можно получить и для десяти тысяч запусков.\n",
    "\n",
    "В ответе укажите вероятность вылета частицы в процентах, с точностью до целых процентов, в виде XX (например, 14, без указания значка процентов). Вероятность должна получиться больше 50%.\n",
    "\n",
    "Подсказки:\n",
    "\n",
    "+ для быстродействия можно не возвращать список, как делаю я, а просто число, например: 1 — поглощение, 2 — вылет за границу, 3 — максимальное число шагов;\n",
    "+ если вы воспользовались предыдущим советом, то в replicate оставьте simplify = TRUE, тогда результатом будет вектор исходов;\n",
    "+ если функция получилась совсем медленной, то и тысячи траекторий хватит, чтобы попасть в диапазон правильного ответа плюс-минус пара процентов."
   ]
  },
  {
   "cell_type": "code",
   "execution_count": 161,
   "metadata": {},
   "outputs": [],
   "source": [
    "simulate_walk <- function( n_max = 100, p = 0.01, radius = 6) {\n",
    "  current_position <- c(0,0)\n",
    "  for (i in 1:n_max) {\n",
    "      \n",
    "    is_absorbed <- rbinom(1, 1, p)\n",
    "      \n",
    "    if (is_absorbed) return(1)   # 1 - поглощение\n",
    "      \n",
    "    current_position <- current_position + c(rnorm(1),rnorm(1))\n",
    "      \n",
    "    if (sqrt(current_position[1]**2 + current_position[2]**2 ) > radius) return(2)               #2 - вылет\n",
    "  }\n",
    "  return(3)                                                                                      #3 - максимальное кол-во\n",
    "}"
   ]
  },
  {
   "cell_type": "code",
   "execution_count": 170,
   "metadata": {},
   "outputs": [
    {
     "data": {
      "text/html": [
       "81"
      ],
      "text/latex": [
       "81"
      ],
      "text/markdown": [
       "81"
      ],
      "text/plain": [
       "[1] 81"
      ]
     },
     "metadata": {},
     "output_type": "display_data"
    }
   ],
   "source": [
    "g <- replicate(10000, simulate_walk(),simplify = TRUE)\n",
    "round(length(g[g==2])/10000 *100)"
   ]
  },
  {
   "cell_type": "code",
   "execution_count": 175,
   "metadata": {},
   "outputs": [
    {
     "data": {
      "text/html": [
       "<ol class=list-inline>\n",
       "\t<li>FALSE</li>\n",
       "\t<li>TRUE</li>\n",
       "\t<li>FALSE</li>\n",
       "</ol>\n"
      ],
      "text/latex": [
       "\\begin{enumerate*}\n",
       "\\item FALSE\n",
       "\\item TRUE\n",
       "\\item FALSE\n",
       "\\end{enumerate*}\n"
      ],
      "text/markdown": [
       "1. FALSE\n",
       "2. TRUE\n",
       "3. FALSE\n",
       "\n",
       "\n"
      ],
      "text/plain": [
       "[1] FALSE  TRUE FALSE"
      ]
     },
     "metadata": {},
     "output_type": "display_data"
    },
    {
     "data": {
      "text/html": [
       "<ol class=list-inline>\n",
       "\t<li>TRUE</li>\n",
       "\t<li>FALSE</li>\n",
       "\t<li>TRUE</li>\n",
       "</ol>\n"
      ],
      "text/latex": [
       "\\begin{enumerate*}\n",
       "\\item TRUE\n",
       "\\item FALSE\n",
       "\\item TRUE\n",
       "\\end{enumerate*}\n"
      ],
      "text/markdown": [
       "1. TRUE\n",
       "2. FALSE\n",
       "3. TRUE\n",
       "\n",
       "\n"
      ],
      "text/plain": [
       "[1]  TRUE FALSE  TRUE"
      ]
     },
     "metadata": {},
     "output_type": "display_data"
    },
    {
     "data": {
      "text/html": [
       "<ol class=list-inline>\n",
       "\t<li>TRUE</li>\n",
       "\t<li>TRUE</li>\n",
       "\t<li>TRUE</li>\n",
       "</ol>\n"
      ],
      "text/latex": [
       "\\begin{enumerate*}\n",
       "\\item TRUE\n",
       "\\item TRUE\n",
       "\\item TRUE\n",
       "\\end{enumerate*}\n"
      ],
      "text/markdown": [
       "1. TRUE\n",
       "2. TRUE\n",
       "3. TRUE\n",
       "\n",
       "\n"
      ],
      "text/plain": [
       "[1] TRUE TRUE TRUE"
      ]
     },
     "metadata": {},
     "output_type": "display_data"
    }
   ],
   "source": [
    "funs <- c(\"print\",\"summary\",\"plot\")\n",
    "meths <- lapply(funs, methods)\n",
    "grepl(\"matrix\", meths)\n",
    "grepl(\"function\", meths)\n",
    "grepl(\"default\", meths)"
   ]
  },
  {
   "cell_type": "code",
   "execution_count": 188,
   "metadata": {},
   "outputs": [
    {
     "data": {
      "text/html": [
       "TRUE"
      ],
      "text/latex": [
       "TRUE"
      ],
      "text/markdown": [
       "TRUE"
      ],
      "text/plain": [
       "[1] TRUE"
      ]
     },
     "metadata": {},
     "output_type": "display_data"
    },
    {
     "data": {
      "text/html": [
       "TRUE"
      ],
      "text/latex": [
       "TRUE"
      ],
      "text/markdown": [
       "TRUE"
      ],
      "text/plain": [
       "[1] TRUE"
      ]
     },
     "metadata": {},
     "output_type": "display_data"
    }
   ],
   "source": [
    "m1 <- function(x, y) {\n",
    "  m <- matrix(0, length(x), length(y))\n",
    "  for (i in 1:length(x)) \n",
    "    for (j in 1:length(y)) {\n",
    "      m[i, j] = x[i] * y[j]\n",
    "    }\n",
    "  m\n",
    "}\n",
    "\n",
    "m2 <- function(x, y) {\n",
    "  vapply(y, function(i) i * x, numeric(length(x)))\n",
    "}\n",
    "\n",
    "m3 <- function(x, y) x %o% y\n",
    "\n",
    "x <- rnorm(100)\n",
    "y <- runif(1000)\n",
    "all.equal(m1(x, y), m2(x, y))\n",
    "all.equal(m2(x, y), m3(x, y))\n"
   ]
  },
  {
   "cell_type": "code",
   "execution_count": 192,
   "metadata": {},
   "outputs": [],
   "source": [
    "library(microbenchmark) \n",
    "p <- microbenchmark(m1(x, y), m2(x, y), m3(x, y))"
   ]
  },
  {
   "cell_type": "code",
   "execution_count": 202,
   "metadata": {},
   "outputs": [
    {
     "data": {
      "text/html": [
       "<table>\n",
       "<thead><tr><th scope=col>expr</th><th scope=col>time</th></tr></thead>\n",
       "<tbody>\n",
       "\t<tr><td>m3(x, y)</td><td>  163871</td></tr>\n",
       "\t<tr><td>m1(x, y)</td><td>11031023</td></tr>\n",
       "\t<tr><td>m1(x, y)</td><td>12902691</td></tr>\n",
       "\t<tr><td>m3(x, y)</td><td>  130266</td></tr>\n",
       "\t<tr><td>m3(x, y)</td><td>  113275</td></tr>\n",
       "\t<tr><td>m1(x, y)</td><td>12233617</td></tr>\n",
       "\t<tr><td>m3(x, y)</td><td>  138951</td></tr>\n",
       "\t<tr><td>m3(x, y)</td><td>   95906</td></tr>\n",
       "\t<tr><td>m1(x, y)</td><td> 9198246</td></tr>\n",
       "\t<tr><td>m1(x, y)</td><td>15873496</td></tr>\n",
       "\t<tr><td>m3(x, y)</td><td>  246939</td></tr>\n",
       "\t<tr><td>m3(x, y)</td><td>  170290</td></tr>\n",
       "\t<tr><td>m2(x, y)</td><td> 1291327</td></tr>\n",
       "\t<tr><td>m2(x, y)</td><td> 1459350</td></tr>\n",
       "\t<tr><td>m3(x, y)</td><td>  120071</td></tr>\n",
       "\t<tr><td>m1(x, y)</td><td>18737446</td></tr>\n",
       "\t<tr><td>m2(x, y)</td><td> 1869781</td></tr>\n",
       "\t<tr><td>m2(x, y)</td><td>  832188</td></tr>\n",
       "\t<tr><td>m3(x, y)</td><td>  119316</td></tr>\n",
       "\t<tr><td>m3(x, y)</td><td>   90620</td></tr>\n",
       "\t<tr><td>m2(x, y)</td><td>  810667</td></tr>\n",
       "\t<tr><td>m3(x, y)</td><td>  115918</td></tr>\n",
       "\t<tr><td>m2(x, y)</td><td> 1201085</td></tr>\n",
       "\t<tr><td>m3(x, y)</td><td>  114785</td></tr>\n",
       "\t<tr><td>m1(x, y)</td><td>19818837</td></tr>\n",
       "\t<tr><td>m1(x, y)</td><td>20631769</td></tr>\n",
       "\t<tr><td>m3(x, y)</td><td>  149145</td></tr>\n",
       "\t<tr><td>m2(x, y)</td><td> 1378170</td></tr>\n",
       "\t<tr><td>m2(x, y)</td><td> 1354006</td></tr>\n",
       "\t<tr><td>m3(x, y)</td><td>  126490</td></tr>\n",
       "\t<tr><td>...</td><td>...</td></tr>\n",
       "\t<tr><td>m3(x, y)</td><td>  153676</td></tr>\n",
       "\t<tr><td>m3(x, y)</td><td>   94018</td></tr>\n",
       "\t<tr><td>m3(x, y)</td><td>   77027</td></tr>\n",
       "\t<tr><td>m1(x, y)</td><td> 9691366</td></tr>\n",
       "\t<tr><td>m2(x, y)</td><td>  843893</td></tr>\n",
       "\t<tr><td>m1(x, y)</td><td>10202233</td></tr>\n",
       "\t<tr><td>m2(x, y)</td><td> 1160306</td></tr>\n",
       "\t<tr><td>m2(x, y)</td><td>  817463</td></tr>\n",
       "\t<tr><td>m3(x, y)</td><td>  137062</td></tr>\n",
       "\t<tr><td>m2(x, y)</td><td>  821994</td></tr>\n",
       "\t<tr><td>m3(x, y)</td><td>   90243</td></tr>\n",
       "\t<tr><td>m2(x, y)</td><td> 1076105</td></tr>\n",
       "\t<tr><td>m3(x, y)</td><td>  109122</td></tr>\n",
       "\t<tr><td>m3(x, y)</td><td>  116296</td></tr>\n",
       "\t<tr><td>m3(x, y)</td><td>   90997</td></tr>\n",
       "\t<tr><td>m3(x, y)</td><td>   81180</td></tr>\n",
       "\t<tr><td>m1(x, y)</td><td>11079353</td></tr>\n",
       "\t<tr><td>m3(x, y)</td><td>  103080</td></tr>\n",
       "\t<tr><td>m2(x, y)</td><td>  889204</td></tr>\n",
       "\t<tr><td>m2(x, y)</td><td>  821239</td></tr>\n",
       "\t<tr><td>m1(x, y)</td><td>10665902</td></tr>\n",
       "\t<tr><td>m2(x, y)</td><td> 1050053</td></tr>\n",
       "\t<tr><td>m3(x, y)</td><td>  252225</td></tr>\n",
       "\t<tr><td>m1(x, y)</td><td>12331788</td></tr>\n",
       "\t<tr><td>m2(x, y)</td><td> 1325309</td></tr>\n",
       "\t<tr><td>m3(x, y)</td><td>  244296</td></tr>\n",
       "\t<tr><td>m1(x, y)</td><td>11961759</td></tr>\n",
       "\t<tr><td>m1(x, y)</td><td>15309768</td></tr>\n",
       "\t<tr><td>m2(x, y)</td><td> 1328708</td></tr>\n",
       "\t<tr><td>m1(x, y)</td><td>11197913</td></tr>\n",
       "</tbody>\n",
       "</table>\n"
      ],
      "text/latex": [
       "\\begin{tabular}{r|ll}\n",
       " expr & time\\\\\n",
       "\\hline\n",
       "\t m3(x, y) &   163871\\\\\n",
       "\t m1(x, y) & 11031023\\\\\n",
       "\t m1(x, y) & 12902691\\\\\n",
       "\t m3(x, y) &   130266\\\\\n",
       "\t m3(x, y) &   113275\\\\\n",
       "\t m1(x, y) & 12233617\\\\\n",
       "\t m3(x, y) &   138951\\\\\n",
       "\t m3(x, y) &    95906\\\\\n",
       "\t m1(x, y) &  9198246\\\\\n",
       "\t m1(x, y) & 15873496\\\\\n",
       "\t m3(x, y) &   246939\\\\\n",
       "\t m3(x, y) &   170290\\\\\n",
       "\t m2(x, y) &  1291327\\\\\n",
       "\t m2(x, y) &  1459350\\\\\n",
       "\t m3(x, y) &   120071\\\\\n",
       "\t m1(x, y) & 18737446\\\\\n",
       "\t m2(x, y) &  1869781\\\\\n",
       "\t m2(x, y) &   832188\\\\\n",
       "\t m3(x, y) &   119316\\\\\n",
       "\t m3(x, y) &    90620\\\\\n",
       "\t m2(x, y) &   810667\\\\\n",
       "\t m3(x, y) &   115918\\\\\n",
       "\t m2(x, y) &  1201085\\\\\n",
       "\t m3(x, y) &   114785\\\\\n",
       "\t m1(x, y) & 19818837\\\\\n",
       "\t m1(x, y) & 20631769\\\\\n",
       "\t m3(x, y) &   149145\\\\\n",
       "\t m2(x, y) &  1378170\\\\\n",
       "\t m2(x, y) &  1354006\\\\\n",
       "\t m3(x, y) &   126490\\\\\n",
       "\t ... & ...\\\\\n",
       "\t m3(x, y) &   153676\\\\\n",
       "\t m3(x, y) &    94018\\\\\n",
       "\t m3(x, y) &    77027\\\\\n",
       "\t m1(x, y) &  9691366\\\\\n",
       "\t m2(x, y) &   843893\\\\\n",
       "\t m1(x, y) & 10202233\\\\\n",
       "\t m2(x, y) &  1160306\\\\\n",
       "\t m2(x, y) &   817463\\\\\n",
       "\t m3(x, y) &   137062\\\\\n",
       "\t m2(x, y) &   821994\\\\\n",
       "\t m3(x, y) &    90243\\\\\n",
       "\t m2(x, y) &  1076105\\\\\n",
       "\t m3(x, y) &   109122\\\\\n",
       "\t m3(x, y) &   116296\\\\\n",
       "\t m3(x, y) &    90997\\\\\n",
       "\t m3(x, y) &    81180\\\\\n",
       "\t m1(x, y) & 11079353\\\\\n",
       "\t m3(x, y) &   103080\\\\\n",
       "\t m2(x, y) &   889204\\\\\n",
       "\t m2(x, y) &   821239\\\\\n",
       "\t m1(x, y) & 10665902\\\\\n",
       "\t m2(x, y) &  1050053\\\\\n",
       "\t m3(x, y) &   252225\\\\\n",
       "\t m1(x, y) & 12331788\\\\\n",
       "\t m2(x, y) &  1325309\\\\\n",
       "\t m3(x, y) &   244296\\\\\n",
       "\t m1(x, y) & 11961759\\\\\n",
       "\t m1(x, y) & 15309768\\\\\n",
       "\t m2(x, y) &  1328708\\\\\n",
       "\t m1(x, y) & 11197913\\\\\n",
       "\\end{tabular}\n"
      ],
      "text/markdown": [
       "\n",
       "expr | time | \n",
       "|---|---|---|---|---|---|---|---|---|---|---|---|---|---|---|---|---|---|---|---|---|---|---|---|---|---|---|---|---|---|---|---|---|---|---|---|---|---|---|---|---|---|---|---|---|---|---|---|---|---|---|---|---|---|---|---|---|---|---|---|---|\n",
       "| m3(x, y) |   163871 | \n",
       "| m1(x, y) | 11031023 | \n",
       "| m1(x, y) | 12902691 | \n",
       "| m3(x, y) |   130266 | \n",
       "| m3(x, y) |   113275 | \n",
       "| m1(x, y) | 12233617 | \n",
       "| m3(x, y) |   138951 | \n",
       "| m3(x, y) |    95906 | \n",
       "| m1(x, y) |  9198246 | \n",
       "| m1(x, y) | 15873496 | \n",
       "| m3(x, y) |   246939 | \n",
       "| m3(x, y) |   170290 | \n",
       "| m2(x, y) |  1291327 | \n",
       "| m2(x, y) |  1459350 | \n",
       "| m3(x, y) |   120071 | \n",
       "| m1(x, y) | 18737446 | \n",
       "| m2(x, y) |  1869781 | \n",
       "| m2(x, y) |   832188 | \n",
       "| m3(x, y) |   119316 | \n",
       "| m3(x, y) |    90620 | \n",
       "| m2(x, y) |   810667 | \n",
       "| m3(x, y) |   115918 | \n",
       "| m2(x, y) |  1201085 | \n",
       "| m3(x, y) |   114785 | \n",
       "| m1(x, y) | 19818837 | \n",
       "| m1(x, y) | 20631769 | \n",
       "| m3(x, y) |   149145 | \n",
       "| m2(x, y) |  1378170 | \n",
       "| m2(x, y) |  1354006 | \n",
       "| m3(x, y) |   126490 | \n",
       "| ... | ... | \n",
       "| m3(x, y) |   153676 | \n",
       "| m3(x, y) |    94018 | \n",
       "| m3(x, y) |    77027 | \n",
       "| m1(x, y) |  9691366 | \n",
       "| m2(x, y) |   843893 | \n",
       "| m1(x, y) | 10202233 | \n",
       "| m2(x, y) |  1160306 | \n",
       "| m2(x, y) |   817463 | \n",
       "| m3(x, y) |   137062 | \n",
       "| m2(x, y) |   821994 | \n",
       "| m3(x, y) |    90243 | \n",
       "| m2(x, y) |  1076105 | \n",
       "| m3(x, y) |   109122 | \n",
       "| m3(x, y) |   116296 | \n",
       "| m3(x, y) |    90997 | \n",
       "| m3(x, y) |    81180 | \n",
       "| m1(x, y) | 11079353 | \n",
       "| m3(x, y) |   103080 | \n",
       "| m2(x, y) |   889204 | \n",
       "| m2(x, y) |   821239 | \n",
       "| m1(x, y) | 10665902 | \n",
       "| m2(x, y) |  1050053 | \n",
       "| m3(x, y) |   252225 | \n",
       "| m1(x, y) | 12331788 | \n",
       "| m2(x, y) |  1325309 | \n",
       "| m3(x, y) |   244296 | \n",
       "| m1(x, y) | 11961759 | \n",
       "| m1(x, y) | 15309768 | \n",
       "| m2(x, y) |  1328708 | \n",
       "| m1(x, y) | 11197913 | \n",
       "\n",
       "\n"
      ],
      "text/plain": [
       "    expr     time    \n",
       "1   m3(x, y)   163871\n",
       "2   m1(x, y) 11031023\n",
       "3   m1(x, y) 12902691\n",
       "4   m3(x, y)   130266\n",
       "5   m3(x, y)   113275\n",
       "6   m1(x, y) 12233617\n",
       "7   m3(x, y)   138951\n",
       "8   m3(x, y)    95906\n",
       "9   m1(x, y)  9198246\n",
       "10  m1(x, y) 15873496\n",
       "11  m3(x, y)   246939\n",
       "12  m3(x, y)   170290\n",
       "13  m2(x, y)  1291327\n",
       "14  m2(x, y)  1459350\n",
       "15  m3(x, y)   120071\n",
       "16  m1(x, y) 18737446\n",
       "17  m2(x, y)  1869781\n",
       "18  m2(x, y)   832188\n",
       "19  m3(x, y)   119316\n",
       "20  m3(x, y)    90620\n",
       "21  m2(x, y)   810667\n",
       "22  m3(x, y)   115918\n",
       "23  m2(x, y)  1201085\n",
       "24  m3(x, y)   114785\n",
       "25  m1(x, y) 19818837\n",
       "26  m1(x, y) 20631769\n",
       "27  m3(x, y)   149145\n",
       "28  m2(x, y)  1378170\n",
       "29  m2(x, y)  1354006\n",
       "30  m3(x, y)   126490\n",
       "... ...      ...     \n",
       "271 m3(x, y)   153676\n",
       "272 m3(x, y)    94018\n",
       "273 m3(x, y)    77027\n",
       "274 m1(x, y)  9691366\n",
       "275 m2(x, y)   843893\n",
       "276 m1(x, y) 10202233\n",
       "277 m2(x, y)  1160306\n",
       "278 m2(x, y)   817463\n",
       "279 m3(x, y)   137062\n",
       "280 m2(x, y)   821994\n",
       "281 m3(x, y)    90243\n",
       "282 m2(x, y)  1076105\n",
       "283 m3(x, y)   109122\n",
       "284 m3(x, y)   116296\n",
       "285 m3(x, y)    90997\n",
       "286 m3(x, y)    81180\n",
       "287 m1(x, y) 11079353\n",
       "288 m3(x, y)   103080\n",
       "289 m2(x, y)   889204\n",
       "290 m2(x, y)   821239\n",
       "291 m1(x, y) 10665902\n",
       "292 m2(x, y)  1050053\n",
       "293 m3(x, y)   252225\n",
       "294 m1(x, y) 12331788\n",
       "295 m2(x, y)  1325309\n",
       "296 m3(x, y)   244296\n",
       "297 m1(x, y) 11961759\n",
       "298 m1(x, y) 15309768\n",
       "299 m2(x, y)  1328708\n",
       "300 m1(x, y) 11197913"
      ]
     },
     "metadata": {},
     "output_type": "display_data"
    },
    {
     "name": "stderr",
     "output_type": "stream",
     "text": [
      "Coordinate system already present. Adding new coordinate system, which will replace the existing one.\n"
     ]
    },
    {
     "data": {},
     "metadata": {},
     "output_type": "display_data"
    },
    {
     "data": {
      "image/png": "[encoded data removed]",
      "text/plain": [
       "plot without title"
      ]
     },
     "metadata": {},
     "output_type": "display_data",
     "source": "R display func"
    }
   ],
   "source": [
    "library(microbenchmark)\n",
    "library(ggplot2)\n",
    "microbenchmark(m1(x, y), m2(x, y), m3(x, y))\n",
    "tm <- microbenchmark(m1(x, y),\n",
    "                    m2(x, y),\n",
    "                    m3(x, y),times=1000L)\n",
    "                    \n",
    "autoplot(tm)"
   ]
  },
  {
   "cell_type": "markdown",
   "metadata": {},
   "source": [
    "Общий глоссарий для этого урока:\n",
    "\n",
    "S3, S4, reference classes\n",
    "\n",
    "Generic function\n",
    "\n",
    "Copy-on-modify semantics\n",
    "\n",
    "?replicate\n",
    "\n",
    "?mapply\n",
    "\n",
    "?outer\n",
    "\n",
    "?Vectorize\n",
    "\n",
    "?do.call"
   ]
  }
 ],
 "metadata": {
  "kernelspec": {
   "display_name": "R",
   "language": "R",
   "name": "ir"
  },
  "language_info": {
   "codemirror_mode": "r",
   "file_extension": ".r",
   "mimetype": "text/x-r-source",
   "name": "R",
   "pygments_lexer": "r",
   "version": "3.5.1"
  }
 },
 "nbformat": 4,
 "nbformat_minor": 2
}
