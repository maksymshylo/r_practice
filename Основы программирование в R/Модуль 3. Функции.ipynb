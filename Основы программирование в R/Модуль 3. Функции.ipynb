{
 "cells": [
  {
   "cell_type": "markdown",
   "metadata": {},
   "source": [
    "# Функция как объект\n",
    "\n",
    "Функция в R -- объект \"первого класса\", её можно:\n",
    "\n",
    ". . .\n",
    "\n",
    "Использовать как обычный объект"
   ]
  },
  {
   "cell_type": "code",
   "execution_count": 2,
   "metadata": {},
   "outputs": [
    {
     "name": "stdout",
     "output_type": "stream",
     "text": [
      "List of 2\n",
      " $ :function (x, ...)  \n",
      " $ :function (..., na.rm = FALSE)  \n"
     ]
    },
    {
     "data": {
      "text/html": [
       "<ol class=list-inline>\n",
       "\t<li>50.5</li>\n",
       "\t<li>100</li>\n",
       "</ol>\n"
      ],
      "text/latex": [
       "\\begin{enumerate*}\n",
       "\\item 50.5\n",
       "\\item 100\n",
       "\\end{enumerate*}\n"
      ],
      "text/markdown": [
       "1. 50.5\n",
       "2. 100\n",
       "\n",
       "\n"
      ],
      "text/plain": [
       "[1]  50.5 100.0"
      ]
     },
     "metadata": {},
     "output_type": "display_data"
    }
   ],
   "source": [
    "str( c(mean, max) )\n",
    "fun_list <- c( mean, max )\n",
    "sapply(fun_list, function(f) f(1:100))"
   ]
  },
  {
   "cell_type": "markdown",
   "metadata": {},
   "source": [
    "# Функция как аргумент\n",
    "\n",
    ". . .\n",
    "\n",
    "Указывать в качестве аргумента\n"
   ]
  },
  {
   "cell_type": "code",
   "execution_count": 8,
   "metadata": {},
   "outputs": [
    {
     "data": {
      "text/html": [
       "<ol class=list-inline>\n",
       "\t<li>50.5</li>\n",
       "\t<li>100</li>\n",
       "</ol>\n"
      ],
      "text/latex": [
       "\\begin{enumerate*}\n",
       "\\item 50.5\n",
       "\\item 100\n",
       "\\end{enumerate*}\n"
      ],
      "text/markdown": [
       "1. 50.5\n",
       "2. 100\n",
       "\n",
       "\n"
      ],
      "text/plain": [
       "[1]  50.5 100.0"
      ]
     },
     "metadata": {},
     "output_type": "display_data"
    }
   ],
   "source": [
    "apply_f <- function(f, x) f(x)\n",
    "sapply(fun_list, apply_f, x = 1:100)"
   ]
  },
  {
   "cell_type": "markdown",
   "metadata": {},
   "source": [
    "... при этом анонимная функция тоже подойдёт"
   ]
  },
  {
   "cell_type": "code",
   "execution_count": 10,
   "metadata": {},
   "outputs": [
    {
     "data": {
      "text/html": [
       "385"
      ],
      "text/latex": [
       "385"
      ],
      "text/markdown": [
       "385"
      ],
      "text/plain": [
       "[1] 385"
      ]
     },
     "metadata": {},
     "output_type": "display_data"
    }
   ],
   "source": [
    "apply_f(function(x) sum(x^2), 1:10)"
   ]
  },
  {
   "cell_type": "markdown",
   "metadata": {},
   "source": [
    "# Функция как return value\n",
    "\n",
    "Использовать как возвращаемое значение\n"
   ]
  },
  {
   "cell_type": "code",
   "execution_count": 85,
   "metadata": {},
   "outputs": [
    {
     "data": {
      "text/html": [
       "<pre class=language-r><code>function (x) \n",
       "x^2</code></pre>"
      ],
      "text/latex": [
       "\\begin{minted}{r}\n",
       "function (x) \n",
       "x\\textasciicircum{}2\n",
       "\\end{minted}"
      ],
      "text/markdown": [
       "```r\n",
       "function (x) \n",
       "x^2\n",
       "```"
      ],
      "text/plain": [
       "function(x) x^2\n",
       "<environment: 0x00000000159cfac8>"
      ]
     },
     "metadata": {},
     "output_type": "display_data"
    },
    {
     "data": {
      "text/html": [
       "25"
      ],
      "text/latex": [
       "25"
      ],
      "text/markdown": [
       "25"
      ],
      "text/plain": [
       "[1] 25"
      ]
     },
     "metadata": {},
     "output_type": "display_data"
    }
   ],
   "source": [
    "square <- function() function(x) x^2\n",
    "square()\n",
    "square()(5)"
   ]
  },
  {
   "cell_type": "markdown",
   "metadata": {},
   "source": [
    "# Функции внутри функций\n",
    "\n",
    ". . ."
   ]
  },
  {
   "cell_type": "code",
   "execution_count": 4,
   "metadata": {},
   "outputs": [
    {
     "data": {
      "text/html": [
       "TRUE"
      ],
      "text/latex": [
       "TRUE"
      ],
      "text/markdown": [
       "TRUE"
      ],
      "text/plain": [
       "[1] TRUE"
      ]
     },
     "metadata": {},
     "output_type": "display_data"
    }
   ],
   "source": [
    "f <- function(x) {\n",
    "  g <- function(y) if (y > 0) 1 else if (y < 0) -1 else 0\n",
    "  sapply(x, g)\n",
    "}\n",
    "all.equal(f(-100:100), sign(-100:100))"
   ]
  },
  {
   "cell_type": "markdown",
   "metadata": {},
   "source": [
    ". . .\n",
    "\n",
    "Идеальный случай: если функция `g` нужна только внутри функции `f` и не очень громоздка\n",
    "\n",
    "Функция внутри функции -- один из вариантов инкапсуляции в R\n",
    "\n",
    "# Исходный код функции\n"
   ]
  },
  {
   "cell_type": "markdown",
   "metadata": {},
   "source": [
    ". . .\n",
    "\n",
    "Простейший случай: напечатать имя функции без скобок (напр., `sd`)"
   ]
  },
  {
   "cell_type": "code",
   "execution_count": 5,
   "metadata": {},
   "outputs": [
    {
     "data": {
      "text/html": [
       "<pre class=language-r><code>function (x) \n",
       "x^5</code></pre>"
      ],
      "text/latex": [
       "\\begin{minted}{r}\n",
       "function (x) \n",
       "x\\textasciicircum{}5\n",
       "\\end{minted}"
      ],
      "text/markdown": [
       "```r\n",
       "function (x) \n",
       "x^5\n",
       "```"
      ],
      "text/plain": [
       "function(x) x^5"
      ]
     },
     "metadata": {},
     "output_type": "display_data"
    }
   ],
   "source": [
    "(f <- function(x) x^5)"
   ]
  },
  {
   "cell_type": "markdown",
   "metadata": {},
   "source": [
    ". . .\n",
    "\n",
    "Если в выводе есть `.C`, `.Call`, `.Fortran`, `.External`, `.Internal`, `.Primitive`, то это обращение к скомпилированному коду: нужно смотреть исходный код R (напр., `var`)\n",
    "\n",
    ". . .\n",
    "\n",
    "Если в выводе есть `UseMethod` или `standardGeneric`, то это method dispatch для классов S3/S4 (полиморфизм; напр., `plot`)\n"
   ]
  },
  {
   "cell_type": "code",
   "execution_count": 15,
   "metadata": {},
   "outputs": [
    {
     "data": {
      "text/html": [
       "<ol class=list-inline>\n",
       "\t<li>'plot.acf'</li>\n",
       "\t<li>'plot.data.frame'</li>\n",
       "\t<li>'plot.decomposed.ts'</li>\n",
       "\t<li>'plot.default'</li>\n",
       "\t<li>'plot.dendrogram'</li>\n",
       "\t<li>'plot.density'</li>\n",
       "\t<li>'plot.ecdf'</li>\n",
       "\t<li>'plot.factor'</li>\n",
       "\t<li>'plot.formula'</li>\n",
       "\t<li>'plot.function'</li>\n",
       "\t<li>'plot.hclust'</li>\n",
       "\t<li>'plot.histogram'</li>\n",
       "\t<li>'plot.HoltWinters'</li>\n",
       "\t<li>'plot.isoreg'</li>\n",
       "\t<li>'plot.lm'</li>\n",
       "\t<li>'plot.medpolish'</li>\n",
       "\t<li>'plot.mlm'</li>\n",
       "\t<li>'plot.ppr'</li>\n",
       "\t<li>'plot.prcomp'</li>\n",
       "\t<li>'plot.princomp'</li>\n",
       "</ol>\n"
      ],
      "text/latex": [
       "\\begin{enumerate*}\n",
       "\\item 'plot.acf'\n",
       "\\item 'plot.data.frame'\n",
       "\\item 'plot.decomposed.ts'\n",
       "\\item 'plot.default'\n",
       "\\item 'plot.dendrogram'\n",
       "\\item 'plot.density'\n",
       "\\item 'plot.ecdf'\n",
       "\\item 'plot.factor'\n",
       "\\item 'plot.formula'\n",
       "\\item 'plot.function'\n",
       "\\item 'plot.hclust'\n",
       "\\item 'plot.histogram'\n",
       "\\item 'plot.HoltWinters'\n",
       "\\item 'plot.isoreg'\n",
       "\\item 'plot.lm'\n",
       "\\item 'plot.medpolish'\n",
       "\\item 'plot.mlm'\n",
       "\\item 'plot.ppr'\n",
       "\\item 'plot.prcomp'\n",
       "\\item 'plot.princomp'\n",
       "\\end{enumerate*}\n"
      ],
      "text/markdown": [
       "1. 'plot.acf'\n",
       "2. 'plot.data.frame'\n",
       "3. 'plot.decomposed.ts'\n",
       "4. 'plot.default'\n",
       "5. 'plot.dendrogram'\n",
       "6. 'plot.density'\n",
       "7. 'plot.ecdf'\n",
       "8. 'plot.factor'\n",
       "9. 'plot.formula'\n",
       "10. 'plot.function'\n",
       "11. 'plot.hclust'\n",
       "12. 'plot.histogram'\n",
       "13. 'plot.HoltWinters'\n",
       "14. 'plot.isoreg'\n",
       "15. 'plot.lm'\n",
       "16. 'plot.medpolish'\n",
       "17. 'plot.mlm'\n",
       "18. 'plot.ppr'\n",
       "19. 'plot.prcomp'\n",
       "20. 'plot.princomp'\n",
       "\n",
       "\n"
      ],
      "text/plain": [
       " [1] \"plot.acf\"           \"plot.data.frame\"    \"plot.decomposed.ts\"\n",
       " [4] \"plot.default\"       \"plot.dendrogram\"    \"plot.density\"      \n",
       " [7] \"plot.ecdf\"          \"plot.factor\"        \"plot.formula\"      \n",
       "[10] \"plot.function\"      \"plot.hclust\"        \"plot.histogram\"    \n",
       "[13] \"plot.HoltWinters\"   \"plot.isoreg\"        \"plot.lm\"           \n",
       "[16] \"plot.medpolish\"     \"plot.mlm\"           \"plot.ppr\"          \n",
       "[19] \"plot.prcomp\"        \"plot.princomp\"     "
      ]
     },
     "metadata": {},
     "output_type": "display_data"
    }
   ],
   "source": [
    "methods(plot)[1:20]"
   ]
  },
  {
   "cell_type": "markdown",
   "metadata": {},
   "source": [
    "Полное описание всех случаев: [http://stackoverflow.com/questions/19226816/how-can-i-view-the-source-code-for-a-function](http://stackoverflow.com/questions/19226816/how-can-i-view-the-source-code-for-a-function)\n",
    "\n",
    "# Возвращаемое значение"
   ]
  },
  {
   "cell_type": "markdown",
   "metadata": {},
   "source": [
    ". . .\n",
    "\n",
    "Определяется либо ключевым словом `return`: "
   ]
  },
  {
   "cell_type": "code",
   "execution_count": 17,
   "metadata": {},
   "outputs": [],
   "source": [
    "has_na <- function(v) {\n",
    "  for (k in v) if (is.na(k)) return(TRUE)\n",
    "  return(FALSE)\n",
    "}"
   ]
  },
  {
   "cell_type": "markdown",
   "metadata": {},
   "source": [
    ". . .\n",
    "\n",
    "либо последним вычисленным значением:"
   ]
  },
  {
   "cell_type": "code",
   "execution_count": 18,
   "metadata": {},
   "outputs": [],
   "source": [
    "has_na <- function(v) any(is.na(v))"
   ]
  },
  {
   "cell_type": "markdown",
   "metadata": {},
   "source": [
    "# Аргументы по умолчанию\n",
    "\n",
    ". . .\n",
    "\n",
    "Посмотрите, как объявлена функция `seq`:\n"
   ]
  },
  {
   "cell_type": "code",
   "execution_count": 20,
   "metadata": {},
   "outputs": [
    {
     "data": {
      "text/html": [],
      "text/latex": [],
      "text/markdown": [],
      "text/plain": [
       "integer(0)"
      ]
     },
     "metadata": {},
     "output_type": "display_data"
    }
   ],
   "source": [
    "seq(from = 1, to = 1, by = ((to - from)/(length.out - 1)),\n",
    "    length.out = NULL, along.with = NULL)"
   ]
  },
  {
   "cell_type": "markdown",
   "metadata": {},
   "source": [
    ">- Аргументы могут иметь значения по умолчанию\n",
    ">- Значения могут вычисляться на лету!"
   ]
  },
  {
   "cell_type": "code",
   "execution_count": 21,
   "metadata": {},
   "outputs": [
    {
     "data": {
      "text/html": [
       "1"
      ],
      "text/latex": [
       "1"
      ],
      "text/markdown": [
       "1"
      ],
      "text/plain": [
       "[1] 1"
      ]
     },
     "metadata": {},
     "output_type": "display_data"
    },
    {
     "data": {
      "text/html": [
       "<ol class=list-inline>\n",
       "\t<li>1</li>\n",
       "\t<li>1.4</li>\n",
       "\t<li>1.8</li>\n",
       "\t<li>2.2</li>\n",
       "\t<li>2.6</li>\n",
       "\t<li>3</li>\n",
       "\t<li>3.4</li>\n",
       "\t<li>3.8</li>\n",
       "\t<li>4.2</li>\n",
       "\t<li>4.6</li>\n",
       "\t<li>5</li>\n",
       "</ol>\n"
      ],
      "text/latex": [
       "\\begin{enumerate*}\n",
       "\\item 1\n",
       "\\item 1.4\n",
       "\\item 1.8\n",
       "\\item 2.2\n",
       "\\item 2.6\n",
       "\\item 3\n",
       "\\item 3.4\n",
       "\\item 3.8\n",
       "\\item 4.2\n",
       "\\item 4.6\n",
       "\\item 5\n",
       "\\end{enumerate*}\n"
      ],
      "text/markdown": [
       "1. 1\n",
       "2. 1.4\n",
       "3. 1.8\n",
       "4. 2.2\n",
       "5. 2.6\n",
       "6. 3\n",
       "7. 3.4\n",
       "8. 3.8\n",
       "9. 4.2\n",
       "10. 4.6\n",
       "11. 5\n",
       "\n",
       "\n"
      ],
      "text/plain": [
       " [1] 1.0 1.4 1.8 2.2 2.6 3.0 3.4 3.8 4.2 4.6 5.0"
      ]
     },
     "metadata": {},
     "output_type": "display_data"
    }
   ],
   "source": [
    "seq() # from = 1, to = 1\n",
    "seq(1, 5, length.out = 11) # by = (5 - 1)/(11 - 1)"
   ]
  },
  {
   "cell_type": "markdown",
   "metadata": {},
   "source": [
    "# Правила разбора аргументов\n",
    "\n",
    ". . .\n",
    "\n",
    "Рассмотрим на примере:\n"
   ]
  },
  {
   "cell_type": "code",
   "execution_count": 18,
   "metadata": {},
   "outputs": [
    {
     "data": {
      "text/plain": [
       "NULL"
      ]
     },
     "metadata": {},
     "output_type": "display_data"
    }
   ],
   "source": [
    "f <- function(arg1, arg2, remove_na = TRUE, ..., optional_arg) {}\n",
    "f(1, arg2 = 2, remove = F, optional_arg = 42, do_magic = TRUE)"
   ]
  },
  {
   "cell_type": "markdown",
   "metadata": {},
   "source": [
    "Разбор аргументов проходит в три этапа:\n",
    "\n",
    "1. Точное совпадение имени аргумента -- `arg2`, `optional_arg`\n",
    "2. Частичное совпадение имени аргумента (только до `...`) -- `remove_na`\n",
    "3. Разбор аргументов по позиции -- `arg1`\n",
    "\n",
    "Неразобранные аргументы попадают в `...` -- `do_magic`\n",
    "\n",
    "# Проброс аргументов"
   ]
  },
  {
   "cell_type": "markdown",
   "metadata": {},
   "source": [
    "Один случай использования ellipsis -- \"произвольное количество передаваемых объектов\", функции `sum`, `c`, `cbind`, `paste`\n",
    "\n",
    ". . .\n",
    "\n",
    "Другой характерный случай -- \"проброс аргументов\":\n"
   ]
  },
  {
   "cell_type": "code",
   "execution_count": 17,
   "metadata": {},
   "outputs": [
    {
     "data": {
      "text/plain": [
       "0.3333333 with absolute error < 3.7e-15"
      ]
     },
     "metadata": {},
     "output_type": "display_data"
    },
    {
     "data": {
      "text/plain": [
       "0.1666667 with absolute error < 1.9e-15"
      ]
     },
     "metadata": {},
     "output_type": "display_data"
    }
   ],
   "source": [
    "f <- function(x, pow = 2) x^pow\n",
    "integrate(f, 0, 1) # lower = 0, upper = 1, pow = 2\n",
    "integrate(f, 0, 1, pow = 5) # same, but pow = 5"
   ]
  },
  {
   "cell_type": "markdown",
   "metadata": {},
   "source": [
    "# Бинарные операторы\n",
    "\n",
    "Оператор `x %in% y`: есть ли вхождения элементов `x` в `y`? "
   ]
  },
  {
   "cell_type": "code",
   "execution_count": 24,
   "metadata": {},
   "outputs": [
    {
     "data": {
      "text/html": [
       "<ol class=list-inline>\n",
       "\t<li>TRUE</li>\n",
       "\t<li>TRUE</li>\n",
       "\t<li>FALSE</li>\n",
       "\t<li>FALSE</li>\n",
       "\t<li>TRUE</li>\n",
       "</ol>\n"
      ],
      "text/latex": [
       "\\begin{enumerate*}\n",
       "\\item TRUE\n",
       "\\item TRUE\n",
       "\\item FALSE\n",
       "\\item FALSE\n",
       "\\item TRUE\n",
       "\\end{enumerate*}\n"
      ],
      "text/markdown": [
       "1. TRUE\n",
       "2. TRUE\n",
       "3. FALSE\n",
       "4. FALSE\n",
       "5. TRUE\n",
       "\n",
       "\n"
      ],
      "text/plain": [
       "[1]  TRUE  TRUE FALSE FALSE  TRUE"
      ]
     },
     "metadata": {},
     "output_type": "display_data"
    }
   ],
   "source": [
    "1:5 %in% c(1, 2, 5)"
   ]
  },
  {
   "cell_type": "code",
   "execution_count": 26,
   "metadata": {},
   "outputs": [
    {
     "data": {
      "text/html": [
       "<ol class=list-inline>\n",
       "\t<li>FALSE</li>\n",
       "\t<li>FALSE</li>\n",
       "\t<li>TRUE</li>\n",
       "\t<li>TRUE</li>\n",
       "\t<li>FALSE</li>\n",
       "</ol>\n"
      ],
      "text/latex": [
       "\\begin{enumerate*}\n",
       "\\item FALSE\n",
       "\\item FALSE\n",
       "\\item TRUE\n",
       "\\item TRUE\n",
       "\\item FALSE\n",
       "\\end{enumerate*}\n"
      ],
      "text/markdown": [
       "1. FALSE\n",
       "2. FALSE\n",
       "3. TRUE\n",
       "4. TRUE\n",
       "5. FALSE\n",
       "\n",
       "\n"
      ],
      "text/plain": [
       "[1] FALSE FALSE  TRUE  TRUE FALSE"
      ]
     },
     "metadata": {},
     "output_type": "display_data"
    }
   ],
   "source": [
    "\"%nin%\" <- function(x, y) !(x %in% y)\n",
    "1:5 %nin% c(1, 2, 5)"
   ]
  },
  {
   "cell_type": "markdown",
   "metadata": {},
   "source": [
    "# Глоссарий\n",
    "\n",
    ". . .\n",
    "\n",
    "`?\"function\"`\n",
    "\n",
    "Source code for functions, `?methods`\n",
    "\n",
    "Argument matching, ellipsis (`?\"...\"`)"
   ]
  },
  {
   "cell_type": "markdown",
   "metadata": {},
   "source": [
    "Чтобы глубже прочувствовать частичное дополнение аргументов функции, давайте рассмотрим \"полный\" вызов функции seq (x, y и z -- числа): \n",
    "```r\n",
    "seq(from = x, to = y, by = z) \n",
    "```\n",
    "Какие из следующих вызовов эквивалентны этому? \n",
    "Убедитесь, что вы понимаете, почему так происходит.\n",
    "P.S. Злоупотреблять этими возможностями не стоит. Выбирайте разумный компромисс между частичным дополнением и удобочитаемостью.\n"
   ]
  },
  {
   "cell_type": "code",
   "execution_count": 9,
   "metadata": {},
   "outputs": [],
   "source": [
    "x = 1\n",
    "y = 5\n",
    "z = 2"
   ]
  },
  {
   "cell_type": "code",
   "execution_count": 11,
   "metadata": {},
   "outputs": [
    {
     "data": {
      "text/html": [
       "<ol class=list-inline>\n",
       "\t<li>1</li>\n",
       "\t<li>3</li>\n",
       "\t<li>5</li>\n",
       "</ol>\n"
      ],
      "text/latex": [
       "\\begin{enumerate*}\n",
       "\\item 1\n",
       "\\item 3\n",
       "\\item 5\n",
       "\\end{enumerate*}\n"
      ],
      "text/markdown": [
       "1. 1\n",
       "2. 3\n",
       "3. 5\n",
       "\n",
       "\n"
      ],
      "text/plain": [
       "[1] 1 3 5"
      ]
     },
     "metadata": {},
     "output_type": "display_data"
    }
   ],
   "source": [
    "seq(from =x,to= y, by = z)"
   ]
  },
  {
   "cell_type": "code",
   "execution_count": 12,
   "metadata": {},
   "outputs": [
    {
     "data": {
      "text/html": [
       "<ol class=list-inline>\n",
       "\t<li>1</li>\n",
       "\t<li>3</li>\n",
       "\t<li>5</li>\n",
       "</ol>\n"
      ],
      "text/latex": [
       "\\begin{enumerate*}\n",
       "\\item 1\n",
       "\\item 3\n",
       "\\item 5\n",
       "\\end{enumerate*}\n"
      ],
      "text/markdown": [
       "1. 1\n",
       "2. 3\n",
       "3. 5\n",
       "\n",
       "\n"
      ],
      "text/plain": [
       "[1] 1 3 5"
      ]
     },
     "metadata": {},
     "output_type": "display_data"
    }
   ],
   "source": [
    "seq(y, z, fr = x)"
   ]
  },
  {
   "cell_type": "code",
   "execution_count": 13,
   "metadata": {},
   "outputs": [
    {
     "data": {
      "text/html": [
       "<ol class=list-inline>\n",
       "\t<li>1</li>\n",
       "\t<li>3</li>\n",
       "\t<li>5</li>\n",
       "</ol>\n"
      ],
      "text/latex": [
       "\\begin{enumerate*}\n",
       "\\item 1\n",
       "\\item 3\n",
       "\\item 5\n",
       "\\end{enumerate*}\n"
      ],
      "text/markdown": [
       "1. 1\n",
       "2. 3\n",
       "3. 5\n",
       "\n",
       "\n"
      ],
      "text/plain": [
       "[1] 1 3 5"
      ]
     },
     "metadata": {},
     "output_type": "display_data"
    }
   ],
   "source": [
    "seq(b = z, f = x, t = y)"
   ]
  },
  {
   "cell_type": "code",
   "execution_count": 14,
   "metadata": {},
   "outputs": [
    {
     "data": {
      "text/html": [
       "<ol class=list-inline>\n",
       "\t<li>1</li>\n",
       "\t<li>3</li>\n",
       "\t<li>5</li>\n",
       "</ol>\n"
      ],
      "text/latex": [
       "\\begin{enumerate*}\n",
       "\\item 1\n",
       "\\item 3\n",
       "\\item 5\n",
       "\\end{enumerate*}\n"
      ],
      "text/markdown": [
       "1. 1\n",
       "2. 3\n",
       "3. 5\n",
       "\n",
       "\n"
      ],
      "text/plain": [
       "[1] 1 3 5"
      ]
     },
     "metadata": {},
     "output_type": "display_data"
    }
   ],
   "source": [
    "seq(to = y, by = z, from = x)"
   ]
  },
  {
   "cell_type": "code",
   "execution_count": 15,
   "metadata": {},
   "outputs": [
    {
     "data": {
      "text/html": [
       "<ol class=list-inline>\n",
       "\t<li>1</li>\n",
       "\t<li>3</li>\n",
       "\t<li>5</li>\n",
       "</ol>\n"
      ],
      "text/latex": [
       "\\begin{enumerate*}\n",
       "\\item 1\n",
       "\\item 3\n",
       "\\item 5\n",
       "\\end{enumerate*}\n"
      ],
      "text/markdown": [
       "1. 1\n",
       "2. 3\n",
       "3. 5\n",
       "\n",
       "\n"
      ],
      "text/plain": [
       "[1] 1 3 5"
      ]
     },
     "metadata": {},
     "output_type": "display_data"
    }
   ],
   "source": [
    "seq(by = z, x,y)"
   ]
  },
  {
   "cell_type": "markdown",
   "metadata": {},
   "source": [
    "Одна интересная конструкция, о которой я рассказал, может быть использована для передачи произвольного количества аргументов далее по стеку вызовов вложенных функций. С помощью этой конструкции напишите такую функцию, которая займётся украшением строк.\n",
    "\n",
    "Пусть функция decorate_string действует поверх функции paste, дополнительно приклеивая к результату аргумент pattern. При этом этот аргумент должен быть присоединён как в начале строки (строк), так и в конце, но перевёрнутый задом наперёд.\n",
    "\n",
    "Тут проще всего показать на примерах:\n",
    "```r\n",
    "decorate_string(pattern = \"123\", \"abc\")            # \"123abc321\"\n",
    "decorate_string(pattern = \"123\", \"abc\", \"def\")     # \"123abc def321\"\n",
    "decorate_string(pattern = \"123\", c(\"abc\", \"def\"))  # \"123abc321\" \"123def321\" (вектор длины 2)\n",
    "Обратите внимание, что функция decorate_string должна помнить про аргументы для paste и правильно на них реагировать:\n",
    "\n",
    "decorate_string(pattern = \"123\", \"abc\", \"def\", sep = \"+\")    # \"123abc+def321\"\n",
    "decorate_string(pattern = \"!\", c(\"x\", \"x\"), collapse = \"_\")  # \"!x_x!\"\n",
    "decorate_string(pattern = \".:\", 1:2, 3:4, 5:6, sep = \"&\")    # \".:1&3&5:.\" \".:2&4&6:.\" (вектор длины 2)\n",
    "\n",
    "```\n",
    "Подсказки: \n",
    "если вам нужна утилитарная функция для какого-то простого промежуточного действия, напишите и проверьте её отдельно;\n",
    "в шаблоне для отправки <???> означает то место, которое нужно написать самостоятельно;\n",
    "убедитесь, что результат для вызовов выше в точности такой, как я указал!\n",
    "P.S. Функции такого рода не праздное развлечение: похожие задачи могут возникать при построении путей к файлам или, например, HTTP запросов."
   ]
  },
  {
   "cell_type": "code",
   "execution_count": 185,
   "metadata": {},
   "outputs": [],
   "source": [
    "decorate_string <- function(pattern,..., se, colla ) { \n",
    "  d <- paste(...)\n",
    "  p2 <- paste(rev(  rapply(strsplit(pattern, \"\"), c)) , collapse = \"\"  )\n",
    "  print(paste(pattern,d,p2, sep = \"\"))\n",
    "}"
   ]
  },
  {
   "cell_type": "code",
   "execution_count": 186,
   "metadata": {},
   "outputs": [
    {
     "name": "stdout",
     "output_type": "stream",
     "text": [
      "[1] \"123abc321\"\n"
     ]
    }
   ],
   "source": [
    "decorate_string(pattern = \"123\", \"abc\")                                  # \"123abc321\""
   ]
  },
  {
   "cell_type": "code",
   "execution_count": 187,
   "metadata": {},
   "outputs": [
    {
     "name": "stdout",
     "output_type": "stream",
     "text": [
      "[1] \"123abc def321\"\n"
     ]
    }
   ],
   "source": [
    "decorate_string(pattern = \"123\", \"abc\", \"def\")                           # \"123abc def321\""
   ]
  },
  {
   "cell_type": "code",
   "execution_count": 188,
   "metadata": {},
   "outputs": [
    {
     "name": "stdout",
     "output_type": "stream",
     "text": [
      "[1] \"123abc321\" \"123def321\"\n"
     ]
    }
   ],
   "source": [
    "decorate_string(pattern = \"123\", c(\"abc\", \"def\"))                        # \"123abc321\" \"123def321\" (вектор длины 2)"
   ]
  },
  {
   "cell_type": "code",
   "execution_count": 189,
   "metadata": {},
   "outputs": [
    {
     "name": "stdout",
     "output_type": "stream",
     "text": [
      "[1] \"123abc+def321\"\n"
     ]
    }
   ],
   "source": [
    "decorate_string(pattern = \"123\", \"abc\", \"def\", sep = \"+\")                # \"123abc+def321\""
   ]
  },
  {
   "cell_type": "code",
   "execution_count": 190,
   "metadata": {},
   "outputs": [
    {
     "name": "stdout",
     "output_type": "stream",
     "text": [
      "[1] \"!x_x!\"\n"
     ]
    }
   ],
   "source": [
    "decorate_string(pattern = \"!\", c(\"x\", \"x\"), collapse = \"_\")              # \"!x_x!\""
   ]
  },
  {
   "cell_type": "code",
   "execution_count": 191,
   "metadata": {},
   "outputs": [
    {
     "name": "stdout",
     "output_type": "stream",
     "text": [
      "[1] \".:1&3&5:.\" \".:2&4&6:.\"\n"
     ]
    }
   ],
   "source": [
    "decorate_string(pattern = \".:\", 1:2, 3:4, 5:6, sep = \"&\")                # \".:1&3&5:.\" \".:2&4&6:.\" (вектор длины 2)"
   ]
  },
  {
   "cell_type": "code",
   "execution_count": null,
   "metadata": {},
   "outputs": [],
   "source": []
  },
  {
   "cell_type": "code",
   "execution_count": 195,
   "metadata": {},
   "outputs": [
    {
     "data": {
      "text/html": [
       "'number_A_1 and number_B_2 and number_C_3 and number_A_4 and number_B_5 and number_C_6'"
      ],
      "text/latex": [
       "'number\\_A\\_1 and number\\_B\\_2 and number\\_C\\_3 and number\\_A\\_4 and number\\_B\\_5 and number\\_C\\_6'"
      ],
      "text/markdown": [
       "'number_A_1 and number_B_2 and number_C_3 and number_A_4 and number_B_5 and number_C_6'"
      ],
      "text/plain": [
       "[1] \"number_A_1 and number_B_2 and number_C_3 and number_A_4 and number_B_5 and number_C_6\""
      ]
     },
     "metadata": {},
     "output_type": "display_data"
    }
   ],
   "source": [
    "paste(\"number\", LETTERS[1:3], 1:6, sep = \"_\", collapse = \" and \")"
   ]
  },
  {
   "cell_type": "code",
   "execution_count": 197,
   "metadata": {},
   "outputs": [
    {
     "data": {
      "text/html": [
       "<ol>\n",
       "\t<li>19.4893569843768</li>\n",
       "\t<li><ol class=list-inline>\n",
       "\t<li>-8.54278323126508</li>\n",
       "\t<li>9.23283173397833</li>\n",
       "</ol>\n",
       "</li>\n",
       "\t<li><ol class=list-inline>\n",
       "\t<li>12.0114849663632</li>\n",
       "\t<li>6.97716883431564</li>\n",
       "\t<li>13.498414182407</li>\n",
       "</ol>\n",
       "</li>\n",
       "\t<li><ol class=list-inline>\n",
       "\t<li>-9.85631382081733</li>\n",
       "\t<li>8.52567377140281</li>\n",
       "\t<li>20.0918752423022</li>\n",
       "\t<li>18.9352077733049</li>\n",
       "</ol>\n",
       "</li>\n",
       "</ol>\n"
      ],
      "text/latex": [
       "\\begin{enumerate}\n",
       "\\item 19.4893569843768\n",
       "\\item \\begin{enumerate*}\n",
       "\\item -8.54278323126508\n",
       "\\item 9.23283173397833\n",
       "\\end{enumerate*}\n",
       "\n",
       "\\item \\begin{enumerate*}\n",
       "\\item 12.0114849663632\n",
       "\\item 6.97716883431564\n",
       "\\item 13.498414182407\n",
       "\\end{enumerate*}\n",
       "\n",
       "\\item \\begin{enumerate*}\n",
       "\\item -9.85631382081733\n",
       "\\item 8.52567377140281\n",
       "\\item 20.0918752423022\n",
       "\\item 18.9352077733049\n",
       "\\end{enumerate*}\n",
       "\n",
       "\\end{enumerate}\n"
      ],
      "text/markdown": [
       "1. 19.4893569843768\n",
       "2. 1. -8.54278323126508\n",
       "2. 9.23283173397833\n",
       "\n",
       "\n",
       "\n",
       "3. 1. 12.0114849663632\n",
       "2. 6.97716883431564\n",
       "3. 13.498414182407\n",
       "\n",
       "\n",
       "\n",
       "4. 1. -9.85631382081733\n",
       "2. 8.52567377140281\n",
       "3. 20.0918752423022\n",
       "4. 18.9352077733049\n",
       "\n",
       "\n",
       "\n",
       "\n",
       "\n"
      ],
      "text/plain": [
       "[[1]]\n",
       "[1] 19.48936\n",
       "\n",
       "[[2]]\n",
       "[1] -8.542783  9.232832\n",
       "\n",
       "[[3]]\n",
       "[1] 12.011485  6.977169 13.498414\n",
       "\n",
       "[[4]]\n",
       "[1] -9.856314  8.525674 20.091875 18.935208\n"
      ]
     },
     "metadata": {},
     "output_type": "display_data"
    }
   ],
   "source": [
    "lapply(1:4, rnorm, mean = 10, sd = 10)"
   ]
  },
  {
   "cell_type": "code",
   "execution_count": 198,
   "metadata": {},
   "outputs": [
    {
     "data": {
      "text/html": [
       "<ol class=list-inline>\n",
       "\t<li>-2.05966426927892</li>\n",
       "\t<li>-0.836501754418459</li>\n",
       "\t<li>0.0545678573231036</li>\n",
       "\t<li>0.586003791656072</li>\n",
       "\t<li>0.690663975867228</li>\n",
       "</ol>\n"
      ],
      "text/latex": [
       "\\begin{enumerate*}\n",
       "\\item -2.05966426927892\n",
       "\\item -0.836501754418459\n",
       "\\item 0.0545678573231036\n",
       "\\item 0.586003791656072\n",
       "\\item 0.690663975867228\n",
       "\\end{enumerate*}\n"
      ],
      "text/markdown": [
       "1. -2.05966426927892\n",
       "2. -0.836501754418459\n",
       "3. 0.0545678573231036\n",
       "4. 0.586003791656072\n",
       "5. 0.690663975867228\n",
       "\n",
       "\n"
      ],
      "text/plain": [
       "[1] -2.05966427 -0.83650175  0.05456786  0.58600379  0.69066398"
      ]
     },
     "metadata": {},
     "output_type": "display_data"
    }
   ],
   "source": [
    "sort(rnorm(5))"
   ]
  },
  {
   "cell_type": "code",
   "execution_count": 199,
   "metadata": {},
   "outputs": [
    {
     "data": {
      "text/html": [
       "<table>\n",
       "<tbody>\n",
       "\t<tr><td>0</td><td>0</td></tr>\n",
       "\t<tr><td>0</td><td>0</td></tr>\n",
       "\t<tr><td>0</td><td>0</td></tr>\n",
       "</tbody>\n",
       "</table>\n"
      ],
      "text/latex": [
       "\\begin{tabular}{ll}\n",
       "\t 0 & 0\\\\\n",
       "\t 0 & 0\\\\\n",
       "\t 0 & 0\\\\\n",
       "\\end{tabular}\n"
      ],
      "text/markdown": [
       "\n",
       "| 0 | 0 | \n",
       "| 0 | 0 | \n",
       "| 0 | 0 | \n",
       "\n",
       "\n"
      ],
      "text/plain": [
       "     [,1] [,2]\n",
       "[1,] 0    0   \n",
       "[2,] 0    0   \n",
       "[3,] 0    0   "
      ]
     },
     "metadata": {},
     "output_type": "display_data"
    }
   ],
   "source": [
    "matrix(nrow = 3, ncol = 2, by = T, 0, dimn = NULL)"
   ]
  },
  {
   "cell_type": "markdown",
   "metadata": {},
   "source": [
    "К этому времени у нас уже есть полный набор для приятного времяпрепровождения: монетка, игральный кубик и даже колода карт. Давайте откроем казино!\n",
    "\n",
    "Для создания респектабельного заведения нам не хватает игры в рулетку. Это единственное, что отделяет нас от заветного \"Делайте ваши ставки, дамы и господа!\"\n",
    "\n",
    "И, раз уж вы займётесь изготовлением рулетки, у меня к вам одна деликатная просьба: не могли бы вы устроить так, чтобы их было две? При этом одна будет абсолютно нормальной, а вторая, ну, как бы так выразиться... Ведь если зеро будет выпадать чуточку почаще, то казино получит больше денег...\n",
    "\n",
    "Воспользуйтесь подготовленным мной шаблоном, чтобы получить две функции, содержащие честную и нечестную рулетку.\n",
    "\n",
    "Честная -- это когда все имеющиеся значения (всего их 37) выпадают с равной вероятностью.\n",
    "\n",
    "А нечестная пусть выдаёт все значения, кроме зеро, с равной вероятностью. Что же касается зеро (первый элемент определённого мной вектора roulette_values), то вероятность его выпадения пусть будет в два раза больше, чем любого другого значения. Не переборщите, иначе игроки заподозрят неладное!\n",
    "\n",
    "Как и в предыдущем видео, функция generator -- фабрика функций, но с ещё более широкими возможностями. Обратите внимание, как я объявил аргумент prob по умолчанию.\n",
    "\n",
    "Я ожидаю, что в этом случае вызов generator(roulette_values) без аргумента prob даст функцию для вызова честной рулетки fair_roulette. Для нечестной рулетки rigged_roulette вызов уточните самостоятельно.\n",
    "\n",
    "Я буду проверять рулетки вызовом обеих функций, так что, пожалуйста, убедитесь, что это функции, для которых обращение вида fair_roulette(n) и  rigged_roulette(n) приведёт к получению n независимых бросков."
   ]
  },
  {
   "cell_type": "code",
   "execution_count": 44,
   "metadata": {},
   "outputs": [],
   "source": [
    "# barplot(table(sample(c(\"Zero!\", 1:36), size=100, replace=TRUE, prob=c(0.5,rep(0.5/36, 36))   )))"
   ]
  },
  {
   "cell_type": "code",
   "execution_count": 67,
   "metadata": {},
   "outputs": [],
   "source": [
    "generator <- function(set, prob = rep(1/length(set), length(set)),n) { \n",
    "    return( sample(roulette_values,size =  n, p = prob,replace = TRUE) )\n",
    "} \n",
    "roulette_values <- c(\"Zero!\", 1:36)\n",
    "fair_roulette <- function(p) generator(roulette_values, n = p)\n",
    "rigged_roulette <- function(p) generator(  roulette_values, prob = c(1,rep(0.5,36)) , n = p)"
   ]
  },
  {
   "cell_type": "code",
   "execution_count": 68,
   "metadata": {},
   "outputs": [
    {
     "data": {
      "text/html": [
       "<ol class=list-inline>\n",
       "\t<li>'19'</li>\n",
       "\t<li>'7'</li>\n",
       "\t<li>'31'</li>\n",
       "\t<li>'23'</li>\n",
       "\t<li>'12'</li>\n",
       "\t<li>'36'</li>\n",
       "\t<li>'15'</li>\n",
       "\t<li>'35'</li>\n",
       "\t<li>'2'</li>\n",
       "\t<li>'4'</li>\n",
       "\t<li>'7'</li>\n",
       "\t<li>'15'</li>\n",
       "\t<li>'17'</li>\n",
       "\t<li>'8'</li>\n",
       "\t<li>'27'</li>\n",
       "\t<li>'31'</li>\n",
       "\t<li>'29'</li>\n",
       "\t<li>'13'</li>\n",
       "\t<li>'2'</li>\n",
       "\t<li>'24'</li>\n",
       "\t<li>'10'</li>\n",
       "\t<li>'17'</li>\n",
       "\t<li>'25'</li>\n",
       "\t<li>'34'</li>\n",
       "\t<li>'10'</li>\n",
       "\t<li>'9'</li>\n",
       "\t<li>'16'</li>\n",
       "\t<li>'5'</li>\n",
       "\t<li>'1'</li>\n",
       "\t<li>'20'</li>\n",
       "\t<li>'26'</li>\n",
       "\t<li>'24'</li>\n",
       "\t<li>'3'</li>\n",
       "\t<li>'20'</li>\n",
       "\t<li>'17'</li>\n",
       "\t<li>'27'</li>\n",
       "\t<li>'12'</li>\n",
       "\t<li>'Zero!'</li>\n",
       "\t<li>'6'</li>\n",
       "\t<li>'17'</li>\n",
       "\t<li>'9'</li>\n",
       "\t<li>'18'</li>\n",
       "\t<li>'28'</li>\n",
       "\t<li>'3'</li>\n",
       "\t<li>'31'</li>\n",
       "\t<li>'15'</li>\n",
       "\t<li>'3'</li>\n",
       "\t<li>'3'</li>\n",
       "\t<li>'16'</li>\n",
       "\t<li>'33'</li>\n",
       "\t<li>'13'</li>\n",
       "\t<li>'34'</li>\n",
       "\t<li>'2'</li>\n",
       "\t<li>'29'</li>\n",
       "\t<li>'35'</li>\n",
       "\t<li>'28'</li>\n",
       "\t<li>'16'</li>\n",
       "\t<li>'36'</li>\n",
       "\t<li>'2'</li>\n",
       "\t<li>'13'</li>\n",
       "\t<li>'21'</li>\n",
       "\t<li>'16'</li>\n",
       "\t<li>'18'</li>\n",
       "\t<li>'4'</li>\n",
       "\t<li>'24'</li>\n",
       "\t<li>'21'</li>\n",
       "\t<li>'13'</li>\n",
       "\t<li>'17'</li>\n",
       "\t<li>'29'</li>\n",
       "\t<li>'1'</li>\n",
       "\t<li>'25'</li>\n",
       "\t<li>'20'</li>\n",
       "\t<li>'16'</li>\n",
       "\t<li>'33'</li>\n",
       "\t<li>'9'</li>\n",
       "\t<li>'4'</li>\n",
       "\t<li>'9'</li>\n",
       "\t<li>'28'</li>\n",
       "\t<li>'22'</li>\n",
       "\t<li>'16'</li>\n",
       "\t<li>'26'</li>\n",
       "\t<li>'27'</li>\n",
       "\t<li>'21'</li>\n",
       "\t<li>'17'</li>\n",
       "\t<li>'8'</li>\n",
       "\t<li>'36'</li>\n",
       "\t<li>'4'</li>\n",
       "\t<li>'30'</li>\n",
       "\t<li>'23'</li>\n",
       "\t<li>'9'</li>\n",
       "\t<li>'2'</li>\n",
       "\t<li>'14'</li>\n",
       "\t<li>'17'</li>\n",
       "\t<li>'19'</li>\n",
       "\t<li>'17'</li>\n",
       "\t<li>'26'</li>\n",
       "\t<li>'25'</li>\n",
       "\t<li>'32'</li>\n",
       "\t<li>'Zero!'</li>\n",
       "\t<li>'17'</li>\n",
       "</ol>\n"
      ],
      "text/latex": [
       "\\begin{enumerate*}\n",
       "\\item '19'\n",
       "\\item '7'\n",
       "\\item '31'\n",
       "\\item '23'\n",
       "\\item '12'\n",
       "\\item '36'\n",
       "\\item '15'\n",
       "\\item '35'\n",
       "\\item '2'\n",
       "\\item '4'\n",
       "\\item '7'\n",
       "\\item '15'\n",
       "\\item '17'\n",
       "\\item '8'\n",
       "\\item '27'\n",
       "\\item '31'\n",
       "\\item '29'\n",
       "\\item '13'\n",
       "\\item '2'\n",
       "\\item '24'\n",
       "\\item '10'\n",
       "\\item '17'\n",
       "\\item '25'\n",
       "\\item '34'\n",
       "\\item '10'\n",
       "\\item '9'\n",
       "\\item '16'\n",
       "\\item '5'\n",
       "\\item '1'\n",
       "\\item '20'\n",
       "\\item '26'\n",
       "\\item '24'\n",
       "\\item '3'\n",
       "\\item '20'\n",
       "\\item '17'\n",
       "\\item '27'\n",
       "\\item '12'\n",
       "\\item 'Zero!'\n",
       "\\item '6'\n",
       "\\item '17'\n",
       "\\item '9'\n",
       "\\item '18'\n",
       "\\item '28'\n",
       "\\item '3'\n",
       "\\item '31'\n",
       "\\item '15'\n",
       "\\item '3'\n",
       "\\item '3'\n",
       "\\item '16'\n",
       "\\item '33'\n",
       "\\item '13'\n",
       "\\item '34'\n",
       "\\item '2'\n",
       "\\item '29'\n",
       "\\item '35'\n",
       "\\item '28'\n",
       "\\item '16'\n",
       "\\item '36'\n",
       "\\item '2'\n",
       "\\item '13'\n",
       "\\item '21'\n",
       "\\item '16'\n",
       "\\item '18'\n",
       "\\item '4'\n",
       "\\item '24'\n",
       "\\item '21'\n",
       "\\item '13'\n",
       "\\item '17'\n",
       "\\item '29'\n",
       "\\item '1'\n",
       "\\item '25'\n",
       "\\item '20'\n",
       "\\item '16'\n",
       "\\item '33'\n",
       "\\item '9'\n",
       "\\item '4'\n",
       "\\item '9'\n",
       "\\item '28'\n",
       "\\item '22'\n",
       "\\item '16'\n",
       "\\item '26'\n",
       "\\item '27'\n",
       "\\item '21'\n",
       "\\item '17'\n",
       "\\item '8'\n",
       "\\item '36'\n",
       "\\item '4'\n",
       "\\item '30'\n",
       "\\item '23'\n",
       "\\item '9'\n",
       "\\item '2'\n",
       "\\item '14'\n",
       "\\item '17'\n",
       "\\item '19'\n",
       "\\item '17'\n",
       "\\item '26'\n",
       "\\item '25'\n",
       "\\item '32'\n",
       "\\item 'Zero!'\n",
       "\\item '17'\n",
       "\\end{enumerate*}\n"
      ],
      "text/markdown": [
       "1. '19'\n",
       "2. '7'\n",
       "3. '31'\n",
       "4. '23'\n",
       "5. '12'\n",
       "6. '36'\n",
       "7. '15'\n",
       "8. '35'\n",
       "9. '2'\n",
       "10. '4'\n",
       "11. '7'\n",
       "12. '15'\n",
       "13. '17'\n",
       "14. '8'\n",
       "15. '27'\n",
       "16. '31'\n",
       "17. '29'\n",
       "18. '13'\n",
       "19. '2'\n",
       "20. '24'\n",
       "21. '10'\n",
       "22. '17'\n",
       "23. '25'\n",
       "24. '34'\n",
       "25. '10'\n",
       "26. '9'\n",
       "27. '16'\n",
       "28. '5'\n",
       "29. '1'\n",
       "30. '20'\n",
       "31. '26'\n",
       "32. '24'\n",
       "33. '3'\n",
       "34. '20'\n",
       "35. '17'\n",
       "36. '27'\n",
       "37. '12'\n",
       "38. 'Zero!'\n",
       "39. '6'\n",
       "40. '17'\n",
       "41. '9'\n",
       "42. '18'\n",
       "43. '28'\n",
       "44. '3'\n",
       "45. '31'\n",
       "46. '15'\n",
       "47. '3'\n",
       "48. '3'\n",
       "49. '16'\n",
       "50. '33'\n",
       "51. '13'\n",
       "52. '34'\n",
       "53. '2'\n",
       "54. '29'\n",
       "55. '35'\n",
       "56. '28'\n",
       "57. '16'\n",
       "58. '36'\n",
       "59. '2'\n",
       "60. '13'\n",
       "61. '21'\n",
       "62. '16'\n",
       "63. '18'\n",
       "64. '4'\n",
       "65. '24'\n",
       "66. '21'\n",
       "67. '13'\n",
       "68. '17'\n",
       "69. '29'\n",
       "70. '1'\n",
       "71. '25'\n",
       "72. '20'\n",
       "73. '16'\n",
       "74. '33'\n",
       "75. '9'\n",
       "76. '4'\n",
       "77. '9'\n",
       "78. '28'\n",
       "79. '22'\n",
       "80. '16'\n",
       "81. '26'\n",
       "82. '27'\n",
       "83. '21'\n",
       "84. '17'\n",
       "85. '8'\n",
       "86. '36'\n",
       "87. '4'\n",
       "88. '30'\n",
       "89. '23'\n",
       "90. '9'\n",
       "91. '2'\n",
       "92. '14'\n",
       "93. '17'\n",
       "94. '19'\n",
       "95. '17'\n",
       "96. '26'\n",
       "97. '25'\n",
       "98. '32'\n",
       "99. 'Zero!'\n",
       "100. '17'\n",
       "\n",
       "\n"
      ],
      "text/plain": [
       "  [1] \"19\"    \"7\"     \"31\"    \"23\"    \"12\"    \"36\"    \"15\"    \"35\"    \"2\"    \n",
       " [10] \"4\"     \"7\"     \"15\"    \"17\"    \"8\"     \"27\"    \"31\"    \"29\"    \"13\"   \n",
       " [19] \"2\"     \"24\"    \"10\"    \"17\"    \"25\"    \"34\"    \"10\"    \"9\"     \"16\"   \n",
       " [28] \"5\"     \"1\"     \"20\"    \"26\"    \"24\"    \"3\"     \"20\"    \"17\"    \"27\"   \n",
       " [37] \"12\"    \"Zero!\" \"6\"     \"17\"    \"9\"     \"18\"    \"28\"    \"3\"     \"31\"   \n",
       " [46] \"15\"    \"3\"     \"3\"     \"16\"    \"33\"    \"13\"    \"34\"    \"2\"     \"29\"   \n",
       " [55] \"35\"    \"28\"    \"16\"    \"36\"    \"2\"     \"13\"    \"21\"    \"16\"    \"18\"   \n",
       " [64] \"4\"     \"24\"    \"21\"    \"13\"    \"17\"    \"29\"    \"1\"     \"25\"    \"20\"   \n",
       " [73] \"16\"    \"33\"    \"9\"     \"4\"     \"9\"     \"28\"    \"22\"    \"16\"    \"26\"   \n",
       " [82] \"27\"    \"21\"    \"17\"    \"8\"     \"36\"    \"4\"     \"30\"    \"23\"    \"9\"    \n",
       " [91] \"2\"     \"14\"    \"17\"    \"19\"    \"17\"    \"26\"    \"25\"    \"32\"    \"Zero!\"\n",
       "[100] \"17\"   "
      ]
     },
     "metadata": {},
     "output_type": "display_data"
    }
   ],
   "source": [
    "fair_roulette(100)"
   ]
  },
  {
   "cell_type": "code",
   "execution_count": 69,
   "metadata": {},
   "outputs": [
    {
     "data": {
      "text/html": [
       "<ol class=list-inline>\n",
       "\t<li>'24'</li>\n",
       "\t<li>'27'</li>\n",
       "\t<li>'4'</li>\n",
       "\t<li>'20'</li>\n",
       "\t<li>'2'</li>\n",
       "\t<li>'14'</li>\n",
       "\t<li>'32'</li>\n",
       "\t<li>'25'</li>\n",
       "\t<li>'16'</li>\n",
       "\t<li>'32'</li>\n",
       "\t<li>'11'</li>\n",
       "\t<li>'35'</li>\n",
       "\t<li>'2'</li>\n",
       "\t<li>'31'</li>\n",
       "\t<li>'33'</li>\n",
       "\t<li>'9'</li>\n",
       "\t<li>'6'</li>\n",
       "\t<li>'16'</li>\n",
       "\t<li>'4'</li>\n",
       "\t<li>'31'</li>\n",
       "\t<li>'34'</li>\n",
       "\t<li>'21'</li>\n",
       "\t<li>'4'</li>\n",
       "\t<li>'26'</li>\n",
       "\t<li>'Zero!'</li>\n",
       "\t<li>'14'</li>\n",
       "\t<li>'21'</li>\n",
       "\t<li>'1'</li>\n",
       "\t<li>'7'</li>\n",
       "\t<li>'8'</li>\n",
       "\t<li>'29'</li>\n",
       "\t<li>'6'</li>\n",
       "\t<li>'7'</li>\n",
       "\t<li>'21'</li>\n",
       "\t<li>'34'</li>\n",
       "\t<li>'2'</li>\n",
       "\t<li>'18'</li>\n",
       "\t<li>'32'</li>\n",
       "\t<li>'20'</li>\n",
       "\t<li>'14'</li>\n",
       "\t<li>'3'</li>\n",
       "\t<li>'25'</li>\n",
       "\t<li>'Zero!'</li>\n",
       "\t<li>'23'</li>\n",
       "\t<li>'Zero!'</li>\n",
       "\t<li>'6'</li>\n",
       "\t<li>'32'</li>\n",
       "\t<li>'28'</li>\n",
       "\t<li>'9'</li>\n",
       "\t<li>'26'</li>\n",
       "\t<li>'32'</li>\n",
       "\t<li>'34'</li>\n",
       "\t<li>'23'</li>\n",
       "\t<li>'16'</li>\n",
       "\t<li>'1'</li>\n",
       "\t<li>'3'</li>\n",
       "\t<li>'32'</li>\n",
       "\t<li>'34'</li>\n",
       "\t<li>'5'</li>\n",
       "\t<li>'27'</li>\n",
       "\t<li>'Zero!'</li>\n",
       "\t<li>'14'</li>\n",
       "\t<li>'24'</li>\n",
       "\t<li>'33'</li>\n",
       "\t<li>'15'</li>\n",
       "\t<li>'29'</li>\n",
       "\t<li>'30'</li>\n",
       "\t<li>'24'</li>\n",
       "\t<li>'11'</li>\n",
       "\t<li>'21'</li>\n",
       "\t<li>'Zero!'</li>\n",
       "\t<li>'8'</li>\n",
       "\t<li>'9'</li>\n",
       "\t<li>'31'</li>\n",
       "\t<li>'24'</li>\n",
       "\t<li>'26'</li>\n",
       "\t<li>'4'</li>\n",
       "\t<li>'16'</li>\n",
       "\t<li>'23'</li>\n",
       "\t<li>'Zero!'</li>\n",
       "\t<li>'35'</li>\n",
       "\t<li>'Zero!'</li>\n",
       "\t<li>'2'</li>\n",
       "\t<li>'4'</li>\n",
       "\t<li>'19'</li>\n",
       "\t<li>'26'</li>\n",
       "\t<li>'32'</li>\n",
       "\t<li>'35'</li>\n",
       "\t<li>'12'</li>\n",
       "\t<li>'26'</li>\n",
       "\t<li>'30'</li>\n",
       "\t<li>'24'</li>\n",
       "\t<li>'25'</li>\n",
       "\t<li>'2'</li>\n",
       "\t<li>'21'</li>\n",
       "\t<li>'36'</li>\n",
       "\t<li>'33'</li>\n",
       "\t<li>'10'</li>\n",
       "\t<li>'18'</li>\n",
       "\t<li>'31'</li>\n",
       "</ol>\n"
      ],
      "text/latex": [
       "\\begin{enumerate*}\n",
       "\\item '24'\n",
       "\\item '27'\n",
       "\\item '4'\n",
       "\\item '20'\n",
       "\\item '2'\n",
       "\\item '14'\n",
       "\\item '32'\n",
       "\\item '25'\n",
       "\\item '16'\n",
       "\\item '32'\n",
       "\\item '11'\n",
       "\\item '35'\n",
       "\\item '2'\n",
       "\\item '31'\n",
       "\\item '33'\n",
       "\\item '9'\n",
       "\\item '6'\n",
       "\\item '16'\n",
       "\\item '4'\n",
       "\\item '31'\n",
       "\\item '34'\n",
       "\\item '21'\n",
       "\\item '4'\n",
       "\\item '26'\n",
       "\\item 'Zero!'\n",
       "\\item '14'\n",
       "\\item '21'\n",
       "\\item '1'\n",
       "\\item '7'\n",
       "\\item '8'\n",
       "\\item '29'\n",
       "\\item '6'\n",
       "\\item '7'\n",
       "\\item '21'\n",
       "\\item '34'\n",
       "\\item '2'\n",
       "\\item '18'\n",
       "\\item '32'\n",
       "\\item '20'\n",
       "\\item '14'\n",
       "\\item '3'\n",
       "\\item '25'\n",
       "\\item 'Zero!'\n",
       "\\item '23'\n",
       "\\item 'Zero!'\n",
       "\\item '6'\n",
       "\\item '32'\n",
       "\\item '28'\n",
       "\\item '9'\n",
       "\\item '26'\n",
       "\\item '32'\n",
       "\\item '34'\n",
       "\\item '23'\n",
       "\\item '16'\n",
       "\\item '1'\n",
       "\\item '3'\n",
       "\\item '32'\n",
       "\\item '34'\n",
       "\\item '5'\n",
       "\\item '27'\n",
       "\\item 'Zero!'\n",
       "\\item '14'\n",
       "\\item '24'\n",
       "\\item '33'\n",
       "\\item '15'\n",
       "\\item '29'\n",
       "\\item '30'\n",
       "\\item '24'\n",
       "\\item '11'\n",
       "\\item '21'\n",
       "\\item 'Zero!'\n",
       "\\item '8'\n",
       "\\item '9'\n",
       "\\item '31'\n",
       "\\item '24'\n",
       "\\item '26'\n",
       "\\item '4'\n",
       "\\item '16'\n",
       "\\item '23'\n",
       "\\item 'Zero!'\n",
       "\\item '35'\n",
       "\\item 'Zero!'\n",
       "\\item '2'\n",
       "\\item '4'\n",
       "\\item '19'\n",
       "\\item '26'\n",
       "\\item '32'\n",
       "\\item '35'\n",
       "\\item '12'\n",
       "\\item '26'\n",
       "\\item '30'\n",
       "\\item '24'\n",
       "\\item '25'\n",
       "\\item '2'\n",
       "\\item '21'\n",
       "\\item '36'\n",
       "\\item '33'\n",
       "\\item '10'\n",
       "\\item '18'\n",
       "\\item '31'\n",
       "\\end{enumerate*}\n"
      ],
      "text/markdown": [
       "1. '24'\n",
       "2. '27'\n",
       "3. '4'\n",
       "4. '20'\n",
       "5. '2'\n",
       "6. '14'\n",
       "7. '32'\n",
       "8. '25'\n",
       "9. '16'\n",
       "10. '32'\n",
       "11. '11'\n",
       "12. '35'\n",
       "13. '2'\n",
       "14. '31'\n",
       "15. '33'\n",
       "16. '9'\n",
       "17. '6'\n",
       "18. '16'\n",
       "19. '4'\n",
       "20. '31'\n",
       "21. '34'\n",
       "22. '21'\n",
       "23. '4'\n",
       "24. '26'\n",
       "25. 'Zero!'\n",
       "26. '14'\n",
       "27. '21'\n",
       "28. '1'\n",
       "29. '7'\n",
       "30. '8'\n",
       "31. '29'\n",
       "32. '6'\n",
       "33. '7'\n",
       "34. '21'\n",
       "35. '34'\n",
       "36. '2'\n",
       "37. '18'\n",
       "38. '32'\n",
       "39. '20'\n",
       "40. '14'\n",
       "41. '3'\n",
       "42. '25'\n",
       "43. 'Zero!'\n",
       "44. '23'\n",
       "45. 'Zero!'\n",
       "46. '6'\n",
       "47. '32'\n",
       "48. '28'\n",
       "49. '9'\n",
       "50. '26'\n",
       "51. '32'\n",
       "52. '34'\n",
       "53. '23'\n",
       "54. '16'\n",
       "55. '1'\n",
       "56. '3'\n",
       "57. '32'\n",
       "58. '34'\n",
       "59. '5'\n",
       "60. '27'\n",
       "61. 'Zero!'\n",
       "62. '14'\n",
       "63. '24'\n",
       "64. '33'\n",
       "65. '15'\n",
       "66. '29'\n",
       "67. '30'\n",
       "68. '24'\n",
       "69. '11'\n",
       "70. '21'\n",
       "71. 'Zero!'\n",
       "72. '8'\n",
       "73. '9'\n",
       "74. '31'\n",
       "75. '24'\n",
       "76. '26'\n",
       "77. '4'\n",
       "78. '16'\n",
       "79. '23'\n",
       "80. 'Zero!'\n",
       "81. '35'\n",
       "82. 'Zero!'\n",
       "83. '2'\n",
       "84. '4'\n",
       "85. '19'\n",
       "86. '26'\n",
       "87. '32'\n",
       "88. '35'\n",
       "89. '12'\n",
       "90. '26'\n",
       "91. '30'\n",
       "92. '24'\n",
       "93. '25'\n",
       "94. '2'\n",
       "95. '21'\n",
       "96. '36'\n",
       "97. '33'\n",
       "98. '10'\n",
       "99. '18'\n",
       "100. '31'\n",
       "\n",
       "\n"
      ],
      "text/plain": [
       "  [1] \"24\"    \"27\"    \"4\"     \"20\"    \"2\"     \"14\"    \"32\"    \"25\"    \"16\"   \n",
       " [10] \"32\"    \"11\"    \"35\"    \"2\"     \"31\"    \"33\"    \"9\"     \"6\"     \"16\"   \n",
       " [19] \"4\"     \"31\"    \"34\"    \"21\"    \"4\"     \"26\"    \"Zero!\" \"14\"    \"21\"   \n",
       " [28] \"1\"     \"7\"     \"8\"     \"29\"    \"6\"     \"7\"     \"21\"    \"34\"    \"2\"    \n",
       " [37] \"18\"    \"32\"    \"20\"    \"14\"    \"3\"     \"25\"    \"Zero!\" \"23\"    \"Zero!\"\n",
       " [46] \"6\"     \"32\"    \"28\"    \"9\"     \"26\"    \"32\"    \"34\"    \"23\"    \"16\"   \n",
       " [55] \"1\"     \"3\"     \"32\"    \"34\"    \"5\"     \"27\"    \"Zero!\" \"14\"    \"24\"   \n",
       " [64] \"33\"    \"15\"    \"29\"    \"30\"    \"24\"    \"11\"    \"21\"    \"Zero!\" \"8\"    \n",
       " [73] \"9\"     \"31\"    \"24\"    \"26\"    \"4\"     \"16\"    \"23\"    \"Zero!\" \"35\"   \n",
       " [82] \"Zero!\" \"2\"     \"4\"     \"19\"    \"26\"    \"32\"    \"35\"    \"12\"    \"26\"   \n",
       " [91] \"30\"    \"24\"    \"25\"    \"2\"     \"21\"    \"36\"    \"33\"    \"10\"    \"18\"   \n",
       "[100] \"31\"   "
      ]
     },
     "metadata": {},
     "output_type": "display_data"
    }
   ],
   "source": [
    "rigged_roulette(100)"
   ]
  },
  {
   "cell_type": "code",
   "execution_count": 76,
   "metadata": {},
   "outputs": [
    {
     "data": {
      "text/html": [
       "<pre class=language-r><code>function (x, type = c(\"O\", \"I\", \"F\", \"M\", \"2\")) \n",
       "{\n",
       "<span style=white-space:pre-wrap>    if (identical(\"2\", type)) {</span>\n",
       "<span style=white-space:pre-wrap>        svd(x, nu = 0L, nv = 0L)$d[1L]</span>\n",
       "<span style=white-space:pre-wrap>    }</span>\n",
       "<span style=white-space:pre-wrap>    else .Internal(La_dlange(x, type))</span>\n",
       "}</code></pre>"
      ],
      "text/latex": [
       "\\begin{minted}{r}\n",
       "function (x, type = c(\"O\", \"I\", \"F\", \"M\", \"2\")) \n",
       "\\{\n",
       "    if (identical(\"2\", type)) \\{\n",
       "        svd(x, nu = 0L, nv = 0L)\\$d{[}1L{]}\n",
       "    \\}\n",
       "    else .Internal(La\\_dlange(x, type))\n",
       "\\}\n",
       "\\end{minted}"
      ],
      "text/markdown": [
       "```r\n",
       "function (x, type = c(\"O\", \"I\", \"F\", \"M\", \"2\")) \n",
       "{\n",
       "    if (identical(\"2\", type)) {\n",
       "        svd(x, nu = 0L, nv = 0L)$d[1L]\n",
       "    }\n",
       "    else .Internal(La_dlange(x, type))\n",
       "}\n",
       "```"
      ],
      "text/plain": [
       "function (x, type = c(\"O\", \"I\", \"F\", \"M\", \"2\")) \n",
       "{\n",
       "    if (identical(\"2\", type)) {\n",
       "        svd(x, nu = 0L, nv = 0L)$d[1L]\n",
       "    }\n",
       "    else .Internal(La_dlange(x, type))\n",
       "}\n",
       "<bytecode: 0x000000002091ebf8>\n",
       "<environment: namespace:base>"
      ]
     },
     "metadata": {},
     "output_type": "display_data"
    }
   ],
   "source": [
    "norm  #svd"
   ]
  },
  {
   "cell_type": "markdown",
   "metadata": {},
   "source": [
    "Давайте напишем бинарный оператор! Пусть %+% действует на два числовых вектора, складывая их поэлементно, но без учёта правил переписывания: если длина векторов различна, то возвращаем вектор большей длины, но с пропущенными значениями в конце.\n",
    "\n",
    "Например, \n",
    "```r\n",
    "1:5 %+% 1:2   # c(2, 4, NA, NA, NA)\n",
    "5 %+% c(2, 6) # c(7, NA) \n",
    "```"
   ]
  },
  {
   "cell_type": "code",
   "execution_count": 72,
   "metadata": {},
   "outputs": [],
   "source": [
    "\"%+%\" <- function(x,y){\n",
    "    a = abs(length(x) - length(y))\n",
    "    p <- c()\n",
    "    if(a==0){\n",
    "        return (x+y)\n",
    "    }else if(length(x)> length(y)){\n",
    "        for (i in c(1:length(y))){\n",
    "            p <- append(p, x[i] + y[i])\n",
    "        }\n",
    "        return(append(p, rep(NA, a)))\n",
    "    }else if(length(x)< length(y)){\n",
    "        for (i in c(1:length(x))){\n",
    "            p <- append(p, x[i] + y[i])\n",
    "        }\n",
    "        return(append(p, rep(NA, a)))\n",
    "    }\n",
    "}"
   ]
  },
  {
   "cell_type": "code",
   "execution_count": 73,
   "metadata": {},
   "outputs": [
    {
     "data": {
      "text/html": [
       "<ol class=list-inline>\n",
       "\t<li>2</li>\n",
       "\t<li>4</li>\n",
       "\t<li>&lt;NA&gt;</li>\n",
       "\t<li>&lt;NA&gt;</li>\n",
       "\t<li>&lt;NA&gt;</li>\n",
       "</ol>\n"
      ],
      "text/latex": [
       "\\begin{enumerate*}\n",
       "\\item 2\n",
       "\\item 4\n",
       "\\item <NA>\n",
       "\\item <NA>\n",
       "\\item <NA>\n",
       "\\end{enumerate*}\n"
      ],
      "text/markdown": [
       "1. 2\n",
       "2. 4\n",
       "3. &lt;NA&gt;\n",
       "4. &lt;NA&gt;\n",
       "5. &lt;NA&gt;\n",
       "\n",
       "\n"
      ],
      "text/plain": [
       "[1]  2  4 NA NA NA"
      ]
     },
     "metadata": {},
     "output_type": "display_data"
    }
   ],
   "source": [
    "1:5 %+% 1:2 "
   ]
  },
  {
   "cell_type": "code",
   "execution_count": 74,
   "metadata": {},
   "outputs": [
    {
     "data": {
      "text/html": [
       "<ol class=list-inline>\n",
       "\t<li>7</li>\n",
       "\t<li>&lt;NA&gt;</li>\n",
       "</ol>\n"
      ],
      "text/latex": [
       "\\begin{enumerate*}\n",
       "\\item 7\n",
       "\\item <NA>\n",
       "\\end{enumerate*}\n"
      ],
      "text/markdown": [
       "1. 7\n",
       "2. &lt;NA&gt;\n",
       "\n",
       "\n"
      ],
      "text/plain": [
       "[1]  7 NA"
      ]
     },
     "metadata": {},
     "output_type": "display_data"
    }
   ],
   "source": [
    "5 %+% c(2, 6)"
   ]
  },
  {
   "cell_type": "code",
   "execution_count": 50,
   "metadata": {},
   "outputs": [
    {
     "data": {
      "text/html": [
       "-3"
      ],
      "text/latex": [
       "-3"
      ],
      "text/markdown": [
       "-3"
      ],
      "text/plain": [
       "[1] -3"
      ]
     },
     "metadata": {},
     "output_type": "display_data"
    }
   ],
   "source": [
    "length(1:2) - length(1:5)"
   ]
  },
  {
   "cell_type": "code",
   "execution_count": 71,
   "metadata": {},
   "outputs": [
    {
     "name": "stdout",
     "output_type": "stream",
     "text": [
      "[1]  2  4 NA NA NA NA NA\n"
     ]
    }
   ],
   "source": [
    "print(append(c(2,4), rep(NA, 5)))"
   ]
  },
  {
   "cell_type": "code",
   "execution_count": 1,
   "metadata": {},
   "outputs": [
    {
     "data": {
      "text/html": [
       "4"
      ],
      "text/latex": [
       "4"
      ],
      "text/markdown": [
       "4"
      ],
      "text/plain": [
       "[1] 4"
      ]
     },
     "metadata": {},
     "output_type": "display_data"
    }
   ],
   "source": [
    "4%%6"
   ]
  },
  {
   "cell_type": "code",
   "execution_count": 5,
   "metadata": {},
   "outputs": [
    {
     "data": {
      "text/html": [
       "2"
      ],
      "text/latex": [
       "2"
      ],
      "text/markdown": [
       "2"
      ],
      "text/plain": [
       "[1] 2"
      ]
     },
     "metadata": {},
     "output_type": "display_data"
    }
   ],
   "source": [
    "5%%3"
   ]
  },
  {
   "cell_type": "code",
   "execution_count": 7,
   "metadata": {},
   "outputs": [
    {
     "data": {
      "text/html": [
       "10"
      ],
      "text/latex": [
       "10"
      ],
      "text/markdown": [
       "10"
      ],
      "text/plain": [
       "[1] 10"
      ]
     },
     "metadata": {},
     "output_type": "display_data"
    },
    {
     "data": {
      "text/html": [
       "4"
      ],
      "text/latex": [
       "4"
      ],
      "text/markdown": [
       "4"
      ],
      "text/plain": [
       "[1] 4"
      ]
     },
     "metadata": {},
     "output_type": "display_data"
    },
    {
     "data": {
      "text/html": [
       "'C'"
      ],
      "text/latex": [
       "'C'"
      ],
      "text/markdown": [
       "'C'"
      ],
      "text/plain": [
       "[1] \"C\""
      ]
     },
     "metadata": {},
     "output_type": "display_data"
    },
    {
     "data": {
      "text/html": [
       "'C'"
      ],
      "text/latex": [
       "'C'"
      ],
      "text/markdown": [
       "'C'"
      ],
      "text/plain": [
       "[1] \"C\""
      ]
     },
     "metadata": {},
     "output_type": "display_data"
    },
    {
     "name": "stderr",
     "output_type": "stream",
     "text": [
      "Warning message in which.max(c(\"AA\", \"BB\", \"C\")):\n",
      "\"в результате преобразования созданы NA\""
     ]
    },
    {
     "data": {
      "text/html": [],
      "text/latex": [],
      "text/markdown": [],
      "text/plain": [
       "integer(0)"
      ]
     },
     "metadata": {},
     "output_type": "display_data"
    },
    {
     "name": "stderr",
     "output_type": "stream",
     "text": [
      "Warning message in which.max(c(\"1\", \"3\", \"C\")):\n",
      "\"в результате преобразования созданы NA\""
     ]
    },
    {
     "data": {
      "text/html": [
       "2"
      ],
      "text/latex": [
       "2"
      ],
      "text/markdown": [
       "2"
      ],
      "text/plain": [
       "[1] 2"
      ]
     },
     "metadata": {},
     "output_type": "display_data"
    },
    {
     "ename": "ERROR",
     "evalue": "Error in which(1): аргумент 'which' -- не логический\n",
     "execution_count": 7,
     "output_type": "error",
     "traceback": [
      "Error in which(1): аргумент 'which' -- не логический\nTraceback:\n",
      "1. which(1)"
     ]
    }
   ],
   "source": [
    "max(1:10)\n",
    "which.max(4:7)\n",
    "max(c(\"AA\", \"BB\", \"C\"))\n",
    "max(c(\"50\", \"2\", \"C\"))\n",
    "which.max(c(\"AA\", \"BB\", \"C\"))\n",
    "which.max(c(\"1\", \"3\", \"C\"))\n",
    "which(1)"
   ]
  },
  {
   "cell_type": "code",
   "execution_count": 8,
   "metadata": {},
   "outputs": [
    {
     "ename": "ERROR",
     "evalue": "Error in which.max(TRUE, FALSE): неиспользованный аргумент (FALSE)\n",
     "execution_count": 8,
     "output_type": "error",
     "traceback": [
      "Error in which.max(TRUE, FALSE): неиспользованный аргумент (FALSE)\nTraceback:\n"
     ]
    }
   ],
   "source": [
    "which.max(TRUE,FALSE)"
   ]
  },
  {
   "cell_type": "code",
   "execution_count": 9,
   "metadata": {},
   "outputs": [
    {
     "data": {
      "text/html": [
       "1"
      ],
      "text/latex": [
       "1"
      ],
      "text/markdown": [
       "1"
      ],
      "text/plain": [
       "[1] 1"
      ]
     },
     "metadata": {},
     "output_type": "display_data"
    }
   ],
   "source": [
    "max(TRUE,FALSE)"
   ]
  },
  {
   "cell_type": "code",
   "execution_count": 14,
   "metadata": {},
   "outputs": [
    {
     "ename": "ERROR",
     "evalue": "Error in which.max(\"a\", \"6\"): неиспользованный аргумент (\"6\")\n",
     "execution_count": 14,
     "output_type": "error",
     "traceback": [
      "Error in which.max(\"a\", \"6\"): неиспользованный аргумент (\"6\")\nTraceback:\n"
     ]
    }
   ],
   "source": [
    "which.max('a','6')"
   ]
  },
  {
   "cell_type": "code",
   "execution_count": null,
   "metadata": {},
   "outputs": [],
   "source": []
  }
 ],
 "metadata": {
  "kernelspec": {
   "display_name": "R",
   "language": "R",
   "name": "ir"
  },
  "language_info": {
   "codemirror_mode": "r",
   "file_extension": ".r",
   "mimetype": "text/x-r-source",
   "name": "R",
   "pygments_lexer": "r",
   "version": "3.5.1"
  }
 },
 "nbformat": 4,
 "nbformat_minor": 2
}
