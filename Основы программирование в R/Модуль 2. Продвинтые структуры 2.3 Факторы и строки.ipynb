{
 "cells": [
  {
   "cell_type": "markdown",
   "metadata": {},
   "source": [
    "# Строки"
   ]
  },
  {
   "cell_type": "code",
   "execution_count": 3,
   "metadata": {},
   "outputs": [],
   "source": [
    "s <- c(\"Lya\", \"Lya\", \"Lya\")"
   ]
  },
  {
   "cell_type": "code",
   "execution_count": 5,
   "metadata": {},
   "outputs": [
    {
     "data": {
      "text/html": [
       "'robota'"
      ],
      "text/latex": [
       "'robota'"
      ],
      "text/markdown": [
       "'robota'"
      ],
      "text/plain": [
       "[1] \"robota\""
      ]
     },
     "metadata": {},
     "output_type": "display_data"
    }
   ],
   "source": [
    "'robota'"
   ]
  },
  {
   "cell_type": "code",
   "execution_count": 6,
   "metadata": {},
   "outputs": [
    {
     "data": {
      "text/html": [
       "'k'"
      ],
      "text/latex": [
       "'k'"
      ],
      "text/markdown": [
       "'k'"
      ],
      "text/plain": [
       "[1] \"k\""
      ]
     },
     "metadata": {},
     "output_type": "display_data"
    }
   ],
   "source": [
    "'k'"
   ]
  },
  {
   "cell_type": "markdown",
   "metadata": {},
   "source": [
    "# Функции `paste/paste0`"
   ]
  },
  {
   "cell_type": "markdown",
   "metadata": {},
   "source": [
    "+ Выполняют конкатенацию строковых векторов с учётом правил переписывания.\n",
    "+ Аргумент `sep` - разделитель между элементами (для paste по умолчанию пробел, для paste0 - пустая строка).\n",
    "+ Аогумент `collapse` - \"cхлопыввает\" вектор в одну строку."
   ]
  },
  {
   "cell_type": "code",
   "execution_count": 12,
   "metadata": {},
   "outputs": [
    {
     "data": {
      "text/html": [
       "<ol class=list-inline>\n",
       "\t<li>'roo ftt'</li>\n",
       "\t<li>'foo ftt'</li>\n",
       "</ol>\n"
      ],
      "text/latex": [
       "\\begin{enumerate*}\n",
       "\\item 'roo ftt'\n",
       "\\item 'foo ftt'\n",
       "\\end{enumerate*}\n"
      ],
      "text/markdown": [
       "1. 'roo ftt'\n",
       "2. 'foo ftt'\n",
       "\n",
       "\n"
      ],
      "text/plain": [
       "[1] \"roo ftt\" \"foo ftt\""
      ]
     },
     "metadata": {},
     "output_type": "display_data"
    }
   ],
   "source": [
    "paste(c(\"roo\",\"foo\"),\"ftt\")"
   ]
  },
  {
   "cell_type": "code",
   "execution_count": 11,
   "metadata": {},
   "outputs": [
    {
     "data": {
      "text/html": [
       "<ol class=list-inline>\n",
       "\t<li>'root__yoo'</li>\n",
       "\t<li>'ggg__yoo'</li>\n",
       "</ol>\n"
      ],
      "text/latex": [
       "\\begin{enumerate*}\n",
       "\\item 'root\\_\\_yoo'\n",
       "\\item 'ggg\\_\\_yoo'\n",
       "\\end{enumerate*}\n"
      ],
      "text/markdown": [
       "1. 'root__yoo'\n",
       "2. 'ggg__yoo'\n",
       "\n",
       "\n"
      ],
      "text/plain": [
       "[1] \"root__yoo\" \"ggg__yoo\" "
      ]
     },
     "metadata": {},
     "output_type": "display_data"
    }
   ],
   "source": [
    "paste(c(\"root\", \"ggg\"), \"yoo\", sep = \"__\")"
   ]
  },
  {
   "cell_type": "code",
   "execution_count": 22,
   "metadata": {},
   "outputs": [
    {
     "data": {
      "text/html": [
       "'do not lol and kek lol'"
      ],
      "text/latex": [
       "'do not lol and kek lol'"
      ],
      "text/markdown": [
       "'do not lol and kek lol'"
      ],
      "text/plain": [
       "[1] \"do not lol and kek lol\""
      ]
     },
     "metadata": {},
     "output_type": "display_data"
    }
   ],
   "source": [
    "paste(c(\"do not\" ,\"kek\"),\"lol\",collapse = \" and \")"
   ]
  },
  {
   "cell_type": "markdown",
   "metadata": {},
   "source": [
    "# Функция `strsplit`"
   ]
  },
  {
   "cell_type": "code",
   "execution_count": 24,
   "metadata": {},
   "outputs": [],
   "source": [
    "s <- c(\"робота и, труд\", \"ноутбук. и компьютер\",\"стол, и стул\", \"ворк ,хард\")"
   ]
  },
  {
   "cell_type": "code",
   "execution_count": 25,
   "metadata": {},
   "outputs": [
    {
     "data": {
      "text/html": [
       "<ol>\n",
       "\t<li><ol class=list-inline>\n",
       "\t<li>'робота '</li>\n",
       "\t<li>', труд'</li>\n",
       "</ol>\n",
       "</li>\n",
       "\t<li><ol class=list-inline>\n",
       "\t<li>'ноутбук. '</li>\n",
       "\t<li>' компьютер'</li>\n",
       "</ol>\n",
       "</li>\n",
       "\t<li><ol class=list-inline>\n",
       "\t<li>'стол, '</li>\n",
       "\t<li>' стул'</li>\n",
       "</ol>\n",
       "</li>\n",
       "\t<li>'ворк ,хард'</li>\n",
       "</ol>\n"
      ],
      "text/latex": [
       "\\begin{enumerate}\n",
       "\\item \\begin{enumerate*}\n",
       "\\item 'робота '\n",
       "\\item ', труд'\n",
       "\\end{enumerate*}\n",
       "\n",
       "\\item \\begin{enumerate*}\n",
       "\\item 'ноутбук. '\n",
       "\\item ' компьютер'\n",
       "\\end{enumerate*}\n",
       "\n",
       "\\item \\begin{enumerate*}\n",
       "\\item 'стол, '\n",
       "\\item ' стул'\n",
       "\\end{enumerate*}\n",
       "\n",
       "\\item 'ворк ,хард'\n",
       "\\end{enumerate}\n"
      ],
      "text/markdown": [
       "1. 1. 'робота '\n",
       "2. ', труд'\n",
       "\n",
       "\n",
       "\n",
       "2. 1. 'ноутбук. '\n",
       "2. ' компьютер'\n",
       "\n",
       "\n",
       "\n",
       "3. 1. 'стол, '\n",
       "2. ' стул'\n",
       "\n",
       "\n",
       "\n",
       "4. 'ворк ,хард'\n",
       "\n",
       "\n"
      ],
      "text/plain": [
       "[[1]]\n",
       "[1] \"робота \" \", труд\" \n",
       "\n",
       "[[2]]\n",
       "[1] \"ноутбук. \"  \" компьютер\"\n",
       "\n",
       "[[3]]\n",
       "[1] \"стол, \" \" стул\" \n",
       "\n",
       "[[4]]\n",
       "[1] \"ворк ,хард\"\n"
      ]
     },
     "metadata": {},
     "output_type": "display_data"
    }
   ],
   "source": [
    "strsplit(s,\"и\",fixed = TRUE)"
   ]
  },
  {
   "cell_type": "markdown",
   "metadata": {},
   "source": [
    "если не указывать аргумент `fixed`(по умолчанию `FALSE`), то строка, по которой прроводиться разбиение, будет рассматриваться как регулярное выражение."
   ]
  },
  {
   "cell_type": "code",
   "execution_count": 27,
   "metadata": {},
   "outputs": [
    {
     "data": {
      "text/html": [
       "<ol>\n",
       "\t<li><ol class=list-inline>\n",
       "\t<li>'робота и'</li>\n",
       "\t<li>' труд'</li>\n",
       "</ol>\n",
       "</li>\n",
       "\t<li><ol class=list-inline>\n",
       "\t<li>'ноутбук'</li>\n",
       "\t<li>' и компьютер'</li>\n",
       "</ol>\n",
       "</li>\n",
       "\t<li><ol class=list-inline>\n",
       "\t<li>'стол'</li>\n",
       "\t<li>' и стул'</li>\n",
       "</ol>\n",
       "</li>\n",
       "\t<li><ol class=list-inline>\n",
       "\t<li>'ворк '</li>\n",
       "\t<li>'хард'</li>\n",
       "</ol>\n",
       "</li>\n",
       "</ol>\n"
      ],
      "text/latex": [
       "\\begin{enumerate}\n",
       "\\item \\begin{enumerate*}\n",
       "\\item 'робота и'\n",
       "\\item ' труд'\n",
       "\\end{enumerate*}\n",
       "\n",
       "\\item \\begin{enumerate*}\n",
       "\\item 'ноутбук'\n",
       "\\item ' и компьютер'\n",
       "\\end{enumerate*}\n",
       "\n",
       "\\item \\begin{enumerate*}\n",
       "\\item 'стол'\n",
       "\\item ' и стул'\n",
       "\\end{enumerate*}\n",
       "\n",
       "\\item \\begin{enumerate*}\n",
       "\\item 'ворк '\n",
       "\\item 'хард'\n",
       "\\end{enumerate*}\n",
       "\n",
       "\\end{enumerate}\n"
      ],
      "text/markdown": [
       "1. 1. 'робота и'\n",
       "2. ' труд'\n",
       "\n",
       "\n",
       "\n",
       "2. 1. 'ноутбук'\n",
       "2. ' и компьютер'\n",
       "\n",
       "\n",
       "\n",
       "3. 1. 'стол'\n",
       "2. ' и стул'\n",
       "\n",
       "\n",
       "\n",
       "4. 1. 'ворк '\n",
       "2. 'хард'\n",
       "\n",
       "\n",
       "\n",
       "\n",
       "\n"
      ],
      "text/plain": [
       "[[1]]\n",
       "[1] \"робота и\" \" труд\"   \n",
       "\n",
       "[[2]]\n",
       "[1] \"ноутбук\"      \" и компьютер\"\n",
       "\n",
       "[[3]]\n",
       "[1] \"стол\"    \" и стул\"\n",
       "\n",
       "[[4]]\n",
       "[1] \"ворк \" \"хард\" \n"
      ]
     },
     "metadata": {},
     "output_type": "display_data"
    }
   ],
   "source": [
    "strsplit(s,\"[[:punct:]]\") #разбиение по знакам препинания"
   ]
  },
  {
   "cell_type": "markdown",
   "metadata": {},
   "source": [
    "# Регулярные выражения"
   ]
  },
  {
   "cell_type": "code",
   "execution_count": 30,
   "metadata": {},
   "outputs": [
    {
     "data": {
      "text/html": [
       "1"
      ],
      "text/latex": [
       "1"
      ],
      "text/markdown": [
       "1"
      ],
      "text/plain": [
       "[1] 1"
      ]
     },
     "metadata": {},
     "output_type": "display_data"
    }
   ],
   "source": [
    "grep(\"труд\",s)"
   ]
  },
  {
   "cell_type": "code",
   "execution_count": 32,
   "metadata": {},
   "outputs": [
    {
     "data": {
      "text/html": [
       "<ol class=list-inline>\n",
       "\t<li>TRUE</li>\n",
       "\t<li>FALSE</li>\n",
       "\t<li>FALSE</li>\n",
       "\t<li>FALSE</li>\n",
       "</ol>\n"
      ],
      "text/latex": [
       "\\begin{enumerate*}\n",
       "\\item TRUE\n",
       "\\item FALSE\n",
       "\\item FALSE\n",
       "\\item FALSE\n",
       "\\end{enumerate*}\n"
      ],
      "text/markdown": [
       "1. TRUE\n",
       "2. FALSE\n",
       "3. FALSE\n",
       "4. FALSE\n",
       "\n",
       "\n"
      ],
      "text/plain": [
       "[1]  TRUE FALSE FALSE FALSE"
      ]
     },
     "metadata": {},
     "output_type": "display_data"
    }
   ],
   "source": [
    "grepl(\"труд\",s)"
   ]
  },
  {
   "cell_type": "code",
   "execution_count": 33,
   "metadata": {},
   "outputs": [
    {
     "data": {
      "text/html": [
       "<ol class=list-inline>\n",
       "\t<li>'робота и, ####'</li>\n",
       "\t<li>'ноутбук. и компьютер'</li>\n",
       "\t<li>'####, и ####'</li>\n",
       "\t<li>'#### ,####'</li>\n",
       "</ol>\n"
      ],
      "text/latex": [
       "\\begin{enumerate*}\n",
       "\\item 'робота и, \\#\\#\\#\\#'\n",
       "\\item 'ноутбук. и компьютер'\n",
       "\\item '\\#\\#\\#\\#, и \\#\\#\\#\\#'\n",
       "\\item '\\#\\#\\#\\# ,\\#\\#\\#\\#'\n",
       "\\end{enumerate*}\n"
      ],
      "text/markdown": [
       "1. 'робота и, ####'\n",
       "2. 'ноутбук. и компьютер'\n",
       "3. '####, и ####'\n",
       "4. '#### ,####'\n",
       "\n",
       "\n"
      ],
      "text/plain": [
       "[1] \"робота и, ####\"       \"ноутбук. и компьютер\" \"####, и ####\"        \n",
       "[4] \"#### ,####\"          "
      ]
     },
     "metadata": {},
     "output_type": "display_data"
    }
   ],
   "source": [
    "gsub(\"\\\\b[[:alpha:]]{4,5}\\\\b\", \"####\",s)"
   ]
  },
  {
   "cell_type": "markdown",
   "metadata": {},
   "source": [
    "# Пакет `stringr`"
   ]
  },
  {
   "cell_type": "code",
   "execution_count": 9,
   "metadata": {},
   "outputs": [],
   "source": [
    "library(stringr)"
   ]
  },
  {
   "cell_type": "code",
   "execution_count": 39,
   "metadata": {},
   "outputs": [
    {
     "data": {
      "text/html": [
       "<ol class=list-inline>\n",
       "\t<li>NA</li>\n",
       "\t<li>'к.'</li>\n",
       "\t<li>NA</li>\n",
       "\t<li>'к '</li>\n",
       "</ol>\n"
      ],
      "text/latex": [
       "\\begin{enumerate*}\n",
       "\\item NA\n",
       "\\item 'к.'\n",
       "\\item NA\n",
       "\\item 'к '\n",
       "\\end{enumerate*}\n"
      ],
      "text/markdown": [
       "1. NA\n",
       "2. 'к.'\n",
       "3. NA\n",
       "4. 'к '\n",
       "\n",
       "\n"
      ],
      "text/plain": [
       "[1] NA   \"к.\" NA   \"к \""
      ]
     },
     "metadata": {},
     "output_type": "display_data"
    }
   ],
   "source": [
    "str_extract(s,\"к.\")"
   ]
  },
  {
   "cell_type": "code",
   "execution_count": 40,
   "metadata": {},
   "outputs": [
    {
     "data": {
      "text/html": [
       "<ol class=list-inline>\n",
       "\t<li>'робот? и, труд'</li>\n",
       "\t<li>'ноутбук. ? компьютер'</li>\n",
       "\t<li>'стол, ? стул'</li>\n",
       "\t<li>'ворк ,х?рд'</li>\n",
       "</ol>\n"
      ],
      "text/latex": [
       "\\begin{enumerate*}\n",
       "\\item 'робот? и, труд'\n",
       "\\item 'ноутбук. ? компьютер'\n",
       "\\item 'стол, ? стул'\n",
       "\\item 'ворк ,х?рд'\n",
       "\\end{enumerate*}\n"
      ],
      "text/markdown": [
       "1. 'робот? и, труд'\n",
       "2. 'ноутбук. ? компьютер'\n",
       "3. 'стол, ? стул'\n",
       "4. 'ворк ,х?рд'\n",
       "\n",
       "\n"
      ],
      "text/plain": [
       "[1] \"робот? и, труд\"       \"ноутбук. ? компьютер\" \"стол, ? стул\"        \n",
       "[4] \"ворк ,х?рд\"          "
      ]
     },
     "metadata": {},
     "output_type": "display_data"
    }
   ],
   "source": [
    "str_replace(s,\"[иа]\",\"?\")"
   ]
  },
  {
   "cell_type": "code",
   "execution_count": 43,
   "metadata": {},
   "outputs": [
    {
     "data": {
      "text/html": [
       "<ol>\n",
       "\t<li><ol class=list-inline>\n",
       "\t<li>'об'</li>\n",
       "\t<li>'от'</li>\n",
       "</ol>\n",
       "</li>\n",
       "\t<li><ol class=list-inline>\n",
       "\t<li>'оу'</li>\n",
       "\t<li>'ом'</li>\n",
       "</ol>\n",
       "</li>\n",
       "\t<li>'ол'</li>\n",
       "\t<li>'ор'</li>\n",
       "</ol>\n"
      ],
      "text/latex": [
       "\\begin{enumerate}\n",
       "\\item \\begin{enumerate*}\n",
       "\\item 'об'\n",
       "\\item 'от'\n",
       "\\end{enumerate*}\n",
       "\n",
       "\\item \\begin{enumerate*}\n",
       "\\item 'оу'\n",
       "\\item 'ом'\n",
       "\\end{enumerate*}\n",
       "\n",
       "\\item 'ол'\n",
       "\\item 'ор'\n",
       "\\end{enumerate}\n"
      ],
      "text/markdown": [
       "1. 1. 'об'\n",
       "2. 'от'\n",
       "\n",
       "\n",
       "\n",
       "2. 1. 'оу'\n",
       "2. 'ом'\n",
       "\n",
       "\n",
       "\n",
       "3. 'ол'\n",
       "4. 'ор'\n",
       "\n",
       "\n"
      ],
      "text/plain": [
       "[[1]]\n",
       "[1] \"об\" \"от\"\n",
       "\n",
       "[[2]]\n",
       "[1] \"оу\" \"ом\"\n",
       "\n",
       "[[3]]\n",
       "[1] \"ол\"\n",
       "\n",
       "[[4]]\n",
       "[1] \"ор\"\n"
      ]
     },
     "metadata": {},
     "output_type": "display_data"
    }
   ],
   "source": [
    "str_extract_all(s,\"o.\")"
   ]
  },
  {
   "cell_type": "code",
   "execution_count": 46,
   "metadata": {},
   "outputs": [
    {
     "data": {
      "text/html": [
       "<ol class=list-inline>\n",
       "\t<li>'робота и, труд'</li>\n",
       "\t<li>'ноутбук. и компь?р'</li>\n",
       "\t<li>'стол, и стул'</li>\n",
       "\t<li>'ворк ,хард'</li>\n",
       "</ol>\n"
      ],
      "text/latex": [
       "\\begin{enumerate*}\n",
       "\\item 'робота и, труд'\n",
       "\\item 'ноутбук. и компь?р'\n",
       "\\item 'стол, и стул'\n",
       "\\item 'ворк ,хард'\n",
       "\\end{enumerate*}\n"
      ],
      "text/markdown": [
       "1. 'робота и, труд'\n",
       "2. 'ноутбук. и компь?р'\n",
       "3. 'стол, и стул'\n",
       "4. 'ворк ,хард'\n",
       "\n",
       "\n"
      ],
      "text/plain": [
       "[1] \"робота и, труд\"     \"ноутбук. и компь?р\" \"стол, и стул\"      \n",
       "[4] \"ворк ,хард\"        "
      ]
     },
     "metadata": {},
     "output_type": "display_data"
    }
   ],
   "source": [
    "str_replace_all(s,\"юте\",\"?\")"
   ]
  },
  {
   "cell_type": "markdown",
   "metadata": {},
   "source": [
    "# Функции `tolower/toupper`"
   ]
  },
  {
   "cell_type": "code",
   "execution_count": 56,
   "metadata": {},
   "outputs": [
    {
     "data": {
      "text/html": [
       "<ol class=list-inline>\n",
       "\t<li>'january'</li>\n",
       "\t<li>'february'</li>\n",
       "\t<li>'march'</li>\n",
       "\t<li>'april'</li>\n",
       "\t<li>'may'</li>\n",
       "\t<li>'june'</li>\n",
       "\t<li>'july'</li>\n",
       "\t<li>'august'</li>\n",
       "\t<li>'september'</li>\n",
       "\t<li>'october'</li>\n",
       "\t<li>'november'</li>\n",
       "\t<li>'december'</li>\n",
       "</ol>\n"
      ],
      "text/latex": [
       "\\begin{enumerate*}\n",
       "\\item 'january'\n",
       "\\item 'february'\n",
       "\\item 'march'\n",
       "\\item 'april'\n",
       "\\item 'may'\n",
       "\\item 'june'\n",
       "\\item 'july'\n",
       "\\item 'august'\n",
       "\\item 'september'\n",
       "\\item 'october'\n",
       "\\item 'november'\n",
       "\\item 'december'\n",
       "\\end{enumerate*}\n"
      ],
      "text/markdown": [
       "1. 'january'\n",
       "2. 'february'\n",
       "3. 'march'\n",
       "4. 'april'\n",
       "5. 'may'\n",
       "6. 'june'\n",
       "7. 'july'\n",
       "8. 'august'\n",
       "9. 'september'\n",
       "10. 'october'\n",
       "11. 'november'\n",
       "12. 'december'\n",
       "\n",
       "\n"
      ],
      "text/plain": [
       " [1] \"january\"   \"february\"  \"march\"     \"april\"     \"may\"       \"june\"     \n",
       " [7] \"july\"      \"august\"    \"september\" \"october\"   \"november\"  \"december\" "
      ]
     },
     "metadata": {},
     "output_type": "display_data"
    }
   ],
   "source": [
    "tolower(month.name)"
   ]
  },
  {
   "cell_type": "code",
   "execution_count": 54,
   "metadata": {},
   "outputs": [
    {
     "data": {
      "text/html": [
       "<ol class=list-inline>\n",
       "\t<li>'JAN'</li>\n",
       "\t<li>'FEB'</li>\n",
       "\t<li>'MAR'</li>\n",
       "\t<li>'APR'</li>\n",
       "\t<li>'MAY'</li>\n",
       "\t<li>'JUN'</li>\n",
       "\t<li>'JUL'</li>\n",
       "\t<li>'AUG'</li>\n",
       "\t<li>'SEP'</li>\n",
       "\t<li>'OCT'</li>\n",
       "\t<li>'NOV'</li>\n",
       "\t<li>'DEC'</li>\n",
       "</ol>\n"
      ],
      "text/latex": [
       "\\begin{enumerate*}\n",
       "\\item 'JAN'\n",
       "\\item 'FEB'\n",
       "\\item 'MAR'\n",
       "\\item 'APR'\n",
       "\\item 'MAY'\n",
       "\\item 'JUN'\n",
       "\\item 'JUL'\n",
       "\\item 'AUG'\n",
       "\\item 'SEP'\n",
       "\\item 'OCT'\n",
       "\\item 'NOV'\n",
       "\\item 'DEC'\n",
       "\\end{enumerate*}\n"
      ],
      "text/markdown": [
       "1. 'JAN'\n",
       "2. 'FEB'\n",
       "3. 'MAR'\n",
       "4. 'APR'\n",
       "5. 'MAY'\n",
       "6. 'JUN'\n",
       "7. 'JUL'\n",
       "8. 'AUG'\n",
       "9. 'SEP'\n",
       "10. 'OCT'\n",
       "11. 'NOV'\n",
       "12. 'DEC'\n",
       "\n",
       "\n"
      ],
      "text/plain": [
       " [1] \"JAN\" \"FEB\" \"MAR\" \"APR\" \"MAY\" \"JUN\" \"JUL\" \"AUG\" \"SEP\" \"OCT\" \"NOV\" \"DEC\""
      ]
     },
     "metadata": {},
     "output_type": "display_data"
    }
   ],
   "source": [
    "toupper(month.abb)"
   ]
  },
  {
   "cell_type": "code",
   "execution_count": null,
   "metadata": {},
   "outputs": [],
   "source": []
  },
  {
   "cell_type": "code",
   "execution_count": null,
   "metadata": {},
   "outputs": [],
   "source": []
  },
  {
   "cell_type": "code",
   "execution_count": 11,
   "metadata": {},
   "outputs": [],
   "source": [
    "d <- c(\"Аэрофотосъёмка ландшафта уже выявила земли богачей и процветающих крестьян.\",\"f\")"
   ]
  },
  {
   "cell_type": "code",
   "execution_count": 12,
   "metadata": {},
   "outputs": [
    {
     "data": {
      "text/html": [
       "2"
      ],
      "text/latex": [
       "2"
      ],
      "text/markdown": [
       "2"
      ],
      "text/plain": [
       "[1] 2"
      ]
     },
     "metadata": {},
     "output_type": "display_data"
    }
   ],
   "source": [
    "length(d)"
   ]
  },
  {
   "cell_type": "code",
   "execution_count": 13,
   "metadata": {},
   "outputs": [
    {
     "data": {
      "text/html": [
       "<ol class=list-inline>\n",
       "\t<li>75</li>\n",
       "\t<li>1</li>\n",
       "</ol>\n"
      ],
      "text/latex": [
       "\\begin{enumerate*}\n",
       "\\item 75\n",
       "\\item 1\n",
       "\\end{enumerate*}\n"
      ],
      "text/markdown": [
       "1. 75\n",
       "2. 1\n",
       "\n",
       "\n"
      ],
      "text/plain": [
       "[1] 75  1"
      ]
     },
     "metadata": {},
     "output_type": "display_data"
    }
   ],
   "source": [
    "nchar(d)"
   ]
  },
  {
   "cell_type": "code",
   "execution_count": 14,
   "metadata": {},
   "outputs": [
    {
     "data": {
      "text/html": [
       "&lt;NA&gt;"
      ],
      "text/latex": [
       "<NA>"
      ],
      "text/markdown": [
       "&lt;NA&gt;"
      ],
      "text/plain": [
       "[1] NA"
      ]
     },
     "metadata": {},
     "output_type": "display_data"
    }
   ],
   "source": [
    "nchar(NA)"
   ]
  },
  {
   "cell_type": "code",
   "execution_count": 17,
   "metadata": {},
   "outputs": [
    {
     "data": {
      "text/html": [
       "<ol class=list-inline>\n",
       "\t<li>75</li>\n",
       "\t<li>1</li>\n",
       "</ol>\n"
      ],
      "text/latex": [
       "\\begin{enumerate*}\n",
       "\\item 75\n",
       "\\item 1\n",
       "\\end{enumerate*}\n"
      ],
      "text/markdown": [
       "1. 75\n",
       "2. 1\n",
       "\n",
       "\n"
      ],
      "text/plain": [
       "[1] 75  1"
      ]
     },
     "metadata": {},
     "output_type": "display_data"
    }
   ],
   "source": [
    "str_length(d)"
   ]
  },
  {
   "cell_type": "code",
   "execution_count": 18,
   "metadata": {},
   "outputs": [
    {
     "data": {
      "text/html": [
       "'foo'"
      ],
      "text/latex": [
       "'foo'"
      ],
      "text/markdown": [
       "'foo'"
      ],
      "text/plain": [
       "[1] \"foo\""
      ]
     },
     "metadata": {},
     "output_type": "display_data"
    }
   ],
   "source": [
    "tolower(toupper('Foo'))"
   ]
  },
  {
   "cell_type": "markdown",
   "metadata": {},
   "source": [
    "# Пути к файлам"
   ]
  },
  {
   "cell_type": "code",
   "execution_count": 25,
   "metadata": {},
   "outputs": [
    {
     "data": {
      "text/html": [
       "'C:/Users/max/R'"
      ],
      "text/latex": [
       "'C:/Users/max/R'"
      ],
      "text/markdown": [
       "'C:/Users/max/R'"
      ],
      "text/plain": [
       "[1] \"C:/Users/max/R\""
      ]
     },
     "metadata": {},
     "output_type": "display_data"
    }
   ],
   "source": [
    "getwd()"
   ]
  },
  {
   "cell_type": "code",
   "execution_count": 26,
   "metadata": {},
   "outputs": [
    {
     "data": {
      "text/html": [
       "<ol class=list-inline>\n",
       "\t<li>'Модуль 1. Базовые структуры и понятия.ipynb'</li>\n",
       "\t<li>'Модуль 2. Продвинтые структуры 2.3 Факторы и строки.ipynb'</li>\n",
       "\t<li>'Модуль 2. Продвинтые структуры.ipynb'</li>\n",
       "\t<li>'Основы R, типы данных часть 1.ipynb'</li>\n",
       "</ol>\n"
      ],
      "text/latex": [
       "\\begin{enumerate*}\n",
       "\\item 'Модуль 1. Базовые структуры и понятия.ipynb'\n",
       "\\item 'Модуль 2. Продвинтые структуры 2.3 Факторы и строки.ipynb'\n",
       "\\item 'Модуль 2. Продвинтые структуры.ipynb'\n",
       "\\item 'Основы R, типы данных часть 1.ipynb'\n",
       "\\end{enumerate*}\n"
      ],
      "text/markdown": [
       "1. 'Модуль 1. Базовые структуры и понятия.ipynb'\n",
       "2. 'Модуль 2. Продвинтые структуры 2.3 Факторы и строки.ipynb'\n",
       "3. 'Модуль 2. Продвинтые структуры.ipynb'\n",
       "4. 'Основы R, типы данных часть 1.ipynb'\n",
       "\n",
       "\n"
      ],
      "text/plain": [
       "[1] \"Модуль 1. Базовые структуры и понятия.ipynb\"              \n",
       "[2] \"Модуль 2. Продвинтые структуры 2.3 Факторы и строки.ipynb\"\n",
       "[3] \"Модуль 2. Продвинтые структуры.ipynb\"                     \n",
       "[4] \"Основы R, типы данных часть 1.ipynb\"                      "
      ]
     },
     "metadata": {},
     "output_type": "display_data"
    }
   ],
   "source": [
    "head(list.files())   # все файлы в рабочей директории"
   ]
  },
  {
   "cell_type": "code",
   "execution_count": 30,
   "metadata": {},
   "outputs": [
    {
     "data": {
      "text/html": [
       "<ol class=list-inline>\n",
       "\t<li>'../.conda'</li>\n",
       "\t<li>'../.idlerc'</li>\n",
       "\t<li>'../.ipynb_checkpoints'</li>\n",
       "\t<li>'../.ipython'</li>\n",
       "\t<li>'../.jupyter'</li>\n",
       "\t<li>'../.matplotlib'</li>\n",
       "\t<li>'../3D Objects'</li>\n",
       "\t<li>'../Anaconda3'</li>\n",
       "\t<li>'../AppData'</li>\n",
       "\t<li>'../Application Data'</li>\n",
       "\t<li>'../Code Club'</li>\n",
       "\t<li>'../Contacts'</li>\n",
       "\t<li>'../Cookies'</li>\n",
       "\t<li>'../Desktop'</li>\n",
       "\t<li>'../Documents'</li>\n",
       "\t<li>'../Downloads'</li>\n",
       "\t<li>'../Favorites'</li>\n",
       "\t<li>'../IntelGraphicsProfiles'</li>\n",
       "\t<li>'../Links'</li>\n",
       "\t<li>'../Local Settings'</li>\n",
       "\t<li>'../MicrosoftEdgeBackups'</li>\n",
       "\t<li>'../Music'</li>\n",
       "\t<li>'../My Documents'</li>\n",
       "\t<li>'../NetHood'</li>\n",
       "\t<li>'../OneDrive'</li>\n",
       "\t<li>'../PicStream'</li>\n",
       "\t<li>'../Pictures'</li>\n",
       "\t<li>'../PrintHood'</li>\n",
       "\t<li>'../Python практика'</li>\n",
       "\t<li>'../R'</li>\n",
       "\t<li>'../Recent'</li>\n",
       "\t<li>'../Roaming'</li>\n",
       "\t<li>'../Saved Games'</li>\n",
       "\t<li>'../Searches'</li>\n",
       "\t<li>'../SendTo'</li>\n",
       "\t<li>'../Start Menu'</li>\n",
       "\t<li>'../Templates'</li>\n",
       "\t<li>'../Tracing'</li>\n",
       "\t<li>'../Videos'</li>\n",
       "\t<li>'../Методи обчислень'</li>\n",
       "\t<li>'../Обработка изображений'</li>\n",
       "</ol>\n"
      ],
      "text/latex": [
       "\\begin{enumerate*}\n",
       "\\item '../.conda'\n",
       "\\item '../.idlerc'\n",
       "\\item '../.ipynb\\_checkpoints'\n",
       "\\item '../.ipython'\n",
       "\\item '../.jupyter'\n",
       "\\item '../.matplotlib'\n",
       "\\item '../3D Objects'\n",
       "\\item '../Anaconda3'\n",
       "\\item '../AppData'\n",
       "\\item '../Application Data'\n",
       "\\item '../Code Club'\n",
       "\\item '../Contacts'\n",
       "\\item '../Cookies'\n",
       "\\item '../Desktop'\n",
       "\\item '../Documents'\n",
       "\\item '../Downloads'\n",
       "\\item '../Favorites'\n",
       "\\item '../IntelGraphicsProfiles'\n",
       "\\item '../Links'\n",
       "\\item '../Local Settings'\n",
       "\\item '../MicrosoftEdgeBackups'\n",
       "\\item '../Music'\n",
       "\\item '../My Documents'\n",
       "\\item '../NetHood'\n",
       "\\item '../OneDrive'\n",
       "\\item '../PicStream'\n",
       "\\item '../Pictures'\n",
       "\\item '../PrintHood'\n",
       "\\item '../Python практика'\n",
       "\\item '../R'\n",
       "\\item '../Recent'\n",
       "\\item '../Roaming'\n",
       "\\item '../Saved Games'\n",
       "\\item '../Searches'\n",
       "\\item '../SendTo'\n",
       "\\item '../Start Menu'\n",
       "\\item '../Templates'\n",
       "\\item '../Tracing'\n",
       "\\item '../Videos'\n",
       "\\item '../Методи обчислень'\n",
       "\\item '../Обработка изображений'\n",
       "\\end{enumerate*}\n"
      ],
      "text/markdown": [
       "1. '../.conda'\n",
       "2. '../.idlerc'\n",
       "3. '../.ipynb_checkpoints'\n",
       "4. '../.ipython'\n",
       "5. '../.jupyter'\n",
       "6. '../.matplotlib'\n",
       "7. '../3D Objects'\n",
       "8. '../Anaconda3'\n",
       "9. '../AppData'\n",
       "10. '../Application Data'\n",
       "11. '../Code Club'\n",
       "12. '../Contacts'\n",
       "13. '../Cookies'\n",
       "14. '../Desktop'\n",
       "15. '../Documents'\n",
       "16. '../Downloads'\n",
       "17. '../Favorites'\n",
       "18. '../IntelGraphicsProfiles'\n",
       "19. '../Links'\n",
       "20. '../Local Settings'\n",
       "21. '../MicrosoftEdgeBackups'\n",
       "22. '../Music'\n",
       "23. '../My Documents'\n",
       "24. '../NetHood'\n",
       "25. '../OneDrive'\n",
       "26. '../PicStream'\n",
       "27. '../Pictures'\n",
       "28. '../PrintHood'\n",
       "29. '../Python практика'\n",
       "30. '../R'\n",
       "31. '../Recent'\n",
       "32. '../Roaming'\n",
       "33. '../Saved Games'\n",
       "34. '../Searches'\n",
       "35. '../SendTo'\n",
       "36. '../Start Menu'\n",
       "37. '../Templates'\n",
       "38. '../Tracing'\n",
       "39. '../Videos'\n",
       "40. '../Методи обчислень'\n",
       "41. '../Обработка изображений'\n",
       "\n",
       "\n"
      ],
      "text/plain": [
       " [1] \"../.conda\"                \"../.idlerc\"              \n",
       " [3] \"../.ipynb_checkpoints\"    \"../.ipython\"             \n",
       " [5] \"../.jupyter\"              \"../.matplotlib\"          \n",
       " [7] \"../3D Objects\"            \"../Anaconda3\"            \n",
       " [9] \"../AppData\"               \"../Application Data\"     \n",
       "[11] \"../Code Club\"             \"../Contacts\"             \n",
       "[13] \"../Cookies\"               \"../Desktop\"              \n",
       "[15] \"../Documents\"             \"../Downloads\"            \n",
       "[17] \"../Favorites\"             \"../IntelGraphicsProfiles\"\n",
       "[19] \"../Links\"                 \"../Local Settings\"       \n",
       "[21] \"../MicrosoftEdgeBackups\"  \"../Music\"                \n",
       "[23] \"../My Documents\"          \"../NetHood\"              \n",
       "[25] \"../OneDrive\"              \"../PicStream\"            \n",
       "[27] \"../Pictures\"              \"../PrintHood\"            \n",
       "[29] \"../Python практика\"       \"../R\"                    \n",
       "[31] \"../Recent\"                \"../Roaming\"              \n",
       "[33] \"../Saved Games\"           \"../Searches\"             \n",
       "[35] \"../SendTo\"                \"../Start Menu\"           \n",
       "[37] \"../Templates\"             \"../Tracing\"              \n",
       "[39] \"../Videos\"                \"../Методи обчислень\"     \n",
       "[41] \"../Обработка изображений\""
      ]
     },
     "metadata": {},
     "output_type": "display_data"
    }
   ],
   "source": [
    "list.dirs(\"..\",recursive = FALSE)"
   ]
  },
  {
   "cell_type": "markdown",
   "metadata": {},
   "source": [
    "Смена рабочей директории - функция `setwd`"
   ]
  },
  {
   "cell_type": "markdown",
   "metadata": {},
   "source": [
    "# Форматирование чисел"
   ]
  },
  {
   "cell_type": "code",
   "execution_count": 31,
   "metadata": {},
   "outputs": [
    {
     "data": {
      "text/html": [
       "<ol class=list-inline>\n",
       "\t<li>3.14159265358979</li>\n",
       "\t<li>23.1406926327793</li>\n",
       "</ol>\n"
      ],
      "text/latex": [
       "\\begin{enumerate*}\n",
       "\\item 3.14159265358979\n",
       "\\item 23.1406926327793\n",
       "\\end{enumerate*}\n"
      ],
      "text/markdown": [
       "1. 3.14159265358979\n",
       "2. 23.1406926327793\n",
       "\n",
       "\n"
      ],
      "text/plain": [
       "[1]  3.141593 23.140693"
      ]
     },
     "metadata": {},
     "output_type": "display_data"
    }
   ],
   "source": [
    "c(pi, exp(pi))"
   ]
  },
  {
   "cell_type": "code",
   "execution_count": 35,
   "metadata": {},
   "outputs": [
    {
     "data": {
      "text/html": [
       "<ol class=list-inline>\n",
       "\t<li>'3.14'</li>\n",
       "\t<li>'23.1'</li>\n",
       "</ol>\n"
      ],
      "text/latex": [
       "\\begin{enumerate*}\n",
       "\\item '3.14'\n",
       "\\item '23.1'\n",
       "\\end{enumerate*}\n"
      ],
      "text/markdown": [
       "1. '3.14'\n",
       "2. '23.1'\n",
       "\n",
       "\n"
      ],
      "text/plain": [
       "[1] \"3.14\" \"23.1\""
      ]
     },
     "metadata": {},
     "output_type": "display_data"
    }
   ],
   "source": [
    "formatC(c(pi,exp(pi)), digits = 3)"
   ]
  },
  {
   "cell_type": "code",
   "execution_count": 37,
   "metadata": {},
   "outputs": [
    {
     "data": {
      "text/html": [
       "<ol class=list-inline>\n",
       "\t<li>'3.142e+00'</li>\n",
       "\t<li>'2.314e+01'</li>\n",
       "</ol>\n"
      ],
      "text/latex": [
       "\\begin{enumerate*}\n",
       "\\item '3.142e+00'\n",
       "\\item '2.314e+01'\n",
       "\\end{enumerate*}\n"
      ],
      "text/markdown": [
       "1. '3.142e+00'\n",
       "2. '2.314e+01'\n",
       "\n",
       "\n"
      ],
      "text/plain": [
       "[1] \"3.142e+00\" \"2.314e+01\""
      ]
     },
     "metadata": {},
     "output_type": "display_data"
    }
   ],
   "source": [
    "formatC(c(pi, exp(pi)), digits = 3, format = \"e\" )"
   ]
  },
  {
   "cell_type": "markdown",
   "metadata": {},
   "source": [
    "# Функция `cat`"
   ]
  },
  {
   "cell_type": "markdown",
   "metadata": {},
   "source": [
    "+ Обычно для вывода неявно исполбзуется функция `print`\n",
    "+ Функция `cat` печатает обьекты \"как есть\""
   ]
  },
  {
   "cell_type": "code",
   "execution_count": 41,
   "metadata": {},
   "outputs": [
    {
     "name": "stdout",
     "output_type": "stream",
     "text": [
      "[1] \"I love Python and R\"\n"
     ]
    }
   ],
   "source": [
    "print(\"I love Python and R\")"
   ]
  },
  {
   "cell_type": "code",
   "execution_count": 42,
   "metadata": {},
   "outputs": [
    {
     "name": "stdout",
     "output_type": "stream",
     "text": [
      "I love Python and R"
     ]
    }
   ],
   "source": [
    "cat(\"I love Python and R\")"
   ]
  },
  {
   "cell_type": "code",
   "execution_count": 43,
   "metadata": {},
   "outputs": [
    {
     "name": "stdout",
     "output_type": "stream",
     "text": [
      "[1] \"I\\tlove\\nPython\\tand\\tR\"\n"
     ]
    }
   ],
   "source": [
    "print(\"I\\tlove\\nPython\\tand\\tR\")"
   ]
  },
  {
   "cell_type": "code",
   "execution_count": 44,
   "metadata": {},
   "outputs": [
    {
     "name": "stdout",
     "output_type": "stream",
     "text": [
      "I\tlove\n",
      "Python\tand\tR"
     ]
    }
   ],
   "source": [
    "cat(\"I\\tlove\\nPython\\tand\\tR\")"
   ]
  },
  {
   "cell_type": "code",
   "execution_count": 25,
   "metadata": {},
   "outputs": [
    {
     "data": {
      "text/html": [
       "<ol class=list-inline>\n",
       "\t<li>'to'</li>\n",
       "\t<li>'be'</li>\n",
       "\t<li>'or'</li>\n",
       "\t<li>'not'</li>\n",
       "\t<li>'to'</li>\n",
       "\t<li>'be'</li>\n",
       "\t<li>'that'</li>\n",
       "\t<li>'is'</li>\n",
       "\t<li>'the'</li>\n",
       "\t<li>'question'</li>\n",
       "\t<li>'whether'</li>\n",
       "\t<li>'tis'</li>\n",
       "\t<li>'nobler'</li>\n",
       "\t<li>'in'</li>\n",
       "\t<li>'the'</li>\n",
       "\t<li>'mind'</li>\n",
       "\t<li>'to'</li>\n",
       "\t<li>'suffer'</li>\n",
       "\t<li>'the'</li>\n",
       "\t<li>'slings'</li>\n",
       "\t<li>'and'</li>\n",
       "\t<li>'arrows'</li>\n",
       "\t<li>'of'</li>\n",
       "\t<li>'outrageous'</li>\n",
       "\t<li>'fortune'</li>\n",
       "\t<li>'or'</li>\n",
       "\t<li>'to'</li>\n",
       "\t<li>'take'</li>\n",
       "\t<li>'arms'</li>\n",
       "\t<li>'against'</li>\n",
       "\t<li>'a'</li>\n",
       "\t<li>'sea'</li>\n",
       "\t<li>'of'</li>\n",
       "\t<li>'troubles'</li>\n",
       "\t<li>'and'</li>\n",
       "\t<li>'by'</li>\n",
       "\t<li>'opposing'</li>\n",
       "\t<li>'end'</li>\n",
       "\t<li>'them'</li>\n",
       "</ol>\n"
      ],
      "text/latex": [
       "\\begin{enumerate*}\n",
       "\\item 'to'\n",
       "\\item 'be'\n",
       "\\item 'or'\n",
       "\\item 'not'\n",
       "\\item 'to'\n",
       "\\item 'be'\n",
       "\\item 'that'\n",
       "\\item 'is'\n",
       "\\item 'the'\n",
       "\\item 'question'\n",
       "\\item 'whether'\n",
       "\\item 'tis'\n",
       "\\item 'nobler'\n",
       "\\item 'in'\n",
       "\\item 'the'\n",
       "\\item 'mind'\n",
       "\\item 'to'\n",
       "\\item 'suffer'\n",
       "\\item 'the'\n",
       "\\item 'slings'\n",
       "\\item 'and'\n",
       "\\item 'arrows'\n",
       "\\item 'of'\n",
       "\\item 'outrageous'\n",
       "\\item 'fortune'\n",
       "\\item 'or'\n",
       "\\item 'to'\n",
       "\\item 'take'\n",
       "\\item 'arms'\n",
       "\\item 'against'\n",
       "\\item 'a'\n",
       "\\item 'sea'\n",
       "\\item 'of'\n",
       "\\item 'troubles'\n",
       "\\item 'and'\n",
       "\\item 'by'\n",
       "\\item 'opposing'\n",
       "\\item 'end'\n",
       "\\item 'them'\n",
       "\\end{enumerate*}\n"
      ],
      "text/markdown": [
       "1. 'to'\n",
       "2. 'be'\n",
       "3. 'or'\n",
       "4. 'not'\n",
       "5. 'to'\n",
       "6. 'be'\n",
       "7. 'that'\n",
       "8. 'is'\n",
       "9. 'the'\n",
       "10. 'question'\n",
       "11. 'whether'\n",
       "12. 'tis'\n",
       "13. 'nobler'\n",
       "14. 'in'\n",
       "15. 'the'\n",
       "16. 'mind'\n",
       "17. 'to'\n",
       "18. 'suffer'\n",
       "19. 'the'\n",
       "20. 'slings'\n",
       "21. 'and'\n",
       "22. 'arrows'\n",
       "23. 'of'\n",
       "24. 'outrageous'\n",
       "25. 'fortune'\n",
       "26. 'or'\n",
       "27. 'to'\n",
       "28. 'take'\n",
       "29. 'arms'\n",
       "30. 'against'\n",
       "31. 'a'\n",
       "32. 'sea'\n",
       "33. 'of'\n",
       "34. 'troubles'\n",
       "35. 'and'\n",
       "36. 'by'\n",
       "37. 'opposing'\n",
       "38. 'end'\n",
       "39. 'them'\n",
       "\n",
       "\n"
      ],
      "text/plain": [
       " [1] \"to\"         \"be\"         \"or\"         \"not\"        \"to\"        \n",
       " [6] \"be\"         \"that\"       \"is\"         \"the\"        \"question\"  \n",
       "[11] \"whether\"    \"tis\"        \"nobler\"     \"in\"         \"the\"       \n",
       "[16] \"mind\"       \"to\"         \"suffer\"     \"the\"        \"slings\"    \n",
       "[21] \"and\"        \"arrows\"     \"of\"         \"outrageous\" \"fortune\"   \n",
       "[26] \"or\"         \"to\"         \"take\"       \"arms\"       \"against\"   \n",
       "[31] \"a\"          \"sea\"        \"of\"         \"troubles\"   \"and\"       \n",
       "[36] \"by\"         \"opposing\"   \"end\"        \"them\"      "
      ]
     },
     "metadata": {},
     "output_type": "display_data"
    }
   ],
   "source": [
    "library(stringr)\n",
    "\n",
    "hamlet <- \"To be, or not to be: that is the question:\n",
    "Whether 'tis nobler in the mind to suffer\n",
    "The slings and arrows of outrageous fortune,\n",
    "Or to take arms against a sea of troubles,\n",
    "And by opposing end them?\"\n",
    "\n",
    "hamlet <- str_replace_all(hamlet, \"[:punct:]\", \"\")\n",
    "hamlet <- tolower(unlist(str_split(hamlet, \"[:space:]\")))\n",
    "hamlet"
   ]
  },
  {
   "cell_type": "code",
   "execution_count": 26,
   "metadata": {},
   "outputs": [
    {
     "data": {
      "text/html": [
       "4"
      ],
      "text/latex": [
       "4"
      ],
      "text/markdown": [
       "4"
      ],
      "text/plain": [
       "[1] 4"
      ]
     },
     "metadata": {},
     "output_type": "display_data"
    }
   ],
   "source": [
    "#Количество слов \"to\"\n",
    "s <-c()\n",
    "for  (i in seq(1,length(hamlet)) ){s <- append(s,grep(\"to\",hamlet[i]))}\n",
    "sum(s)"
   ]
  },
  {
   "cell_type": "code",
   "execution_count": 27,
   "metadata": {},
   "outputs": [
    {
     "data": {
      "text/html": [
       "7"
      ],
      "text/latex": [
       "7"
      ],
      "text/markdown": [
       "7"
      ],
      "text/plain": [
       "[1] 7"
      ]
     },
     "metadata": {},
     "output_type": "display_data"
    }
   ],
   "source": [
    "#Количество слов, содержащих любую букву из \"f\", \"q\" и \"w\"\n",
    "s <-c() \n",
    "for (i in grep(\"[fqw]\",hamlet, value = TRUE)){if (i != 0){s<-append(s, 1)}}\n",
    "sum(s)"
   ]
  },
  {
   "cell_type": "code",
   "execution_count": 101,
   "metadata": {},
   "outputs": [
    {
     "data": {
      "text/html": [
       "5"
      ],
      "text/latex": [
       "5"
      ],
      "text/markdown": [
       "5"
      ],
      "text/plain": [
       "[1] 5"
      ]
     },
     "metadata": {},
     "output_type": "display_data"
    }
   ],
   "source": [
    "#Количество слов, содержащих букву \"b\", после которой -- любой другой символ\n",
    "s <- c()\n",
    "for (i in grepl(\"b.\",hamlet)){if (i != FALSE ){s <- append(s,1)}}\n",
    "sum(s)"
   ]
  },
  {
   "cell_type": "code",
   "execution_count": 105,
   "metadata": {},
   "outputs": [
    {
     "data": {
      "text/html": [
       "3"
      ],
      "text/latex": [
       "3"
      ],
      "text/markdown": [
       "3"
      ],
      "text/plain": [
       "[1] 3"
      ]
     },
     "metadata": {},
     "output_type": "display_data"
    }
   ],
   "source": [
    "#Количество слов ровно из семи букв\n",
    "s <- c()\n",
    "for (i in grepl(\"\\\\b[[:alpha:]]{7}\\\\b\",hamlet)){if (i != FALSE){s <- append(s,1)}}\n",
    "sum(s)"
   ]
  },
  {
   "cell_type": "code",
   "execution_count": 110,
   "metadata": {},
   "outputs": [],
   "source": [
    "?gsub()"
   ]
  },
  {
   "cell_type": "markdown",
   "metadata": {},
   "source": [
    "# Факторы"
   ]
  },
  {
   "cell_type": "markdown",
   "metadata": {},
   "source": [
    "+ В статистике существует деление на `количественные` и `качественные` переменные \n",
    "+ Для качественных  переменных есть `factor`\n",
    "+ Фактор - это гибрид целочисленного (integer) и строкового (character) вектора \n",
    "\n",
    "\n",
    "\n",
    "https://r-analytics.blogspot.com/2011/07/r_17.html#.XNBMsI77SUk\n"
   ]
  },
  {
   "cell_type": "code",
   "execution_count": 129,
   "metadata": {},
   "outputs": [
    {
     "data": {
      "text/html": [
       "<ol class=list-inline>\n",
       "\t<li>O</li>\n",
       "\t<li>O</li>\n",
       "\t<li>B</li>\n",
       "\t<li>L</li>\n",
       "\t<li>J</li>\n",
       "\t<li>I</li>\n",
       "\t<li>Y</li>\n",
       "\t<li>H</li>\n",
       "\t<li>G</li>\n",
       "\t<li>D</li>\n",
       "\t<li>Z</li>\n",
       "\t<li>Z</li>\n",
       "\t<li>V</li>\n",
       "\t<li>F</li>\n",
       "\t<li>Z</li>\n",
       "\t<li>A</li>\n",
       "\t<li>Z</li>\n",
       "\t<li>Y</li>\n",
       "\t<li>I</li>\n",
       "\t<li>G</li>\n",
       "\t<li>W</li>\n",
       "\t<li>S</li>\n",
       "\t<li>B</li>\n",
       "\t<li>D</li>\n",
       "\t<li>O</li>\n",
       "\t<li>Z</li>\n",
       "\t<li>Y</li>\n",
       "\t<li>X</li>\n",
       "\t<li>M</li>\n",
       "\t<li>Z</li>\n",
       "</ol>\n",
       "\n",
       "<details>\n",
       "\t<summary style=display:list-item;cursor:pointer>\n",
       "\t\t<strong>Levels</strong>:\n",
       "\t</summary>\n",
       "\t<ol class=list-inline>\n",
       "\t\t<li>'A'</li>\n",
       "\t\t<li>'B'</li>\n",
       "\t\t<li>'D'</li>\n",
       "\t\t<li>'F'</li>\n",
       "\t\t<li>'G'</li>\n",
       "\t\t<li>'H'</li>\n",
       "\t\t<li>'I'</li>\n",
       "\t\t<li>'J'</li>\n",
       "\t\t<li>'L'</li>\n",
       "\t\t<li>'M'</li>\n",
       "\t\t<li>'O'</li>\n",
       "\t\t<li>'S'</li>\n",
       "\t\t<li>'V'</li>\n",
       "\t\t<li>'W'</li>\n",
       "\t\t<li>'X'</li>\n",
       "\t\t<li>'Y'</li>\n",
       "\t\t<li>'Z'</li>\n",
       "\t</ol>\n",
       "</details>"
      ],
      "text/latex": [
       "\\begin{enumerate*}\n",
       "\\item O\n",
       "\\item O\n",
       "\\item B\n",
       "\\item L\n",
       "\\item J\n",
       "\\item I\n",
       "\\item Y\n",
       "\\item H\n",
       "\\item G\n",
       "\\item D\n",
       "\\item Z\n",
       "\\item Z\n",
       "\\item V\n",
       "\\item F\n",
       "\\item Z\n",
       "\\item A\n",
       "\\item Z\n",
       "\\item Y\n",
       "\\item I\n",
       "\\item G\n",
       "\\item W\n",
       "\\item S\n",
       "\\item B\n",
       "\\item D\n",
       "\\item O\n",
       "\\item Z\n",
       "\\item Y\n",
       "\\item X\n",
       "\\item M\n",
       "\\item Z\n",
       "\\end{enumerate*}\n",
       "\n",
       "\\emph{Levels}: \\begin{enumerate*}\n",
       "\\item 'A'\n",
       "\\item 'B'\n",
       "\\item 'D'\n",
       "\\item 'F'\n",
       "\\item 'G'\n",
       "\\item 'H'\n",
       "\\item 'I'\n",
       "\\item 'J'\n",
       "\\item 'L'\n",
       "\\item 'M'\n",
       "\\item 'O'\n",
       "\\item 'S'\n",
       "\\item 'V'\n",
       "\\item 'W'\n",
       "\\item 'X'\n",
       "\\item 'Y'\n",
       "\\item 'Z'\n",
       "\\end{enumerate*}\n"
      ],
      "text/markdown": [
       "1. O\n",
       "2. O\n",
       "3. B\n",
       "4. L\n",
       "5. J\n",
       "6. I\n",
       "7. Y\n",
       "8. H\n",
       "9. G\n",
       "10. D\n",
       "11. Z\n",
       "12. Z\n",
       "13. V\n",
       "14. F\n",
       "15. Z\n",
       "16. A\n",
       "17. Z\n",
       "18. Y\n",
       "19. I\n",
       "20. G\n",
       "21. W\n",
       "22. S\n",
       "23. B\n",
       "24. D\n",
       "25. O\n",
       "26. Z\n",
       "27. Y\n",
       "28. X\n",
       "29. M\n",
       "30. Z\n",
       "\n",
       "\n",
       "\n",
       "**Levels**: 1. 'A'\n",
       "2. 'B'\n",
       "3. 'D'\n",
       "4. 'F'\n",
       "5. 'G'\n",
       "6. 'H'\n",
       "7. 'I'\n",
       "8. 'J'\n",
       "9. 'L'\n",
       "10. 'M'\n",
       "11. 'O'\n",
       "12. 'S'\n",
       "13. 'V'\n",
       "14. 'W'\n",
       "15. 'X'\n",
       "16. 'Y'\n",
       "17. 'Z'\n",
       "\n",
       "\n"
      ],
      "text/plain": [
       " [1] O O B L J I Y H G D Z Z V F Z A Z Y I G W S B D O Z Y X M Z\n",
       "Levels: A B D F G H I J L M O S V W X Y Z"
      ]
     },
     "metadata": {},
     "output_type": "display_data"
    }
   ],
   "source": [
    "set.seed(1337)\n",
    "f <- factor(sample(LETTERS, 30 , replace = TRUE))\n",
    "f"
   ]
  },
  {
   "cell_type": "code",
   "execution_count": 130,
   "metadata": {},
   "outputs": [
    {
     "data": {
      "text/html": [
       "'factor'"
      ],
      "text/latex": [
       "'factor'"
      ],
      "text/markdown": [
       "'factor'"
      ],
      "text/plain": [
       "[1] \"factor\""
      ]
     },
     "metadata": {},
     "output_type": "display_data"
    }
   ],
   "source": [
    "class(f)"
   ]
  },
  {
   "cell_type": "markdown",
   "metadata": {},
   "source": [
    "## Уровни фактора"
   ]
  },
  {
   "cell_type": "code",
   "execution_count": 131,
   "metadata": {},
   "outputs": [
    {
     "data": {
      "text/html": [
       "<ol class=list-inline>\n",
       "\t<li>11</li>\n",
       "\t<li>11</li>\n",
       "\t<li>2</li>\n",
       "\t<li>9</li>\n",
       "\t<li>8</li>\n",
       "\t<li>7</li>\n",
       "\t<li>16</li>\n",
       "\t<li>6</li>\n",
       "\t<li>5</li>\n",
       "\t<li>3</li>\n",
       "\t<li>17</li>\n",
       "\t<li>17</li>\n",
       "\t<li>13</li>\n",
       "\t<li>4</li>\n",
       "\t<li>17</li>\n",
       "\t<li>1</li>\n",
       "\t<li>17</li>\n",
       "\t<li>16</li>\n",
       "\t<li>7</li>\n",
       "\t<li>5</li>\n",
       "\t<li>14</li>\n",
       "\t<li>12</li>\n",
       "\t<li>2</li>\n",
       "\t<li>3</li>\n",
       "\t<li>11</li>\n",
       "\t<li>17</li>\n",
       "\t<li>16</li>\n",
       "\t<li>15</li>\n",
       "\t<li>10</li>\n",
       "\t<li>17</li>\n",
       "</ol>\n"
      ],
      "text/latex": [
       "\\begin{enumerate*}\n",
       "\\item 11\n",
       "\\item 11\n",
       "\\item 2\n",
       "\\item 9\n",
       "\\item 8\n",
       "\\item 7\n",
       "\\item 16\n",
       "\\item 6\n",
       "\\item 5\n",
       "\\item 3\n",
       "\\item 17\n",
       "\\item 17\n",
       "\\item 13\n",
       "\\item 4\n",
       "\\item 17\n",
       "\\item 1\n",
       "\\item 17\n",
       "\\item 16\n",
       "\\item 7\n",
       "\\item 5\n",
       "\\item 14\n",
       "\\item 12\n",
       "\\item 2\n",
       "\\item 3\n",
       "\\item 11\n",
       "\\item 17\n",
       "\\item 16\n",
       "\\item 15\n",
       "\\item 10\n",
       "\\item 17\n",
       "\\end{enumerate*}\n"
      ],
      "text/markdown": [
       "1. 11\n",
       "2. 11\n",
       "3. 2\n",
       "4. 9\n",
       "5. 8\n",
       "6. 7\n",
       "7. 16\n",
       "8. 6\n",
       "9. 5\n",
       "10. 3\n",
       "11. 17\n",
       "12. 17\n",
       "13. 13\n",
       "14. 4\n",
       "15. 17\n",
       "16. 1\n",
       "17. 17\n",
       "18. 16\n",
       "19. 7\n",
       "20. 5\n",
       "21. 14\n",
       "22. 12\n",
       "23. 2\n",
       "24. 3\n",
       "25. 11\n",
       "26. 17\n",
       "27. 16\n",
       "28. 15\n",
       "29. 10\n",
       "30. 17\n",
       "\n",
       "\n"
      ],
      "text/plain": [
       " [1] 11 11  2  9  8  7 16  6  5  3 17 17 13  4 17  1 17 16  7  5 14 12  2  3 11\n",
       "[26] 17 16 15 10 17"
      ]
     },
     "metadata": {},
     "output_type": "display_data"
    }
   ],
   "source": [
    "as.numeric(f)"
   ]
  },
  {
   "cell_type": "code",
   "execution_count": 132,
   "metadata": {},
   "outputs": [
    {
     "data": {
      "text/html": [
       "<ol class=list-inline>\n",
       "\t<li>'O'</li>\n",
       "\t<li>'O'</li>\n",
       "\t<li>'B'</li>\n",
       "\t<li>'L'</li>\n",
       "\t<li>'J'</li>\n",
       "\t<li>'I'</li>\n",
       "\t<li>'Y'</li>\n",
       "\t<li>'H'</li>\n",
       "\t<li>'G'</li>\n",
       "\t<li>'D'</li>\n",
       "\t<li>'Z'</li>\n",
       "\t<li>'Z'</li>\n",
       "\t<li>'V'</li>\n",
       "\t<li>'F'</li>\n",
       "\t<li>'Z'</li>\n",
       "\t<li>'A'</li>\n",
       "\t<li>'Z'</li>\n",
       "\t<li>'Y'</li>\n",
       "\t<li>'I'</li>\n",
       "\t<li>'G'</li>\n",
       "\t<li>'W'</li>\n",
       "\t<li>'S'</li>\n",
       "\t<li>'B'</li>\n",
       "\t<li>'D'</li>\n",
       "\t<li>'O'</li>\n",
       "\t<li>'Z'</li>\n",
       "\t<li>'Y'</li>\n",
       "\t<li>'X'</li>\n",
       "\t<li>'M'</li>\n",
       "\t<li>'Z'</li>\n",
       "</ol>\n"
      ],
      "text/latex": [
       "\\begin{enumerate*}\n",
       "\\item 'O'\n",
       "\\item 'O'\n",
       "\\item 'B'\n",
       "\\item 'L'\n",
       "\\item 'J'\n",
       "\\item 'I'\n",
       "\\item 'Y'\n",
       "\\item 'H'\n",
       "\\item 'G'\n",
       "\\item 'D'\n",
       "\\item 'Z'\n",
       "\\item 'Z'\n",
       "\\item 'V'\n",
       "\\item 'F'\n",
       "\\item 'Z'\n",
       "\\item 'A'\n",
       "\\item 'Z'\n",
       "\\item 'Y'\n",
       "\\item 'I'\n",
       "\\item 'G'\n",
       "\\item 'W'\n",
       "\\item 'S'\n",
       "\\item 'B'\n",
       "\\item 'D'\n",
       "\\item 'O'\n",
       "\\item 'Z'\n",
       "\\item 'Y'\n",
       "\\item 'X'\n",
       "\\item 'M'\n",
       "\\item 'Z'\n",
       "\\end{enumerate*}\n"
      ],
      "text/markdown": [
       "1. 'O'\n",
       "2. 'O'\n",
       "3. 'B'\n",
       "4. 'L'\n",
       "5. 'J'\n",
       "6. 'I'\n",
       "7. 'Y'\n",
       "8. 'H'\n",
       "9. 'G'\n",
       "10. 'D'\n",
       "11. 'Z'\n",
       "12. 'Z'\n",
       "13. 'V'\n",
       "14. 'F'\n",
       "15. 'Z'\n",
       "16. 'A'\n",
       "17. 'Z'\n",
       "18. 'Y'\n",
       "19. 'I'\n",
       "20. 'G'\n",
       "21. 'W'\n",
       "22. 'S'\n",
       "23. 'B'\n",
       "24. 'D'\n",
       "25. 'O'\n",
       "26. 'Z'\n",
       "27. 'Y'\n",
       "28. 'X'\n",
       "29. 'M'\n",
       "30. 'Z'\n",
       "\n",
       "\n"
      ],
      "text/plain": [
       " [1] \"O\" \"O\" \"B\" \"L\" \"J\" \"I\" \"Y\" \"H\" \"G\" \"D\" \"Z\" \"Z\" \"V\" \"F\" \"Z\" \"A\" \"Z\" \"Y\" \"I\"\n",
       "[20] \"G\" \"W\" \"S\" \"B\" \"D\" \"O\" \"Z\" \"Y\" \"X\" \"M\" \"Z\""
      ]
     },
     "metadata": {},
     "output_type": "display_data"
    }
   ],
   "source": [
    "as.character(f)"
   ]
  },
  {
   "cell_type": "code",
   "execution_count": 133,
   "metadata": {},
   "outputs": [
    {
     "data": {
      "text/html": [
       "<ol class=list-inline>\n",
       "\t<li>'A'</li>\n",
       "\t<li>'B'</li>\n",
       "\t<li>'D'</li>\n",
       "\t<li>'F'</li>\n",
       "\t<li>'G'</li>\n",
       "\t<li>'H'</li>\n",
       "\t<li>'I'</li>\n",
       "\t<li>'J'</li>\n",
       "\t<li>'L'</li>\n",
       "\t<li>'M'</li>\n",
       "\t<li>'O'</li>\n",
       "\t<li>'S'</li>\n",
       "\t<li>'V'</li>\n",
       "\t<li>'W'</li>\n",
       "\t<li>'X'</li>\n",
       "\t<li>'Y'</li>\n",
       "\t<li>'Z'</li>\n",
       "</ol>\n"
      ],
      "text/latex": [
       "\\begin{enumerate*}\n",
       "\\item 'A'\n",
       "\\item 'B'\n",
       "\\item 'D'\n",
       "\\item 'F'\n",
       "\\item 'G'\n",
       "\\item 'H'\n",
       "\\item 'I'\n",
       "\\item 'J'\n",
       "\\item 'L'\n",
       "\\item 'M'\n",
       "\\item 'O'\n",
       "\\item 'S'\n",
       "\\item 'V'\n",
       "\\item 'W'\n",
       "\\item 'X'\n",
       "\\item 'Y'\n",
       "\\item 'Z'\n",
       "\\end{enumerate*}\n"
      ],
      "text/markdown": [
       "1. 'A'\n",
       "2. 'B'\n",
       "3. 'D'\n",
       "4. 'F'\n",
       "5. 'G'\n",
       "6. 'H'\n",
       "7. 'I'\n",
       "8. 'J'\n",
       "9. 'L'\n",
       "10. 'M'\n",
       "11. 'O'\n",
       "12. 'S'\n",
       "13. 'V'\n",
       "14. 'W'\n",
       "15. 'X'\n",
       "16. 'Y'\n",
       "17. 'Z'\n",
       "\n",
       "\n"
      ],
      "text/plain": [
       " [1] \"A\" \"B\" \"D\" \"F\" \"G\" \"H\" \"I\" \"J\" \"L\" \"M\" \"O\" \"S\" \"V\" \"W\" \"X\" \"Y\" \"Z\""
      ]
     },
     "metadata": {},
     "output_type": "display_data"
    }
   ],
   "source": [
    "levels(f)"
   ]
  },
  {
   "cell_type": "code",
   "execution_count": 134,
   "metadata": {},
   "outputs": [
    {
     "data": {
      "text/html": [
       "17"
      ],
      "text/latex": [
       "17"
      ],
      "text/markdown": [
       "17"
      ],
      "text/plain": [
       "[1] 17"
      ]
     },
     "metadata": {},
     "output_type": "display_data"
    }
   ],
   "source": [
    "nlevels(f)"
   ]
  },
  {
   "cell_type": "code",
   "execution_count": 135,
   "metadata": {},
   "outputs": [
    {
     "data": {
      "text/html": [
       "17"
      ],
      "text/latex": [
       "17"
      ],
      "text/markdown": [
       "17"
      ],
      "text/plain": [
       "[1] 17"
      ]
     },
     "metadata": {},
     "output_type": "display_data"
    }
   ],
   "source": [
    "length(levels(f))"
   ]
  },
  {
   "cell_type": "markdown",
   "metadata": {},
   "source": [
    "Индексирование определено для `==` и `!=`"
   ]
  },
  {
   "cell_type": "code",
   "execution_count": 136,
   "metadata": {},
   "outputs": [],
   "source": [
    "f[f == \"A\"] <- \"Z\""
   ]
  },
  {
   "cell_type": "code",
   "execution_count": 137,
   "metadata": {},
   "outputs": [
    {
     "data": {
      "text/html": [
       "<ol class=list-inline>\n",
       "\t<li>O</li>\n",
       "\t<li>O</li>\n",
       "\t<li>B</li>\n",
       "\t<li>L</li>\n",
       "\t<li>J</li>\n",
       "\t<li>I</li>\n",
       "\t<li>Y</li>\n",
       "\t<li>H</li>\n",
       "\t<li>G</li>\n",
       "\t<li>D</li>\n",
       "\t<li>Z</li>\n",
       "\t<li>Z</li>\n",
       "\t<li>V</li>\n",
       "\t<li>F</li>\n",
       "\t<li>Z</li>\n",
       "\t<li>Z</li>\n",
       "\t<li>Z</li>\n",
       "\t<li>Y</li>\n",
       "\t<li>I</li>\n",
       "\t<li>G</li>\n",
       "\t<li>W</li>\n",
       "\t<li>S</li>\n",
       "\t<li>B</li>\n",
       "\t<li>D</li>\n",
       "\t<li>O</li>\n",
       "\t<li>Z</li>\n",
       "\t<li>Y</li>\n",
       "\t<li>X</li>\n",
       "\t<li>M</li>\n",
       "\t<li>Z</li>\n",
       "</ol>\n",
       "\n",
       "<details>\n",
       "\t<summary style=display:list-item;cursor:pointer>\n",
       "\t\t<strong>Levels</strong>:\n",
       "\t</summary>\n",
       "\t<ol class=list-inline>\n",
       "\t\t<li>'A'</li>\n",
       "\t\t<li>'B'</li>\n",
       "\t\t<li>'D'</li>\n",
       "\t\t<li>'F'</li>\n",
       "\t\t<li>'G'</li>\n",
       "\t\t<li>'H'</li>\n",
       "\t\t<li>'I'</li>\n",
       "\t\t<li>'J'</li>\n",
       "\t\t<li>'L'</li>\n",
       "\t\t<li>'M'</li>\n",
       "\t\t<li>'O'</li>\n",
       "\t\t<li>'S'</li>\n",
       "\t\t<li>'V'</li>\n",
       "\t\t<li>'W'</li>\n",
       "\t\t<li>'X'</li>\n",
       "\t\t<li>'Y'</li>\n",
       "\t\t<li>'Z'</li>\n",
       "\t</ol>\n",
       "</details>"
      ],
      "text/latex": [
       "\\begin{enumerate*}\n",
       "\\item O\n",
       "\\item O\n",
       "\\item B\n",
       "\\item L\n",
       "\\item J\n",
       "\\item I\n",
       "\\item Y\n",
       "\\item H\n",
       "\\item G\n",
       "\\item D\n",
       "\\item Z\n",
       "\\item Z\n",
       "\\item V\n",
       "\\item F\n",
       "\\item Z\n",
       "\\item Z\n",
       "\\item Z\n",
       "\\item Y\n",
       "\\item I\n",
       "\\item G\n",
       "\\item W\n",
       "\\item S\n",
       "\\item B\n",
       "\\item D\n",
       "\\item O\n",
       "\\item Z\n",
       "\\item Y\n",
       "\\item X\n",
       "\\item M\n",
       "\\item Z\n",
       "\\end{enumerate*}\n",
       "\n",
       "\\emph{Levels}: \\begin{enumerate*}\n",
       "\\item 'A'\n",
       "\\item 'B'\n",
       "\\item 'D'\n",
       "\\item 'F'\n",
       "\\item 'G'\n",
       "\\item 'H'\n",
       "\\item 'I'\n",
       "\\item 'J'\n",
       "\\item 'L'\n",
       "\\item 'M'\n",
       "\\item 'O'\n",
       "\\item 'S'\n",
       "\\item 'V'\n",
       "\\item 'W'\n",
       "\\item 'X'\n",
       "\\item 'Y'\n",
       "\\item 'Z'\n",
       "\\end{enumerate*}\n"
      ],
      "text/markdown": [
       "1. O\n",
       "2. O\n",
       "3. B\n",
       "4. L\n",
       "5. J\n",
       "6. I\n",
       "7. Y\n",
       "8. H\n",
       "9. G\n",
       "10. D\n",
       "11. Z\n",
       "12. Z\n",
       "13. V\n",
       "14. F\n",
       "15. Z\n",
       "16. Z\n",
       "17. Z\n",
       "18. Y\n",
       "19. I\n",
       "20. G\n",
       "21. W\n",
       "22. S\n",
       "23. B\n",
       "24. D\n",
       "25. O\n",
       "26. Z\n",
       "27. Y\n",
       "28. X\n",
       "29. M\n",
       "30. Z\n",
       "\n",
       "\n",
       "\n",
       "**Levels**: 1. 'A'\n",
       "2. 'B'\n",
       "3. 'D'\n",
       "4. 'F'\n",
       "5. 'G'\n",
       "6. 'H'\n",
       "7. 'I'\n",
       "8. 'J'\n",
       "9. 'L'\n",
       "10. 'M'\n",
       "11. 'O'\n",
       "12. 'S'\n",
       "13. 'V'\n",
       "14. 'W'\n",
       "15. 'X'\n",
       "16. 'Y'\n",
       "17. 'Z'\n",
       "\n",
       "\n"
      ],
      "text/plain": [
       " [1] O O B L J I Y H G D Z Z V F Z Z Z Y I G W S B D O Z Y X M Z\n",
       "Levels: A B D F G H I J L M O S V W X Y Z"
      ]
     },
     "metadata": {},
     "output_type": "display_data"
    }
   ],
   "source": [
    "f"
   ]
  },
  {
   "cell_type": "code",
   "execution_count": 138,
   "metadata": {},
   "outputs": [
    {
     "data": {
      "text/html": [
       "<ol class=list-inline>\n",
       "\t<li>O</li>\n",
       "\t<li>O</li>\n",
       "\t<li>B</li>\n",
       "\t<li>L</li>\n",
       "\t<li>J</li>\n",
       "\t<li>I</li>\n",
       "\t<li>Y</li>\n",
       "\t<li>H</li>\n",
       "\t<li>G</li>\n",
       "\t<li>D</li>\n",
       "\t<li>Z</li>\n",
       "\t<li>Z</li>\n",
       "\t<li>V</li>\n",
       "\t<li>F</li>\n",
       "\t<li>Z</li>\n",
       "\t<li>Z</li>\n",
       "\t<li>Z</li>\n",
       "\t<li>Y</li>\n",
       "\t<li>I</li>\n",
       "\t<li>G</li>\n",
       "\t<li>W</li>\n",
       "\t<li>S</li>\n",
       "\t<li>B</li>\n",
       "\t<li>D</li>\n",
       "\t<li>O</li>\n",
       "\t<li>Z</li>\n",
       "\t<li>Y</li>\n",
       "\t<li>X</li>\n",
       "\t<li>M</li>\n",
       "\t<li>Z</li>\n",
       "</ol>\n",
       "\n",
       "<details>\n",
       "\t<summary style=display:list-item;cursor:pointer>\n",
       "\t\t<strong>Levels</strong>:\n",
       "\t</summary>\n",
       "\t<ol class=list-inline>\n",
       "\t\t<li>'B'</li>\n",
       "\t\t<li>'D'</li>\n",
       "\t\t<li>'F'</li>\n",
       "\t\t<li>'G'</li>\n",
       "\t\t<li>'H'</li>\n",
       "\t\t<li>'I'</li>\n",
       "\t\t<li>'J'</li>\n",
       "\t\t<li>'L'</li>\n",
       "\t\t<li>'M'</li>\n",
       "\t\t<li>'O'</li>\n",
       "\t\t<li>'S'</li>\n",
       "\t\t<li>'V'</li>\n",
       "\t\t<li>'W'</li>\n",
       "\t\t<li>'X'</li>\n",
       "\t\t<li>'Y'</li>\n",
       "\t\t<li>'Z'</li>\n",
       "\t</ol>\n",
       "</details>"
      ],
      "text/latex": [
       "\\begin{enumerate*}\n",
       "\\item O\n",
       "\\item O\n",
       "\\item B\n",
       "\\item L\n",
       "\\item J\n",
       "\\item I\n",
       "\\item Y\n",
       "\\item H\n",
       "\\item G\n",
       "\\item D\n",
       "\\item Z\n",
       "\\item Z\n",
       "\\item V\n",
       "\\item F\n",
       "\\item Z\n",
       "\\item Z\n",
       "\\item Z\n",
       "\\item Y\n",
       "\\item I\n",
       "\\item G\n",
       "\\item W\n",
       "\\item S\n",
       "\\item B\n",
       "\\item D\n",
       "\\item O\n",
       "\\item Z\n",
       "\\item Y\n",
       "\\item X\n",
       "\\item M\n",
       "\\item Z\n",
       "\\end{enumerate*}\n",
       "\n",
       "\\emph{Levels}: \\begin{enumerate*}\n",
       "\\item 'B'\n",
       "\\item 'D'\n",
       "\\item 'F'\n",
       "\\item 'G'\n",
       "\\item 'H'\n",
       "\\item 'I'\n",
       "\\item 'J'\n",
       "\\item 'L'\n",
       "\\item 'M'\n",
       "\\item 'O'\n",
       "\\item 'S'\n",
       "\\item 'V'\n",
       "\\item 'W'\n",
       "\\item 'X'\n",
       "\\item 'Y'\n",
       "\\item 'Z'\n",
       "\\end{enumerate*}\n"
      ],
      "text/markdown": [
       "1. O\n",
       "2. O\n",
       "3. B\n",
       "4. L\n",
       "5. J\n",
       "6. I\n",
       "7. Y\n",
       "8. H\n",
       "9. G\n",
       "10. D\n",
       "11. Z\n",
       "12. Z\n",
       "13. V\n",
       "14. F\n",
       "15. Z\n",
       "16. Z\n",
       "17. Z\n",
       "18. Y\n",
       "19. I\n",
       "20. G\n",
       "21. W\n",
       "22. S\n",
       "23. B\n",
       "24. D\n",
       "25. O\n",
       "26. Z\n",
       "27. Y\n",
       "28. X\n",
       "29. M\n",
       "30. Z\n",
       "\n",
       "\n",
       "\n",
       "**Levels**: 1. 'B'\n",
       "2. 'D'\n",
       "3. 'F'\n",
       "4. 'G'\n",
       "5. 'H'\n",
       "6. 'I'\n",
       "7. 'J'\n",
       "8. 'L'\n",
       "9. 'M'\n",
       "10. 'O'\n",
       "11. 'S'\n",
       "12. 'V'\n",
       "13. 'W'\n",
       "14. 'X'\n",
       "15. 'Y'\n",
       "16. 'Z'\n",
       "\n",
       "\n"
      ],
      "text/plain": [
       " [1] O O B L J I Y H G D Z Z V F Z Z Z Y I G W S B D O Z Y X M Z\n",
       "Levels: B D F G H I J L M O S V W X Y Z"
      ]
     },
     "metadata": {},
     "output_type": "display_data"
    }
   ],
   "source": [
    "(f <- droplevels(f))"
   ]
  },
  {
   "cell_type": "markdown",
   "metadata": {},
   "source": [
    "## Преобразование уровней факторов"
   ]
  },
  {
   "cell_type": "code",
   "execution_count": 144,
   "metadata": {},
   "outputs": [
    {
     "data": {
      "text/html": [
       "<ol class=list-inline>\n",
       "\t<li>o</li>\n",
       "\t<li>o</li>\n",
       "\t<li>bbb</li>\n",
       "\t<li>l</li>\n",
       "\t<li>j</li>\n",
       "\t<li>i</li>\n",
       "\t<li>y</li>\n",
       "\t<li>h</li>\n",
       "\t<li>g</li>\n",
       "\t<li>d</li>\n",
       "\t<li>z</li>\n",
       "\t<li>z</li>\n",
       "\t<li>v</li>\n",
       "\t<li>f</li>\n",
       "\t<li>z</li>\n",
       "\t<li>z</li>\n",
       "\t<li>z</li>\n",
       "\t<li>y</li>\n",
       "\t<li>i</li>\n",
       "\t<li>g</li>\n",
       "\t<li>w</li>\n",
       "\t<li>s</li>\n",
       "\t<li>bbb</li>\n",
       "\t<li>d</li>\n",
       "\t<li>o</li>\n",
       "\t<li>z</li>\n",
       "\t<li>y</li>\n",
       "\t<li>x</li>\n",
       "\t<li>m</li>\n",
       "\t<li>z</li>\n",
       "</ol>\n",
       "\n",
       "<details>\n",
       "\t<summary style=display:list-item;cursor:pointer>\n",
       "\t\t<strong>Levels</strong>:\n",
       "\t</summary>\n",
       "\t<ol class=list-inline>\n",
       "\t\t<li>'bbb'</li>\n",
       "\t\t<li>'d'</li>\n",
       "\t\t<li>'f'</li>\n",
       "\t\t<li>'g'</li>\n",
       "\t\t<li>'h'</li>\n",
       "\t\t<li>'i'</li>\n",
       "\t\t<li>'j'</li>\n",
       "\t\t<li>'l'</li>\n",
       "\t\t<li>'m'</li>\n",
       "\t\t<li>'o'</li>\n",
       "\t\t<li>'s'</li>\n",
       "\t\t<li>'v'</li>\n",
       "\t\t<li>'w'</li>\n",
       "\t\t<li>'x'</li>\n",
       "\t\t<li>'y'</li>\n",
       "\t\t<li>'z'</li>\n",
       "\t</ol>\n",
       "</details>"
      ],
      "text/latex": [
       "\\begin{enumerate*}\n",
       "\\item o\n",
       "\\item o\n",
       "\\item bbb\n",
       "\\item l\n",
       "\\item j\n",
       "\\item i\n",
       "\\item y\n",
       "\\item h\n",
       "\\item g\n",
       "\\item d\n",
       "\\item z\n",
       "\\item z\n",
       "\\item v\n",
       "\\item f\n",
       "\\item z\n",
       "\\item z\n",
       "\\item z\n",
       "\\item y\n",
       "\\item i\n",
       "\\item g\n",
       "\\item w\n",
       "\\item s\n",
       "\\item bbb\n",
       "\\item d\n",
       "\\item o\n",
       "\\item z\n",
       "\\item y\n",
       "\\item x\n",
       "\\item m\n",
       "\\item z\n",
       "\\end{enumerate*}\n",
       "\n",
       "\\emph{Levels}: \\begin{enumerate*}\n",
       "\\item 'bbb'\n",
       "\\item 'd'\n",
       "\\item 'f'\n",
       "\\item 'g'\n",
       "\\item 'h'\n",
       "\\item 'i'\n",
       "\\item 'j'\n",
       "\\item 'l'\n",
       "\\item 'm'\n",
       "\\item 'o'\n",
       "\\item 's'\n",
       "\\item 'v'\n",
       "\\item 'w'\n",
       "\\item 'x'\n",
       "\\item 'y'\n",
       "\\item 'z'\n",
       "\\end{enumerate*}\n"
      ],
      "text/markdown": [
       "1. o\n",
       "2. o\n",
       "3. bbb\n",
       "4. l\n",
       "5. j\n",
       "6. i\n",
       "7. y\n",
       "8. h\n",
       "9. g\n",
       "10. d\n",
       "11. z\n",
       "12. z\n",
       "13. v\n",
       "14. f\n",
       "15. z\n",
       "16. z\n",
       "17. z\n",
       "18. y\n",
       "19. i\n",
       "20. g\n",
       "21. w\n",
       "22. s\n",
       "23. bbb\n",
       "24. d\n",
       "25. o\n",
       "26. z\n",
       "27. y\n",
       "28. x\n",
       "29. m\n",
       "30. z\n",
       "\n",
       "\n",
       "\n",
       "**Levels**: 1. 'bbb'\n",
       "2. 'd'\n",
       "3. 'f'\n",
       "4. 'g'\n",
       "5. 'h'\n",
       "6. 'i'\n",
       "7. 'j'\n",
       "8. 'l'\n",
       "9. 'm'\n",
       "10. 'o'\n",
       "11. 's'\n",
       "12. 'v'\n",
       "13. 'w'\n",
       "14. 'x'\n",
       "15. 'y'\n",
       "16. 'z'\n",
       "\n",
       "\n"
      ],
      "text/plain": [
       " [1] o   o   bbb l   j   i   y   h   g   d   z   z   v   f   z   z   z   y   i  \n",
       "[20] g   w   s   bbb d   o   z   y   x   m   z  \n",
       "Levels: bbb d f g h i j l m o s v w x y z"
      ]
     },
     "metadata": {},
     "output_type": "display_data"
    }
   ],
   "source": [
    "levels(f) <- tolower(levels(f))\n",
    "#levels(f) <- letters[LETTERS %in% levels(f)]\n",
    "f"
   ]
  },
  {
   "cell_type": "code",
   "execution_count": 143,
   "metadata": {},
   "outputs": [
    {
     "data": {
      "text/html": [
       "<ol class=list-inline>\n",
       "\t<li>o</li>\n",
       "\t<li>o</li>\n",
       "\t<li>bbb</li>\n",
       "\t<li>l</li>\n",
       "\t<li>j</li>\n",
       "\t<li>i</li>\n",
       "\t<li>y</li>\n",
       "\t<li>h</li>\n",
       "\t<li>g</li>\n",
       "\t<li>d</li>\n",
       "\t<li>z</li>\n",
       "\t<li>z</li>\n",
       "\t<li>v</li>\n",
       "\t<li>f</li>\n",
       "\t<li>z</li>\n",
       "\t<li>z</li>\n",
       "\t<li>z</li>\n",
       "\t<li>y</li>\n",
       "\t<li>i</li>\n",
       "\t<li>g</li>\n",
       "\t<li>w</li>\n",
       "\t<li>s</li>\n",
       "\t<li>bbb</li>\n",
       "\t<li>d</li>\n",
       "\t<li>o</li>\n",
       "\t<li>z</li>\n",
       "\t<li>y</li>\n",
       "\t<li>x</li>\n",
       "\t<li>m</li>\n",
       "\t<li>z</li>\n",
       "</ol>\n",
       "\n",
       "<details>\n",
       "\t<summary style=display:list-item;cursor:pointer>\n",
       "\t\t<strong>Levels</strong>:\n",
       "\t</summary>\n",
       "\t<ol class=list-inline>\n",
       "\t\t<li>'bbb'</li>\n",
       "\t\t<li>'d'</li>\n",
       "\t\t<li>'f'</li>\n",
       "\t\t<li>'g'</li>\n",
       "\t\t<li>'h'</li>\n",
       "\t\t<li>'i'</li>\n",
       "\t\t<li>'j'</li>\n",
       "\t\t<li>'l'</li>\n",
       "\t\t<li>'m'</li>\n",
       "\t\t<li>'o'</li>\n",
       "\t\t<li>'s'</li>\n",
       "\t\t<li>'v'</li>\n",
       "\t\t<li>'w'</li>\n",
       "\t\t<li>'x'</li>\n",
       "\t\t<li>'y'</li>\n",
       "\t\t<li>'z'</li>\n",
       "\t</ol>\n",
       "</details>"
      ],
      "text/latex": [
       "\\begin{enumerate*}\n",
       "\\item o\n",
       "\\item o\n",
       "\\item bbb\n",
       "\\item l\n",
       "\\item j\n",
       "\\item i\n",
       "\\item y\n",
       "\\item h\n",
       "\\item g\n",
       "\\item d\n",
       "\\item z\n",
       "\\item z\n",
       "\\item v\n",
       "\\item f\n",
       "\\item z\n",
       "\\item z\n",
       "\\item z\n",
       "\\item y\n",
       "\\item i\n",
       "\\item g\n",
       "\\item w\n",
       "\\item s\n",
       "\\item bbb\n",
       "\\item d\n",
       "\\item o\n",
       "\\item z\n",
       "\\item y\n",
       "\\item x\n",
       "\\item m\n",
       "\\item z\n",
       "\\end{enumerate*}\n",
       "\n",
       "\\emph{Levels}: \\begin{enumerate*}\n",
       "\\item 'bbb'\n",
       "\\item 'd'\n",
       "\\item 'f'\n",
       "\\item 'g'\n",
       "\\item 'h'\n",
       "\\item 'i'\n",
       "\\item 'j'\n",
       "\\item 'l'\n",
       "\\item 'm'\n",
       "\\item 'o'\n",
       "\\item 's'\n",
       "\\item 'v'\n",
       "\\item 'w'\n",
       "\\item 'x'\n",
       "\\item 'y'\n",
       "\\item 'z'\n",
       "\\end{enumerate*}\n"
      ],
      "text/markdown": [
       "1. o\n",
       "2. o\n",
       "3. bbb\n",
       "4. l\n",
       "5. j\n",
       "6. i\n",
       "7. y\n",
       "8. h\n",
       "9. g\n",
       "10. d\n",
       "11. z\n",
       "12. z\n",
       "13. v\n",
       "14. f\n",
       "15. z\n",
       "16. z\n",
       "17. z\n",
       "18. y\n",
       "19. i\n",
       "20. g\n",
       "21. w\n",
       "22. s\n",
       "23. bbb\n",
       "24. d\n",
       "25. o\n",
       "26. z\n",
       "27. y\n",
       "28. x\n",
       "29. m\n",
       "30. z\n",
       "\n",
       "\n",
       "\n",
       "**Levels**: 1. 'bbb'\n",
       "2. 'd'\n",
       "3. 'f'\n",
       "4. 'g'\n",
       "5. 'h'\n",
       "6. 'i'\n",
       "7. 'j'\n",
       "8. 'l'\n",
       "9. 'm'\n",
       "10. 'o'\n",
       "11. 's'\n",
       "12. 'v'\n",
       "13. 'w'\n",
       "14. 'x'\n",
       "15. 'y'\n",
       "16. 'z'\n",
       "\n",
       "\n"
      ],
      "text/plain": [
       " [1] o   o   bbb l   j   i   y   h   g   d   z   z   v   f   z   z   z   y   i  \n",
       "[20] g   w   s   bbb d   o   z   y   x   m   z  \n",
       "Levels: bbb d f g h i j l m o s v w x y z"
      ]
     },
     "metadata": {},
     "output_type": "display_data"
    }
   ],
   "source": [
    "levels(f)[1] <- \"bbb\"\n",
    "f"
   ]
  },
  {
   "cell_type": "markdown",
   "metadata": {},
   "source": [
    "## Упорядоченныие факторы"
   ]
  },
  {
   "cell_type": "markdown",
   "metadata": {},
   "source": [
    "+ Если категории качественной переменной упорядочены, то это порядковая переменная\n",
    "+ Упорядоченный фктор: функция `ordered` либо аргумент `ordered = TRUE`\n",
    "для factor"
   ]
  },
  {
   "cell_type": "code",
   "execution_count": 160,
   "metadata": {},
   "outputs": [],
   "source": [
    "temp <- c( \"freezing cold\", \"cold\", \"comfortable \",\"hot\", \"burning hot\")"
   ]
  },
  {
   "cell_type": "code",
   "execution_count": 161,
   "metadata": {},
   "outputs": [
    {
     "data": {
      "text/html": [
       "<ol class=list-inline>\n",
       "\t<li>burning hot</li>\n",
       "\t<li>hot</li>\n",
       "\t<li>hot</li>\n",
       "\t<li>comfortable </li>\n",
       "\t<li>burning hot</li>\n",
       "\t<li>cold</li>\n",
       "\t<li>burning hot</li>\n",
       "\t<li>comfortable </li>\n",
       "\t<li>cold</li>\n",
       "\t<li>cold</li>\n",
       "\t<li>freezing cold</li>\n",
       "\t<li>cold</li>\n",
       "\t<li>hot</li>\n",
       "\t<li>comfortable </li>\n",
       "</ol>\n",
       "\n",
       "<details>\n",
       "\t<summary style=display:list-item;cursor:pointer>\n",
       "\t\t<strong>Levels</strong>:\n",
       "\t</summary>\n",
       "\t<ol class=list-inline>\n",
       "\t\t<li>'freezing cold'</li>\n",
       "\t\t<li>'cold'</li>\n",
       "\t\t<li>'comfortable '</li>\n",
       "\t\t<li>'hot'</li>\n",
       "\t\t<li>'burning hot'</li>\n",
       "\t</ol>\n",
       "</details>"
      ],
      "text/latex": [
       "\\begin{enumerate*}\n",
       "\\item burning hot\n",
       "\\item hot\n",
       "\\item hot\n",
       "\\item comfortable \n",
       "\\item burning hot\n",
       "\\item cold\n",
       "\\item burning hot\n",
       "\\item comfortable \n",
       "\\item cold\n",
       "\\item cold\n",
       "\\item freezing cold\n",
       "\\item cold\n",
       "\\item hot\n",
       "\\item comfortable \n",
       "\\end{enumerate*}\n",
       "\n",
       "\\emph{Levels}: \\begin{enumerate*}\n",
       "\\item 'freezing cold'\n",
       "\\item 'cold'\n",
       "\\item 'comfortable '\n",
       "\\item 'hot'\n",
       "\\item 'burning hot'\n",
       "\\end{enumerate*}\n"
      ],
      "text/markdown": [
       "1. burning hot\n",
       "2. hot\n",
       "3. hot\n",
       "4. comfortable \n",
       "5. burning hot\n",
       "6. cold\n",
       "7. burning hot\n",
       "8. comfortable \n",
       "9. cold\n",
       "10. cold\n",
       "11. freezing cold\n",
       "12. cold\n",
       "13. hot\n",
       "14. comfortable \n",
       "\n",
       "\n",
       "\n",
       "**Levels**: 1. 'freezing cold'\n",
       "2. 'cold'\n",
       "3. 'comfortable '\n",
       "4. 'hot'\n",
       "5. 'burning hot'\n",
       "\n",
       "\n"
      ],
      "text/plain": [
       " [1] burning hot   hot           hot           comfortable   burning hot  \n",
       " [6] cold          burning hot   comfortable   cold          cold         \n",
       "[11] freezing cold cold          hot           comfortable  \n",
       "Levels: freezing cold < cold < comfortable  < hot < burning hot"
      ]
     },
     "metadata": {},
     "output_type": "display_data"
    }
   ],
   "source": [
    "ft <- ordered(sample(temp,14, replace = TRUE), temp)\n",
    "ft"
   ]
  },
  {
   "cell_type": "code",
   "execution_count": 164,
   "metadata": {},
   "outputs": [
    {
     "data": {
      "text/html": [
       "<ol class=list-inline>\n",
       "\t<li>burning hot</li>\n",
       "\t<li>hot</li>\n",
       "\t<li>hot</li>\n",
       "\t<li>burning hot</li>\n",
       "\t<li>burning hot</li>\n",
       "\t<li>hot</li>\n",
       "</ol>\n",
       "\n",
       "<details>\n",
       "\t<summary style=display:list-item;cursor:pointer>\n",
       "\t\t<strong>Levels</strong>:\n",
       "\t</summary>\n",
       "\t<ol class=list-inline>\n",
       "\t\t<li>'freezing cold'</li>\n",
       "\t\t<li>'cold'</li>\n",
       "\t\t<li>'comfortable '</li>\n",
       "\t\t<li>'hot'</li>\n",
       "\t\t<li>'burning hot'</li>\n",
       "\t</ol>\n",
       "</details>"
      ],
      "text/latex": [
       "\\begin{enumerate*}\n",
       "\\item burning hot\n",
       "\\item hot\n",
       "\\item hot\n",
       "\\item burning hot\n",
       "\\item burning hot\n",
       "\\item hot\n",
       "\\end{enumerate*}\n",
       "\n",
       "\\emph{Levels}: \\begin{enumerate*}\n",
       "\\item 'freezing cold'\n",
       "\\item 'cold'\n",
       "\\item 'comfortable '\n",
       "\\item 'hot'\n",
       "\\item 'burning hot'\n",
       "\\end{enumerate*}\n"
      ],
      "text/markdown": [
       "1. burning hot\n",
       "2. hot\n",
       "3. hot\n",
       "4. burning hot\n",
       "5. burning hot\n",
       "6. hot\n",
       "\n",
       "\n",
       "\n",
       "**Levels**: 1. 'freezing cold'\n",
       "2. 'cold'\n",
       "3. 'comfortable '\n",
       "4. 'hot'\n",
       "5. 'burning hot'\n",
       "\n",
       "\n"
      ],
      "text/plain": [
       "[1] burning hot hot         hot         burning hot burning hot hot        \n",
       "Levels: freezing cold < cold < comfortable  < hot < burning hot"
      ]
     },
     "metadata": {},
     "output_type": "display_data"
    }
   ],
   "source": [
    "ft[ft >= \"hot\"]"
   ]
  },
  {
   "cell_type": "markdown",
   "metadata": {},
   "source": [
    "## Преобразование количественной переменной в качественнуй\n",
    "+ `cut`разбивает  `numeric` вектор на интервалы \n",
    "+ `table` производит подсчёт  колтчества элементов для каждого уровня фактора"
   ]
  },
  {
   "cell_type": "code",
   "execution_count": 169,
   "metadata": {},
   "outputs": [
    {
     "data": {
      "text/html": [
       "<ol class=list-inline>\n",
       "\t<li>(-1,0]</li>\n",
       "\t<li>(1,2]</li>\n",
       "\t<li>(0,1]</li>\n",
       "\t<li>(-1,0]</li>\n",
       "\t<li>(-1,0]</li>\n",
       "\t<li>(-1,0]</li>\n",
       "\t<li>(0,1]</li>\n",
       "\t<li>(0,1]</li>\n",
       "\t<li>(-1,0]</li>\n",
       "\t<li>(-1,0]</li>\n",
       "</ol>\n",
       "\n",
       "<details>\n",
       "\t<summary style=display:list-item;cursor:pointer>\n",
       "\t\t<strong>Levels</strong>:\n",
       "\t</summary>\n",
       "\t<ol class=list-inline>\n",
       "\t\t<li>'(-5,-4]'</li>\n",
       "\t\t<li>'(-4,-3]'</li>\n",
       "\t\t<li>'(-3,-2]'</li>\n",
       "\t\t<li>'(-2,-1]'</li>\n",
       "\t\t<li>'(-1,0]'</li>\n",
       "\t\t<li>'(0,1]'</li>\n",
       "\t\t<li>'(1,2]'</li>\n",
       "\t\t<li>'(2,3]'</li>\n",
       "\t\t<li>'(3,4]'</li>\n",
       "\t\t<li>'(4,5]'</li>\n",
       "\t</ol>\n",
       "</details>"
      ],
      "text/latex": [
       "\\begin{enumerate*}\n",
       "\\item (-1,0{]}\n",
       "\\item (1,2{]}\n",
       "\\item (0,1{]}\n",
       "\\item (-1,0{]}\n",
       "\\item (-1,0{]}\n",
       "\\item (-1,0{]}\n",
       "\\item (0,1{]}\n",
       "\\item (0,1{]}\n",
       "\\item (-1,0{]}\n",
       "\\item (-1,0{]}\n",
       "\\end{enumerate*}\n",
       "\n",
       "\\emph{Levels}: \\begin{enumerate*}\n",
       "\\item '(-5,-4{]}'\n",
       "\\item '(-4,-3{]}'\n",
       "\\item '(-3,-2{]}'\n",
       "\\item '(-2,-1{]}'\n",
       "\\item '(-1,0{]}'\n",
       "\\item '(0,1{]}'\n",
       "\\item '(1,2{]}'\n",
       "\\item '(2,3{]}'\n",
       "\\item '(3,4{]}'\n",
       "\\item '(4,5{]}'\n",
       "\\end{enumerate*}\n"
      ],
      "text/markdown": [
       "1. (-1,0]\n",
       "2. (1,2]\n",
       "3. (0,1]\n",
       "4. (-1,0]\n",
       "5. (-1,0]\n",
       "6. (-1,0]\n",
       "7. (0,1]\n",
       "8. (0,1]\n",
       "9. (-1,0]\n",
       "10. (-1,0]\n",
       "\n",
       "\n",
       "\n",
       "**Levels**: 1. '(-5,-4]'\n",
       "2. '(-4,-3]'\n",
       "3. '(-3,-2]'\n",
       "4. '(-2,-1]'\n",
       "5. '(-1,0]'\n",
       "6. '(0,1]'\n",
       "7. '(1,2]'\n",
       "8. '(2,3]'\n",
       "9. '(3,4]'\n",
       "10. '(4,5]'\n",
       "\n",
       "\n"
      ],
      "text/plain": [
       " [1] (-1,0] (1,2]  (0,1]  (-1,0] (-1,0] (-1,0] (0,1]  (0,1]  (-1,0] (-1,0]\n",
       "10 Levels: (-5,-4] (-4,-3] (-3,-2] (-2,-1] (-1,0] (0,1] (1,2] (2,3] ... (4,5]"
      ]
     },
     "metadata": {},
     "output_type": "display_data"
    }
   ],
   "source": [
    "cut(rnorm(10), -5:5)"
   ]
  },
  {
   "cell_type": "code",
   "execution_count": 170,
   "metadata": {},
   "outputs": [
    {
     "data": {
      "text/plain": [
       "\n",
       "(-5,-4] (-4,-3] (-3,-2] (-2,-1]  (-1,0]   (0,1]   (1,2]   (2,3]   (3,4]   (4,5] \n",
       "      0       3      29     124     359     320     144      17       4       0 "
      ]
     },
     "metadata": {},
     "output_type": "display_data"
    }
   ],
   "source": [
    "table(cut(rnorm(1000),-5:5))"
   ]
  },
  {
   "cell_type": "code",
   "execution_count": 177,
   "metadata": {},
   "outputs": [],
   "source": [
    "?options"
   ]
  },
  {
   "cell_type": "markdown",
   "metadata": {},
   "source": [
    "## tapply\n",
    "\n",
    "+ Факторы чаще всего встречаются как переменные в дата фреймах\n",
    "+ Одна из наиболее распространённых задач - подсчет некоторой статистики по групам."
   ]
  },
  {
   "cell_type": "code",
   "execution_count": 180,
   "metadata": {},
   "outputs": [],
   "source": [
    "?warpbreaks"
   ]
  },
  {
   "cell_type": "code",
   "execution_count": 182,
   "metadata": {},
   "outputs": [
    {
     "data": {
      "text/html": [
       "<table>\n",
       "<thead><tr><th scope=col>breaks</th><th scope=col>wool</th><th scope=col>tension</th></tr></thead>\n",
       "<tbody>\n",
       "\t<tr><td>26</td><td>A </td><td>L </td></tr>\n",
       "\t<tr><td>30</td><td>A </td><td>L </td></tr>\n",
       "\t<tr><td>54</td><td>A </td><td>L </td></tr>\n",
       "\t<tr><td>25</td><td>A </td><td>L </td></tr>\n",
       "\t<tr><td>70</td><td>A </td><td>L </td></tr>\n",
       "\t<tr><td>52</td><td>A </td><td>L </td></tr>\n",
       "</tbody>\n",
       "</table>\n"
      ],
      "text/latex": [
       "\\begin{tabular}{r|lll}\n",
       " breaks & wool & tension\\\\\n",
       "\\hline\n",
       "\t 26 & A  & L \\\\\n",
       "\t 30 & A  & L \\\\\n",
       "\t 54 & A  & L \\\\\n",
       "\t 25 & A  & L \\\\\n",
       "\t 70 & A  & L \\\\\n",
       "\t 52 & A  & L \\\\\n",
       "\\end{tabular}\n"
      ],
      "text/markdown": [
       "\n",
       "breaks | wool | tension | \n",
       "|---|---|---|---|---|---|\n",
       "| 26 | A  | L  | \n",
       "| 30 | A  | L  | \n",
       "| 54 | A  | L  | \n",
       "| 25 | A  | L  | \n",
       "| 70 | A  | L  | \n",
       "| 52 | A  | L  | \n",
       "\n",
       "\n"
      ],
      "text/plain": [
       "  breaks wool tension\n",
       "1 26     A    L      \n",
       "2 30     A    L      \n",
       "3 54     A    L      \n",
       "4 25     A    L      \n",
       "5 70     A    L      \n",
       "6 52     A    L      "
      ]
     },
     "metadata": {},
     "output_type": "display_data"
    }
   ],
   "source": [
    "head(warpbreaks)"
   ]
  },
  {
   "cell_type": "code",
   "execution_count": 183,
   "metadata": {},
   "outputs": [
    {
     "name": "stdout",
     "output_type": "stream",
     "text": [
      "'data.frame':\t54 obs. of  3 variables:\n",
      " $ breaks : num  26 30 54 25 70 52 51 26 67 18 ...\n",
      " $ wool   : Factor w/ 2 levels \"A\",\"B\": 1 1 1 1 1 1 1 1 1 1 ...\n",
      " $ tension: Factor w/ 3 levels \"L\",\"M\",\"H\": 1 1 1 1 1 1 1 1 1 2 ...\n"
     ]
    }
   ],
   "source": [
    "str(warpbreaks)"
   ]
  },
  {
   "cell_type": "code",
   "execution_count": 5,
   "metadata": {},
   "outputs": [],
   "source": [
    "options(stringsAsFActors = FALSE)"
   ]
  },
  {
   "cell_type": "markdown",
   "metadata": {},
   "source": [
    "Используйте показанную мной связку из двух функций, чтобы превратить количественную переменную mag (сила землетрясения в баллах по шкале Рихтера) дата фрейма quakes в качественную. Интервалы должны быть длиной в полбалла, начиная с минимального, при этом левый конец интервала включается. Теперь отсортируйте общее количество случаев, попавших в каждую категорию, в порядке убывания.\n",
    "\n",
    "*Подсказки:*\n",
    "\n",
    "придётся чуть-чуть повозиться с аргументами;\n",
    "интервалы должны быть в точности такими, как указаны в ответах."
   ]
  },
  {
   "cell_type": "code",
   "execution_count": 43,
   "metadata": {},
   "outputs": [
    {
     "data": {
      "text/plain": [
       "\n",
       "[4,4.5) [4.5,5) [5,5.5) [5.5,6) [6,6.5) \n",
       "    377     425     160      33       5 "
      ]
     },
     "metadata": {},
     "output_type": "display_data"
    }
   ],
   "source": [
    "table(cut(quakes$mag, (8:13)/2, right = F))"
   ]
  },
  {
   "cell_type": "code",
   "execution_count": 11,
   "metadata": {},
   "outputs": [],
   "source": [
    "s <- read.csv('https://raw.githubusercontent.com/tonytonov/Rcourse/master/R%20programming/avianHabitat.csv')"
   ]
  },
  {
   "cell_type": "code",
   "execution_count": 22,
   "metadata": {},
   "outputs": [
    {
     "data": {
      "text/html": [
       "<table>\n",
       "<thead><tr><th scope=col>Site</th><th scope=col>Observer</th><th scope=col>Subpoint</th><th scope=col>VOR</th><th scope=col>PDB</th><th scope=col>DBHt</th><th scope=col>PW</th><th scope=col>WHt</th><th scope=col>PE</th><th scope=col>EHt</th><th scope=col>PA</th><th scope=col>AHt</th><th scope=col>PH</th><th scope=col>HHt</th><th scope=col>PL</th><th scope=col>LHt</th><th scope=col>PB</th></tr></thead>\n",
       "<tbody>\n",
       "\t<tr><td>BunkerHill27</td><td>RA          </td><td>1           </td><td>6.0         </td><td>3           </td><td>5.2         </td><td>0           </td><td>0.0         </td><td>4           </td><td>2.9         </td><td>0           </td><td>0           </td><td>4           </td><td>3.0         </td><td>0           </td><td>0           </td><td>0           </td></tr>\n",
       "\t<tr><td>BunkerHill27</td><td>RA          </td><td>2           </td><td>4.5         </td><td>2           </td><td>3.1         </td><td>3           </td><td>4.7         </td><td>3           </td><td>4.1         </td><td>0           </td><td>0           </td><td>3           </td><td>3.5         </td><td>2           </td><td>1           </td><td>0           </td></tr>\n",
       "\t<tr><td>BunkerHill27</td><td>RA          </td><td>3           </td><td>2.0         </td><td>4           </td><td>5.5         </td><td>1           </td><td>5.8         </td><td>3           </td><td>3.9         </td><td>0           </td><td>0           </td><td>3           </td><td>7.5         </td><td>0           </td><td>0           </td><td>0           </td></tr>\n",
       "\t<tr><td>BunkerHill27</td><td>RA          </td><td>4           </td><td>2.5         </td><td>3           </td><td>6.2         </td><td>0           </td><td>0.0         </td><td>3           </td><td>4.0         </td><td>0           </td><td>0           </td><td>4           </td><td>5.0         </td><td>0           </td><td>0           </td><td>0           </td></tr>\n",
       "\t<tr><td>BunkerHill27</td><td>RA          </td><td>5           </td><td>4.0         </td><td>4           </td><td>5.4         </td><td>0           </td><td>0.0         </td><td>3           </td><td>3.5         </td><td>0           </td><td>0           </td><td>4           </td><td>3.7         </td><td>0           </td><td>0           </td><td>0           </td></tr>\n",
       "\t<tr><td>BunkerHill27</td><td>JT          </td><td>6           </td><td>2.0         </td><td>3           </td><td>4.0         </td><td>0           </td><td>0.0         </td><td>3           </td><td>4.1         </td><td>0           </td><td>0           </td><td>2           </td><td>3.5         </td><td>0           </td><td>0           </td><td>0           </td></tr>\n",
       "</tbody>\n",
       "</table>\n"
      ],
      "text/latex": [
       "\\begin{tabular}{r|lllllllllllllllll}\n",
       " Site & Observer & Subpoint & VOR & PDB & DBHt & PW & WHt & PE & EHt & PA & AHt & PH & HHt & PL & LHt & PB\\\\\n",
       "\\hline\n",
       "\t BunkerHill27 & RA           & 1            & 6.0          & 3            & 5.2          & 0            & 0.0          & 4            & 2.9          & 0            & 0            & 4            & 3.0          & 0            & 0            & 0           \\\\\n",
       "\t BunkerHill27 & RA           & 2            & 4.5          & 2            & 3.1          & 3            & 4.7          & 3            & 4.1          & 0            & 0            & 3            & 3.5          & 2            & 1            & 0           \\\\\n",
       "\t BunkerHill27 & RA           & 3            & 2.0          & 4            & 5.5          & 1            & 5.8          & 3            & 3.9          & 0            & 0            & 3            & 7.5          & 0            & 0            & 0           \\\\\n",
       "\t BunkerHill27 & RA           & 4            & 2.5          & 3            & 6.2          & 0            & 0.0          & 3            & 4.0          & 0            & 0            & 4            & 5.0          & 0            & 0            & 0           \\\\\n",
       "\t BunkerHill27 & RA           & 5            & 4.0          & 4            & 5.4          & 0            & 0.0          & 3            & 3.5          & 0            & 0            & 4            & 3.7          & 0            & 0            & 0           \\\\\n",
       "\t BunkerHill27 & JT           & 6            & 2.0          & 3            & 4.0          & 0            & 0.0          & 3            & 4.1          & 0            & 0            & 2            & 3.5          & 0            & 0            & 0           \\\\\n",
       "\\end{tabular}\n"
      ],
      "text/markdown": [
       "\n",
       "Site | Observer | Subpoint | VOR | PDB | DBHt | PW | WHt | PE | EHt | PA | AHt | PH | HHt | PL | LHt | PB | \n",
       "|---|---|---|---|---|---|\n",
       "| BunkerHill27 | RA           | 1            | 6.0          | 3            | 5.2          | 0            | 0.0          | 4            | 2.9          | 0            | 0            | 4            | 3.0          | 0            | 0            | 0            | \n",
       "| BunkerHill27 | RA           | 2            | 4.5          | 2            | 3.1          | 3            | 4.7          | 3            | 4.1          | 0            | 0            | 3            | 3.5          | 2            | 1            | 0            | \n",
       "| BunkerHill27 | RA           | 3            | 2.0          | 4            | 5.5          | 1            | 5.8          | 3            | 3.9          | 0            | 0            | 3            | 7.5          | 0            | 0            | 0            | \n",
       "| BunkerHill27 | RA           | 4            | 2.5          | 3            | 6.2          | 0            | 0.0          | 3            | 4.0          | 0            | 0            | 4            | 5.0          | 0            | 0            | 0            | \n",
       "| BunkerHill27 | RA           | 5            | 4.0          | 4            | 5.4          | 0            | 0.0          | 3            | 3.5          | 0            | 0            | 4            | 3.7          | 0            | 0            | 0            | \n",
       "| BunkerHill27 | JT           | 6            | 2.0          | 3            | 4.0          | 0            | 0.0          | 3            | 4.1          | 0            | 0            | 2            | 3.5          | 0            | 0            | 0            | \n",
       "\n",
       "\n"
      ],
      "text/plain": [
       "  Site         Observer Subpoint VOR PDB DBHt PW WHt PE EHt PA AHt PH HHt PL\n",
       "1 BunkerHill27 RA       1        6.0 3   5.2  0  0.0 4  2.9 0  0   4  3.0 0 \n",
       "2 BunkerHill27 RA       2        4.5 2   3.1  3  4.7 3  4.1 0  0   3  3.5 2 \n",
       "3 BunkerHill27 RA       3        2.0 4   5.5  1  5.8 3  3.9 0  0   3  7.5 0 \n",
       "4 BunkerHill27 RA       4        2.5 3   6.2  0  0.0 3  4.0 0  0   4  5.0 0 \n",
       "5 BunkerHill27 RA       5        4.0 4   5.4  0  0.0 3  3.5 0  0   4  3.7 0 \n",
       "6 BunkerHill27 JT       6        2.0 3   4.0  0  0.0 3  4.1 0  0   2  3.5 0 \n",
       "  LHt PB\n",
       "1 0   0 \n",
       "2 1   0 \n",
       "3 0   0 \n",
       "4 0   0 \n",
       "5 0   0 \n",
       "6 0   0 "
      ]
     },
     "metadata": {},
     "output_type": "display_data"
    }
   ],
   "source": [
    "head(s)"
   ]
  },
  {
   "cell_type": "markdown",
   "metadata": {},
   "source": [
    "Наши любимые учёные, конечно же, соревнуются между собой. Самоё почётное, как нам уже известно, -- найти самый высокий экземпляр вида. В конце сезона исследователи подводят итоги и определяют самого удачливого, который торжественно объявляется чемпионом. После чего все пьют горячий грог и травят байки у костра.\n",
    "Хорошо у них там!\n",
    "Давайте поможем нашим друзьям определить, кто из них нашёл самые большие экземпляры по каждому виду."
   ]
  },
  {
   "cell_type": "code",
   "execution_count": 34,
   "metadata": {},
   "outputs": [
    {
     "name": "stdout",
     "output_type": "stream",
     "text": [
      "[1] \"RA\"\n",
      "[1] \"JT\"\n",
      "[1] \"JT\"\n",
      "[1] \"JT\"\n",
      "[1] \"JT\"\n",
      "[1] \"RA\"\n"
     ]
    }
   ],
   "source": [
    "for (i in seq(6,16,by = 2)){\n",
    "    print(s[s[i] == max(s[i])][2])\n",
    "}"
   ]
  },
  {
   "cell_type": "code",
   "execution_count": null,
   "metadata": {},
   "outputs": [],
   "source": []
  }
 ],
 "metadata": {
  "kernelspec": {
   "display_name": "R",
   "language": "R",
   "name": "ir"
  },
  "language_info": {
   "codemirror_mode": "r",
   "file_extension": ".r",
   "mimetype": "text/x-r-source",
   "name": "R",
   "pygments_lexer": "r",
   "version": "3.5.1"
  }
 },
 "nbformat": 4,
 "nbformat_minor": 2
}
