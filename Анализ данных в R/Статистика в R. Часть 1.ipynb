{
 "cells": [
  {
   "cell_type": "markdown",
   "metadata": {},
   "source": [
    "# 2.1 Анализ номинативных данных"
   ]
  },
  {
   "cell_type": "code",
   "execution_count": 2,
   "metadata": {},
   "outputs": [],
   "source": [
    "df <- read.csv(\"https://stepik.org/media/attachments/lesson/11502/grants.csv\")"
   ]
  },
  {
   "cell_type": "code",
   "execution_count": 3,
   "metadata": {},
   "outputs": [
    {
     "name": "stdout",
     "output_type": "stream",
     "text": [
      "'data.frame':\t1420 obs. of  7 variables:\n",
      " $ npersons    : int  2 1 1 1 4 2 1 2 1 2 ...\n",
      " $ years_in_uni: Factor w/ 3 levels \"< 5\",\"> 10\",\"5-10\": 1 1 1 3 2 1 1 3 1 1 ...\n",
      " $ oldest_age  : int  66 51 36 46 46 46 36 45 35 51 ...\n",
      " $ field       : Factor w/ 5 levels \"beh_cog\",\"bio\",..: 2 2 2 2 4 2 3 2 1 2 ...\n",
      " $ RFCD.Code.1 : int  270799 270106 270708 270603 240402 270603 250103 270603 380107 270203 ...\n",
      " $ midpoint    : num  25000 25000 25000 25000 25000 ...\n",
      " $ status      : int  1 0 0 0 1 0 1 1 1 1 ...\n"
     ]
    }
   ],
   "source": [
    "str(df)"
   ]
  },
  {
   "cell_type": "code",
   "execution_count": 4,
   "metadata": {},
   "outputs": [],
   "source": [
    "df$status <- as.factor(df$status)\n",
    "levels(df$status) <- c(\"Not funded\", \"Funded\")"
   ]
  },
  {
   "cell_type": "code",
   "execution_count": 5,
   "metadata": {},
   "outputs": [],
   "source": [
    "df$status <- factor(df$status, labels = c(\"Not funded\", \"Funded\"))"
   ]
  },
  {
   "cell_type": "code",
   "execution_count": 6,
   "metadata": {},
   "outputs": [
    {
     "data": {
      "text/plain": [
       "\n",
       "Not funded     Funded \n",
       "       747        673 "
      ]
     },
     "metadata": {},
     "output_type": "display_data"
    }
   ],
   "source": [
    "# 1d Table \n",
    "t1 <- table(df$status)\n",
    "t1"
   ]
  },
  {
   "cell_type": "code",
   "execution_count": 7,
   "metadata": {},
   "outputs": [
    {
     "data": {
      "text/html": [
       "2"
      ],
      "text/latex": [
       "2"
      ],
      "text/markdown": [
       "2"
      ],
      "text/plain": [
       "[1] 2"
      ]
     },
     "metadata": {},
     "output_type": "display_data"
    }
   ],
   "source": [
    "dim(t1)"
   ]
  },
  {
   "cell_type": "code",
   "execution_count": 8,
   "metadata": {},
   "outputs": [
    {
     "data": {
      "text/plain": [
       "            \n",
       "             beh_cog bio chem physics soc\n",
       "  Not funded     100 473   60      70  44\n",
       "  Funded          65 432   66      78  32"
      ]
     },
     "metadata": {},
     "output_type": "display_data"
    }
   ],
   "source": [
    "# 2d Table\n",
    "t2 <- table(df$status, df$field)\n",
    "t2"
   ]
  },
  {
   "cell_type": "code",
   "execution_count": 9,
   "metadata": {},
   "outputs": [],
   "source": [
    "t2 <- table(status = df$status, field = df$field)"
   ]
  },
  {
   "cell_type": "code",
   "execution_count": 10,
   "metadata": {},
   "outputs": [
    {
     "data": {
      "text/html": [
       "<ol class=list-inline>\n",
       "\t<li>2</li>\n",
       "\t<li>5</li>\n",
       "</ol>\n"
      ],
      "text/latex": [
       "\\begin{enumerate*}\n",
       "\\item 2\n",
       "\\item 5\n",
       "\\end{enumerate*}\n"
      ],
      "text/markdown": [
       "1. 2\n",
       "2. 5\n",
       "\n",
       "\n"
      ],
      "text/plain": [
       "[1] 2 5"
      ]
     },
     "metadata": {},
     "output_type": "display_data"
    }
   ],
   "source": [
    "dim(t2)"
   ]
  },
  {
   "cell_type": "code",
   "execution_count": 11,
   "metadata": {},
   "outputs": [
    {
     "data": {
      "text/plain": [
       "            field\n",
       "status          beh_cog        bio       chem    physics        soc\n",
       "  Not funded 0.07042254 0.33309859 0.04225352 0.04929577 0.03098592\n",
       "  Funded     0.04577465 0.30422535 0.04647887 0.05492958 0.02253521"
      ]
     },
     "metadata": {},
     "output_type": "display_data"
    },
    {
     "data": {
      "text/plain": [
       "            field\n",
       "status          beh_cog        bio       chem    physics        soc\n",
       "  Not funded 0.13386881 0.63319946 0.08032129 0.09370817 0.05890228\n",
       "  Funded     0.09658247 0.64190193 0.09806835 0.11589896 0.04754829"
      ]
     },
     "metadata": {},
     "output_type": "display_data"
    },
    {
     "data": {
      "text/plain": [
       "            field\n",
       "status         beh_cog       bio      chem   physics       soc\n",
       "  Not funded 0.6060606 0.5226519 0.4761905 0.4729730 0.5789474\n",
       "  Funded     0.3939394 0.4773481 0.5238095 0.5270270 0.4210526"
      ]
     },
     "metadata": {},
     "output_type": "display_data"
    }
   ],
   "source": [
    "prop.table(t2)\n",
    "\n",
    "prop.table(t2, 1)\n",
    "prop.table(t2, 2)\n"
   ]
  },
  {
   "cell_type": "code",
   "execution_count": 12,
   "metadata": {},
   "outputs": [
    {
     "data": {
      "text/plain": [
       ", , Status = Not funded\n",
       "\n",
       "      Field\n",
       "Years  beh_cog bio chem physics soc\n",
       "  < 5       57 198   31      20  22\n",
       "  > 10      29 144   28      47  16\n",
       "  5-10      14 131    1       3   6\n",
       "\n",
       ", , Status = Funded\n",
       "\n",
       "      Field\n",
       "Years  beh_cog bio chem physics soc\n",
       "  < 5       27 180   41      22  14\n",
       "  > 10      30 155   19      54  15\n",
       "  5-10       8  97    6       2   3\n"
      ]
     },
     "metadata": {},
     "output_type": "display_data"
    }
   ],
   "source": [
    "# 3d Table\n",
    "t3 <- table(Years = df$years_in_uni, Field = df$field, Status = df$status)\n",
    "t3"
   ]
  },
  {
   "cell_type": "code",
   "execution_count": 13,
   "metadata": {},
   "outputs": [
    {
     "data": {
      "text/html": [
       "<ol class=list-inline>\n",
       "\t<li>3</li>\n",
       "\t<li>5</li>\n",
       "\t<li>2</li>\n",
       "</ol>\n"
      ],
      "text/latex": [
       "\\begin{enumerate*}\n",
       "\\item 3\n",
       "\\item 5\n",
       "\\item 2\n",
       "\\end{enumerate*}\n"
      ],
      "text/markdown": [
       "1. 3\n",
       "2. 5\n",
       "3. 2\n",
       "\n",
       "\n"
      ],
      "text/plain": [
       "[1] 3 5 2"
      ]
     },
     "metadata": {},
     "output_type": "display_data"
    }
   ],
   "source": [
    "dim(t3)"
   ]
  },
  {
   "cell_type": "markdown",
   "metadata": {},
   "source": [
    "К частям таблицы можно обращаться так же, как и к матрицам. \n",
    "\n",
    "HairEyeColor - таблица с данными, встроенными в R. Посмотрите на неё в R. Команда dimnames(HairEyeColor) позволит нам посмотреть, какие измерения есть в этой таблице и как они называются. Например, чтобы обратиться к части таблицы, в которой хранятся данные только о мужчинах, нам нужно выполнить следующую команду: \n",
    "\n",
    "HairEyeColor[ , ,'Male']\n",
    "\n",
    "Ваша задача в переменную red_men сохранить долю рыжеволосых (Red) от общего числа голубоглазых мужчин.\n",
    "\n",
    "Обратите внимание, что нужны не проценты, а просто доля, то есть десятичная дробь  (например, не 10%, а 0.1).\n",
    "\n"
   ]
  },
  {
   "cell_type": "code",
   "execution_count": 21,
   "metadata": {},
   "outputs": [
    {
     "data": {
      "text/plain": [
       ", , Sex = Male\n",
       "\n",
       "       Eye\n",
       "Hair    Brown Blue Hazel Green\n",
       "  Black    32   11    10     3\n",
       "  Brown    53   50    25    15\n",
       "  Red      10   10     7     7\n",
       "  Blond     3   30     5     8\n",
       "\n",
       ", , Sex = Female\n",
       "\n",
       "       Eye\n",
       "Hair    Brown Blue Hazel Green\n",
       "  Black    36    9     5     2\n",
       "  Brown    66   34    29    14\n",
       "  Red      16    7     7     7\n",
       "  Blond     4   64     5     8\n"
      ]
     },
     "metadata": {},
     "output_type": "display_data"
    }
   ],
   "source": [
    "HairEyeColor"
   ]
  },
  {
   "cell_type": "code",
   "execution_count": 22,
   "metadata": {},
   "outputs": [
    {
     "data": {
      "text/html": [
       "<dl>\n",
       "\t<dt>$Hair</dt>\n",
       "\t\t<dd><ol class=list-inline>\n",
       "\t<li>'Black'</li>\n",
       "\t<li>'Brown'</li>\n",
       "\t<li>'Red'</li>\n",
       "\t<li>'Blond'</li>\n",
       "</ol>\n",
       "</dd>\n",
       "\t<dt>$Eye</dt>\n",
       "\t\t<dd><ol class=list-inline>\n",
       "\t<li>'Brown'</li>\n",
       "\t<li>'Blue'</li>\n",
       "\t<li>'Hazel'</li>\n",
       "\t<li>'Green'</li>\n",
       "</ol>\n",
       "</dd>\n",
       "\t<dt>$Sex</dt>\n",
       "\t\t<dd><ol class=list-inline>\n",
       "\t<li>'Male'</li>\n",
       "\t<li>'Female'</li>\n",
       "</ol>\n",
       "</dd>\n",
       "</dl>\n"
      ],
      "text/latex": [
       "\\begin{description}\n",
       "\\item[\\$Hair] \\begin{enumerate*}\n",
       "\\item 'Black'\n",
       "\\item 'Brown'\n",
       "\\item 'Red'\n",
       "\\item 'Blond'\n",
       "\\end{enumerate*}\n",
       "\n",
       "\\item[\\$Eye] \\begin{enumerate*}\n",
       "\\item 'Brown'\n",
       "\\item 'Blue'\n",
       "\\item 'Hazel'\n",
       "\\item 'Green'\n",
       "\\end{enumerate*}\n",
       "\n",
       "\\item[\\$Sex] \\begin{enumerate*}\n",
       "\\item 'Male'\n",
       "\\item 'Female'\n",
       "\\end{enumerate*}\n",
       "\n",
       "\\end{description}\n"
      ],
      "text/markdown": [
       "$Hair\n",
       ":   1. 'Black'\n",
       "2. 'Brown'\n",
       "3. 'Red'\n",
       "4. 'Blond'\n",
       "\n",
       "\n",
       "\n",
       "$Eye\n",
       ":   1. 'Brown'\n",
       "2. 'Blue'\n",
       "3. 'Hazel'\n",
       "4. 'Green'\n",
       "\n",
       "\n",
       "\n",
       "$Sex\n",
       ":   1. 'Male'\n",
       "2. 'Female'\n",
       "\n",
       "\n",
       "\n",
       "\n",
       "\n"
      ],
      "text/plain": [
       "$Hair\n",
       "[1] \"Black\" \"Brown\" \"Red\"   \"Blond\"\n",
       "\n",
       "$Eye\n",
       "[1] \"Brown\" \"Blue\"  \"Hazel\" \"Green\"\n",
       "\n",
       "$Sex\n",
       "[1] \"Male\"   \"Female\"\n"
      ]
     },
     "metadata": {},
     "output_type": "display_data"
    }
   ],
   "source": [
    "dimnames(HairEyeColor)"
   ]
  },
  {
   "cell_type": "code",
   "execution_count": 37,
   "metadata": {},
   "outputs": [
    {
     "data": {
      "text/html": [
       "<strong>Red:</strong> 0.099009900990099"
      ],
      "text/latex": [
       "\\textbf{Red:} 0.099009900990099"
      ],
      "text/markdown": [
       "**Red:** 0.099009900990099"
      ],
      "text/plain": [
       "      Red \n",
       "0.0990099 "
      ]
     },
     "metadata": {},
     "output_type": "display_data"
    }
   ],
   "source": [
    "prop.table(HairEyeColor[,\"Blue\",'Male'])[3]"
   ]
  },
  {
   "cell_type": "markdown",
   "metadata": {},
   "source": [
    "Напишите число зеленоглазых женщин в наборе данных HairEyeColor."
   ]
  },
  {
   "cell_type": "code",
   "execution_count": 39,
   "metadata": {},
   "outputs": [
    {
     "data": {
      "text/html": [
       "31"
      ],
      "text/latex": [
       "31"
      ],
      "text/markdown": [
       "31"
      ],
      "text/plain": [
       "[1] 31"
      ]
     },
     "metadata": {},
     "output_type": "display_data"
    }
   ],
   "source": [
    "sum(HairEyeColor[,\"Green\",'Female'])"
   ]
  },
  {
   "cell_type": "code",
   "execution_count": 14,
   "metadata": {},
   "outputs": [
    {
     "data": {
      "image/png": "[encoded data removed]",
      "text/plain": [
       "plot without title"
      ]
     },
     "metadata": {},
     "output_type": "display_data"
    },
    {
     "data": {
      "image/png": "[encoded data removed]",
      "text/plain": [
       "plot without title"
      ]
     },
     "metadata": {},
     "output_type": "display_data"
    },
    {
     "data": {
      "image/png": "[encoded data removed]",
      "text/plain": [
       "plot without title"
      ]
     },
     "metadata": {},
     "output_type": "display_data"
    },
    {
     "data": {
      "image/png": "[encoded data removed]",
      "text/plain": [
       "plot without title"
      ]
     },
     "metadata": {},
     "output_type": "display_data"
    }
   ],
   "source": [
    "# plots\n",
    "\n",
    "barplot(t1)\n",
    "barplot(t2)\n",
    "barplot(t2, legend.text = TRUE, args.legend = list(x = \"topright\"))\n",
    "barplot(t2, legend.text = TRUE, args.legend = list(x = \"topright\"), beside = TRUE)\n"
   ]
  },
  {
   "cell_type": "code",
   "execution_count": 15,
   "metadata": {},
   "outputs": [
    {
     "data": {
      "image/png": "[encoded data removed]",
      "text/plain": [
       "Plot with title \"t2\""
      ]
     },
     "metadata": {},
     "output_type": "display_data"
    }
   ],
   "source": [
    "mosaicplot(t2)"
   ]
  },
  {
   "cell_type": "markdown",
   "metadata": {},
   "source": [
    "\n",
    "Постройте столбчатую диаграмму распределения цвета глаз по цвету волос только у женщин из \n",
    "таблицы HairEyeColor. По оси X должен идти цвет волос, цвет столбиков должен отражать цвет глаз. По оси Y - количество наблюдений.\n",
    "\n",
    "Чтобы построить столбчатую диаграмму в ggplot, вам нужно подключить нужный пакет, затем преобразовать таблицу HairEyeColor в data frame:\n",
    "```r\n",
    "mydata <- as.data.frame(HairEyeColor)\n",
    "```\n",
    "Постройте график на основе предложенного кода, сохранив его в переменную obj. \n",
    "Укажите, чему равен аргумент data, что должно находиться в aes(). Изучите справку по geom_bar(), чтобы узнать, чему должен равняться аргумент position для отображения цвета глаз в виде соседних столбиков, также вам может быть полезна эта памятка. Там же вы найдёте ответ на вопрос, за что отвечает аргумент stat. С помощью scale_fill_manual мы говорим графику, что мы хотим, чтобы он использовал указанные нами цвета.\n",
    "Дополните предложенный код:\n",
    "```r\n",
    "library(\"ggplot2\")\n",
    "mydata <- as.data.frame(HairEyeColor)\n",
    "obj <- ggplot(data = , aes(x = , y = Freq)) + \n",
    "        geom_bar(stat=\"identity\", position = ) + \n",
    "        scale_fill_manual(values=c(\"Brown\", \"Blue\", \"Darkgrey\", \"Darkgreen\"))\n",
    "```\n",
    "У себя на компьютере вы можете визуализировать полученный график, исполнив 'obj'. В случае, если все сделано правильно, он будет выглядеть так (обратите внимание на название осей и легенды):\n",
    "\n",
    "Прежде чем отправить код на проверку, выполните его на своем компьютере, чтобы избежать лишних ошибок.\n",
    "При ошибке, обратите внимание на содержание feedback."
   ]
  },
  {
   "cell_type": "code",
   "execution_count": null,
   "metadata": {},
   "outputs": [],
   "source": []
  },
  {
   "cell_type": "code",
   "execution_count": 69,
   "metadata": {},
   "outputs": [
    {
     "ename": "ERROR",
     "evalue": "Error in eval(e, x, parent.frame()): объект 'sex' не найден\n",
     "output_type": "error",
     "traceback": [
      "Error in eval(e, x, parent.frame()): объект 'sex' не найден\nTraceback:\n",
      "1. ggplot(data = subset(mydata, sex == \"Female\"), aes(x = Hair, \n .     y = Freq, fill = Eye))",
      "2. subset(mydata, sex == \"Female\")",
      "3. subset.data.frame(mydata, sex == \"Female\")",
      "4. eval(e, x, parent.frame())",
      "5. eval(e, x, parent.frame())"
     ]
    }
   ],
   "source": [
    "library(\"ggplot2\")\n",
    "mydata <- as.data.frame(HairEyeColor)\n",
    "obj <- ggplot(data = subset(mydata, Sex == 'Female'), \n",
    "              aes(x = Hair , y = Freq, fill = Eye) ) + \n",
    "        geom_bar(stat=\"identity\", position =position_dodge() ) + \n",
    "        scale_fill_manual(values=c(\"Brown\", \"Blue\", \"Darkgrey\", \"Darkgreen\"))"
   ]
  },
  {
   "cell_type": "code",
   "execution_count": 70,
   "metadata": {},
   "outputs": [
    {
     "data": {},
     "metadata": {},
     "output_type": "display_data"
    },
    {
     "data": {
      "image/png": "[encoded data removed]",
      "text/plain": [
       "plot without title"
      ]
     },
     "metadata": {},
     "output_type": "display_data"
    }
   ],
   "source": [
    "obj"
   ]
  },
  {
   "cell_type": "code",
   "execution_count": 16,
   "metadata": {},
   "outputs": [
    {
     "data": {
      "text/plain": [
       "\n",
       "\tExact binomial test\n",
       "\n",
       "data:  5 and 20\n",
       "number of successes = 5, number of trials = 20, p-value = 0.04139\n",
       "alternative hypothesis: true probability of success is not equal to 0.5\n",
       "95 percent confidence interval:\n",
       " 0.08657147 0.49104587\n",
       "sample estimates:\n",
       "probability of success \n",
       "                  0.25 \n"
      ]
     },
     "metadata": {},
     "output_type": "display_data"
    },
    {
     "data": {
      "text/plain": [
       "\n",
       "\tExact binomial test\n",
       "\n",
       "data:  t1\n",
       "number of successes = 747, number of trials = 1420, p-value = 0.05268\n",
       "alternative hypothesis: true probability of success is not equal to 0.5\n",
       "95 percent confidence interval:\n",
       " 0.4997023 0.5523023\n",
       "sample estimates:\n",
       "probability of success \n",
       "             0.5260563 \n"
      ]
     },
     "metadata": {},
     "output_type": "display_data"
    }
   ],
   "source": [
    "##########################\n",
    "\n",
    "# Binomial Test\n",
    "binom.test(x = 5, n = 20, p = 0.5)\n",
    "binom.test(t1)"
   ]
  },
  {
   "cell_type": "code",
   "execution_count": 71,
   "metadata": {},
   "outputs": [
    {
     "data": {
      "text/plain": [
       "\n",
       "Not funded     Funded \n",
       "       747        673 "
      ]
     },
     "metadata": {},
     "output_type": "display_data"
    },
    {
     "data": {
      "text/plain": [
       "\n",
       "\tChi-squared test for given probabilities\n",
       "\n",
       "data:  t1\n",
       "X-squared = 3.8563, df = 1, p-value = 0.04956\n"
      ]
     },
     "metadata": {},
     "output_type": "display_data"
    }
   ],
   "source": [
    "# Chi-Square\n",
    "t1\n",
    "chisq.test(t1)"
   ]
  },
  {
   "cell_type": "code",
   "execution_count": 18,
   "metadata": {},
   "outputs": [
    {
     "data": {
      "text/html": [
       "<dl class=dl-horizontal>\n",
       "\t<dt>Not funded</dt>\n",
       "\t\t<dd>710</dd>\n",
       "\t<dt>Funded</dt>\n",
       "\t\t<dd>710</dd>\n",
       "</dl>\n"
      ],
      "text/latex": [
       "\\begin{description*}\n",
       "\\item[Not funded] 710\n",
       "\\item[Funded] 710\n",
       "\\end{description*}\n"
      ],
      "text/markdown": [
       "Not funded\n",
       ":   710Funded\n",
       ":   710\n",
       "\n"
      ],
      "text/plain": [
       "Not funded     Funded \n",
       "       710        710 "
      ]
     },
     "metadata": {},
     "output_type": "display_data"
    },
    {
     "data": {
      "text/plain": [
       "\n",
       "Not funded     Funded \n",
       "       747        673 "
      ]
     },
     "metadata": {},
     "output_type": "display_data"
    }
   ],
   "source": [
    "chi <- chisq.test(t1)\n",
    "chi$exp\n",
    "chi$obs"
   ]
  },
  {
   "cell_type": "code",
   "execution_count": 19,
   "metadata": {},
   "outputs": [
    {
     "data": {
      "text/plain": [
       "            field\n",
       "status       beh_cog bio chem physics soc\n",
       "  Not funded     100 473   60      70  44\n",
       "  Funded          65 432   66      78  32"
      ]
     },
     "metadata": {},
     "output_type": "display_data"
    },
    {
     "data": {
      "text/plain": [
       "\n",
       "\tPearson's Chi-squared test\n",
       "\n",
       "data:  t2\n",
       "X-squared = 8.0601, df = 4, p-value = 0.0894\n"
      ]
     },
     "metadata": {},
     "output_type": "display_data"
    }
   ],
   "source": [
    "t2\n",
    "chisq.test(t2)"
   ]
  },
  {
   "cell_type": "code",
   "execution_count": 20,
   "metadata": {},
   "outputs": [
    {
     "data": {
      "text/plain": [
       "\n",
       "\tFisher's Exact Test for Count Data\n",
       "\n",
       "data:  t2\n",
       "p-value = 0.08921\n",
       "alternative hypothesis: two.sided\n"
      ]
     },
     "metadata": {},
     "output_type": "display_data"
    }
   ],
   "source": [
    "# Fisher's Exact Test\n",
    "\n",
    "fisher.test(t2)"
   ]
  },
  {
   "cell_type": "code",
   "execution_count": 73,
   "metadata": {},
   "outputs": [],
   "source": [
    "df  <- as.data.frame(HairEyeColor) "
   ]
  },
  {
   "cell_type": "code",
   "execution_count": 87,
   "metadata": {},
   "outputs": [
    {
     "data": {
      "text/plain": [
       "\n",
       "\tChi-squared test for given probabilities\n",
       "\n",
       "data:  HairEyeColor[\"Brown\", , \"Female\"]\n",
       "X-squared = 40.189, df = 3, p-value = 9.717e-09\n"
      ]
     },
     "metadata": {},
     "output_type": "display_data"
    }
   ],
   "source": [
    "chisq.test(HairEyeColor[\"Brown\",,\"Female\"])"
   ]
  },
  {
   "cell_type": "code",
   "execution_count": 86,
   "metadata": {},
   "outputs": [
    {
     "name": "stdout",
     "output_type": "stream",
     "text": [
      " 'table' num [1:4, 1:4, 1:2] 32 53 10 3 11 50 10 30 10 25 ...\n",
      " - attr(*, \"dimnames\")=List of 3\n",
      "  ..$ Hair: chr [1:4] \"Black\" \"Brown\" \"Red\" \"Blond\"\n",
      "  ..$ Eye : chr [1:4] \"Brown\" \"Blue\" \"Hazel\" \"Green\"\n",
      "  ..$ Sex : chr [1:2] \"Male\" \"Female\"\n"
     ]
    }
   ],
   "source": [
    "str(HairEyeColor)"
   ]
  },
  {
   "cell_type": "code",
   "execution_count": 89,
   "metadata": {},
   "outputs": [],
   "source": [
    "library(ggplot2)"
   ]
  },
  {
   "cell_type": "code",
   "execution_count": 99,
   "metadata": {},
   "outputs": [
    {
     "data": {
      "text/html": [
       "310.317900521154"
      ],
      "text/latex": [
       "310.317900521154"
      ],
      "text/markdown": [
       "310.317900521154"
      ],
      "text/plain": [
       "[1] 310.3179"
      ]
     },
     "metadata": {},
     "output_type": "display_data"
    }
   ],
   "source": [
    "as.numeric(chisq.test(x = diamonds$cut,y = diamonds$color)[1])"
   ]
  },
  {
   "cell_type": "markdown",
   "metadata": {},
   "source": [
    "Опять воспользуемся данными diamonds из библиотеки ggplot2. При помощи критерия Хи - квадрат проверьте гипотезу о взаимосвязи цены (price) и каратов (carat) бриллиантов. Для этого сначала нужно перевести эти количественные переменные в формат пригодный для Хи - квадрат. Создайте две новые переменные в данных diamonds:\n",
    "\n",
    "factor_price - где будет 1, если значение цены больше либо равно чем среднее, и 0, если значение цены ниже среднего цены по выборке.\n",
    "\n",
    "factor_carat - где будет 1, если число карат больше либо равно чем среднее,  и 0, если ниже среднего числа карат по выборке.\n",
    "\n",
    "Важный момент - на больших данных цикл for() работает довольно медленно, постарайтесь решить эту задачу без его использования!\n",
    "\n",
    "Используя эти шкалы при помощи Хи - квадрат проверьте исходную гипотезу. Сохраните в переменную main_stat значение критерия  Хи - квадрат.\n",
    "\n",
    "Пример перевода количественной шкалы в номинативную:\n",
    "\n",
    "```r\n",
    "x <- (1, 2, 3, 5, 6, 7) # mean(x) = 4\n",
    "factor_x <- (0, 0, 0, 1, 1, 1)\n",
    "```"
   ]
  },
  {
   "cell_type": "code",
   "execution_count": 19,
   "metadata": {},
   "outputs": [],
   "source": [
    "library(ggplot2)\n",
    "t1 <- data.frame(diamonds)\n",
    "factor_price <- ifelse(t1$price >= mean(t1$price),1,0)\n",
    "factor_carat <- ifelse(t1$carat >= mean(t1$carat),1,0)\n",
    "a <- table(factor_price,factor_carat)\n",
    "main_stat  <- as.numeric(chisq.test(a)[1])"
   ]
  },
  {
   "cell_type": "code",
   "execution_count": 20,
   "metadata": {},
   "outputs": [
    {
     "data": {
      "text/html": [
       "40735.2227968624"
      ],
      "text/latex": [
       "40735.2227968624"
      ],
      "text/markdown": [
       "40735.2227968624"
      ],
      "text/plain": [
       "[1] 40735.22"
      ]
     },
     "metadata": {},
     "output_type": "display_data"
    }
   ],
   "source": [
    "main_stat"
   ]
  },
  {
   "cell_type": "markdown",
   "metadata": {},
   "source": [
    "При помощи точного критерия Фишера проверьте гипотезу о взаимосвязи типа коробки передач (am) и типа двигателя (vs) в данных mtcars. Результат выполнения критерия сохраните в переменную.Получившийся p - уровень значимости сохраните в переменную fisher_test."
   ]
  },
  {
   "cell_type": "code",
   "execution_count": 25,
   "metadata": {},
   "outputs": [],
   "source": [
    "fisher_test <- as.numeric(fisher.test(x = mtcars$am, y = mtcars$vs)[1])"
   ]
  },
  {
   "cell_type": "markdown",
   "metadata": {},
   "source": [
    "# 2.2 Сравнение двух групп"
   ]
  },
  {
   "cell_type": "code",
   "execution_count": 26,
   "metadata": {},
   "outputs": [],
   "source": [
    "?iris\n",
    "df  <- iris"
   ]
  },
  {
   "cell_type": "code",
   "execution_count": 27,
   "metadata": {},
   "outputs": [
    {
     "name": "stdout",
     "output_type": "stream",
     "text": [
      "'data.frame':\t150 obs. of  5 variables:\n",
      " $ Sepal.Length: num  5.1 4.9 4.7 4.6 5 5.4 4.6 5 4.4 4.9 ...\n",
      " $ Sepal.Width : num  3.5 3 3.2 3.1 3.6 3.9 3.4 3.4 2.9 3.1 ...\n",
      " $ Petal.Length: num  1.4 1.4 1.3 1.5 1.4 1.7 1.4 1.5 1.4 1.5 ...\n",
      " $ Petal.Width : num  0.2 0.2 0.2 0.2 0.2 0.4 0.3 0.2 0.2 0.1 ...\n",
      " $ Species     : Factor w/ 3 levels \"setosa\",\"versicolor\",..: 1 1 1 1 1 1 1 1 1 1 ...\n"
     ]
    }
   ],
   "source": [
    "str(df)"
   ]
  },
  {
   "cell_type": "code",
   "execution_count": 28,
   "metadata": {},
   "outputs": [
    {
     "name": "stdout",
     "output_type": "stream",
     "text": [
      "'data.frame':\t100 obs. of  5 variables:\n",
      " $ Sepal.Length: num  7 6.4 6.9 5.5 6.5 5.7 6.3 4.9 6.6 5.2 ...\n",
      " $ Sepal.Width : num  3.2 3.2 3.1 2.3 2.8 2.8 3.3 2.4 2.9 2.7 ...\n",
      " $ Petal.Length: num  4.7 4.5 4.9 4 4.6 4.5 4.7 3.3 4.6 3.9 ...\n",
      " $ Petal.Width : num  1.4 1.5 1.5 1.3 1.5 1.3 1.6 1 1.3 1.4 ...\n",
      " $ Species     : Factor w/ 3 levels \"setosa\",\"versicolor\",..: 2 2 2 2 2 2 2 2 2 2 ...\n"
     ]
    }
   ],
   "source": [
    "df1  <- subset(df, Species != \"setosa\")\n",
    "str(df1)"
   ]
  },
  {
   "cell_type": "code",
   "execution_count": 29,
   "metadata": {},
   "outputs": [
    {
     "data": {
      "text/plain": [
       "\n",
       "    setosa versicolor  virginica \n",
       "         0         50         50 "
      ]
     },
     "metadata": {},
     "output_type": "display_data"
    }
   ],
   "source": [
    "table(df1$Species)"
   ]
  },
  {
   "cell_type": "code",
   "execution_count": 30,
   "metadata": {},
   "outputs": [
    {
     "data": {
      "image/png": "[encoded data removed]",
      "text/plain": [
       "Plot with title \"Histogram of df1$Sepal.Length\""
      ]
     },
     "metadata": {},
     "output_type": "display_data"
    }
   ],
   "source": [
    "hist(df1$Sepal.Length)"
   ]
  },
  {
   "cell_type": "code",
   "execution_count": 31,
   "metadata": {},
   "outputs": [
    {
     "data": {},
     "metadata": {},
     "output_type": "display_data"
    },
    {
     "data": {
      "image/png": "[encoded data removed]",
      "text/plain": [
       "plot without title"
      ]
     },
     "metadata": {},
     "output_type": "display_data"
    }
   ],
   "source": [
    "ggplot(df1, aes(x =Sepal.Length ))+\n",
    "  geom_histogram(fill = \"white\", col = \"black\", binwidth = 0.4)+\n",
    "  facet_grid(Species ~ .)"
   ]
  },
  {
   "cell_type": "code",
   "execution_count": 32,
   "metadata": {},
   "outputs": [
    {
     "data": {},
     "metadata": {},
     "output_type": "display_data"
    },
    {
     "data": {
      "image/png": "[encoded data removed]",
      "text/plain": [
       "plot without title"
      ]
     },
     "metadata": {},
     "output_type": "display_data"
    }
   ],
   "source": [
    "ggplot(df1, aes(Sepal.Length, fill = Species ))+\n",
    "  geom_density(alpha = 0.5)\n"
   ]
  },
  {
   "cell_type": "code",
   "execution_count": 33,
   "metadata": {},
   "outputs": [
    {
     "data": {},
     "metadata": {},
     "output_type": "display_data"
    },
    {
     "data": {
      "image/png": "[encoded data removed]",
      "text/plain": [
       "plot without title"
      ]
     },
     "metadata": {},
     "output_type": "display_data"
    }
   ],
   "source": [
    "ggplot(df1, aes(Species, Sepal.Length))+\n",
    "  geom_boxplot()"
   ]
  },
  {
   "cell_type": "code",
   "execution_count": 34,
   "metadata": {},
   "outputs": [
    {
     "data": {
      "text/plain": [
       "\n",
       "\tShapiro-Wilk normality test\n",
       "\n",
       "data:  df1$Sepal.Length\n",
       "W = 0.98054, p-value = 0.1464\n"
      ]
     },
     "metadata": {},
     "output_type": "display_data"
    }
   ],
   "source": [
    "shapiro.test(df1$Sepal.Length)\n"
   ]
  },
  {
   "cell_type": "code",
   "execution_count": 35,
   "metadata": {},
   "outputs": [
    {
     "data": {
      "text/plain": [
       "\n",
       "\tShapiro-Wilk normality test\n",
       "\n",
       "data:  df1$Sepal.Length[df1$Species == \"versicolor\"]\n",
       "W = 0.97784, p-value = 0.4647\n"
      ]
     },
     "metadata": {},
     "output_type": "display_data"
    }
   ],
   "source": [
    "shapiro.test(df1$Sepal.Length[df1$Species == \"versicolor\"])"
   ]
  },
  {
   "cell_type": "code",
   "execution_count": 36,
   "metadata": {},
   "outputs": [
    {
     "data": {
      "text/plain": [
       "\n",
       "\tShapiro-Wilk normality test\n",
       "\n",
       "data:  df1$Sepal.Length[df1$Species == \"virginica\"]\n",
       "W = 0.97118, p-value = 0.2583\n"
      ]
     },
     "metadata": {},
     "output_type": "display_data"
    }
   ],
   "source": [
    "shapiro.test(df1$Sepal.Length[df1$Species == \"virginica\"])\n"
   ]
  },
  {
   "cell_type": "code",
   "execution_count": 37,
   "metadata": {},
   "outputs": [
    {
     "data": {
      "text/plain": [
       "df1$Species: setosa\n",
       "NULL\n",
       "------------------------------------------------------------ \n",
       "df1$Species: versicolor\n",
       "\n",
       "\tShapiro-Wilk normality test\n",
       "\n",
       "data:  dd[x, ]\n",
       "W = 0.97784, p-value = 0.4647\n",
       "\n",
       "------------------------------------------------------------ \n",
       "df1$Species: virginica\n",
       "\n",
       "\tShapiro-Wilk normality test\n",
       "\n",
       "data:  dd[x, ]\n",
       "W = 0.97118, p-value = 0.2583\n"
      ]
     },
     "metadata": {},
     "output_type": "display_data"
    }
   ],
   "source": [
    "#The same result in one line\n",
    "by(df1$Sepal.Length, INDICES = df1$Species, shapiro.test)\n"
   ]
  },
  {
   "cell_type": "code",
   "execution_count": 38,
   "metadata": {},
   "outputs": [
    {
     "data": {
      "text/plain": [
       "\n",
       "\tBartlett test of homogeneity of variances\n",
       "\n",
       "data:  Sepal.Length by Species\n",
       "Bartlett's K-squared = 2.0949, df = 1, p-value = 0.1478\n"
      ]
     },
     "metadata": {},
     "output_type": "display_data"
    }
   ],
   "source": [
    "bartlett.test(Sepal.Length  ~ Species, df1)\n"
   ]
  },
  {
   "cell_type": "code",
   "execution_count": 39,
   "metadata": {},
   "outputs": [
    {
     "data": {
      "text/plain": [
       "\n",
       "\tWelch Two Sample t-test\n",
       "\n",
       "data:  Sepal.Length by Species\n",
       "t = -5.6292, df = 94.025, p-value = 1.866e-07\n",
       "alternative hypothesis: true difference in means is not equal to 0\n",
       "95 percent confidence interval:\n",
       " -0.8819731 -0.4220269\n",
       "sample estimates:\n",
       "mean in group versicolor  mean in group virginica \n",
       "                   5.936                    6.588 \n"
      ]
     },
     "metadata": {},
     "output_type": "display_data"
    }
   ],
   "source": [
    "t.test(Sepal.Length  ~ Species, df1)"
   ]
  },
  {
   "cell_type": "code",
   "execution_count": 40,
   "metadata": {},
   "outputs": [],
   "source": [
    "test1  <- t.test(Sepal.Length  ~ Species, df1)\n"
   ]
  },
  {
   "cell_type": "code",
   "execution_count": 41,
   "metadata": {},
   "outputs": [
    {
     "name": "stdout",
     "output_type": "stream",
     "text": [
      "List of 9\n",
      " $ statistic  : Named num -5.63\n",
      "  ..- attr(*, \"names\")= chr \"t\"\n",
      " $ parameter  : Named num 94\n",
      "  ..- attr(*, \"names\")= chr \"df\"\n",
      " $ p.value    : num 1.87e-07\n",
      " $ conf.int   : num [1:2] -0.882 -0.422\n",
      "  ..- attr(*, \"conf.level\")= num 0.95\n",
      " $ estimate   : Named num [1:2] 5.94 6.59\n",
      "  ..- attr(*, \"names\")= chr [1:2] \"mean in group versicolor\" \"mean in group virginica\"\n",
      " $ null.value : Named num 0\n",
      "  ..- attr(*, \"names\")= chr \"difference in means\"\n",
      " $ alternative: chr \"two.sided\"\n",
      " $ method     : chr \"Welch Two Sample t-test\"\n",
      " $ data.name  : chr \"Sepal.Length by Species\"\n",
      " - attr(*, \"class\")= chr \"htest\"\n"
     ]
    }
   ],
   "source": [
    "str(test1)\n"
   ]
  },
  {
   "cell_type": "code",
   "execution_count": 42,
   "metadata": {},
   "outputs": [
    {
     "data": {
      "text/html": [
       "1.866144387377e-07"
      ],
      "text/latex": [
       "1.866144387377e-07"
      ],
      "text/markdown": [
       "1.866144387377e-07"
      ],
      "text/plain": [
       "[1] 1.866144e-07"
      ]
     },
     "metadata": {},
     "output_type": "display_data"
    }
   ],
   "source": [
    "test1$p.value\n"
   ]
  },
  {
   "cell_type": "code",
   "execution_count": 43,
   "metadata": {},
   "outputs": [
    {
     "data": {
      "text/plain": [
       "\n",
       "\tTwo Sample t-test\n",
       "\n",
       "data:  Sepal.Length by Species\n",
       "t = -5.6292, df = 98, p-value = 1.725e-07\n",
       "alternative hypothesis: true difference in means is not equal to 0\n",
       "95 percent confidence interval:\n",
       " -0.8818516 -0.4221484\n",
       "sample estimates:\n",
       "mean in group versicolor  mean in group virginica \n",
       "                   5.936                    6.588 \n"
      ]
     },
     "metadata": {},
     "output_type": "display_data"
    }
   ],
   "source": [
    "t.test(Sepal.Length  ~ Species, df1, var.equal = T)\n"
   ]
  },
  {
   "cell_type": "code",
   "execution_count": 44,
   "metadata": {},
   "outputs": [
    {
     "data": {
      "text/plain": [
       "\n",
       "\tOne Sample t-test\n",
       "\n",
       "data:  df1$Sepal.Length\n",
       "t = -26.221, df = 99, p-value < 2.2e-16\n",
       "alternative hypothesis: true mean is not equal to 8\n",
       "95 percent confidence interval:\n",
       " 6.130479 6.393521\n",
       "sample estimates:\n",
       "mean of x \n",
       "    6.262 \n"
      ]
     },
     "metadata": {},
     "output_type": "display_data"
    }
   ],
   "source": [
    "t.test(df1$Sepal.Length, mu = 8)\n"
   ]
  },
  {
   "cell_type": "code",
   "execution_count": 99,
   "metadata": {},
   "outputs": [
    {
     "data": {
      "text/plain": [
       "\n",
       "\tPaired t-test\n",
       "\n",
       "data:  df1$Petal.Length and df1$Petal.Width\n",
       "t = 60.552, df = 99, p-value < 2.2e-16\n",
       "alternative hypothesis: true difference in means is not equal to 0\n",
       "95 percent confidence interval:\n",
       " 3.124156 3.335844\n",
       "sample estimates:\n",
       "mean of the differences \n",
       "                   3.23 \n"
      ]
     },
     "metadata": {},
     "output_type": "display_data"
    }
   ],
   "source": [
    "t.test(df1$Petal.Length, df1$Petal.Width, paired = T)"
   ]
  },
  {
   "cell_type": "code",
   "execution_count": 120,
   "metadata": {},
   "outputs": [
    {
     "name": "stderr",
     "output_type": "stream",
     "text": [
      "also installing the dependencies 'checkmate', 'Formula', 'latticeExtra', 'acepack', 'gridExtra', 'htmlTable', 'viridis'\n",
      "\n",
      "Warning message:\n",
      "\"unable to access index for repository http://www.stats.ox.ac.uk/pub/RWin/bin/windows/contrib/3.5:\n",
      "  не могу открыть URL 'http://www.stats.ox.ac.uk/pub/RWin/bin/windows/contrib/3.5/PACKAGES'\""
     ]
    },
    {
     "name": "stdout",
     "output_type": "stream",
     "text": [
      "package 'checkmate' successfully unpacked and MD5 sums checked\n",
      "package 'Formula' successfully unpacked and MD5 sums checked\n",
      "package 'latticeExtra' successfully unpacked and MD5 sums checked\n",
      "package 'acepack' successfully unpacked and MD5 sums checked\n",
      "package 'gridExtra' successfully unpacked and MD5 sums checked\n",
      "package 'htmlTable' successfully unpacked and MD5 sums checked\n",
      "package 'viridis' successfully unpacked and MD5 sums checked\n",
      "package 'Hmisc' successfully unpacked and MD5 sums checked\n",
      "\n",
      "The downloaded binary packages are in\n",
      "\tC:\\Users\\max\\AppData\\Local\\Temp\\Rtmp4YkJkl\\downloaded_packages\n"
     ]
    }
   ],
   "source": [
    "#install.packages(\"Hmisc\")"
   ]
  },
  {
   "cell_type": "code",
   "execution_count": 121,
   "metadata": {},
   "outputs": [
    {
     "name": "stderr",
     "output_type": "stream",
     "text": [
      "Loading required package: lattice\n",
      "Loading required package: survival\n",
      "Loading required package: Formula\n",
      "\n",
      "Attaching package: 'Hmisc'\n",
      "\n",
      "The following objects are masked from 'package:base':\n",
      "\n",
      "    format.pval, units\n",
      "\n"
     ]
    }
   ],
   "source": [
    "library(Hmisc)"
   ]
  },
  {
   "cell_type": "code",
   "execution_count": 122,
   "metadata": {},
   "outputs": [
    {
     "data": {},
     "metadata": {},
     "output_type": "display_data"
    },
    {
     "data": {
      "image/png": "[encoded data removed]",
      "text/plain": [
       "plot without title"
      ]
     },
     "metadata": {},
     "output_type": "display_data"
    }
   ],
   "source": [
    "\n",
    "ggplot(df1, aes(Species, Sepal.Length))+\n",
    "  stat_summary(fun.data = mean_cl_normal, geom = \"errorbar\", \n",
    "               width = 0.1)+\n",
    "  stat_summary(fun.y = mean, geom = \"point\", size = 4)\n"
   ]
  },
  {
   "cell_type": "code",
   "execution_count": 123,
   "metadata": {},
   "outputs": [
    {
     "data": {},
     "metadata": {},
     "output_type": "display_data"
    },
    {
     "data": {
      "image/png": "[encoded data removed]",
      "text/plain": [
       "plot without title"
      ]
     },
     "metadata": {},
     "output_type": "display_data"
    }
   ],
   "source": [
    "ggplot(df1, aes(Species, Sepal.Length))+\n",
    "  stat_summary(fun.data = mean_cl_normal, geom = \"pointrange\", \n",
    "               size = 2)"
   ]
  },
  {
   "cell_type": "code",
   "execution_count": 48,
   "metadata": {},
   "outputs": [],
   "source": [
    "?wilcox.test"
   ]
  },
  {
   "cell_type": "code",
   "execution_count": 124,
   "metadata": {},
   "outputs": [
    {
     "data": {},
     "metadata": {},
     "output_type": "display_data"
    },
    {
     "data": {
      "image/png": "[encoded data removed]",
      "text/plain": [
       "plot without title"
      ]
     },
     "metadata": {},
     "output_type": "display_data"
    }
   ],
   "source": [
    "test2  <- wilcox.test(Petal.Length ~ Species, df1)\n",
    "pv  <- test2$p.value\n",
    "\n",
    "ggplot(df1, aes(Species, Petal.Length))+\n",
    "  geom_boxplot()"
   ]
  },
  {
   "cell_type": "code",
   "execution_count": 50,
   "metadata": {},
   "outputs": [
    {
     "data": {
      "text/plain": [
       "\n",
       "\tWilcoxon signed rank test with continuity correction\n",
       "\n",
       "data:  df1$Petal.Length and df1$Petal.Width\n",
       "V = 5050, p-value < 2.2e-16\n",
       "alternative hypothesis: true location shift is not equal to 0\n"
      ]
     },
     "metadata": {},
     "output_type": "display_data"
    }
   ],
   "source": [
    "wilcox.test(df1$Petal.Length, df1$Petal.Width, paired = T)"
   ]
  },
  {
   "cell_type": "code",
   "execution_count": 51,
   "metadata": {},
   "outputs": [],
   "source": [
    "paired_wtest  <- wilcox.test(df1$Petal.Length, df1$Petal.Width, paired = T)\n"
   ]
  },
  {
   "cell_type": "code",
   "execution_count": 52,
   "metadata": {},
   "outputs": [
    {
     "data": {
      "text/html": [
       "3.81663803394987e-18"
      ],
      "text/latex": [
       "3.81663803394987e-18"
      ],
      "text/markdown": [
       "3.81663803394987e-18"
      ],
      "text/plain": [
       "[1] 3.816638e-18"
      ]
     },
     "metadata": {},
     "output_type": "display_data"
    }
   ],
   "source": [
    "paired_wtest$p.value"
   ]
  },
  {
   "cell_type": "markdown",
   "metadata": {},
   "source": [
    "Памятка\n",
    "t-Критерий Стьюдента для независимых выборок\n",
    "\n",
    "```r\n",
    "t.test(Var1 ~  Var2, data) # если первая переменная количественная, а вторая фактор\n",
    "t.test(data $ Var1, data $ Var2) # если обе переменные количественные\n",
    "```\n",
    " t-Критерий Стьюдента для зависимых выборок\n",
    "\n",
    "```r\n",
    "t.test(data $ Var1, data$Var2, paired = T)\n",
    "```\n",
    "Проверка на нормальность распределения\n",
    "```r\n",
    "shapiro.test(Var1) # проверка на нормальность распределения переменной Var1\n",
    "# но не удобно когда есть группирующая факторная переменная\n",
    "```\n",
    "Поможет функция by(), которая применяет различные функции на каждом уровне фактора.  \n",
    "```r\n",
    "by(iris$Sepal.Length, INDICES = iris$Species, shapiro.test) # проверка на нормальность переменной \n",
    "# Sepal.Length в трех разных группах в соответствии с переменной Species\n",
    "```\n",
    "\n",
    "Проверка на гомогенность дисперсий\n",
    "```r\n",
    "bartlett.test(mpg ~ am, mtcars) #Критерий Бартлетта \n",
    "```"
   ]
  },
  {
   "cell_type": "markdown",
   "metadata": {},
   "source": [
    "Задача про свинок!\n",
    "\n",
    "Воспользуемся еще одним встроенным набором данных в R  - ToothGrowth. Данные позволяют исследовать рост зубов у морских свинок в зависимости от дозировки витамина C и типа потребляемых продуктов.\n",
    "\n",
    "Сравните среднее значение длины зубов свинок, которые потребляли апельсиновый сок (OJ) с дозировкой 0.5 миллиграмм, со средним значением длины зубов свинок, которые потребляли аскорбиновую кислоту (VC) с дозировкой 2 миллиграмма. \n",
    "\n",
    "Значение t - критерия сохраните в переменную t_stat.\n",
    "\n"
   ]
  },
  {
   "cell_type": "code",
   "execution_count": 89,
   "metadata": {},
   "outputs": [],
   "source": [
    "a <- subset(ToothGrowth, dose == 0.5 & supp == 'OJ' )['len'][,1]\n",
    "b <- subset(ToothGrowth, dose == 2 & supp == 'VC' )['len'][,1]"
   ]
  },
  {
   "cell_type": "code",
   "execution_count": 103,
   "metadata": {},
   "outputs": [
    {
     "data": {
      "text/html": [
       "<strong>$statistic</strong> = <strong>t:</strong> -6.23248213751536"
      ],
      "text/latex": [
       "\\textbf{\\$statistic} = \\textbf{t:} -6.23248213751536"
      ],
      "text/markdown": [
       "**$statistic** = **t:** -6.23248213751536"
      ],
      "text/plain": [
       "$statistic\n",
       "        t \n",
       "-6.232482 \n"
      ]
     },
     "metadata": {},
     "output_type": "display_data"
    }
   ],
   "source": [
    "t_stat <- as.numeric(t.test(x = a, y = b)[1])"
   ]
  },
  {
   "cell_type": "code",
   "execution_count": 97,
   "metadata": {},
   "outputs": [
    {
     "data": {
      "text/html": [
       "10"
      ],
      "text/latex": [
       "10"
      ],
      "text/markdown": [
       "10"
      ],
      "text/plain": [
       "[1] 10"
      ]
     },
     "metadata": {},
     "output_type": "display_data"
    }
   ],
   "source": [
    "length(a)"
   ]
  },
  {
   "cell_type": "code",
   "execution_count": 98,
   "metadata": {},
   "outputs": [
    {
     "data": {
      "text/html": [
       "10"
      ],
      "text/latex": [
       "10"
      ],
      "text/markdown": [
       "10"
      ],
      "text/plain": [
       "[1] 10"
      ]
     },
     "metadata": {},
     "output_type": "display_data"
    }
   ],
   "source": [
    "length(b)"
   ]
  },
  {
   "cell_type": "code",
   "execution_count": 104,
   "metadata": {},
   "outputs": [],
   "source": [
    "correct_data <- subset(ToothGrowth, supp=='OJ' & dose==0.5 | supp=='VC' & dose==2)    \n",
    "t_stat <- t.test(len ~ supp, correct_data)$statistic"
   ]
  },
  {
   "cell_type": "code",
   "execution_count": 105,
   "metadata": {},
   "outputs": [
    {
     "data": {
      "text/html": [
       "<strong>t:</strong> -6.23248213751536"
      ],
      "text/latex": [
       "\\textbf{t:} -6.23248213751536"
      ],
      "text/markdown": [
       "**t:** -6.23248213751536"
      ],
      "text/plain": [
       "        t \n",
       "-6.232482 "
      ]
     },
     "metadata": {},
     "output_type": "display_data"
    }
   ],
   "source": [
    "t_stat"
   ]
  },
  {
   "cell_type": "markdown",
   "metadata": {},
   "source": [
    "Скачайте данные, посвященные влиянию различного типа лечения на показатель артериального давления. \n",
    "\n",
    "https://stepic.org/media/attachments/lesson/11504/lekarstva.csv﻿\n",
    "\n",
    "По всем испытуемым сравните показатель давления до начала лечения (Pressure_before) с показателем давления после лечения (Pressure_after) при помощи t - критерия для зависимых выборок. \n",
    "\n",
    "В поле для ответа укажите значение t - критерия.\n",
    "\n",
    "(В качестве десятичного разделителя используйте запятую, например: 123,54)\n",
    "\n"
   ]
  },
  {
   "cell_type": "code",
   "execution_count": 108,
   "metadata": {},
   "outputs": [
    {
     "data": {
      "text/html": [
       "<table>\n",
       "<thead><tr><th scope=col>Group</th><th scope=col>Uroven_sahara_v_krovi</th><th scope=col>Pressure_before</th><th scope=col>Pressure_after</th><th scope=col>Holesterin..Aprel.</th><th scope=col>Holesterin..Mart.</th></tr></thead>\n",
       "<tbody>\n",
       "\t<tr><td>2  </td><td> 90</td><td>170</td><td>135</td><td>235</td><td>205</td></tr>\n",
       "\t<tr><td>2  </td><td> 85</td><td>160</td><td>155</td><td>185</td><td>195</td></tr>\n",
       "\t<tr><td>1  </td><td> 95</td><td>165</td><td>155</td><td>235</td><td>260</td></tr>\n",
       "\t<tr><td>1  </td><td> 86</td><td>170</td><td>165</td><td>155</td><td>136</td></tr>\n",
       "\t<tr><td>2  </td><td>104</td><td>170</td><td>165</td><td>260</td><td>250</td></tr>\n",
       "\t<tr><td>1  </td><td> 95</td><td>160</td><td>155</td><td>200</td><td>210</td></tr>\n",
       "</tbody>\n",
       "</table>\n"
      ],
      "text/latex": [
       "\\begin{tabular}{r|llllll}\n",
       " Group & Uroven\\_sahara\\_v\\_krovi & Pressure\\_before & Pressure\\_after & Holesterin..Aprel. & Holesterin..Mart.\\\\\n",
       "\\hline\n",
       "\t 2   &  90 & 170 & 135 & 235 & 205\\\\\n",
       "\t 2   &  85 & 160 & 155 & 185 & 195\\\\\n",
       "\t 1   &  95 & 165 & 155 & 235 & 260\\\\\n",
       "\t 1   &  86 & 170 & 165 & 155 & 136\\\\\n",
       "\t 2   & 104 & 170 & 165 & 260 & 250\\\\\n",
       "\t 1   &  95 & 160 & 155 & 200 & 210\\\\\n",
       "\\end{tabular}\n"
      ],
      "text/markdown": [
       "\n",
       "Group | Uroven_sahara_v_krovi | Pressure_before | Pressure_after | Holesterin..Aprel. | Holesterin..Mart. | \n",
       "|---|---|---|---|---|---|\n",
       "| 2   |  90 | 170 | 135 | 235 | 205 | \n",
       "| 2   |  85 | 160 | 155 | 185 | 195 | \n",
       "| 1   |  95 | 165 | 155 | 235 | 260 | \n",
       "| 1   |  86 | 170 | 165 | 155 | 136 | \n",
       "| 2   | 104 | 170 | 165 | 260 | 250 | \n",
       "| 1   |  95 | 160 | 155 | 200 | 210 | \n",
       "\n",
       "\n"
      ],
      "text/plain": [
       "  Group Uroven_sahara_v_krovi Pressure_before Pressure_after Holesterin..Aprel.\n",
       "1 2      90                   170             135            235               \n",
       "2 2      85                   160             155            185               \n",
       "3 1      95                   165             155            235               \n",
       "4 1      86                   170             165            155               \n",
       "5 2     104                   170             165            260               \n",
       "6 1      95                   160             155            200               \n",
       "  Holesterin..Mart.\n",
       "1 205              \n",
       "2 195              \n",
       "3 260              \n",
       "4 136              \n",
       "5 250              \n",
       "6 210              "
      ]
     },
     "metadata": {},
     "output_type": "display_data"
    }
   ],
   "source": [
    "df <- read.csv('https://stepic.org/media/attachments/lesson/11504/lekarstva.csv')\n",
    "head(df)"
   ]
  },
  {
   "cell_type": "code",
   "execution_count": 118,
   "metadata": {},
   "outputs": [
    {
     "data": {
      "text/html": [
       "<strong>$statistic</strong> = <strong>t:</strong> 14.2267307118632"
      ],
      "text/latex": [
       "\\textbf{\\$statistic} = \\textbf{t:} 14.2267307118632"
      ],
      "text/markdown": [
       "**$statistic** = **t:** 14.2267307118632"
      ],
      "text/plain": [
       "$statistic\n",
       "       t \n",
       "14.22673 \n"
      ]
     },
     "metadata": {},
     "output_type": "display_data"
    }
   ],
   "source": [
    "t.test(df$Pressure_before, df$Pressure_after, paired = T)[1]"
   ]
  },
  {
   "cell_type": "markdown",
   "metadata": {},
   "source": [
    "В этом задании нужно проверить гипотезу о равенстве средних двух выборок, загрузив набор данных (нажмите начать решать задание) и выполнив все необходимые операции на вашем компьютере. В скачанных данных вы найдете две переменные: количественную переменную, и номинативную переменную с двумя градациями (которая разделяет наблюдения на две группы).\n",
    "\n",
    "Для того чтобы без труда прочитать скачанные данные воспользуйтесь функцией:\n",
    "```r\n",
    "read.table(\"dataset_11504_11.txt\")\n",
    "# разумеется, у вас может быть другое название файла\n",
    "# также убедитесь, что файл находится в рабочей директории\n",
    "# или укажите полный путь к файлу\n",
    "```\n",
    "Сначала с помощью теста Бартлетта проверьте гомогенность дисперсий двух выборок. В случае, если дисперсии значимо не отличаются (с уровнем 0.05), примените тест Стьюдента, иначе - непараметрический тест (Манна-Уитни). В поле для ответа введите получившийся p-value, с точностью четыре знака после запятой.\n",
    "Обратите внимание, что по умолчанию в t.test стоит var.equal = FALSE, так как мы будем применять его только в случае гомогенности дисперсий, измените значение этого параметра на  var.equal = TRUE.\n",
    "\n",
    "Каждый раз вы будете скачивать новый набор данных.\n",
    "\n",
    "Важно - в этом ответе используйте точку как десятичный разделитель!\n",
    "\n",
    "Если p - value сильно меньше 0.05, например, 1.01e-07, в поле для ответа можете ввести 0\n",
    "\n",
    "Сам код в поле для ответа вводить не надо, от вас ожидается только результат - одно число\n",
    "\n",
    "Примеры ответа:\n",
    "\n",
    "0.0424\n",
    "\n",
    "0\n",
    "\n",
    "0.9"
   ]
  },
  {
   "cell_type": "code",
   "execution_count": 29,
   "metadata": {},
   "outputs": [],
   "source": [
    "foor <- function(data){\n",
    "    if  (bartlett.test(V1 ~ V2, data)[3] > 0.05){\n",
    "        return(t.test(data$V1 , data$V2, var.equal = T)[3])\n",
    "    }else{\n",
    "         return(wilcox.test(data$V1 ~ data$V2)[3])\n",
    "    }\n",
    "}"
   ]
  },
  {
   "cell_type": "code",
   "execution_count": 30,
   "metadata": {},
   "outputs": [
    {
     "data": {
      "text/html": [
       "<strong>$p.value</strong> = 0.519204482183592"
      ],
      "text/latex": [
       "\\textbf{\\$p.value} = 0.519204482183592"
      ],
      "text/markdown": [
       "**$p.value** = 0.519204482183592"
      ],
      "text/plain": [
       "$p.value\n",
       "[1] 0.5192045\n"
      ]
     },
     "metadata": {},
     "output_type": "display_data"
    }
   ],
   "source": [
    "df <- read.table('3.txt')\n",
    "foor(df)"
   ]
  },
  {
   "cell_type": "code",
   "execution_count": null,
   "metadata": {},
   "outputs": [],
   "source": [
    "df[1]"
   ]
  },
  {
   "cell_type": "markdown",
   "metadata": {},
   "source": [
    "В этом задании также необходимо скачать данные на ваш компьютер.\n",
    "\n",
    "В данных сохранены две количественные переменные, проверьте гипотезу о равенстве средних этих переменных при помощи t- теста для независимых выборок.\n",
    "\n",
    "Если обнаружены значимые различия (p< 0.05), то введите через пробел три числа: среднее значение первой переменной, среднее значение второй переменной, p - уровень значимости. Например:\n",
    "\n",
    "22.45 12.56 0.04\n",
    "\n",
    "Если значимые различия не обнаружены, то в поле для ответа введите: \n",
    "\n",
    "\"The difference is not significant\"\n",
    "\n",
    "В этой задаче оставьте var.equal = FALSE"
   ]
  },
  {
   "cell_type": "code",
   "execution_count": 34,
   "metadata": {},
   "outputs": [],
   "source": [
    "got <- function(data){\n",
    "    if (t.test(data$V1,data$V2)[3] <0.05 ){\n",
    "        print(mean(data$V1), mean(data$V2),t.test(data$V1,data$V2)[3] )\n",
    "    }else{\n",
    "        print(\"The difference is not significant\")\n",
    "    }\n",
    "}"
   ]
  },
  {
   "cell_type": "code",
   "execution_count": 35,
   "metadata": {},
   "outputs": [],
   "source": [
    "df <- read.table('1.txt')"
   ]
  },
  {
   "cell_type": "code",
   "execution_count": 37,
   "metadata": {},
   "outputs": [
    {
     "name": "stdout",
     "output_type": "stream",
     "text": [
      "[1] \"The difference is not significant\"\n"
     ]
    }
   ],
   "source": [
    "got(df)"
   ]
  }
 ],
 "metadata": {
  "kernelspec": {
   "display_name": "R",
   "language": "R",
   "name": "ir"
  },
  "language_info": {
   "codemirror_mode": "r",
   "file_extension": ".r",
   "mimetype": "text/x-r-source",
   "name": "R",
   "pygments_lexer": "r",
   "version": "3.5.1"
  }
 },
 "nbformat": 4,
 "nbformat_minor": 2
}
